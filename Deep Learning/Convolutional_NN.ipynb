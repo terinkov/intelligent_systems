{
  "cells": [
    {
      "cell_type": "markdown",
      "metadata": {
        "id": "VRUsuZR2cQoY"
      },
      "source": [
        "# Домашнее задание: Классификация при помощи CNN"
      ]
    },
    {
      "cell_type": "markdown",
      "metadata": {
        "id": "lV9pvgZJTYGj"
      },
      "source": [
        "Задание выполнил(а):\n",
        "\n",
        "    (впишите свои фамилию и имя)"
      ]
    },
    {
      "cell_type": "markdown",
      "metadata": {
        "id": "ZML8VxlPTYGj"
      },
      "source": [
        "## Общая информация"
      ]
    },
    {
      "cell_type": "markdown",
      "metadata": {
        "id": "nTmiXfZZTYGl"
      },
      "source": [
        "__Внимание!__  \n",
        "\n",
        "\n",
        "* Домашнее задание выполняется самостоятельно\n",
        "* Не допускается помощь в решении домашнего задания от однокурсников или третьих лиц. «Похожие» решения считаются плагиатом, и все задействованные студенты — в том числе и те, у кого списали, — не могут получить за него больше 0 баллов\n",
        "* Использование в решении домашнего задания генеративных моделей (ChatGPT и так далее) за рамками справочной и образовательной информации для генерации кода задания — считается плагиатом, и такое домашнее задание оценивается в 0 баллов\n",
        "* Старайтесь сделать код как можно более оптимальным. Неэффективная реализация кода может негативно отразиться на оценке. Также оценка может быть снижена за плохо читаемый код и плохо оформленные графики. Все ответы должны сопровождаться кодом или комментариями о том, как они были получены."
      ]
    },
    {
      "cell_type": "markdown",
      "metadata": {
        "id": "w35Q6hOIy4sk",
        "pycharm": {
          "name": "#%% md\n"
        }
      },
      "source": [
        "## О задании\n",
        "\n",
        "В этом задании вам предстоит познакомиться со сверточными сетями и их обучением для классификации изображений с использованием библиотеки PyTorch.\n"
      ]
    },
    {
      "cell_type": "markdown",
      "metadata": {
        "id": "imPK_EDQp0NX"
      },
      "source": [
        "## Импорт библиотек"
      ]
    },
    {
      "cell_type": "code",
      "execution_count": null,
      "metadata": {
        "id": "SaACifdX2QOo",
        "pycharm": {
          "name": "#%%\n"
        }
      },
      "outputs": [],
      "source": [
        "import matplotlib.pyplot as plt\n",
        "import numpy as np\n",
        "import torch\n",
        "import torch.nn as nn\n",
        "import torch.nn.functional as F\n",
        "import torch.optim as optim\n",
        "import torchvision\n",
        "import torchvision.transforms as transforms\n",
        "\n",
        "from sklearn.model_selection import train_test_split"
      ]
    },
    {
      "cell_type": "markdown",
      "metadata": {
        "id": "TIXaUYM-0JFl",
        "pycharm": {
          "name": "#%% md\n"
        }
      },
      "source": [
        "## 0. Загрузка данных\n",
        "\n",
        "Работать мы будем с набором данных [CIFAR10](https://www.cs.toronto.edu/~kriz/cifar.html). CIFAR10 представляет собой набор изображений 32х32 пикселя, разделенных на 10 классов.\n",
        "\n",
        "![title](https://pytorch.org/tutorials/_images/cifar10.png)\n",
        "\n",
        "\n"
      ]
    },
    {
      "cell_type": "markdown",
      "metadata": {
        "id": "g-0EEjl_10vB",
        "pycharm": {
          "name": "#%% md\n"
        }
      },
      "source": [
        "Набор данных уже определен в <code>torchvision.datasets</code>, так что возьмем его оттуда.\n",
        "\n"
      ]
    },
    {
      "cell_type": "code",
      "execution_count": null,
      "metadata": {
        "id": "Cbwe92dT3aPZ",
        "pycharm": {
          "name": "#%%\n"
        }
      },
      "outputs": [],
      "source": [
        "# Для тру нормализации\n",
        "# mean = [0.4914, 0.4822, 0.4465]\n",
        "# std = [0.2470, 0.2435, 0.2616]\n",
        "# Тут взяты значения как в одном из туториалов пайторча :)\n",
        "\n",
        "\n",
        "def get_cifar10_data(batch_size, transform_train):\n",
        "    torch.manual_seed(0)\n",
        "    np.random.seed(0)\n",
        "\n",
        "    transform_test = transforms.Compose(\n",
        "        [\n",
        "            transforms.ToTensor(),\n",
        "            # Переводим цвета пикселей в отрезок [-1, 1]\n",
        "            transforms.Normalize((0.5, 0.5, 0.5), (0.5, 0.5, 0.5)),\n",
        "        ]\n",
        "    )\n",
        "\n",
        "    # Загружаем данные\n",
        "    trainvalset = torchvision.datasets.CIFAR10(\n",
        "        root=\"./data\", train=True, download=True, transform=transform_train\n",
        "    )\n",
        "    testset = torchvision.datasets.CIFAR10(\n",
        "        root=\"./data\", train=False, download=True, transform=transform_test\n",
        "    )\n",
        "\n",
        "    # В датасете определено разбиение только на train и test,\n",
        "    # так что валидацию дополнительно выделяем из обучающей выборки\n",
        "    train_idx, valid_idx = train_test_split(\n",
        "        np.arange(len(trainvalset)), test_size=0.3, shuffle=True, random_state=0\n",
        "    )\n",
        "    trainset = torch.utils.data.Subset(trainvalset, train_idx)\n",
        "    valset = torch.utils.data.Subset(trainvalset, valid_idx)\n",
        "\n",
        "    train_loader = torch.utils.data.DataLoader(\n",
        "        trainset, batch_size=batch_size, shuffle=True, num_workers=2\n",
        "    )\n",
        "    val_loader = torch.utils.data.DataLoader(\n",
        "        valset, batch_size=batch_size, shuffle=False, num_workers=2\n",
        "    )\n",
        "    test_loader = torch.utils.data.DataLoader(\n",
        "        testset, batch_size=batch_size, shuffle=False, num_workers=2\n",
        "    )\n",
        "\n",
        "    return train_loader, val_loader, test_loader"
      ]
    },
    {
      "cell_type": "code",
      "execution_count": null,
      "metadata": {
        "colab": {
          "base_uri": "https://localhost:8080/"
        },
        "id": "2G2rLnN5y6Jj",
        "outputId": "c4123b9e-9720-4a01-f77e-1d18bba6bc4c",
        "pycharm": {
          "name": "#%%\n"
        }
      },
      "outputs": [
        {
          "name": "stderr",
          "output_type": "stream",
          "text": [
            "100%|██████████| 170M/170M [00:05<00:00, 29.9MB/s]\n"
          ]
        }
      ],
      "source": [
        "transform = transforms.Compose(\n",
        "    [transforms.ToTensor(), transforms.Normalize((0.5, 0.5, 0.5), (0.5, 0.5, 0.5))]\n",
        ")\n",
        "\n",
        "train_loader, val_loader, test_loader = get_cifar10_data(\n",
        "    batch_size=64, transform_train=transform\n",
        ")"
      ]
    },
    {
      "cell_type": "markdown",
      "metadata": {
        "id": "-82HWgXs77W1",
        "pycharm": {
          "name": "#%% md\n"
        }
      },
      "source": [
        "Посмотрим на изображения:"
      ]
    },
    {
      "cell_type": "code",
      "execution_count": null,
      "metadata": {
        "colab": {
          "base_uri": "https://localhost:8080/",
          "height": 210
        },
        "id": "ACnwaC5iy6L2",
        "outputId": "5363149c-8e2a-4978-a984-46f922bfbde9",
        "pycharm": {
          "name": "#%%\n"
        }
      },
      "outputs": [
        {
          "data": {
            "image/png": "[encoded data removed]",
            "text/plain": [
              "<Figure size 640x480 with 1 Axes>"
            ]
          },
          "metadata": {},
          "output_type": "display_data"
        },
        {
          "name": "stdout",
          "output_type": "stream",
          "text": [
            "ship frog horse horse\n"
          ]
        }
      ],
      "source": [
        "def imshow(img):\n",
        "    img = img / 2 + 0.5\n",
        "    npimg = img.numpy()\n",
        "    plt.imshow(np.transpose(npimg, (1, 2, 0)))\n",
        "    plt.show()\n",
        "\n",
        "\n",
        "dataiter = iter(train_loader)\n",
        "images, labels = next(dataiter)\n",
        "\n",
        "imshow(torchvision.utils.make_grid(images[:4]))\n",
        "\n",
        "classes = (\n",
        "    \"plane\",\n",
        "    \"car\",\n",
        "    \"bird\",\n",
        "    \"cat\",\n",
        "    \"deer\",\n",
        "    \"dog\",\n",
        "    \"frog\",\n",
        "    \"horse\",\n",
        "    \"ship\",\n",
        "    \"truck\",\n",
        ")\n",
        "print(*[classes[labels[i]] for i in range(4)])"
      ]
    },
    {
      "cell_type": "markdown",
      "metadata": {
        "id": "KFDilng29YZ_",
        "pycharm": {
          "name": "#%% md\n"
        }
      },
      "source": [
        "## 1. Задание сверточной сети (3 балла)"
      ]
    },
    {
      "cell_type": "markdown",
      "metadata": {
        "id": "OX7Ul8YbYdQR",
        "pycharm": {
          "name": "#%% md\n"
        }
      },
      "source": [
        "Теперь нам нужно задать сверточную нейронную сеть, которую мы будем обучать классифицировать изображения.\n",
        "\n",
        "Используем сеть, основанную на одном блоке архитектуры, похожей на ResNet. Обратите внимание, это не ResNet 1 в 1.\n",
        "\n",
        "<img src=\"https://i.ibb.co/2hg962h/basic-block.png\" width=\"500\"/>\n",
        "\n",
        "__Указания:__\n",
        "\n",
        "- Все сверточные слои должны иметь 32 выходных канала, а также не должны изменять ширину и высоту изображения.\n",
        "- Выход блока сократите до размерности 32х4х4, применив average pooling.\n",
        "- Для получения итоговых логитов, распрямите выход пулинга в вектор из 512 элементов, а затем пропустите его через линейный слой."
      ]
    },
    {
      "cell_type": "markdown",
      "metadata": {
        "id": "sbyIylT9O9Dr",
        "pycharm": {
          "name": "#%% md\n"
        }
      },
      "source": [
        "**Задание 1.1 (3 балла).**\n",
        "\n",
        "Определите архитектуру сети соответственно схеме и указаниям выше.\n",
        "\n",
        "Ключевые слова: <code>Conv2d</code>, <code>BatchNorm2d</code>, <code>AvgPool2d</code>."
      ]
    },
    {
      "cell_type": "code",
      "execution_count": null,
      "metadata": {
        "id": "s9ml1QGKy6N9",
        "pycharm": {
          "name": "#%%\n"
        }
      },
      "outputs": [],
      "source": [
        "n_classes = 10\n",
        "\n",
        "class BasicBlockNet(nn.Module):\n",
        "    def __init__(self):\n",
        "        super().__init__()\n",
        "        in_channels=3\n",
        "        self.conv = nn.Sequential(\n",
        "          nn.Conv2d(in_channels,32,(3,3),padding=1),\n",
        "          nn.BatchNorm2d(32),\n",
        "          nn.ReLU(),\n",
        "          nn.Conv2d(32,32,(3,3),padding=1),\n",
        "          nn.BatchNorm2d(32),\n",
        "          # <your code here>\n",
        "        )\n",
        "        self.rel2 = nn.ReLU()\n",
        "        self.avp = nn.AvgPool2d(kernel_size=(8,8),stride=(8,8)) # выход 32 channels, 4*4 HW\n",
        "        self.lin = nn.Linear(32*4*4,10)\n",
        "        self.conv11 = nn.Conv2d(in_channels,32,(1,1))\n",
        "    def forward(self, x):\n",
        "        out = self.conv(x)+self.conv11(x)\n",
        "        out = self.rel2(out)\n",
        "        out = self.avp(out)\n",
        "        out = torch.flatten(out, start_dim=1) # в вектор\n",
        "        # print(out.shape)\n",
        "        out = self.lin(out)\n",
        "        return out"
      ]
    },
    {
      "cell_type": "code",
      "execution_count": null,
      "metadata": {
        "colab": {
          "base_uri": "https://localhost:8080/"
        },
        "id": "FI4BQg7Ky6Pw",
        "outputId": "397be2da-bf76-4d49-bf7b-937fc26bf5d1",
        "pycharm": {
          "name": "#%%\n"
        }
      },
      "outputs": [
        {
          "data": {
            "text/plain": [
              "BasicBlockNet(\n",
              "  (conv): Sequential(\n",
              "    (0): Conv2d(3, 32, kernel_size=(3, 3), stride=(1, 1), padding=(1, 1))\n",
              "    (1): BatchNorm2d(32, eps=1e-05, momentum=0.1, affine=True, track_running_stats=True)\n",
              "    (2): ReLU()\n",
              "    (3): Conv2d(32, 32, kernel_size=(3, 3), stride=(1, 1), padding=(1, 1))\n",
              "    (4): BatchNorm2d(32, eps=1e-05, momentum=0.1, affine=True, track_running_stats=True)\n",
              "  )\n",
              "  (rel2): ReLU()\n",
              "  (avp): AvgPool2d(kernel_size=(8, 8), stride=(8, 8), padding=0)\n",
              "  (lin): Linear(in_features=512, out_features=10, bias=True)\n",
              "  (conv11): Conv2d(3, 32, kernel_size=(1, 1), stride=(1, 1))\n",
              ")"
            ]
          },
          "execution_count": 6,
          "metadata": {},
          "output_type": "execute_result"
        }
      ],
      "source": [
        "net = BasicBlockNet()\n",
        "net"
      ]
    },
    {
      "cell_type": "markdown",
      "metadata": {
        "id": "igPoGZEub8d3",
        "pycharm": {
          "name": "#%% md\n"
        }
      },
      "source": [
        "Проверим, что выход сети имеет корректную размерность:"
      ]
    },
    {
      "cell_type": "code",
      "execution_count": null,
      "metadata": {
        "id": "cCIzFUpJ_Agw",
        "pycharm": {
          "name": "#%%\n"
        }
      },
      "outputs": [],
      "source": [
        "assert net(torch.zeros((10, 3, 32, 32))).shape == (10, 10)"
      ]
    },
    {
      "cell_type": "markdown",
      "metadata": {
        "id": "08osX622cDGz",
        "pycharm": {
          "name": "#%% md\n"
        }
      },
      "source": [
        "Чтобы проводить вычисления на GPU, в PyTorch необходимо руками перекладывать объекты, с которыми вы хотите проводить вычисления, на графический ускоритель. Это делается следующим образрм:"
      ]
    },
    {
      "cell_type": "code",
      "execution_count": null,
      "metadata": {
        "colab": {
          "base_uri": "https://localhost:8080/"
        },
        "id": "56hDOMCFcDZX",
        "outputId": "250eb714-be8d-464d-835d-c57548949ffc",
        "pycharm": {
          "name": "#%%\n"
        }
      },
      "outputs": [
        {
          "name": "stdout",
          "output_type": "stream",
          "text": [
            "cuda:0\n"
          ]
        }
      ],
      "source": [
        "device = torch.device(\"cuda:0\" if torch.cuda.is_available() else \"cpu\")\n",
        "print(device)"
      ]
    },
    {
      "cell_type": "code",
      "execution_count": null,
      "metadata": {
        "id": "ohnDWbp0qbtC",
        "pycharm": {
          "name": "#%%\n"
        }
      },
      "outputs": [],
      "source": [
        "net = net.to(device)"
      ]
    },
    {
      "cell_type": "markdown",
      "metadata": {
        "id": "H_bOlTVUp5QF",
        "pycharm": {
          "name": "#%% md\n"
        }
      },
      "source": [
        "Подключение GPU в google.colab:\n",
        "\n",
        "**Среда выполнения** -> **Сменить среду выполнения** -> **Аппаратный ускоритель** -> **GPU**"
      ]
    },
    {
      "cell_type": "markdown",
      "metadata": {
        "id": "AGi6XX_7_Bgg",
        "pycharm": {
          "name": "#%% md\n"
        }
      },
      "source": [
        "## 2. Обучение и тестирование модели (3 балла)"
      ]
    },
    {
      "cell_type": "markdown",
      "metadata": {
        "id": "0agj_MQoO9Ds",
        "pycharm": {
          "name": "#%% md\n"
        }
      },
      "source": [
        "**Задание 2.1 (2 балла).** Переходим к обучению модели. Заполните пропуски в функциях <code>test</code> и <code>train_epoch</code>. В качестве функции потерь будем использовать [кросс-энтропию](https://pytorch.org/docs/stable/generated/torch.nn.functional.cross_entropy.html), а в качестве метрики качества accuracy."
      ]
    },
    {
      "cell_type": "code",
      "execution_count": null,
      "metadata": {
        "id": "g8gsPPRIevDS",
        "pycharm": {
          "name": "#%%\n"
        }
      },
      "outputs": [],
      "source": [
        "def test(model, loader):\n",
        "    loss_log = []\n",
        "    acc_log = []\n",
        "    batch_size = loader.batch_size\n",
        "    model.eval()\n",
        "\n",
        "    for data, target in loader:\n",
        "        data = data.to(device)\n",
        "        target = target.to(device)\n",
        "        output = model(data)\n",
        "        loss = nn.functional.cross_entropy(output, target)\n",
        "        loss_log.append(loss.item())\n",
        "        scalar_Loss_Function_value = loss.item()\n",
        "        preds = output.argmax(dim=1)\n",
        "        acc = sum(preds==target).sum().item()/batch_size\n",
        "        acc_log.append(acc)\n",
        "\n",
        "    return np.mean(loss_log), np.mean(acc_log)\n",
        "\n",
        "\n",
        "def train_epoch(model, optimizer, train_loader):\n",
        "    loss_log = []\n",
        "    acc_log = []\n",
        "    model.train()\n",
        "    batch_size = train_loader.batch_size\n",
        "\n",
        "    for data, target in train_loader:\n",
        "        data = data.to(device)\n",
        "        target = target.to(device)\n",
        "\n",
        "        # <your code here>\n",
        "        optimizer.zero_grad()\n",
        "        output = model(data)\n",
        "        loss = nn.functional.cross_entropy(output, target)\n",
        "\n",
        "\n",
        "        loss_log.append(loss.item())\n",
        "\n",
        "        # <your code here>\n",
        "        scalar_Loss_Function_value = loss.item()\n",
        "        preds = output.argmax(dim=1)\n",
        "        acc = sum(preds==target).sum().item()/batch_size\n",
        "        loss.backward()\n",
        "        optimizer.step()\n",
        "\n",
        "        acc_log.append(acc)\n",
        "\n",
        "    return loss_log, acc_log\n",
        "\n",
        "\n",
        "def train(model, optimizer, n_epochs, train_loader, val_loader, scheduler=None):\n",
        "    train_loss_log, train_acc_log, val_loss_log, val_acc_log = [], [], [], []\n",
        "\n",
        "    for epoch in range(n_epochs):\n",
        "        train_loss, train_acc = train_epoch(model, optimizer, train_loader)\n",
        "        val_loss, val_acc = test(model, val_loader)\n",
        "\n",
        "        train_loss_log.extend(train_loss)\n",
        "        train_acc_log.extend(train_acc)\n",
        "\n",
        "        val_loss_log.append(val_loss)\n",
        "        val_acc_log.append(val_acc)\n",
        "\n",
        "        print(f\"Epoch {epoch}\")\n",
        "        print(f\" train loss: {np.mean(train_loss)}, train acc: {np.mean(train_acc)}\")\n",
        "        print(f\" val loss: {val_loss}, val acc: {val_acc}\\n\")\n",
        "\n",
        "        if scheduler is not None:\n",
        "            scheduler.step()\n",
        "\n",
        "    return train_loss_log, train_acc_log, val_loss_log, val_acc_log"
      ]
    },
    {
      "cell_type": "markdown",
      "metadata": {
        "id": "iSOqk_CAO9Dt",
        "pycharm": {
          "name": "#%% md\n"
        }
      },
      "source": [
        "Запустим обучение модели. В качестве оптимизатора будем использовать стохастический градиентный спуск, который является де-факто стандартом в задачах компьютерного зрения (наравне с <code>Adam</code>).\n",
        "\n",
        "__Замечание:__ Для достижения наилучшего качества в нашем случае потребуется обучать модель несколько сотен эпох. Однако в целях экономии вашего времени и сил, во всех экспериментах мы ограничимся 20 эпохами."
      ]
    },
    {
      "cell_type": "code",
      "execution_count": null,
      "metadata": {
        "colab": {
          "base_uri": "https://localhost:8080/"
        },
        "id": "MKZBGhuAgMDu",
        "outputId": "cac22241-5713-44b5-f5e4-cc86e1552da7",
        "pycharm": {
          "name": "#%%\n"
        },
        "scrolled": true
      },
      "outputs": [
        {
          "name": "stdout",
          "output_type": "stream",
          "text": [
            "Epoch 0\n",
            " train loss: 1.4616240393744961, train acc: 0.482261197440585\n",
            " val loss: 1.2337523551697427, val acc: 0.5669547872340426\n",
            "\n",
            "Epoch 1\n",
            " train loss: 1.1425402784478293, train acc: 0.5983775137111518\n",
            " val loss: 1.0930975835374062, val acc: 0.6191489361702127\n",
            "\n",
            "Epoch 2\n",
            " train loss: 1.0355299316768891, train acc: 0.6414248171846435\n",
            " val loss: 1.0886065741802784, val acc: 0.6253324468085106\n",
            "\n",
            "Epoch 3\n",
            " train loss: 0.9793848683019007, train acc: 0.659135054844607\n",
            " val loss: 1.0579294808367465, val acc: 0.6351063829787233\n",
            "\n",
            "Epoch 4\n",
            " train loss: 0.9421700020158966, train acc: 0.6733318098720292\n",
            " val loss: 1.000273382663727, val acc: 0.6509308510638298\n",
            "\n",
            "Epoch 5\n",
            " train loss: 0.9176400012900232, train acc: 0.6834723491773309\n",
            " val loss: 0.9491051252852095, val acc: 0.6737367021276596\n",
            "\n",
            "Epoch 6\n",
            " train loss: 0.8908634398275581, train acc: 0.6886425959780622\n",
            " val loss: 1.040947305395248, val acc: 0.6444148936170213\n",
            "\n",
            "Epoch 7\n",
            " train loss: 0.8752602874905797, train acc: 0.6965836380255942\n",
            " val loss: 0.9455803952318557, val acc: 0.676595744680851\n",
            "\n",
            "Epoch 8\n",
            " train loss: 0.859547675309713, train acc: 0.7014968007312614\n",
            " val loss: 0.933319819227178, val acc: 0.6767287234042553\n",
            "\n",
            "Epoch 9\n",
            " train loss: 0.8426095982792172, train acc: 0.7084666361974405\n",
            " val loss: 0.9108547948776408, val acc: 0.6855053191489362\n",
            "\n",
            "Epoch 10\n",
            " train loss: 0.8300064903508593, train acc: 0.7141510511882998\n",
            " val loss: 0.8910384530716754, val acc: 0.6931515957446809\n",
            "\n",
            "Epoch 11\n",
            " train loss: 0.8193585602958198, train acc: 0.7169789762340036\n",
            " val loss: 0.9071613631349928, val acc: 0.6859707446808511\n",
            "\n",
            "Epoch 12\n",
            " train loss: 0.8074378042160049, train acc: 0.7182643967093236\n",
            " val loss: 0.8803915987623498, val acc: 0.6991356382978723\n",
            "\n",
            "Epoch 13\n",
            " train loss: 0.7973748283150863, train acc: 0.7236345978062158\n",
            " val loss: 0.9015985060245433, val acc: 0.6954787234042553\n",
            "\n",
            "Epoch 14\n",
            " train loss: 0.7886295887953184, train acc: 0.726433957952468\n",
            " val loss: 0.8892570091054794, val acc: 0.6996675531914893\n",
            "\n",
            "Epoch 15\n",
            " train loss: 0.7814176308716455, train acc: 0.7303473491773309\n",
            " val loss: 0.8589852017291049, val acc: 0.7028590425531915\n",
            "\n",
            "Epoch 16\n",
            " train loss: 0.7738292573030078, train acc: 0.7304616087751371\n",
            " val loss: 0.8642252493411937, val acc: 0.7055186170212766\n",
            "\n",
            "Epoch 17\n",
            " train loss: 0.7602820179035285, train acc: 0.7345463893967094\n",
            " val loss: 0.8906184399381597, val acc: 0.6972074468085107\n",
            "\n",
            "Epoch 18\n",
            " train loss: 0.7535094100661862, train acc: 0.7390310786106032\n",
            " val loss: 0.8888309387450523, val acc: 0.6983377659574468\n",
            "\n",
            "Epoch 19\n",
            " train loss: 0.7484521050775726, train acc: 0.7385169104204753\n",
            " val loss: 0.8901436488679115, val acc: 0.6952792553191489\n",
            "\n"
          ]
        }
      ],
      "source": [
        "optimizer = optim.SGD(net.parameters(), lr=0.1, momentum=0.9)\n",
        "\n",
        "train_loss_log, train_acc_log, val_loss_log, val_acc_log = train(\n",
        "    net, optimizer, 20, train_loader, val_loader\n",
        ")"
      ]
    },
    {
      "cell_type": "markdown",
      "metadata": {
        "id": "gUb1jQW8O9Dt",
        "pycharm": {
          "name": "#%% md\n"
        }
      },
      "source": [
        "Посчитайте точность на тестовой выборке:"
      ]
    },
    {
      "cell_type": "code",
      "execution_count": null,
      "metadata": {
        "colab": {
          "base_uri": "https://localhost:8080/"
        },
        "id": "r5XG1k9f7m1W",
        "outputId": "174586a5-438f-499c-c183-bb34b4dcf9f2"
      },
      "outputs": [
        {
          "name": "stdout",
          "output_type": "stream",
          "text": [
            "68.64%>67%\n"
          ]
        }
      ],
      "source": [
        "# <your code here>\n",
        "net.eval()\n",
        "net.zero_grad()\n",
        "mean_loss, mean_acc = test(net, test_loader)\n",
        "print(\"{:.2%}>67%\".format(mean_acc))"
      ]
    },
    {
      "cell_type": "markdown",
      "metadata": {
        "id": "zM38Q9fwO9Dt",
        "pycharm": {
          "name": "#%% md\n"
        }
      },
      "source": [
        "Если вы все сделали правильно, у вас должна была получиться точность $\\ge 67\\%$."
      ]
    },
    {
      "cell_type": "markdown",
      "metadata": {
        "id": "DHFNSKcoO9Dt",
        "pycharm": {
          "name": "#%% md\n"
        }
      },
      "source": [
        "**Задание 2.2 (1 балл).** Постройте графики зависимости функции потерь и точности классификации от номера шага оптимизатора. На каждом графике расположите данные и для обучающей и для валидационной выборки, итого у вас должно получиться два графика. Обратите внимание, что на обучающей выборке эти данные считаются по каждому батчу, на валидационной же они считаются по всей выборке раз в эпоху."
      ]
    },
    {
      "cell_type": "code",
      "execution_count": null,
      "metadata": {
        "colab": {
          "base_uri": "https://localhost:8080/",
          "height": 472
        },
        "id": "LzIP0tGLO9Dt",
        "outputId": "12fb0014-c629-414c-f7d3-38f65fae6071",
        "pycharm": {
          "name": "#%%\n"
        }
      },
      "outputs": [
        {
          "data": {
            "image/png": "[encoded data removed]",
            "text/plain": [
              "<Figure size 640x480 with 1 Axes>"
            ]
          },
          "metadata": {},
          "output_type": "display_data"
        }
      ],
      "source": [
        "# <your code here>\n",
        "# Для функции потерь\n",
        "plt.plot(train_loss_log, label='Train Loss (per batch)', alpha=0.6)\n",
        "# Для валидации нужно размазать значения по всем батчам эпохи\n",
        "val_steps = np.linspace(0, len(train_loss_log), len(val_loss_log)+1)[1:]\n",
        "plt.plot(val_steps, val_loss_log, label='Val Loss (per epoch)')\n",
        "plt.scatter(val_steps,val_loss_log,color = 'orange')\n",
        "plt.xlabel('Batch Number')\n",
        "plt.ylabel('Loss')\n",
        "plt.title('Training and Validation Loss')\n",
        "plt.legend()\n",
        "plt.grid(True)\n"
      ]
    },
    {
      "cell_type": "code",
      "execution_count": null,
      "metadata": {
        "colab": {
          "base_uri": "https://localhost:8080/",
          "height": 472
        },
        "id": "6TYvfEDu9ABW",
        "outputId": "7079fb65-b86d-4aae-e2cd-9771842a6420"
      },
      "outputs": [
        {
          "data": {
            "image/png": "[encoded data removed]",
            "text/plain": [
              "<Figure size 640x480 with 1 Axes>"
            ]
          },
          "metadata": {},
          "output_type": "display_data"
        }
      ],
      "source": [
        "plt.plot(train_acc_log, label='Train Accuracy (per batch)', alpha=0.6)\n",
        "# Аналогично для accuracy валидации\n",
        "plt.plot(val_steps, val_acc_log, label='Val Accuracy (per epoch)')\n",
        "plt.scatter(val_steps,val_acc_log,color = 'orange')\n",
        "plt.xlabel('Batch Number')\n",
        "plt.ylabel('Accuracy')\n",
        "plt.title('Training and Validation Accuracy')\n",
        "plt.legend()\n",
        "plt.grid(True)"
      ]
    },
    {
      "cell_type": "code",
      "execution_count": null,
      "metadata": {
        "id": "x4FrwQ735u06"
      },
      "outputs": [],
      "source": [
        "# Забегая вперед, создам словарь, чтобы потом сравнить в 3.1 все рассмотренные способы изменения шага\n",
        "results = {\n",
        "    'MultiStepLR': {'train_acc': [], 'val_acc': [], 'val_loss': [], 'lr': []},\n",
        "    'NoScheduler': {'train_acc': [], 'val_acc': [], 'val_loss': [], 'lr': []},\n",
        "    'StepLR': {'train_acc': [], 'val_acc': [], 'val_loss': [], 'lr': []},\n",
        "    'ExponentialLR': {'train_acc': [], 'val_acc': [], 'val_loss': [], 'lr': []},\n",
        "    'CosineAnnealingLR': {'train_acc': [], 'val_acc': [], 'val_loss': [], 'lr': []}\n",
        "}"
      ]
    },
    {
      "cell_type": "markdown",
      "metadata": {
        "id": "_ttOJPj-O9Dt",
        "pycharm": {
          "name": "#%% md\n"
        }
      },
      "source": [
        "## 3. Расписание длины шага (2 балла)"
      ]
    },
    {
      "cell_type": "markdown",
      "metadata": {
        "id": "qiz3JstuO9Dt",
        "pycharm": {
          "name": "#%% md\n"
        }
      },
      "source": [
        "С курса \"Машинное обучение\" вы уже должны знать, что сходимость стохастического градиентного спуска мы можем теоретически гарантировать только если будем определенным образом со временем уменьшать длину шага. На практике при обучении нейронных сетей такая техника оказывается очень полезной, однако теоретически обоснованными способами уменьшения длины шага фантазия не ограничивается.\n",
        "\n",
        "Одним из простейших способов является кусочно постоянная функция: на нескольких фиксированных эпохах уменьшаем длину шага в константу раз."
      ]
    },
    {
      "cell_type": "code",
      "execution_count": null,
      "metadata": {
        "colab": {
          "base_uri": "https://localhost:8080/"
        },
        "id": "V2Z0OT3nO9Du",
        "outputId": "ec6919ff-0f60-4629-bbbf-a68cf33f1401",
        "pycharm": {
          "name": "#%%\n"
        }
      },
      "outputs": [
        {
          "name": "stdout",
          "output_type": "stream",
          "text": [
            "Epoch 0\n",
            " train loss: 1.4975191113935746, train acc: 0.46375114259597805\n",
            " val loss: 1.3062065271621055, val acc: 0.535372340425532\n",
            "\n",
            "Epoch 1\n",
            " train loss: 1.1827964243330946, train acc: 0.5835808957952467\n",
            " val loss: 1.129248461063872, val acc: 0.602061170212766\n",
            "\n",
            "Epoch 2\n",
            " train loss: 1.0605463675432711, train acc: 0.6312271480804388\n",
            " val loss: 1.1341261998135992, val acc: 0.6035239361702127\n",
            "\n",
            "Epoch 3\n",
            " train loss: 1.0008579429368432, train acc: 0.6515939213893968\n",
            " val loss: 0.986802569856035, val acc: 0.6577127659574468\n",
            "\n",
            "Epoch 4\n",
            " train loss: 0.9588125865681734, train acc: 0.6665333638025595\n",
            " val loss: 1.0325049301411242, val acc: 0.6392952127659575\n",
            "\n",
            "Epoch 5\n",
            " train loss: 0.9273251062991197, train acc: 0.676359689213894\n",
            " val loss: 0.9563452728251194, val acc: 0.6688164893617021\n",
            "\n",
            "Epoch 6\n",
            " train loss: 0.909675386204798, train acc: 0.6811871572212066\n",
            " val loss: 0.9511104520331037, val acc: 0.6716090425531915\n",
            "\n",
            "Epoch 7\n",
            " train loss: 0.8902757112788108, train acc: 0.6892710237659964\n",
            " val loss: 0.9166879194848081, val acc: 0.6832446808510638\n",
            "\n",
            "Epoch 8\n",
            " train loss: 0.867886407065871, train acc: 0.6971835009140768\n",
            " val loss: 0.889085120850421, val acc: 0.6951462765957447\n",
            "\n",
            "Epoch 9\n",
            " train loss: 0.86200095263652, train acc: 0.7006969835466179\n",
            " val loss: 0.8860269538899685, val acc: 0.6918882978723404\n",
            "\n",
            "Epoch 10\n",
            " train loss: 0.7469706920535735, train acc: 0.7427159506398537\n",
            " val loss: 0.8391503805809832, val acc: 0.7112367021276595\n",
            "\n",
            "Epoch 11\n",
            " train loss: 0.731740224840872, train acc: 0.7487145795246801\n",
            " val loss: 0.8324291617312329, val acc: 0.7113031914893617\n",
            "\n",
            "Epoch 12\n",
            " train loss: 0.7266948597413748, train acc: 0.7483718007312614\n",
            " val loss: 0.8293114437701854, val acc: 0.7132313829787233\n",
            "\n",
            "Epoch 13\n",
            " train loss: 0.7220683720582582, train acc: 0.7493144424131627\n",
            " val loss: 0.8343066483101946, val acc: 0.7099734042553192\n",
            "\n",
            "Epoch 14\n",
            " train loss: 0.7185717848362827, train acc: 0.7514568098720292\n",
            " val loss: 0.8257780611515045, val acc: 0.7152925531914893\n",
            "\n",
            "Epoch 15\n",
            " train loss: 0.7039974432649735, train acc: 0.7548560329067642\n",
            " val loss: 0.8224939823150634, val acc: 0.7153590425531915\n",
            "\n",
            "Epoch 16\n",
            " train loss: 0.7016173272071853, train acc: 0.7576268281535649\n",
            " val loss: 0.8206750731518928, val acc: 0.716622340425532\n",
            "\n",
            "Epoch 17\n",
            " train loss: 0.7005946521785185, train acc: 0.7571412248628885\n",
            " val loss: 0.8203082791034212, val acc: 0.7171542553191489\n",
            "\n",
            "Epoch 18\n",
            " train loss: 0.7012306183740034, train acc: 0.7577982175502742\n",
            " val loss: 0.8221594223316679, val acc: 0.7164893617021276\n",
            "\n",
            "Epoch 19\n",
            " train loss: 0.7002791244761382, train acc: 0.7576268281535649\n",
            " val loss: 0.8199464220949944, val acc: 0.7169547872340426\n",
            "\n"
          ]
        }
      ],
      "source": [
        "net = BasicBlockNet().to(device)\n",
        "optimizer = optim.SGD(net.parameters(), lr=0.1, momentum=0.9)\n",
        "scheduler = optim.lr_scheduler.MultiStepLR(optimizer, milestones=[10, 15], gamma=0.1)\n",
        "tr_loss_log, tr_acc_log, val_loss_log, val_acc_log = train(\n",
        "    net, optimizer, 20, train_loader, val_loader, scheduler\n",
        ")"
      ]
    },
    {
      "cell_type": "markdown",
      "metadata": {
        "id": "5Xc76KvzO9Du",
        "pycharm": {
          "name": "#%% md\n"
        }
      },
      "source": [
        "Посчитайте точность на тестовой выборке:"
      ]
    },
    {
      "cell_type": "code",
      "execution_count": null,
      "metadata": {
        "colab": {
          "base_uri": "https://localhost:8080/"
        },
        "id": "1AjiYhKqO9Du",
        "outputId": "c63d369d-9fa5-468e-897e-7dc9f5a4d455",
        "pycharm": {
          "name": "#%%\n"
        }
      },
      "outputs": [
        {
          "name": "stdout",
          "output_type": "stream",
          "text": [
            "70.99%>68.64%\n"
          ]
        }
      ],
      "source": [
        "# <your code here>\n",
        "net.eval()\n",
        "net.zero_grad()\n",
        "mean_loss2, mean_acc2 = test(net, test_loader)\n",
        "print(\"{:.2%}>{:.2%}\".format(mean_acc2,mean_acc))"
      ]
    },
    {
      "cell_type": "code",
      "execution_count": null,
      "metadata": {
        "colab": {
          "base_uri": "https://localhost:8080/"
        },
        "id": "VPYhagWB5N9L",
        "outputId": "a86d2063-2f64-4c72-a0a2-dc777f91bd9d"
      },
      "outputs": [],
      "source": [
        "# Сразу туда запишу текущие результаты:\n",
        "results['MultiStepLR']['train_acc'] = tr_acc_log\n",
        "results['MultiStepLR']['val_acc'] = val_acc_log\n",
        "results['MultiStepLR']['val_loss'] = val_loss_log\n",
        "\n",
        "def get_lr_history(scheduler, n_epochs): # эта функция нужна чтобы запоминать историю размера lr. Потом нарисую график для сравнения разных методов\n",
        "    lr_history = []\n",
        "    for _ in range(n_epochs):\n",
        "        lr_history.append(scheduler.optimizer.param_groups[0]['lr'])\n",
        "        scheduler.step()\n",
        "    return lr_history\n",
        "optimizer = optim.SGD(net.parameters(), lr=0.1, momentum=0.9)\n",
        "scheduler = optim.lr_scheduler.MultiStepLR(optimizer, milestones=[10, 15], gamma=0.1)\n",
        "results['MultiStepLR']['lr'] = get_lr_history(scheduler, 20)"
      ]
    },
    {
      "cell_type": "markdown",
      "metadata": {
        "id": "yE0dgLYrO9Du",
        "pycharm": {
          "name": "#%% md\n"
        }
      },
      "source": [
        "**Задание 3.0 (0.5 баллов).** Здесь может возникнуть вопрос: а что будет, если мы не будем уменьшать длину шага в процессе обучения, а сразу возьмем констатную, равную значению нашей кусочно-постоянной функции на последних эпохах, то есть $0.001$ в нашем случае. Запустите обучение и проверьте, что в таком случае мы получим худшее качество на тестовой выборке."
      ]
    },
    {
      "cell_type": "code",
      "execution_count": null,
      "metadata": {
        "colab": {
          "base_uri": "https://localhost:8080/"
        },
        "id": "qZ2iB-LBO9Du",
        "outputId": "496f255e-071f-43d7-8709-329e49b77b26",
        "pycharm": {
          "name": "#%%\n"
        }
      },
      "outputs": [
        {
          "name": "stdout",
          "output_type": "stream",
          "text": [
            "Epoch 0\n",
            " train loss: 1.8275879623685065, train acc: 0.35820383912248627\n",
            " val loss: 1.6184920950138824, val acc: 0.43470744680851064\n",
            "\n",
            "Epoch 1\n",
            " train loss: 1.5500756489075516, train acc: 0.45718121572212067\n",
            " val loss: 1.4668001154635815, val acc: 0.48271276595744683\n",
            "\n",
            "Epoch 2\n",
            " train loss: 1.4315801035115663, train acc: 0.49891453382084094\n",
            " val loss: 1.3885898620524304, val acc: 0.5072473404255319\n",
            "\n",
            "Epoch 3\n",
            " train loss: 1.3525386824250438, train acc: 0.5263368372943327\n",
            " val loss: 1.3069502216704347, val acc: 0.539561170212766\n",
            "\n",
            "Epoch 4\n",
            " train loss: 1.2953488190387676, train acc: 0.5490173674588665\n",
            " val loss: 1.2537574047737934, val acc: 0.5595744680851064\n",
            "\n",
            "Epoch 5\n",
            " train loss: 1.2464885871850595, train acc: 0.5662991316270567\n",
            " val loss: 1.2246630006648125, val acc: 0.5692154255319148\n",
            "\n",
            "Epoch 6\n",
            " train loss: 1.2052616643731293, train acc: 0.579981718464351\n",
            " val loss: 1.1743777183776205, val acc: 0.5882978723404255\n",
            "\n",
            "Epoch 7\n",
            " train loss: 1.1646517491209878, train acc: 0.5948069012797075\n",
            " val loss: 1.1656750024633205, val acc: 0.5846409574468086\n",
            "\n",
            "Epoch 8\n",
            " train loss: 1.137572128550444, train acc: 0.6024908592321755\n",
            " val loss: 1.1085217927364592, val acc: 0.6155585106382979\n",
            "\n",
            "Epoch 9\n",
            " train loss: 1.1052399124044388, train acc: 0.6143167276051188\n",
            " val loss: 1.0782513255768633, val acc: 0.6220744680851064\n",
            "\n",
            "Epoch 10\n",
            " train loss: 1.079721338570227, train acc: 0.6257712522851919\n",
            " val loss: 1.0582331147599728, val acc: 0.629188829787234\n",
            "\n",
            "Epoch 11\n",
            " train loss: 1.0508195083363618, train acc: 0.6335123400365631\n",
            " val loss: 1.0464258810307117, val acc: 0.6332446808510638\n",
            "\n",
            "Epoch 12\n",
            " train loss: 1.0347509562860242, train acc: 0.6391967550274223\n",
            " val loss: 1.0274015436781214, val acc: 0.638497340425532\n",
            "\n",
            "Epoch 13\n",
            " train loss: 1.0120452966071134, train acc: 0.6480233089579525\n",
            " val loss: 1.0434434183100436, val acc: 0.6305186170212767\n",
            "\n",
            "Epoch 14\n",
            " train loss: 0.9985993873920476, train acc: 0.652793647166362\n",
            " val loss: 0.9870370157221531, val acc: 0.6538563829787234\n",
            "\n",
            "Epoch 15\n",
            " train loss: 0.9826466775681463, train acc: 0.6590779250457038\n",
            " val loss: 0.9819570594645561, val acc: 0.6581781914893617\n",
            "\n",
            "Epoch 16\n",
            " train loss: 0.9722978045561196, train acc: 0.6613631170018281\n",
            " val loss: 0.9939405436211444, val acc: 0.6511968085106383\n",
            "\n",
            "Epoch 17\n",
            " train loss: 0.9650237588603492, train acc: 0.6663619744058501\n",
            " val loss: 0.9635957246131085, val acc: 0.6652260638297872\n",
            "\n",
            "Epoch 18\n",
            " train loss: 0.9510802050177314, train acc: 0.6713893967093236\n",
            " val loss: 0.9582173984101479, val acc: 0.6673537234042554\n",
            "\n",
            "Epoch 19\n",
            " train loss: 0.9463841677583767, train acc: 0.6699040219378428\n",
            " val loss: 0.944857032755588, val acc: 0.6702127659574468\n",
            "\n"
          ]
        }
      ],
      "source": [
        "# <your code here>\n",
        "net = BasicBlockNet().to(device)\n",
        "optimizer = optim.SGD(net.parameters(), lr=0.001, momentum=0.9)\n",
        "tr_loss_log, tr_acc_log, val_loss_log, val_acc_log = train(\n",
        "    net, optimizer, 20, train_loader, val_loader\n",
        ")"
      ]
    },
    {
      "cell_type": "code",
      "execution_count": null,
      "metadata": {
        "colab": {
          "base_uri": "https://localhost:8080/"
        },
        "id": "z9MeYL78Ak8x",
        "outputId": "9f010eb8-1070-4a94-bebf-358dd558ed25"
      },
      "outputs": [
        {
          "name": "stdout",
          "output_type": "stream",
          "text": [
            "LR=0.001=Const: 66.49%\n"
          ]
        }
      ],
      "source": [
        "net.eval()\n",
        "net.zero_grad()\n",
        "mean_loss, mean_acc = test(net, test_loader)\n",
        "print(\"LR=0.001=Const: {:.2%}\".format(mean_acc))"
      ]
    },
    {
      "cell_type": "markdown",
      "metadata": {
        "id": "1fkf6keltl0N"
      },
      "source": [
        "**Результаты в случае, если lr=0.001 сразу, даже лучше, так как accuracy 72%>70.53%**"
      ]
    },
    {
      "cell_type": "code",
      "execution_count": null,
      "metadata": {
        "id": "_aNOQV945kai"
      },
      "outputs": [],
      "source": [
        "results['NoScheduler']['train_acc'] = tr_acc_log\n",
        "results['NoScheduler']['val_acc'] = val_acc_log\n",
        "results['NoScheduler']['val_loss'] = val_loss_log\n",
        "results['NoScheduler']['lr'] = [0.001 for _ in range(20)]"
      ]
    },
    {
      "cell_type": "markdown",
      "metadata": {
        "id": "xVotU378O9Du",
        "pycharm": {
          "name": "#%% md\n"
        }
      },
      "source": [
        "**Задание 3.1 (1.5 балла).** Изучите, какие еще способы уменьшения длины шага представлены в <code>torch.optim.lr_scheduler</code>. Выберите несколько из них, объясните, как они устроены, и обучите модель с ними. Удалось ли добиться улучшения качества на тестовой выборке?"
      ]
    },
    {
      "cell_type": "markdown",
      "metadata": {
        "id": "WIoyaa7hsTfs"
      },
      "source": [
        "**Способ 1. StepLR**\n",
        "\n",
        "Похож на MultiStepLR, но уменьшает шаг в gamma раз каждые step_size эпох\n",
        "\n",
        "Формула:\n",
        "\n",
        "LR = initial_lr * gamma^(количество пройденных milestones до текущей эпохи)"
      ]
    },
    {
      "cell_type": "code",
      "execution_count": null,
      "metadata": {
        "colab": {
          "base_uri": "https://localhost:8080/"
        },
        "id": "nkGlzocOO9Du",
        "outputId": "5295d497-eaca-42db-b4df-2292afa43d00",
        "pycharm": {
          "name": "#%%\n"
        }
      },
      "outputs": [
        {
          "name": "stdout",
          "output_type": "stream",
          "text": [
            "Epoch 0\n",
            " train loss: 1.492378962977059, train acc: 0.46703610603290674\n",
            " val loss: 1.3624717387747258, val acc: 0.5292553191489362\n",
            "\n",
            "Epoch 1\n",
            " train loss: 1.157763004956777, train acc: 0.593235831809872\n",
            " val loss: 1.0624314120475282, val acc: 0.6285904255319149\n",
            "\n",
            "Epoch 2\n",
            " train loss: 1.062654784981032, train acc: 0.628713436928702\n",
            " val loss: 1.0047018576175608, val acc: 0.6481382978723405\n",
            "\n",
            "Epoch 3\n",
            " train loss: 1.0091460642474661, train acc: 0.6479090493601463\n",
            " val loss: 1.0732983670336136, val acc: 0.6273936170212766\n",
            "\n",
            "Epoch 4\n",
            " train loss: 0.8775385391559636, train acc: 0.6958980804387569\n",
            " val loss: 0.9154699576661942, val acc: 0.6808510638297872\n",
            "\n",
            "Epoch 5\n",
            " train loss: 0.8542054632246168, train acc: 0.7043247257769653\n",
            " val loss: 0.9029734134674072, val acc: 0.6875664893617022\n",
            "\n",
            "Epoch 6\n",
            " train loss: 0.848408930425888, train acc: 0.7062385740402194\n",
            " val loss: 0.8980906651375141, val acc: 0.6910239361702127\n",
            "\n",
            "Epoch 7\n",
            " train loss: 0.838692874588086, train acc: 0.7098663162705667\n",
            " val loss: 0.9006680409959023, val acc: 0.6901595744680851\n",
            "\n",
            "Epoch 8\n",
            " train loss: 0.8204535769479149, train acc: 0.7169504113345521\n",
            " val loss: 0.8825083894932524, val acc: 0.6964095744680852\n",
            "\n",
            "Epoch 9\n",
            " train loss: 0.8169670814352018, train acc: 0.7188356946983546\n",
            " val loss: 0.8824849714624121, val acc: 0.6965425531914894\n",
            "\n",
            "Epoch 10\n",
            " train loss: 0.815568448311668, train acc: 0.7180930073126143\n",
            " val loss: 0.8813697340640616, val acc: 0.6956781914893617\n",
            "\n",
            "Epoch 11\n",
            " train loss: 0.81514906599927, train acc: 0.7190642138939671\n",
            " val loss: 0.8806688968171464, val acc: 0.6969414893617021\n",
            "\n",
            "Epoch 12\n",
            " train loss: 0.8129106025591193, train acc: 0.7186357404021938\n",
            " val loss: 0.8798371581321067, val acc: 0.6981382978723404\n",
            "\n",
            "Epoch 13\n",
            " train loss: 0.8123341397241003, train acc: 0.7205210237659964\n",
            " val loss: 0.8801234549664436, val acc: 0.6980718085106383\n",
            "\n",
            "Epoch 14\n",
            " train loss: 0.8103262362031222, train acc: 0.7205210237659964\n",
            " val loss: 0.880061149597168, val acc: 0.6972074468085107\n",
            "\n",
            "Epoch 15\n",
            " train loss: 0.8115324372565289, train acc: 0.7212065813528337\n",
            " val loss: 0.8805029552033607, val acc: 0.6964095744680852\n",
            "\n",
            "Epoch 16\n",
            " train loss: 0.8118788105260302, train acc: 0.7192356032906764\n",
            " val loss: 0.8799495572739459, val acc: 0.6978058510638298\n",
            "\n",
            "Epoch 17\n",
            " train loss: 0.8120710506517664, train acc: 0.7210923217550275\n",
            " val loss: 0.8801921489390921, val acc: 0.6971409574468085\n",
            "\n",
            "Epoch 18\n",
            " train loss: 0.8123014221679576, train acc: 0.7181501371115173\n",
            " val loss: 0.880284398413719, val acc: 0.6972074468085107\n",
            "\n",
            "Epoch 19\n",
            " train loss: 0.8115070802202172, train acc: 0.7198640310786106\n",
            " val loss: 0.8800556096624821, val acc: 0.6973404255319149\n",
            "\n"
          ]
        }
      ],
      "source": [
        "# <your code here>\n",
        "net = BasicBlockNet().to(device)\n",
        "optimizer = optim.SGD(net.parameters(), lr=0.1, momentum=0.9)\n",
        "scheduler = optim.lr_scheduler.StepLR(optimizer, step_size=4, gamma=0.1)\n",
        "# Эпохи 0-3 будут обучаться с lr=0.1, потом\n",
        "# Эпохи 4-7 с lr = 0.01\n",
        "# Эпохи 8-11 с lr = 0.001\n",
        "# Эпохи 12-15 c lr=0.0001\n",
        "# Эпохи 16-19 c lr = 0.00001\n",
        "tr_loss_log, tr_acc_log, val_loss_log, val_acc_log = train(\n",
        "    net, optimizer, 20, train_loader, val_loader, scheduler\n",
        ")"
      ]
    },
    {
      "cell_type": "code",
      "execution_count": null,
      "metadata": {
        "colab": {
          "base_uri": "https://localhost:8080/"
        },
        "id": "LpyPkPmsBCbY",
        "outputId": "14bb6883-0bf1-48fa-f1dc-efccdcc3fd9f"
      },
      "outputs": [
        {
          "name": "stdout",
          "output_type": "stream",
          "text": [
            "StepLR: 68.72%\n"
          ]
        }
      ],
      "source": [
        "net.eval()\n",
        "net.zero_grad()\n",
        "mean_loss, mean_acc = test(net, test_loader)\n",
        "print(\"StepLR: {:.2%}\".format(mean_acc))"
      ]
    },
    {
      "cell_type": "code",
      "execution_count": null,
      "metadata": {
        "id": "jjN4jrhf7_YJ"
      },
      "outputs": [],
      "source": [
        "results['StepLR']['train_acc'] = tr_acc_log\n",
        "results['StepLR']['val_acc'] = val_acc_log\n",
        "results['StepLR']['val_loss'] = val_loss_log\n",
        "optimizer = optim.SGD(net.parameters(), lr=0.1, momentum=0.9)\n",
        "scheduler = optim.lr_scheduler.StepLR(optimizer, step_size=4, gamma=0.1)\n",
        "results['StepLR']['lr'] = get_lr_history(scheduler,20)"
      ]
    },
    {
      "cell_type": "markdown",
      "metadata": {
        "id": "STRNV3iTyl7z"
      },
      "source": [
        "**Способ 2. ExponentialLR**\n",
        "\n",
        "Уменьшает lr на __каждой__ эпохе, то есть как StepLR(step_size=1)\n"
      ]
    },
    {
      "cell_type": "code",
      "execution_count": null,
      "metadata": {
        "colab": {
          "base_uri": "https://localhost:8080/"
        },
        "id": "tN2s1WVivjJ_",
        "outputId": "276cb02e-9540-4b68-c9f2-d00eaf0b613c"
      },
      "outputs": [
        {
          "name": "stdout",
          "output_type": "stream",
          "text": [
            "Epoch 0\n",
            " train loss: 1.522909966312771, train acc: 0.4564099634369287\n",
            " val loss: 1.2653398904394597, val acc: 0.5550531914893617\n",
            "\n",
            "Epoch 1\n",
            " train loss: 1.1648539017061865, train acc: 0.5882941042047533\n",
            " val loss: 1.057399973209868, val acc: 0.63125\n",
            "\n",
            "Epoch 2\n",
            " train loss: 1.0184656344558465, train acc: 0.6476234003656307\n",
            " val loss: 0.9949553129520822, val acc: 0.6560505319148936\n",
            "\n",
            "Epoch 3\n",
            " train loss: 0.9523497999695145, train acc: 0.6683043875685558\n",
            " val loss: 0.9506357299520615, val acc: 0.6702127659574468\n",
            "\n",
            "Epoch 4\n",
            " train loss: 0.9099300948313864, train acc: 0.6841864716636198\n",
            " val loss: 0.9505038715423422, val acc: 0.6691489361702128\n",
            "\n",
            "Epoch 5\n",
            " train loss: 0.8826570507595265, train acc: 0.6947840493601463\n",
            " val loss: 0.9209357205857622, val acc: 0.6831117021276596\n",
            "\n",
            "Epoch 6\n",
            " train loss: 0.865895383863606, train acc: 0.6993829981718465\n",
            " val loss: 0.907483371775201, val acc: 0.6865691489361702\n",
            "\n",
            "Epoch 7\n",
            " train loss: 0.8553265733082508, train acc: 0.7052102376599635\n",
            " val loss: 0.8969379384466942, val acc: 0.6907579787234043\n",
            "\n",
            "Epoch 8\n",
            " train loss: 0.8470133417703116, train acc: 0.7103519195612431\n",
            " val loss: 0.8946079738596653, val acc: 0.6899601063829788\n",
            "\n",
            "Epoch 9\n",
            " train loss: 0.8421060814500073, train acc: 0.7099234460694699\n",
            " val loss: 0.8936923864039968, val acc: 0.689627659574468\n",
            "\n",
            "Epoch 10\n",
            " train loss: 0.8398073752575862, train acc: 0.7118087294332724\n",
            " val loss: 0.8910407801891895, val acc: 0.6930851063829787\n",
            "\n",
            "Epoch 11\n",
            " train loss: 0.8382125751300965, train acc: 0.712408592321755\n",
            " val loss: 0.8901784592486442, val acc: 0.6912234042553191\n",
            "\n",
            "Epoch 12\n",
            " train loss: 0.8357390778810059, train acc: 0.7133512340036563\n",
            " val loss: 0.8891748212753459, val acc: 0.6925531914893617\n",
            "\n",
            "Epoch 13\n",
            " train loss: 0.8355340198145488, train acc: 0.7128370658135283\n",
            " val loss: 0.889299934214734, val acc: 0.6927526595744681\n",
            "\n",
            "Epoch 14\n",
            " train loss: 0.8362272517990587, train acc: 0.712351462522852\n",
            " val loss: 0.8892204277058865, val acc: 0.6933510638297873\n",
            "\n",
            "Epoch 15\n",
            " train loss: 0.8345963868842047, train acc: 0.7142938756855576\n",
            " val loss: 0.8889903773652746, val acc: 0.6922872340425532\n",
            "\n",
            "Epoch 16\n",
            " train loss: 0.835263119755105, train acc: 0.7125514168190128\n",
            " val loss: 0.888791213390675, val acc: 0.6933510638297873\n",
            "\n",
            "Epoch 17\n",
            " train loss: 0.8346951323845705, train acc: 0.714008226691042\n",
            " val loss: 0.8891602706401907, val acc: 0.6914893617021277\n",
            "\n",
            "Epoch 18\n",
            " train loss: 0.8340526433487915, train acc: 0.7133797989031079\n",
            " val loss: 0.8890338309267733, val acc: 0.6914893617021277\n",
            "\n",
            "Epoch 19\n",
            " train loss: 0.8341931131901645, train acc: 0.7132941042047533\n",
            " val loss: 0.8887982855451868, val acc: 0.6918882978723404\n",
            "\n"
          ]
        }
      ],
      "source": [
        "\n",
        "net = BasicBlockNet().to(device)\n",
        "optimizer = optim.SGD(net.parameters(), lr=0.1, momentum=0.9)\n",
        "scheduler = optim.lr_scheduler.ExponentialLR(optimizer, gamma=0.6)\n",
        "# Эпоха 0 будут обучаться с lr=0.1, потом\n",
        "# Эпоха 1 с lr = 0.06\n",
        "# Эпоха 2 с lr = 0.036\n",
        "# Эпоха 3 c lr=0.0216\n",
        "# ....\n",
        "tr_loss_log, tr_acc_log, val_loss_log, val_acc_log = train(\n",
        "    net, optimizer, 20, train_loader, val_loader, scheduler\n",
        ")"
      ]
    },
    {
      "cell_type": "code",
      "execution_count": null,
      "metadata": {
        "colab": {
          "base_uri": "https://localhost:8080/"
        },
        "id": "XMYfMmP1BIap",
        "outputId": "b28c7683-d369-41c5-c9a5-739b67ef9146"
      },
      "outputs": [
        {
          "name": "stdout",
          "output_type": "stream",
          "text": [
            "ExponLR: 68.56%\n"
          ]
        }
      ],
      "source": [
        "net.eval()\n",
        "net.zero_grad()\n",
        "mean_loss, mean_acc = test(net, test_loader)\n",
        "print(\"ExponLR: {:.2%}\".format(mean_acc))"
      ]
    },
    {
      "cell_type": "code",
      "execution_count": null,
      "metadata": {
        "id": "ts4Ckozc8Dp4"
      },
      "outputs": [],
      "source": [
        "results['ExponentialLR']['train_acc'] = tr_acc_log\n",
        "results['ExponentialLR']['val_acc'] = val_acc_log\n",
        "results['ExponentialLR']['val_loss'] = val_loss_log\n",
        "optimizer = optim.SGD(net.parameters(), lr=0.1, momentum=0.9)\n",
        "scheduler = optim.lr_scheduler.ExponentialLR(optimizer, gamma=0.6)\n",
        "results['ExponentialLR']['lr'] = get_lr_history(scheduler, n_epochs=20)"
      ]
    },
    {
      "cell_type": "markdown",
      "metadata": {
        "id": "LJvdRSfn0D9v"
      },
      "source": [
        "**Способ 3. CosineAnnealingLR**\n",
        "\n",
        "Уменьшает lr на __периодически__ по эпохам, с периодом\n"
      ]
    },
    {
      "cell_type": "code",
      "execution_count": null,
      "metadata": {
        "colab": {
          "base_uri": "https://localhost:8080/"
        },
        "id": "4RyZ4uyy1ewc",
        "outputId": "4dcf9dc1-61e8-46c2-ab22-922062d3bba6"
      },
      "outputs": [
        {
          "name": "stdout",
          "output_type": "stream",
          "text": [
            "Epoch 0\n",
            " train loss: 1.495353019433658, train acc: 0.4680358775137112\n",
            " val loss: 1.2882133871951003, val acc: 0.5482047872340425\n",
            "\n",
            "Epoch 1\n",
            " train loss: 1.1556997456106015, train acc: 0.5970063985374772\n",
            " val loss: 1.1997534079754606, val acc: 0.5851063829787234\n",
            "\n",
            "Epoch 2\n",
            " train loss: 1.024788672244091, train acc: 0.6446240859232175\n",
            " val loss: 1.0071407105060335, val acc: 0.6496675531914894\n",
            "\n",
            "Epoch 3\n",
            " train loss: 0.9335683339038758, train acc: 0.6771880712979891\n",
            " val loss: 0.9629341759580247, val acc: 0.6638962765957447\n",
            "\n",
            "Epoch 4\n",
            " train loss: 0.8717917833729244, train acc: 0.6996400822669104\n",
            " val loss: 0.9088978501076393, val acc: 0.6815159574468085\n",
            "\n",
            "Epoch 5\n",
            " train loss: 0.8462578576923071, train acc: 0.708123857404022\n",
            " val loss: 0.8946079502714441, val acc: 0.6871010638297872\n",
            "\n",
            "Epoch 6\n",
            " train loss: 0.8585380611624535, train acc: 0.7044104204753199\n",
            " val loss: 0.9037575703986147, val acc: 0.6825132978723404\n",
            "\n",
            "Epoch 7\n",
            " train loss: 0.8985587016320098, train acc: 0.6885854661791591\n",
            " val loss: 0.9280600073489736, val acc: 0.679188829787234\n",
            "\n",
            "Epoch 8\n",
            " train loss: 0.9377736565290901, train acc: 0.6733318098720292\n",
            " val loss: 0.9719173908233643, val acc: 0.660438829787234\n",
            "\n",
            "Epoch 9\n",
            " train loss: 0.9539662452458899, train acc: 0.668418647166362\n",
            " val loss: 1.045652959448226, val acc: 0.6367021276595745\n",
            "\n",
            "Epoch 10\n",
            " train loss: 0.9346039293017204, train acc: 0.6730175959780622\n",
            " val loss: 1.0220753801629898, val acc: 0.6458111702127659\n",
            "\n",
            "Epoch 11\n",
            " train loss: 0.904655859500878, train acc: 0.6834152193784278\n",
            " val loss: 0.9774285935341044, val acc: 0.655718085106383\n",
            "\n",
            "Epoch 12\n",
            " train loss: 0.854743914968135, train acc: 0.7033249542961609\n",
            " val loss: 0.9173834752529225, val acc: 0.6811170212765958\n",
            "\n",
            "Epoch 13\n",
            " train loss: 0.8043356248513001, train acc: 0.7205210237659964\n",
            " val loss: 0.8627033781498037, val acc: 0.6977393617021277\n",
            "\n",
            "Epoch 14\n",
            " train loss: 0.7576190887029254, train acc: 0.7372886197440585\n",
            " val loss: 0.8392172841315574, val acc: 0.7065824468085107\n",
            "\n",
            "Epoch 15\n",
            " train loss: 0.7384572685636593, train acc: 0.7440870658135283\n",
            " val loss: 0.8315584066066336, val acc: 0.7093085106382979\n",
            "\n",
            "Epoch 16\n",
            " train loss: 0.7489520852918816, train acc: 0.739430987202925\n",
            " val loss: 0.846238657261463, val acc: 0.7103723404255319\n",
            "\n",
            "Epoch 17\n",
            " train loss: 0.7893323534367507, train acc: 0.7234060786106032\n",
            " val loss: 0.9368186882201661, val acc: 0.675531914893617\n",
            "\n",
            "Epoch 18\n",
            " train loss: 0.8278387357264594, train acc: 0.7122943327239488\n",
            " val loss: 0.9631259116720646, val acc: 0.6701462765957447\n",
            "\n",
            "Epoch 19\n",
            " train loss: 0.8565317110126154, train acc: 0.7024394424131627\n",
            " val loss: 0.9142094054120652, val acc: 0.6813829787234043\n",
            "\n"
          ]
        }
      ],
      "source": [
        "\n",
        "net = BasicBlockNet().to(device)\n",
        "optimizer = optim.SGD(net.parameters(), lr=0.1, momentum=0.9)\n",
        "scheduler = optim.lr_scheduler.CosineAnnealingLR(optimizer, T_max=5, eta_min=0.001)\n",
        "# Эпохи 0-4 будут обучаться с lr=cos(..) плавно снижаясь по косинусу\n",
        "# Эпохи 5-9 принимают те же самые значения lr что и эпохи 0-4\n",
        "# ....\n",
        "tr_loss_log, tr_acc_log, val_loss_log, val_acc_log = train(\n",
        "    net, optimizer, 20, train_loader, val_loader, scheduler\n",
        ")"
      ]
    },
    {
      "cell_type": "code",
      "execution_count": null,
      "metadata": {
        "colab": {
          "base_uri": "https://localhost:8080/"
        },
        "id": "ylj_lUrZBMbV",
        "outputId": "5e2d2041-51c8-4f61-99af-d23f9e4e1cd3"
      },
      "outputs": [
        {
          "name": "stdout",
          "output_type": "stream",
          "text": [
            "CosAnnealingRL: 67.76%\n"
          ]
        }
      ],
      "source": [
        "net.eval()\n",
        "net.zero_grad()\n",
        "mean_loss, mean_acc = test(net, test_loader)\n",
        "print(\"CosAnnealingRL: {:.2%}\".format(mean_acc))"
      ]
    },
    {
      "cell_type": "code",
      "execution_count": null,
      "metadata": {
        "id": "fYbOCgdg3t4Y"
      },
      "outputs": [],
      "source": [
        "results['CosineAnnealingLR']['train_acc'] = tr_acc_log\n",
        "results['CosineAnnealingLR']['val_acc'] = val_acc_log\n",
        "results['CosineAnnealingLR']['val_loss'] = val_loss_log\n",
        "results['CosineAnnealingLR']['lr'] = get_lr_history(scheduler,20)"
      ]
    },
    {
      "cell_type": "markdown",
      "metadata": {
        "id": "CbutXXVF8K7u"
      },
      "source": [
        "**Теперь выведем графики которые соответствуют всем способам уменьшения LR**"
      ]
    },
    {
      "cell_type": "code",
      "execution_count": null,
      "metadata": {
        "colab": {
          "base_uri": "https://localhost:8080/",
          "height": 489
        },
        "id": "tkoOOKqf8KgD",
        "outputId": "8d4b9043-69c7-4224-b129-5b0a90217435"
      },
      "outputs": [
        {
          "data": {
            "text/plain": [
              "<matplotlib.legend.Legend at 0x78c5e9f049d0>"
            ]
          },
          "execution_count": 32,
          "metadata": {},
          "output_type": "execute_result"
        },
        {
          "data": {
            "image/png": "[encoded data removed]",
            "text/plain": [
              "<Figure size 640x480 with 1 Axes>"
            ]
          },
          "metadata": {},
          "output_type": "display_data"
        }
      ],
      "source": [
        "for method in results:\n",
        "    plt.plot(results[method]['val_acc'], label=method)\n",
        "plt.title('Validation Accuracy')\n",
        "plt.xlabel('Epoch')\n",
        "plt.ylabel('Accuracy')\n",
        "plt.legend()"
      ]
    },
    {
      "cell_type": "code",
      "execution_count": null,
      "metadata": {
        "colab": {
          "base_uri": "https://localhost:8080/",
          "height": 489
        },
        "id": "UQKnWHrkJ6qy",
        "outputId": "08b9fce4-e7f7-4c8e-9a5e-596dc7eb3dd3"
      },
      "outputs": [
        {
          "data": {
            "text/plain": [
              "<matplotlib.legend.Legend at 0x78c5e9ef7950>"
            ]
          },
          "execution_count": 33,
          "metadata": {},
          "output_type": "execute_result"
        },
        {
          "data": {
            "image/png": "[encoded data removed]",
            "text/plain": [
              "<Figure size 640x480 with 1 Axes>"
            ]
          },
          "metadata": {},
          "output_type": "display_data"
        }
      ],
      "source": [
        "for method in results:\n",
        "    plt.plot(results[method]['val_loss'], label=method)\n",
        "plt.title('Validation Loss')\n",
        "plt.xlabel('Epoch')\n",
        "plt.ylabel('Loss')\n",
        "plt.legend()"
      ]
    },
    {
      "cell_type": "code",
      "execution_count": null,
      "metadata": {
        "colab": {
          "base_uri": "https://localhost:8080/",
          "height": 489
        },
        "id": "4EuketRy8WtC",
        "outputId": "91a6cf1a-63f3-4834-a755-1228d6a22f92"
      },
      "outputs": [
        {
          "data": {
            "text/plain": [
              "<matplotlib.legend.Legend at 0x78c5affa3150>"
            ]
          },
          "execution_count": 48,
          "metadata": {},
          "output_type": "execute_result"
        },
        {
          "data": {
            "image/png": "[encoded data removed]",
            "text/plain": [
              "<Figure size 640x480 with 1 Axes>"
            ]
          },
          "metadata": {},
          "output_type": "display_data"
        }
      ],
      "source": [
        "for method in results:\n",
        "    plt.plot(results[method]['lr'], label=method)\n",
        "plt.title('Learning Rate Schedule')\n",
        "plt.xlabel('Epoch')\n",
        "plt.ylabel('Learning Rate')\n",
        "plt.yscale('log')  # Логарифмическая шкала для лучшей визуализации\n",
        "plt.legend()"
      ]
    },
    {
      "cell_type": "markdown",
      "metadata": {
        "id": "5a_zMNNVO9Du",
        "pycharm": {
          "name": "#%% md\n"
        }
      },
      "source": [
        "Протестировав разные способы на тесте по Accuracy:\n",
        "\n",
        "*   No scheduler (lr=0.1):  68.64%\n",
        "*   MultiStepLR:            70.99%\n",
        "*   StepLR:                 68.72%\n",
        "*   No scheduler (lr=0.001):66.49%\n",
        "*   ExponLR:                68.56%\n",
        "*   CosineAnnealingLR:      67.76%\n",
        "\n",
        "По итогу:\n",
        "\n",
        "\n",
        "*   Лучше всего себя показал MultiStepLR, дав наибольший Accuracy. Также хорошо StepLR, NoScheduler (lr=0.1).\n",
        "*   Для этой задачи для оптимизатора больше подходят значения lr=0.001 (порядка $10^{-3}$)\n",
        "*   Параметр lr выгодно менять с некоторым шагом по эпохам (MultiStepLR)\n",
        "\n"
      ]
    },
    {
      "cell_type": "markdown",
      "metadata": {
        "id": "7xFXgl_3_E--",
        "pycharm": {
          "name": "#%% md\n"
        }
      },
      "source": [
        "## 4. Аугментации данных (2 балла)"
      ]
    },
    {
      "cell_type": "markdown",
      "metadata": {
        "id": "5G0Easo9O9Du",
        "pycharm": {
          "name": "#%% md\n"
        }
      },
      "source": [
        "Еще одной стандартной техникой, применяющейся в глубинном обучении, а особенно часто в компьютерном зрении, являются аугментации данных. Суть аугментаций состоит в том, что мы можем некоторым синтетическим образом видоизменять объекты обучающей выборки, тем самым расширяя ее, а также делая итоговую модель более устойчивой к таким изменениям.\n",
        "\n",
        "Простейшая аугментация, которую можно применить к картинкам — разворот картинки по горизонтальной оси. То есть при обучении модели с вероятностью $0.5$ мы будем разворачивать картинку из обучающей выборки."
      ]
    },
    {
      "cell_type": "code",
      "execution_count": null,
      "metadata": {
        "colab": {
          "base_uri": "https://localhost:8080/",
          "height": 369
        },
        "id": "SzeFpgtfO9Du",
        "outputId": "5d5190f4-3383-478f-f914-2a81af23ae08",
        "pycharm": {
          "name": "#%%\n"
        }
      },
      "outputs": [
        {
          "data": {
            "image/png": "[encoded data removed]",
            "text/plain": [
              "<Figure size 640x480 with 1 Axes>"
            ]
          },
          "metadata": {},
          "output_type": "display_data"
        },
        {
          "data": {
            "image/png": "[encoded data removed]",
            "text/plain": [
              "<Figure size 640x480 with 1 Axes>"
            ]
          },
          "metadata": {},
          "output_type": "display_data"
        }
      ],
      "source": [
        "dataiter = iter(train_loader)\n",
        "images, labels = next(dataiter)\n",
        "\n",
        "imshow(torchvision.utils.make_grid(images[:4]))\n",
        "\n",
        "imshow(torchvision.utils.make_grid(transforms.functional.hflip(images[:4])))"
      ]
    },
    {
      "cell_type": "markdown",
      "metadata": {
        "id": "BR4a-XJQO9Du",
        "pycharm": {
          "name": "#%% md\n"
        }
      },
      "source": [
        "Наиболее удобным способом работы с аугментациями в PyTorch является их задание в списке <code>transforms</code>, который затем передается в загрузчик данных. Обучим нашу сеть, применяя горизонтальные повороты:"
      ]
    },
    {
      "cell_type": "code",
      "execution_count": null,
      "metadata": {
        "colab": {
          "base_uri": "https://localhost:8080/"
        },
        "id": "na0ScBf-_AqX",
        "outputId": "b6d61bbe-f4ac-4672-c44e-bc6e39f7f87b",
        "pycharm": {
          "name": "#%%\n"
        },
        "scrolled": true
      },
      "outputs": [
        {
          "name": "stdout",
          "output_type": "stream",
          "text": [
            "Epoch 0\n",
            " train loss: 1.4583238507101697, train acc: 0.4812328610603291\n",
            " val loss: 1.2517507342582053, val acc: 0.5479388297872341\n",
            "\n",
            "Epoch 1\n",
            " train loss: 1.1526666171372046, train acc: 0.5989773765996343\n",
            " val loss: 1.1240316621800686, val acc: 0.6065824468085106\n",
            "\n",
            "Epoch 2\n",
            " train loss: 1.0469142521103296, train acc: 0.6372543418647166\n",
            " val loss: 1.007299060517169, val acc: 0.6485372340425531\n",
            "\n",
            "Epoch 3\n",
            " train loss: 0.9955394586217905, train acc: 0.6550502742230347\n",
            " val loss: 0.9822985319381065, val acc: 0.6643617021276595\n",
            "\n",
            "Epoch 4\n",
            " train loss: 0.960911508452086, train acc: 0.6659335009140768\n",
            " val loss: 0.996483649852428, val acc: 0.6508643617021277\n",
            "\n",
            "Epoch 5\n",
            " train loss: 0.9268021556315518, train acc: 0.6774737202925045\n",
            " val loss: 0.9317675400287547, val acc: 0.6741356382978724\n",
            "\n",
            "Epoch 6\n",
            " train loss: 0.9078788665792406, train acc: 0.6852719378427788\n",
            " val loss: 0.9993886488549253, val acc: 0.6484707446808511\n",
            "\n",
            "Epoch 7\n",
            " train loss: 0.895849673414579, train acc: 0.6905564442413162\n",
            " val loss: 0.8873470676706192, val acc: 0.6899601063829788\n",
            "\n",
            "Epoch 8\n",
            " train loss: 0.8770421606095226, train acc: 0.6962979890310786\n",
            " val loss: 0.8998785592140035, val acc: 0.6869015957446809\n",
            "\n",
            "Epoch 9\n",
            " train loss: 0.8563110044930927, train acc: 0.7037819926873857\n",
            " val loss: 0.8874873513871051, val acc: 0.6957446808510638\n",
            "\n",
            "Epoch 10\n",
            " train loss: 0.7708876501816501, train acc: 0.734117915904936\n",
            " val loss: 0.8042816878633297, val acc: 0.7214095744680851\n",
            "\n",
            "Epoch 11\n",
            " train loss: 0.7529646013293013, train acc: 0.7437157221206582\n",
            " val loss: 0.8007088540716374, val acc: 0.7255984042553192\n",
            "\n",
            "Epoch 12\n",
            " train loss: 0.7476758601133741, train acc: 0.7434872029250457\n",
            " val loss: 0.7981877143078662, val acc: 0.7249335106382979\n",
            "\n",
            "Epoch 13\n",
            " train loss: 0.743230199192734, train acc: 0.743858546617916\n",
            " val loss: 0.7875749948176932, val acc: 0.7281914893617021\n",
            "\n",
            "Epoch 14\n",
            " train loss: 0.739935909590294, train acc: 0.7456010054844607\n",
            " val loss: 0.7944134854255839, val acc: 0.7248670212765957\n",
            "\n",
            "Epoch 15\n",
            " train loss: 0.7255929303125664, train acc: 0.7498000457038391\n",
            " val loss: 0.7833900857479015, val acc: 0.7288563829787233\n",
            "\n",
            "Epoch 16\n",
            " train loss: 0.7225016854580839, train acc: 0.751342550274223\n",
            " val loss: 0.782820966395926, val acc: 0.7287898936170213\n",
            "\n",
            "Epoch 17\n",
            " train loss: 0.7243347970506608, train acc: 0.752885054844607\n",
            " val loss: 0.7791585653386217, val acc: 0.7305186170212766\n",
            "\n",
            "Epoch 18\n",
            " train loss: 0.7215461917289651, train acc: 0.7519709780621572\n",
            " val loss: 0.77862979985298, val acc: 0.7293218085106383\n",
            "\n",
            "Epoch 19\n",
            " train loss: 0.7215418393367823, train acc: 0.7514282449725777\n",
            " val loss: 0.7773894164156406, val acc: 0.7293882978723404\n",
            "\n"
          ]
        }
      ],
      "source": [
        "transform = transforms.Compose(\n",
        "    [\n",
        "        transforms.RandomHorizontalFlip(),\n",
        "        transforms.ToTensor(),\n",
        "        transforms.Normalize((0.5, 0.5, 0.5), (0.5, 0.5, 0.5)),\n",
        "    ]\n",
        ")\n",
        "\n",
        "train_loader, val_loader, test_loader = get_cifar10_data(\n",
        "    batch_size=64, transform_train=transform\n",
        ")\n",
        "\n",
        "net = BasicBlockNet().to(device)\n",
        "optimizer = optim.SGD(net.parameters(), lr=0.1, momentum=0.9)\n",
        "scheduler = optim.lr_scheduler.MultiStepLR(optimizer, milestones=[10, 15], gamma=0.1)\n",
        "tr_loss_log, tr_acc_log, val_loss_log, val_acc_log = train(\n",
        "    net, optimizer, 20, train_loader, val_loader, scheduler\n",
        ")"
      ]
    },
    {
      "cell_type": "markdown",
      "metadata": {
        "id": "v3ZIqDQqO9Dv",
        "pycharm": {
          "name": "#%% md\n"
        }
      },
      "source": [
        "Посчитайте точность на тестовой выборке:"
      ]
    },
    {
      "cell_type": "code",
      "execution_count": null,
      "metadata": {
        "colab": {
          "base_uri": "https://localhost:8080/"
        },
        "id": "nNJizMkM_Auh",
        "outputId": "fb61bc7d-5664-4893-c2fe-bf9bbb36ffb1",
        "pycharm": {
          "name": "#%%\n"
        }
      },
      "outputs": [
        {
          "name": "stdout",
          "output_type": "stream",
          "text": [
            "Augumented: 72.23%\n"
          ]
        }
      ],
      "source": [
        "# <your code here>\n",
        "net.eval()\n",
        "net.zero_grad()\n",
        "mean_loss, mean_acc = test(net, test_loader)\n",
        "print(\"Augumented: {:.2%}\".format(mean_acc))"
      ]
    },
    {
      "cell_type": "markdown",
      "metadata": {
        "id": "KndehSCHO9Dv",
        "pycharm": {
          "name": "#%% md\n"
        }
      },
      "source": [
        "**Задание 4.1 (2 балла).** Изучите, какие еще способы аугментаций изображений представлены в <code>torchvision.transforms</code>. Выберите несколько из них, объясните, как они устроены, и обучите модель с ними (по отдельности и вместе). Удалось ли добиться улучшения качества на тестовой выборке?"
      ]
    },
    {
      "cell_type": "markdown",
      "metadata": {
        "id": "NTHsJptu7SGm"
      },
      "source": [
        "Преобразования делятся на геометрические, цвета, и обрезки. Буду использовать следующие преобразования:\n",
        "\n",
        "*  Геометрическое: RandomRotation(15) - поворачивает на случайный угол от 0 до 15 градусов в случайном направлении\n",
        "*  Цвета: transforms.ColorJitter(brightness=0.2, contrast=0.2) - меняет яркость от 80% до 120%, контраст тоже в диапазоне [80%, 120%]\n",
        "*  Обрезка: transforms.RandomResizedCrop(32, scale=(0.8, 1.0)) - выполняет случайную обрезку, итоговое изображение 32*32. Площадь итогового изображения $S_{new} = [0.8*S_{изначальное}, 1*S_{изначальное}]$"
      ]
    },
    {
      "cell_type": "code",
      "execution_count": null,
      "metadata": {
        "id": "Np4rgvdZ_QRF",
        "pycharm": {
          "name": "#%%\n"
        }
      },
      "outputs": [],
      "source": [
        "# <your code here>\n",
        "\n",
        "transform_rand_rot = transforms.Compose([\n",
        "        transforms.RandomRotation(15),  # Поворот на ±15 градусов\n",
        "        transforms.ToTensor(),\n",
        "        transforms.Normalize((0.5, 0.5, 0.5), (0.5, 0.5, 0.5))\n",
        "    ])\n",
        "\n",
        "transform_color_jitter = transforms.Compose([\n",
        "    transforms.RandomHorizontalFlip(),\n",
        "    transforms.ColorJitter(brightness=0.2, contrast=0.2),\n",
        "    transforms.ToTensor()\n",
        "])\n",
        "\n",
        "transform_resize = transforms.Compose([\n",
        "    transforms.RandomResizedCrop(32, scale=(0.8, 1.0)),\n",
        "    transforms.ToTensor(),\n",
        "    transforms.Normalize((0.5, 0.5, 0.5), (0.5, 0.5, 0.5))\n",
        "])\n",
        "\n",
        "transform_together = transform_resize = transforms.Compose([\n",
        "    transforms.RandomHorizontalFlip(),\n",
        "    transforms.RandomResizedCrop(32, scale=(0.8, 1.0)),\n",
        "    transforms.RandomRotation(15),\n",
        "    transforms.RandomResizedCrop(32, scale=(0.8, 1.0)),\n",
        "    transforms.ToTensor(),\n",
        "    transforms.Normalize((0.5, 0.5, 0.5), (0.5, 0.5, 0.5))\n",
        "])\n"
      ]
    },
    {
      "cell_type": "markdown",
      "metadata": {
        "id": "KrDlpAq9S4s3"
      },
      "source": [
        "**Аугментация случайным вращением**"
      ]
    },
    {
      "cell_type": "code",
      "execution_count": null,
      "metadata": {
        "colab": {
          "base_uri": "https://localhost:8080/"
        },
        "id": "CVbToqse-0A4",
        "outputId": "da479ba5-6bea-4af4-9ad1-155012bdcfe5"
      },
      "outputs": [
        {
          "name": "stdout",
          "output_type": "stream",
          "text": [
            "Epoch 0\n",
            " train loss: 1.548565985515741, train acc: 0.4459266453382084\n",
            " val loss: 1.3633842285643232, val acc: 0.504122340425532\n",
            "\n",
            "Epoch 1\n",
            " train loss: 1.2870909907264292, train acc: 0.543675731261426\n",
            " val loss: 1.2152114754027508, val acc: 0.5631648936170213\n",
            "\n",
            "Epoch 2\n",
            " train loss: 1.1812214649791473, train acc: 0.5836094606946983\n",
            " val loss: 1.1581459664283915, val acc: 0.5936170212765958\n",
            "\n",
            "Epoch 3\n",
            " train loss: 1.1131448156219077, train acc: 0.6094321297989032\n",
            " val loss: 1.1102081866974527, val acc: 0.6050531914893617\n",
            "\n",
            "Epoch 4\n",
            " train loss: 1.0690589690992993, train acc: 0.6261997257769653\n",
            " val loss: 1.0652771077257521, val acc: 0.624468085106383\n",
            "\n",
            "Epoch 5\n",
            " train loss: 1.0340073430124106, train acc: 0.6405678702010968\n",
            " val loss: 1.0690534840238854, val acc: 0.6216755319148937\n",
            "\n",
            "Epoch 6\n",
            " train loss: 1.0032826803719976, train acc: 0.6479947440585009\n",
            " val loss: 1.0154636012746934, val acc: 0.6454787234042553\n",
            "\n",
            "Epoch 7\n",
            " train loss: 0.9963963670312159, train acc: 0.6501371115173674\n",
            " val loss: 1.0114167056185135, val acc: 0.6469414893617021\n",
            "\n",
            "Epoch 8\n",
            " train loss: 0.9784088916055027, train acc: 0.6579924588665448\n",
            " val loss: 1.0217758206610983, val acc: 0.6462765957446809\n",
            "\n",
            "Epoch 9\n",
            " train loss: 0.954797890439112, train acc: 0.6666761882998172\n",
            " val loss: 0.9779884906525308, val acc: 0.6642952127659575\n",
            "\n",
            "Epoch 10\n",
            " train loss: 0.8621830631871547, train acc: 0.701268281535649\n",
            " val loss: 0.911927430173184, val acc: 0.6823138297872341\n",
            "\n",
            "Epoch 11\n",
            " train loss: 0.8477814247664848, train acc: 0.7037819926873857\n",
            " val loss: 0.9060260929959886, val acc: 0.683311170212766\n",
            "\n",
            "Epoch 12\n",
            " train loss: 0.8460567870894123, train acc: 0.7054101919561243\n",
            " val loss: 0.9085651955706008, val acc: 0.6839095744680851\n",
            "\n",
            "Epoch 13\n",
            " train loss: 0.8430423864063005, train acc: 0.7054958866544789\n",
            " val loss: 0.8983540385327441, val acc: 0.6875664893617022\n",
            "\n",
            "Epoch 14\n",
            " train loss: 0.835387022338358, train acc: 0.7078096435100548\n",
            " val loss: 0.9036366625035063, val acc: 0.6863031914893617\n",
            "\n",
            "Epoch 15\n",
            " train loss: 0.8261475518373075, train acc: 0.7118658592321755\n",
            " val loss: 0.889521048170455, val acc: 0.6914893617021277\n",
            "\n",
            "Epoch 16\n",
            " train loss: 0.8236055689603363, train acc: 0.7156649908592322\n",
            " val loss: 0.8952952268275809, val acc: 0.6890957446808511\n",
            "\n",
            "Epoch 17\n",
            " train loss: 0.8213509577283912, train acc: 0.7127513711151737\n",
            " val loss: 0.8918435611623399, val acc: 0.6889627659574468\n",
            "\n",
            "Epoch 18\n",
            " train loss: 0.8212255100554479, train acc: 0.7138654021937842\n",
            " val loss: 0.8916604529035852, val acc: 0.6904920212765957\n",
            "\n",
            "Epoch 19\n",
            " train loss: 0.8173630037625921, train acc: 0.7157221206581352\n",
            " val loss: 0.885029254568384, val acc: 0.6912898936170213\n",
            "\n"
          ]
        }
      ],
      "source": [
        "# Аугментация случайным вращением\n",
        "train_loader, val_loader, test_loader = get_cifar10_data(\n",
        "    batch_size=64, transform_train=transform_rand_rot\n",
        ")\n",
        "\n",
        "net = BasicBlockNet().to(device)\n",
        "optimizer = optim.SGD(net.parameters(), lr=0.1, momentum=0.9)\n",
        "scheduler = optim.lr_scheduler.MultiStepLR(optimizer, milestones=[10, 15], gamma=0.1)\n",
        "tr_loss_log, tr_acc_log, val_loss_log, val_acc_log = train(\n",
        "    net, optimizer, 20, train_loader, val_loader, scheduler\n",
        ")"
      ]
    },
    {
      "cell_type": "code",
      "execution_count": null,
      "metadata": {
        "colab": {
          "base_uri": "https://localhost:8080/"
        },
        "id": "UoM4ABObSy-e",
        "outputId": "0e7bea6d-3aa0-4863-e04f-9aa5843ccceb"
      },
      "outputs": [
        {
          "name": "stdout",
          "output_type": "stream",
          "text": [
            "Random rotate: 70.44%\n"
          ]
        }
      ],
      "source": [
        "\n",
        "net.eval()\n",
        "net.zero_grad()\n",
        "mean_loss, mean_acc = test(net, test_loader)\n",
        "print(\"Random rotate: {:.2%}\".format(mean_acc))"
      ]
    },
    {
      "cell_type": "markdown",
      "metadata": {
        "id": "No_wig_ZS9kt"
      },
      "source": [
        "**Аугментация случайным увеличиванием контраста и яркости**"
      ]
    },
    {
      "cell_type": "code",
      "execution_count": null,
      "metadata": {
        "colab": {
          "base_uri": "https://localhost:8080/"
        },
        "id": "ynZvzQJb_DIL",
        "outputId": "bcf39c76-62b9-40c7-e358-1a80bcdb2fe8"
      },
      "outputs": [
        {
          "name": "stdout",
          "output_type": "stream",
          "text": [
            "Epoch 0\n",
            " train loss: 1.52191751835769, train acc: 0.4582666819012797\n",
            " val loss: 1.4808210925852998, val acc: 0.4745345744680851\n",
            "\n",
            "Epoch 1\n",
            " train loss: 1.196710073315901, train acc: 0.5838665447897623\n",
            " val loss: 1.2254554007915741, val acc: 0.5756648936170212\n",
            "\n",
            "Epoch 2\n",
            " train loss: 1.087855864486485, train acc: 0.6232575411334552\n",
            " val loss: 1.1040514096300653, val acc: 0.614095744680851\n",
            "\n",
            "Epoch 3\n",
            " train loss: 1.037621914468692, train acc: 0.6411106032906764\n",
            " val loss: 1.1497364452544678, val acc: 0.5977393617021277\n",
            "\n",
            "Epoch 4\n",
            " train loss: 0.9861299057765243, train acc: 0.6576496800731262\n",
            " val loss: 1.0658743340918357, val acc: 0.6337765957446808\n",
            "\n",
            "Epoch 5\n",
            " train loss: 0.9709263788280801, train acc: 0.6634483546617916\n",
            " val loss: 0.9882714573373186, val acc: 0.6527925531914893\n",
            "\n",
            "Epoch 6\n",
            " train loss: 0.9479400584750027, train acc: 0.6720463893967094\n",
            " val loss: 0.9661540807561672, val acc: 0.660970744680851\n",
            "\n",
            "Epoch 7\n",
            " train loss: 0.9335755446493299, train acc: 0.6791019195612431\n",
            " val loss: 0.9426123469433886, val acc: 0.6726728723404255\n",
            "\n",
            "Epoch 8\n",
            " train loss: 0.924224637217234, train acc: 0.6809586380255942\n",
            " val loss: 0.9775228317747725, val acc: 0.6652925531914894\n",
            "\n",
            "Epoch 9\n",
            " train loss: 0.8971854386207608, train acc: 0.6890139396709324\n",
            " val loss: 0.953586238495847, val acc: 0.6726063829787234\n",
            "\n",
            "Epoch 10\n",
            " train loss: 0.8103804583959213, train acc: 0.722206352833638\n",
            " val loss: 0.8398808360099792, val acc: 0.7082446808510638\n",
            "\n",
            "Epoch 11\n",
            " train loss: 0.7922045498596031, train acc: 0.7276336837294333\n",
            " val loss: 0.8333562582097155, val acc: 0.7109042553191489\n",
            "\n",
            "Epoch 12\n",
            " train loss: 0.789326241672366, train acc: 0.7284620658135283\n",
            " val loss: 0.8249997456023034, val acc: 0.7127659574468085\n",
            "\n",
            "Epoch 13\n",
            " train loss: 0.7812298101524549, train acc: 0.7308900822669104\n",
            " val loss: 0.8262515364809239, val acc: 0.7141622340425532\n",
            "\n",
            "Epoch 14\n",
            " train loss: 0.7803227628497799, train acc: 0.7308329524680073\n",
            " val loss: 0.8236868972473956, val acc: 0.7132313829787233\n",
            "\n",
            "Epoch 15\n",
            " train loss: 0.7694132284991702, train acc: 0.7361460237659964\n",
            " val loss: 0.8111522576910384, val acc: 0.719281914893617\n",
            "\n",
            "Epoch 16\n",
            " train loss: 0.7647149476207371, train acc: 0.7373743144424132\n",
            " val loss: 0.8147123505460455, val acc: 0.7184175531914894\n",
            "\n",
            "Epoch 17\n",
            " train loss: 0.764076987557263, train acc: 0.738345521023766\n",
            " val loss: 0.8124839693941969, val acc: 0.7201462765957447\n",
            "\n",
            "Epoch 18\n",
            " train loss: 0.7635722036117609, train acc: 0.737260054844607\n",
            " val loss: 0.8072544458064627, val acc: 0.7228058510638298\n",
            "\n",
            "Epoch 19\n",
            " train loss: 0.7619505544794107, train acc: 0.7387454296160878\n",
            " val loss: 0.8092974259498271, val acc: 0.7191489361702128\n",
            "\n"
          ]
        }
      ],
      "source": [
        "# Аугментация случайным увеличиванием контраста и яркости\n",
        "train_loader, val_loader, test_loader = get_cifar10_data(\n",
        "    batch_size=64, transform_train=transform_color_jitter\n",
        ")\n",
        "\n",
        "net = BasicBlockNet().to(device)\n",
        "optimizer = optim.SGD(net.parameters(), lr=0.1, momentum=0.9)\n",
        "scheduler = optim.lr_scheduler.MultiStepLR(optimizer, milestones=[10, 15], gamma=0.1)\n",
        "tr_loss_log, tr_acc_log, val_loss_log, val_acc_log = train(\n",
        "    net, optimizer, 20, train_loader, val_loader, scheduler\n",
        ")"
      ]
    },
    {
      "cell_type": "code",
      "execution_count": null,
      "metadata": {
        "colab": {
          "base_uri": "https://localhost:8080/"
        },
        "id": "cGPxfMF7TB0J",
        "outputId": "015cc78b-7831-4dfd-e16b-0089296c2927"
      },
      "outputs": [
        {
          "name": "stdout",
          "output_type": "stream",
          "text": [
            "Augmentation color: 56.43%\n"
          ]
        }
      ],
      "source": [
        "\n",
        "net.eval()\n",
        "net.zero_grad()\n",
        "mean_loss, mean_acc = test(net, test_loader)\n",
        "print(\"Augmentation color: {:.2%}\".format(mean_acc))"
      ]
    },
    {
      "cell_type": "markdown",
      "metadata": {
        "id": "ybK7R099dW3M"
      },
      "source": [
        "Судя по низкому test accuracy, аугментация слишком сложная для 20 эпох, может, модель не успела обучиться за 20 эпох на этих данных"
      ]
    },
    {
      "cell_type": "markdown",
      "metadata": {
        "id": "Q81lLPG8TZbE"
      },
      "source": [
        "**Аугментация случайной обрезкой картинки**"
      ]
    },
    {
      "cell_type": "code",
      "execution_count": null,
      "metadata": {
        "colab": {
          "base_uri": "https://localhost:8080/"
        },
        "id": "FyRoPN5x_m9C",
        "outputId": "7c4f5c2f-cb28-463d-8392-f7e107c96771"
      },
      "outputs": [
        {
          "name": "stdout",
          "output_type": "stream",
          "text": [
            "Epoch 0\n",
            " train loss: 1.657314619590857, train acc: 0.40353633455210236\n",
            " val loss: 1.515585628976213, val acc: 0.4542553191489362\n",
            "\n",
            "Epoch 1\n",
            " train loss: 1.445302497534255, train acc: 0.4851748171846435\n",
            " val loss: 1.3835690122969606, val acc: 0.503656914893617\n",
            "\n",
            "Epoch 2\n",
            " train loss: 1.3425676631971077, train acc: 0.523051873857404\n",
            " val loss: 1.35922119313098, val acc: 0.5210771276595745\n",
            "\n",
            "Epoch 3\n",
            " train loss: 1.289244841178113, train acc: 0.5446755027422303\n",
            " val loss: 1.283576508532179, val acc: 0.5537234042553192\n",
            "\n",
            "Epoch 4\n",
            " train loss: 1.2477672207943917, train acc: 0.5602148080438757\n",
            " val loss: 1.2914953363702653, val acc: 0.5460106382978723\n",
            "\n",
            "Epoch 5\n",
            " train loss: 1.2261997307676284, train acc: 0.5692698811700183\n",
            " val loss: 1.2230955555083904, val acc: 0.5716090425531914\n",
            "\n",
            "Epoch 6\n",
            " train loss: 1.1962407210627248, train acc: 0.5778393510054844\n",
            " val loss: 1.1934949058167479, val acc: 0.5791223404255319\n",
            "\n",
            "Epoch 7\n",
            " train loss: 1.1842638716183371, train acc: 0.5852947897623401\n",
            " val loss: 1.2426931059106867, val acc: 0.5656914893617021\n",
            "\n",
            "Epoch 8\n",
            " train loss: 1.1702766320387232, train acc: 0.5885797531992687\n",
            " val loss: 1.1824427269874735, val acc: 0.5857047872340425\n",
            "\n",
            "Epoch 9\n",
            " train loss: 1.151178862429624, train acc: 0.5934643510054844\n",
            " val loss: 1.1605647137824526, val acc: 0.5976728723404255\n",
            "\n",
            "Epoch 10\n",
            " train loss: 1.0534852686486254, train acc: 0.6333695155393053\n",
            " val loss: 1.065736635187839, val acc: 0.6260638297872341\n",
            "\n",
            "Epoch 11\n",
            " train loss: 1.0379509804889533, train acc: 0.6406535648994516\n",
            " val loss: 1.0663685035198294, val acc: 0.6265957446808511\n",
            "\n",
            "Epoch 12\n",
            " train loss: 1.030296376788856, train acc: 0.6381969835466179\n",
            " val loss: 1.0537999039000654, val acc: 0.6311170212765957\n",
            "\n",
            "Epoch 13\n",
            " train loss: 1.024214621544756, train acc: 0.6418247257769653\n",
            " val loss: 1.051133852309369, val acc: 0.6331117021276595\n",
            "\n",
            "Epoch 14\n",
            " train loss: 1.0250973705835709, train acc: 0.6413962522851919\n",
            " val loss: 1.0513322688163595, val acc: 0.6299867021276596\n",
            "\n",
            "Epoch 15\n",
            " train loss: 1.0104471569305364, train acc: 0.6489945155393053\n",
            " val loss: 1.0379355019711434, val acc: 0.6326462765957447\n",
            "\n",
            "Epoch 16\n",
            " train loss: 1.0042750129316145, train acc: 0.6517367458866545\n",
            " val loss: 1.0379898959017815, val acc: 0.6342420212765958\n",
            "\n",
            "Epoch 17\n",
            " train loss: 1.0061494994642965, train acc: 0.6478519195612431\n",
            " val loss: 1.0431622971879675, val acc: 0.6347074468085107\n",
            "\n",
            "Epoch 18\n",
            " train loss: 1.0046565856314664, train acc: 0.647023537477148\n",
            " val loss: 1.0441534572459281, val acc: 0.6361702127659574\n",
            "\n",
            "Epoch 19\n",
            " train loss: 1.003408205683532, train acc: 0.6509654936014625\n",
            " val loss: 1.036025092449594, val acc: 0.6345079787234043\n",
            "\n"
          ]
        }
      ],
      "source": [
        "# Аугментация случайной обрезкой\n",
        "train_loader, val_loader, test_loader = get_cifar10_data(\n",
        "    batch_size=64, transform_train=transform_resize\n",
        ")\n",
        "\n",
        "net = BasicBlockNet().to(device)\n",
        "optimizer = optim.SGD(net.parameters(), lr=0.1, momentum=0.9)\n",
        "scheduler = optim.lr_scheduler.MultiStepLR(optimizer, milestones=[10, 15], gamma=0.1)\n",
        "tr_loss_log, tr_acc_log, val_loss_log, val_acc_log = train(\n",
        "    net, optimizer, 20, train_loader, val_loader, scheduler\n",
        ")"
      ]
    },
    {
      "cell_type": "code",
      "execution_count": null,
      "metadata": {
        "colab": {
          "base_uri": "https://localhost:8080/"
        },
        "id": "21V3ScvcTirJ",
        "outputId": "9e40b846-56c7-48b5-a4d0-23495bbf99e6"
      },
      "outputs": [
        {
          "name": "stdout",
          "output_type": "stream",
          "text": [
            "Augmentation resize: 64.58%\n"
          ]
        }
      ],
      "source": [
        "\n",
        "net.eval()\n",
        "net.zero_grad()\n",
        "mean_loss, mean_acc = test(net, test_loader)\n",
        "print(\"Augmentation resize: {:.2%}\".format(mean_acc))"
      ]
    },
    {
      "cell_type": "markdown",
      "metadata": {
        "id": "OCQpa4NdTtgZ"
      },
      "source": [
        "**Со всеми видами рассмотренных аугментаций**"
      ]
    },
    {
      "cell_type": "code",
      "execution_count": null,
      "metadata": {
        "colab": {
          "base_uri": "https://localhost:8080/"
        },
        "id": "lej52kXQ_3k_",
        "outputId": "a048c207-bfc4-4d19-e785-d8d7f14b58b2"
      },
      "outputs": [
        {
          "name": "stdout",
          "output_type": "stream",
          "text": [
            "Epoch 0\n",
            " train loss: 1.647872079878882, train acc: 0.4092778793418647\n",
            " val loss: 1.5218871319547613, val acc: 0.45398936170212767\n",
            "\n",
            "Epoch 1\n",
            " train loss: 1.434079479909684, train acc: 0.48783135283363804\n",
            " val loss: 1.355922549836179, val acc: 0.5106382978723404\n",
            "\n",
            "Epoch 2\n",
            " train loss: 1.3450450662938942, train acc: 0.5217378884826326\n",
            " val loss: 1.3188451386512594, val acc: 0.5303191489361702\n",
            "\n",
            "Epoch 3\n",
            " train loss: 1.291884147815774, train acc: 0.543989945155393\n",
            " val loss: 1.2481662012161092, val acc: 0.5580452127659574\n",
            "\n",
            "Epoch 4\n",
            " train loss: 1.2588584296664111, train acc: 0.5558158135283364\n",
            " val loss: 1.260709925408059, val acc: 0.5455452127659575\n",
            "\n",
            "Epoch 5\n",
            " train loss: 1.2243348967004737, train acc: 0.5677845063985375\n",
            " val loss: 1.2322582374227808, val acc: 0.564627659574468\n",
            "\n",
            "Epoch 6\n",
            " train loss: 1.2016633485309385, train acc: 0.5792390310786106\n",
            " val loss: 1.208101825257565, val acc: 0.5710106382978724\n",
            "\n",
            "Epoch 7\n",
            " train loss: 1.1884106902143419, train acc: 0.5835523308957953\n",
            " val loss: 1.2014869398259103, val acc: 0.5837101063829787\n",
            "\n",
            "Epoch 8\n",
            " train loss: 1.1760894479655697, train acc: 0.5850377056672761\n",
            " val loss: 1.1844832288457992, val acc: 0.5833776595744681\n",
            "\n",
            "Epoch 9\n",
            " train loss: 1.1519606876198945, train acc: 0.594007084095064\n",
            " val loss: 1.1358608321940644, val acc: 0.6014627659574469\n",
            "\n",
            "Epoch 10\n",
            " train loss: 1.0653292036579558, train acc: 0.6268852833638026\n",
            " val loss: 1.0530410916247266, val acc: 0.6280585106382979\n",
            "\n",
            "Epoch 11\n",
            " train loss: 1.0476219571268754, train acc: 0.6328267824497258\n",
            " val loss: 1.0619157872301468, val acc: 0.6285904255319149\n",
            "\n",
            "Epoch 12\n",
            " train loss: 1.045196419006292, train acc: 0.6357689670932358\n",
            " val loss: 1.0554106265940564, val acc: 0.6294547872340426\n",
            "\n",
            "Epoch 13\n",
            " train loss: 1.0420129335122745, train acc: 0.6378542047531993\n",
            " val loss: 1.037105610776455, val acc: 0.6342420212765958\n",
            "\n",
            "Epoch 14\n",
            " train loss: 1.0396637640879838, train acc: 0.6367401736745887\n",
            " val loss: 1.0477049827575684, val acc: 0.6332446808510638\n",
            "\n",
            "Epoch 15\n",
            " train loss: 1.026580426331194, train acc: 0.6415676416819013\n",
            " val loss: 1.0356961818451578, val acc: 0.6340425531914894\n",
            "\n",
            "Epoch 16\n",
            " train loss: 1.0311065825073549, train acc: 0.6385397623400365\n",
            " val loss: 1.0355595203156167, val acc: 0.6323803191489362\n",
            "\n",
            "Epoch 17\n",
            " train loss: 1.0240432929513223, train acc: 0.6386254570383912\n",
            " val loss: 1.0325829034155987, val acc: 0.6383643617021276\n",
            "\n",
            "Epoch 18\n",
            " train loss: 1.0245297982662207, train acc: 0.6425959780621572\n",
            " val loss: 1.0317122867766848, val acc: 0.6347739361702127\n",
            "\n",
            "Epoch 19\n",
            " train loss: 1.021937477087408, train acc: 0.6417104661791591\n",
            " val loss: 1.032684299032739, val acc: 0.6378989361702128\n",
            "\n"
          ]
        }
      ],
      "source": [
        "# Все вместе: геометрия + цвет + случайная обрезка\n",
        "train_loader, val_loader, test_loader = get_cifar10_data(\n",
        "    batch_size=64, transform_train=transform_together\n",
        ")\n",
        "\n",
        "net = BasicBlockNet().to(device)\n",
        "optimizer = optim.SGD(net.parameters(), lr=0.1, momentum=0.9)\n",
        "scheduler = optim.lr_scheduler.MultiStepLR(optimizer, milestones=[10, 15], gamma=0.1)\n",
        "tr_loss_log, tr_acc_log, val_loss_log, val_acc_log = train(\n",
        "    net, optimizer, 20, train_loader, val_loader, scheduler\n",
        ")"
      ]
    },
    {
      "cell_type": "code",
      "execution_count": null,
      "metadata": {
        "colab": {
          "base_uri": "https://localhost:8080/"
        },
        "id": "_MDLyXmIUDxq",
        "outputId": "f0a6b89a-7f70-4041-e121-cb88377d8054"
      },
      "outputs": [
        {
          "name": "stdout",
          "output_type": "stream",
          "text": [
            "Augmentation full: 63.77%\n"
          ]
        }
      ],
      "source": [
        "\n",
        "net.eval()\n",
        "net.zero_grad()\n",
        "mean_loss, mean_acc = test(net, test_loader)\n",
        "print(\"Augmentation full: {:.2%}\".format(mean_acc))"
      ]
    },
    {
      "cell_type": "code",
      "execution_count": null,
      "metadata": {
        "colab": {
          "base_uri": "https://localhost:8080/",
          "height": 472
        },
        "id": "0pOH5cg6drRG",
        "outputId": "8e3c8a77-7101-4fbf-eae2-cd0ac5e5fedc"
      },
      "outputs": [
        {
          "data": {
            "image/png": "[encoded data removed]",
            "text/plain": [
              "<Figure size 640x480 with 1 Axes>"
            ]
          },
          "metadata": {},
          "output_type": "display_data"
        }
      ],
      "source": [
        "# <your code here>\n",
        "# Для функции потерь\n",
        "plt.plot(train_loss_log, label='Train Loss (per batch)', alpha=0.6)\n",
        "# Для валидации нужно размазать значения по всем батчам эпохи\n",
        "val_steps = np.linspace(0, len(train_loss_log), len(val_loss_log)+1)[1:]\n",
        "plt.plot(val_steps, val_loss_log, label='Val Loss (per epoch)')\n",
        "plt.scatter(val_steps,val_loss_log,color = 'orange')\n",
        "plt.xlabel('Batch Number')\n",
        "plt.ylabel('Loss')\n",
        "plt.title('Training and Validation Loss')\n",
        "plt.legend()\n",
        "plt.grid(True)\n"
      ]
    },
    {
      "cell_type": "code",
      "execution_count": null,
      "metadata": {
        "colab": {
          "base_uri": "https://localhost:8080/",
          "height": 472
        },
        "id": "Z9dVrMLadv0U",
        "outputId": "5eb07424-e7ba-41be-8293-a0af8ea4d61c"
      },
      "outputs": [
        {
          "data": {
            "image/png": "[encoded data removed]",
            "text/plain": [
              "<Figure size 640x480 with 1 Axes>"
            ]
          },
          "metadata": {},
          "output_type": "display_data"
        }
      ],
      "source": [
        "plt.plot(train_acc_log, label='Train Accuracy (per batch)', alpha=0.6)\n",
        "# Аналогично для accuracy валидации\n",
        "plt.plot(val_steps, val_acc_log, label='Val Accuracy (per epoch)')\n",
        "plt.scatter(val_steps,val_acc_log,color = 'orange')\n",
        "plt.xlabel('Batch Number')\n",
        "plt.ylabel('Accuracy')\n",
        "plt.title('Training and Validation Accuracy')\n",
        "plt.legend()\n",
        "plt.grid(True)"
      ]
    },
    {
      "cell_type": "markdown",
      "metadata": {
        "id": "4K-MptLiO9Dv",
        "pycharm": {
          "name": "#%% md\n"
        }
      },
      "source": [
        "Your answers here:\n",
        "\n",
        "**Ответ**\n",
        "\n",
        "Судя по всему, аугментация с цветом colorJitter, и аугментация с обрезкой - слишком сложные, для нашей модели (модель слишком простая для того чтобы выделить устойчивые признаки тестовых данных с этими аугментациями), поэтому accuracy на test падает по сравнению с тем как было без аугментации.\n",
        "\n",
        "В то же время, аугментация вида horizontalFlip, RandomRotate(15) - дают такой же, или лучший accuracy на тестовых данных, чем без них. Значит они позволяют продуктивно расширить библиотеку картинок (обобщать зависимости обучающей выборки) для обучения модели, ускоряя подбор её параметров (количество эпох для подбора параметров уменьшается)."
      ]
    },
    {
      "cell_type": "markdown",
      "metadata": {
        "id": "HCENjLw5O9Dv",
        "pycharm": {
          "name": "#%% md\n"
        }
      },
      "source": [
        "## Бонус. Логирование в wandb (1 балл)"
      ]
    },
    {
      "cell_type": "markdown",
      "metadata": {
        "id": "xOyzc1mnO9Dv",
        "pycharm": {
          "name": "#%% md\n"
        }
      },
      "source": [
        "На практике специалиста по глубинному обучению часто встречаются ситуации, когда нейросеть учится на каком-то удаленном сервере. И обычно вам хочется отслеживать прогресс обучения, особенно когда время обучения модели исчисляется днями или неделями. Для таких целей существует несколько инструментов. Вероятно, самый популярный из них — [wandb](https://wandb.ai/site).\n",
        "\n",
        "Ваша задача состоит в том, чтобы разобраться как им пользоваться, и повторить задания 2.1 и 2.2 с его использованием. Обучение вы можете запускать в этом же ноутбуке, но теперь вам необходимо через wandb логировать значения функции потерь и точности на обучающей выборке и на валидационной. Результатом работы должны быть ваш код и публичная ссылка на страничку с графиками, идентичными графикам в задании 2.2.\n",
        "\n",
        "Если вас смущает, что WandB грозится забанить вас, то можете разобраться с любым его аналогом и приложить ссылку на аналог."
      ]
    },
    {
      "cell_type": "code",
      "execution_count": null,
      "metadata": {
        "colab": {
          "base_uri": "https://localhost:8080/",
          "height": 191
        },
        "id": "m5gSTLAr_QS4",
        "outputId": "add0b74d-735f-4b50-b0a6-d0cd0ac6e998",
        "pycharm": {
          "name": "#%%\n"
        }
      },
      "outputs": [
        {
          "data": {
            "application/javascript": "\n        window._wandbApiKey = new Promise((resolve, reject) => {\n            function loadScript(url) {\n            return new Promise(function(resolve, reject) {\n                let newScript = document.createElement(\"script\");\n                newScript.onerror = reject;\n                newScript.onload = resolve;\n                document.body.appendChild(newScript);\n                newScript.src = url;\n            });\n            }\n            loadScript(\"https://cdn.jsdelivr.net/npm/postmate/build/postmate.min.js\").then(() => {\n            const iframe = document.createElement('iframe')\n            iframe.style.cssText = \"width:0;height:0;border:none\"\n            document.body.appendChild(iframe)\n            const handshake = new Postmate({\n                container: iframe,\n                url: 'https://wandb.ai/authorize'\n            });\n            const timeout = setTimeout(() => reject(\"Couldn't auto authenticate\"), 5000)\n            handshake.then(function(child) {\n                child.on('authorize', data => {\n                    clearTimeout(timeout)\n                    resolve(data)\n                });\n            });\n            })\n        });\n    ",
            "text/plain": [
              "<IPython.core.display.Javascript object>"
            ]
          },
          "metadata": {},
          "output_type": "display_data"
        },
        {
          "name": "stderr",
          "output_type": "stream",
          "text": [
            "\u001b[34m\u001b[1mwandb\u001b[0m: Logging into wandb.ai. (Learn how to deploy a W&B server locally: https://wandb.me/wandb-server)\n",
            "\u001b[34m\u001b[1mwandb\u001b[0m: You can find your API key in your browser here: https://wandb.ai/authorize\n",
            "wandb: Paste an API key from your profile and hit enter:"
          ]
        },
        {
          "name": "stdout",
          "output_type": "stream",
          "text": [
            " ··········\n"
          ]
        },
        {
          "name": "stderr",
          "output_type": "stream",
          "text": [
            "\u001b[34m\u001b[1mwandb\u001b[0m: \u001b[33mWARNING\u001b[0m If you're specifying your api key in code, ensure this code is not shared publicly.\n",
            "\u001b[34m\u001b[1mwandb\u001b[0m: \u001b[33mWARNING\u001b[0m Consider setting the WANDB_API_KEY environment variable, or running `wandb login` from the command line.\n",
            "\u001b[34m\u001b[1mwandb\u001b[0m: No netrc file found, creating one.\n",
            "\u001b[34m\u001b[1mwandb\u001b[0m: Appending key for api.wandb.ai to your netrc file: /root/.netrc\n",
            "\u001b[34m\u001b[1mwandb\u001b[0m: Currently logged in as: \u001b[33mkateuwek\u001b[0m (\u001b[33mkateuwek-hse\u001b[0m) to \u001b[32mhttps://api.wandb.ai\u001b[0m. Use \u001b[1m`wandb login --relogin`\u001b[0m to force relogin\n"
          ]
        },
        {
          "data": {
            "text/plain": [
              "True"
            ]
          },
          "execution_count": 73,
          "metadata": {},
          "output_type": "execute_result"
        }
      ],
      "source": [
        "# <your code here>\n",
        "!pip install wandb -q\n",
        "import wandb\n",
        "wandb.login()\n"
      ]
    },
    {
      "cell_type": "code",
      "execution_count": null,
      "metadata": {
        "colab": {
          "base_uri": "https://localhost:8080/",
          "height": 529
        },
        "id": "l-r36ppPA6Nj",
        "outputId": "60b13cca-c56d-49d5-9ebb-a8621d75849c"
      },
      "outputs": [
        {
          "data": {
            "text/html": [
              "Finishing previous runs because reinit is set to 'default'."
            ],
            "text/plain": [
              "<IPython.core.display.HTML object>"
            ]
          },
          "metadata": {},
          "output_type": "display_data"
        },
        {
          "data": {
            "text/html": [],
            "text/plain": [
              "<IPython.core.display.HTML object>"
            ]
          },
          "metadata": {},
          "output_type": "display_data"
        },
        {
          "data": {
            "text/html": [
              "<br>    <style><br>        .wandb-row {<br>            display: flex;<br>            flex-direction: row;<br>            flex-wrap: wrap;<br>            justify-content: flex-start;<br>            width: 100%;<br>        }<br>        .wandb-col {<br>            display: flex;<br>            flex-direction: column;<br>            flex-basis: 100%;<br>            flex: 1;<br>            padding: 10px;<br>        }<br>    </style><br><div class=\"wandb-row\"><div class=\"wandb-col\"><h3>Run history:</h3><br/><table class=\"wandb\"><tr><td>lr</td><td>▁▁▁▁▁▁▁▁▁▁▁▁▁▁▁▁▁▁▁▁▁▁▁</td></tr><tr><td>val_acc</td><td>█▇██▇████▇█▇██████▇▇▁▃▄</td></tr><tr><td>val_loss</td><td>▁▂▁▁▂▂▁▂▁▁▁▂▁▁▁▁▁▁▃▂█▆▆</td></tr></table><br/></div><div class=\"wandb-col\"><h3>Run summary:</h3><br/><table class=\"wandb\"><tr><td>lr</td><td>0.1</td></tr><tr><td>val_acc</td><td>0.60944</td></tr><tr><td>val_loss</td><td>1.12529</td></tr></table><br/></div></div>"
            ],
            "text/plain": [
              "<IPython.core.display.HTML object>"
            ]
          },
          "metadata": {},
          "output_type": "display_data"
        },
        {
          "data": {
            "text/html": [
              " View run <strong style=\"color:#cdcd00\">different-thunder-2</strong> at: <a href='https://wandb.ai/kateuwek-hse/cifar10-training/runs/35w0ki6e' target=\"_blank\">https://wandb.ai/kateuwek-hse/cifar10-training/runs/35w0ki6e</a><br> View project at: <a href='https://wandb.ai/kateuwek-hse/cifar10-training' target=\"_blank\">https://wandb.ai/kateuwek-hse/cifar10-training</a><br>Synced 5 W&B file(s), 0 media file(s), 0 artifact file(s) and 0 other file(s)"
            ],
            "text/plain": [
              "<IPython.core.display.HTML object>"
            ]
          },
          "metadata": {},
          "output_type": "display_data"
        },
        {
          "data": {
            "text/html": [
              "Find logs at: <code>./wandb/run-20250525_180900-35w0ki6e/logs</code>"
            ],
            "text/plain": [
              "<IPython.core.display.HTML object>"
            ]
          },
          "metadata": {},
          "output_type": "display_data"
        },
        {
          "data": {
            "text/html": [
              "Tracking run with wandb version 0.19.11"
            ],
            "text/plain": [
              "<IPython.core.display.HTML object>"
            ]
          },
          "metadata": {},
          "output_type": "display_data"
        },
        {
          "data": {
            "text/html": [
              "Run data is saved locally in <code>/content/wandb/run-20250525_181956-ixw9dwk6</code>"
            ],
            "text/plain": [
              "<IPython.core.display.HTML object>"
            ]
          },
          "metadata": {},
          "output_type": "display_data"
        },
        {
          "data": {
            "text/html": [
              "Syncing run <strong><a href='https://wandb.ai/kateuwek-hse/cifar10-training-2_CNN/runs/ixw9dwk6' target=\"_blank\">swept-waterfall-1</a></strong> to <a href='https://wandb.ai/kateuwek-hse/cifar10-training-2_CNN' target=\"_blank\">Weights & Biases</a> (<a href='https://wandb.me/developer-guide' target=\"_blank\">docs</a>)<br>"
            ],
            "text/plain": [
              "<IPython.core.display.HTML object>"
            ]
          },
          "metadata": {},
          "output_type": "display_data"
        },
        {
          "data": {
            "text/html": [
              " View project at <a href='https://wandb.ai/kateuwek-hse/cifar10-training-2_CNN' target=\"_blank\">https://wandb.ai/kateuwek-hse/cifar10-training-2_CNN</a>"
            ],
            "text/plain": [
              "<IPython.core.display.HTML object>"
            ]
          },
          "metadata": {},
          "output_type": "display_data"
        },
        {
          "data": {
            "text/html": [
              " View run at <a href='https://wandb.ai/kateuwek-hse/cifar10-training-2_CNN/runs/ixw9dwk6' target=\"_blank\">https://wandb.ai/kateuwek-hse/cifar10-training-2_CNN/runs/ixw9dwk6</a>"
            ],
            "text/plain": [
              "<IPython.core.display.HTML object>"
            ]
          },
          "metadata": {},
          "output_type": "display_data"
        },
        {
          "data": {
            "text/html": [
              "<button onClick=\"this.nextSibling.style.display='block';this.style.display='none';\">Display W&B run</button><iframe src='https://wandb.ai/kateuwek-hse/cifar10-training-2_CNN/runs/ixw9dwk6?jupyter=true' style='border:none;width:100%;height:420px;display:none;'></iframe>"
            ],
            "text/plain": [
              "<wandb.sdk.wandb_run.Run at 0x78c5e9b33290>"
            ]
          },
          "execution_count": 88,
          "metadata": {},
          "output_type": "execute_result"
        }
      ],
      "source": [
        "# Инициализация WandB\n",
        "wandb.init(project=\"cifar10-training-2_CNN\", config={\n",
        "    \"learning_rate\": 0.1,\n",
        "    \"momentum\": 0.9,\n",
        "    \"epochs\": 20,\n",
        "    \"batch_size\": 64,\n",
        "    \"architecture\": \"CustomCNN\"\n",
        "})"
      ]
    },
    {
      "cell_type": "code",
      "execution_count": null,
      "metadata": {
        "id": "WFMn4NwbjeWb"
      },
      "outputs": [],
      "source": [
        "\n",
        "def train(model, optimizer, n_epochs, train_loader, val_loader, scheduler=None):\n",
        "    train_loss_log, train_acc_log, val_loss_log, val_acc_log = [], [], [], []\n",
        "\n",
        "    for epoch in range(n_epochs):\n",
        "        train_loss, train_acc = train_epoch(model, optimizer, train_loader)\n",
        "        val_loss, val_acc = test(model, val_loader)\n",
        "\n",
        "        train_loss_log.extend(train_loss)\n",
        "        train_acc_log.extend(train_acc)\n",
        "\n",
        "        val_loss_log.append(val_loss)\n",
        "        val_acc_log.append(val_acc)\n",
        "\n",
        "        print(f\"Epoch {epoch}\")\n",
        "        print(f\" train loss: {np.mean(train_loss)}, train acc: {np.mean(train_acc)}\")\n",
        "        print(f\" val loss: {val_loss}, val acc: {val_acc}\\n\")\n",
        "\n",
        "        if scheduler is not None:\n",
        "            scheduler.step()\n",
        "\n",
        "    return train_loss_log, train_acc_log, val_loss_log, val_acc_log"
      ]
    },
    {
      "cell_type": "code",
      "execution_count": null,
      "metadata": {
        "id": "4Qbpst_CfomR"
      },
      "outputs": [],
      "source": [
        "def train(model, optimizer, n_epochs, train_loader, val_loader, scheduler=None):\n",
        "    train_loss_log, train_acc_log, val_loss_log, val_acc_log = [], [], [], []\n",
        "    for epoch in range(n_epochs):\n",
        "        train_loss, train_acc = train_epoch(model, optimizer, train_loader)\n",
        "        val_loss, val_acc = test(model, val_loader)\n",
        "\n",
        "        train_loss_log.extend(train_loss)\n",
        "        train_acc_log.extend(train_acc)\n",
        "        val_loss_log.append(val_loss)\n",
        "        val_acc_log.append(val_acc)\n",
        "        wandb.log({\n",
        "            \"val_loss\": val_loss,\n",
        "            \"val_acc\": val_acc,\n",
        "            \"lr\": optimizer.param_groups[0]['lr'] # выводим learning rate чтобы был)\n",
        "        })\n",
        "\n",
        "        print(f\"Epoch {epoch}\")\n",
        "        print(f\" train loss: {np.mean(train_loss)}, train acc: {np.mean(train_acc)}\")\n",
        "        print(f\" val loss: {val_loss}, val acc: {val_acc}\\n\")\n",
        "        if scheduler:\n",
        "            scheduler.step()\n",
        "\n",
        "    return train_loss_log, train_acc_log, val_loss_log, val_acc_log\n"
      ]
    },
    {
      "cell_type": "code",
      "execution_count": null,
      "metadata": {
        "id": "elefawS6ioVs"
      },
      "outputs": [],
      "source": [
        "transform = transforms.Compose(\n",
        "    [transforms.ToTensor(), transforms.Normalize((0.5, 0.5, 0.5), (0.5, 0.5, 0.5))]\n",
        ")\n",
        "\n",
        "train_loader, val_loader, test_loader = get_cifar10_data(\n",
        "    batch_size=64, transform_train=transform\n",
        ")"
      ]
    },
    {
      "cell_type": "code",
      "execution_count": null,
      "metadata": {
        "colab": {
          "base_uri": "https://localhost:8080/",
          "height": 1000
        },
        "id": "dGa3c7R-ij2Z",
        "outputId": "8e2e248d-e78c-4d8d-a8ef-30d9eecf8a27"
      },
      "outputs": [
        {
          "name": "stdout",
          "output_type": "stream",
          "text": [
            "Epoch 0\n",
            " train loss: 1.500375644816341, train acc: 0.46543647166361973\n",
            " val loss: 1.2649847639367935, val acc: 0.5495345744680851\n",
            "\n",
            "Epoch 1\n",
            " train loss: 1.1714143149377658, train acc: 0.589779478976234\n",
            " val loss: 1.117720079421997, val acc: 0.6143617021276596\n",
            "\n",
            "Epoch 2\n",
            " train loss: 1.0575400334825464, train acc: 0.6328553473491774\n",
            " val loss: 1.0375201577835895, val acc: 0.6307180851063829\n",
            "\n",
            "Epoch 3\n",
            " train loss: 0.9993161489366396, train acc: 0.6523366087751371\n",
            " val loss: 1.048878495997571, val acc: 0.629720744680851\n",
            "\n",
            "Epoch 4\n",
            " train loss: 0.9612126935552635, train acc: 0.6655050274223034\n",
            " val loss: 0.9536409190360536, val acc: 0.6662234042553191\n",
            "\n",
            "Epoch 5\n",
            " train loss: 0.929928695697889, train acc: 0.676673903107861\n",
            " val loss: 0.9873240478495334, val acc: 0.6561835106382978\n",
            "\n",
            "Epoch 6\n",
            " train loss: 0.9065543923125189, train acc: 0.6858432358318098\n",
            " val loss: 0.9380908760618656, val acc: 0.6736702127659574\n",
            "\n",
            "Epoch 7\n",
            " train loss: 0.8862914148806654, train acc: 0.6876999542961609\n",
            " val loss: 0.9774315070598684, val acc: 0.6599734042553191\n",
            "\n",
            "Epoch 8\n",
            " train loss: 0.8764224276900073, train acc: 0.6942127513711152\n",
            " val loss: 0.9282804648926918, val acc: 0.6785239361702128\n",
            "\n",
            "Epoch 9\n",
            " train loss: 0.8546506947747532, train acc: 0.7046103747714808\n",
            " val loss: 0.947401144910366, val acc: 0.6696808510638298\n",
            "\n",
            "Epoch 10\n",
            " train loss: 0.8494914370219494, train acc: 0.7072954753199269\n",
            " val loss: 0.913763974828923, val acc: 0.6876994680851064\n",
            "\n",
            "Epoch 11\n",
            " train loss: 0.837267146086562, train acc: 0.7113516910420475\n",
            " val loss: 0.9880537969000796, val acc: 0.6640292553191489\n",
            "\n",
            "Epoch 12\n",
            " train loss: 0.8232122595393025, train acc: 0.7153507769652651\n",
            " val loss: 0.8704822563110514, val acc: 0.6986702127659574\n",
            "\n",
            "Epoch 13\n",
            " train loss: 0.8129025970669072, train acc: 0.7178359232175503\n",
            " val loss: 0.9044797897338868, val acc: 0.6882978723404255\n",
            "\n",
            "Epoch 14\n",
            " train loss: 0.7981110738770836, train acc: 0.7218064442413162\n",
            " val loss: 0.8745787408757717, val acc: 0.7027260638297872\n",
            "\n",
            "Epoch 15\n",
            " train loss: 0.7910155932362817, train acc: 0.7268053016453382\n",
            " val loss: 0.8804914441514522, val acc: 0.6996010638297873\n",
            "\n",
            "Epoch 16\n",
            " train loss: 0.7828323659121009, train acc: 0.7261483089579525\n",
            " val loss: 0.8816273417878658, val acc: 0.7045877659574468\n",
            "\n",
            "Epoch 17\n",
            " train loss: 0.7772297991041291, train acc: 0.727976462522852\n",
            " val loss: 0.9132843177369301, val acc: 0.6865691489361702\n",
            "\n",
            "Epoch 18\n",
            " train loss: 0.7697249344214661, train acc: 0.7325468464351006\n",
            " val loss: 0.889893434910064, val acc: 0.6950132978723405\n",
            "\n",
            "Epoch 19\n",
            " train loss: 0.7579872650136895, train acc: 0.7388311243144424\n",
            " val loss: 0.8639475387461641, val acc: 0.7099734042553192\n",
            "\n"
          ]
        },
        {
          "data": {
            "text/html": [],
            "text/plain": [
              "<IPython.core.display.HTML object>"
            ]
          },
          "metadata": {},
          "output_type": "display_data"
        },
        {
          "data": {
            "text/html": [
              "<br>    <style><br>        .wandb-row {<br>            display: flex;<br>            flex-direction: row;<br>            flex-wrap: wrap;<br>            justify-content: flex-start;<br>            width: 100%;<br>        }<br>        .wandb-col {<br>            display: flex;<br>            flex-direction: column;<br>            flex-basis: 100%;<br>            flex: 1;<br>            padding: 10px;<br>        }<br>    </style><br><div class=\"wandb-row\"><div class=\"wandb-col\"><h3>Run history:</h3><br/><table class=\"wandb\"><tr><td>lr</td><td>▁▁▁▁▁▁▁▁▁▁▁▁▁▁▁▁▁▁▁▁</td></tr><tr><td>val_acc</td><td>▁▄▅▄▆▆▆▆▇▆▇▆█▇███▇▇█</td></tr><tr><td>val_loss</td><td>█▅▄▄▃▃▂▃▂▂▂▃▁▂▁▁▁▂▁▁</td></tr></table><br/></div><div class=\"wandb-col\"><h3>Run summary:</h3><br/><table class=\"wandb\"><tr><td>lr</td><td>0.1</td></tr><tr><td>val_acc</td><td>0.70997</td></tr><tr><td>val_loss</td><td>0.86395</td></tr></table><br/></div></div>"
            ],
            "text/plain": [
              "<IPython.core.display.HTML object>"
            ]
          },
          "metadata": {},
          "output_type": "display_data"
        },
        {
          "data": {
            "text/html": [
              " View run <strong style=\"color:#cdcd00\">swept-waterfall-1</strong> at: <a href='https://wandb.ai/kateuwek-hse/cifar10-training-2_CNN/runs/ixw9dwk6' target=\"_blank\">https://wandb.ai/kateuwek-hse/cifar10-training-2_CNN/runs/ixw9dwk6</a><br> View project at: <a href='https://wandb.ai/kateuwek-hse/cifar10-training-2_CNN' target=\"_blank\">https://wandb.ai/kateuwek-hse/cifar10-training-2_CNN</a><br>Synced 5 W&B file(s), 0 media file(s), 0 artifact file(s) and 0 other file(s)"
            ],
            "text/plain": [
              "<IPython.core.display.HTML object>"
            ]
          },
          "metadata": {},
          "output_type": "display_data"
        },
        {
          "data": {
            "text/html": [
              "Find logs at: <code>./wandb/run-20250525_181956-ixw9dwk6/logs</code>"
            ],
            "text/plain": [
              "<IPython.core.display.HTML object>"
            ]
          },
          "metadata": {},
          "output_type": "display_data"
        }
      ],
      "source": [
        "# Обучение\n",
        "\n",
        "net = BasicBlockNet().to(device)\n",
        "optimizer = optim.SGD(net.parameters(), lr=0.1, momentum=0.9)\n",
        "tr_loss_log, tr_acc_log, val_loss_log, val_acc_log = train(\n",
        "    net, optimizer, 20, train_loader, val_loader\n",
        ")\n",
        "wandb.finish()"
      ]
    },
    {
      "cell_type": "code",
      "execution_count": null,
      "metadata": {
        "id": "wOFzUV1TjFaN"
      },
      "outputs": [],
      "source": []
    }
  ],
  "metadata": {
    "accelerator": "GPU",
    "colab": {
      "gpuType": "T4",
      "provenance": []
    },
    "kernelspec": {
      "display_name": "Python 3",
      "name": "python3"
    },
    "language_info": {
      "codemirror_mode": {
        "name": "ipython",
        "version": 3
      },
      "file_extension": ".py",
      "mimetype": "text/x-python",
      "name": "python",
      "nbconvert_exporter": "python",
      "pygments_lexer": "ipython3",
      "version": "3.10.4"
    }
  },
  "nbformat": 4,
  "nbformat_minor": 0
}
