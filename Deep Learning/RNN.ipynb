{
  "cells": [
    {
      "cell_type": "markdown",
      "source": [
        "# Основы машинного обучения, ИИМУП\n",
        "\n",
        "## НИУ ВШЭ, 2024-25 учебный год"
      ],
      "metadata": {
        "id": "uzoPPj-CT-hG"
      },
      "id": "uzoPPj-CT-hG"
    },
    {
      "cell_type": "markdown",
      "metadata": {
        "id": "VRUsuZR2cQoY"
      },
      "source": [
        "# Домашнее задание 3: Рекуррентные нейронные сети"
      ],
      "id": "VRUsuZR2cQoY"
    },
    {
      "cell_type": "markdown",
      "metadata": {
        "id": "lV9pvgZJTYGj"
      },
      "source": [
        "Задание выполнил(а):\n",
        "\n",
        "    (впишите свои фамилию и имя)"
      ],
      "id": "lV9pvgZJTYGj"
    },
    {
      "cell_type": "markdown",
      "metadata": {
        "id": "ZML8VxlPTYGj"
      },
      "source": [
        "## Общая информация"
      ],
      "id": "ZML8VxlPTYGj"
    },
    {
      "cell_type": "markdown",
      "metadata": {
        "id": "nTmiXfZZTYGl"
      },
      "source": [
        "__Внимание!__  \n",
        "\n",
        "\n",
        "* Домашнее задание выполняется самостоятельно\n",
        "* Не допускается помощь в решении домашнего задания от однокурсников или третьих лиц. «Похожие» решения считаются плагиатом, и все задействованные студенты — в том числе и те, у кого списали, — не могут получить за него больше 0 баллов\n",
        "* Использование в решении домашнего задания генеративных моделей (ChatGPT и так далее) за рамками справочной и образовательной информации для генерации кода задания — считается плагиатом, и такое домашнее задание оценивается в 0 баллов\n",
        "* Старайтесь сделать код как можно более оптимальным. Неэффективная реализация кода может негативно отразиться на оценке. Также оценка может быть снижена за плохо читаемый код и плохо оформленные графики. Все ответы должны сопровождаться кодом или комментариями о том, как они были получены."
      ],
      "id": "nTmiXfZZTYGl"
    },
    {
      "cell_type": "markdown",
      "id": "b1acf78a",
      "metadata": {
        "id": "b1acf78a"
      },
      "source": [
        "### О задании\n",
        "\n",
        "В этом задании вам предстоит самостоятельно реализовать модель LSTM для решения задачи классификации с пересекающимися классами (multi-label classification). Это вид классификации, в которой каждый объект может относиться одновременно к нескольким классам. Такая задача часто возникает при классификации фильмов по жанрам, научных или новостных статей по темам, музыкальных композиций по инструментам и так далее.\n",
        "\n",
        "В нашем случае мы будем работать с датасетом биотехнических новостей и классифицировать их по темам. Этот датасет уже предобработан: текст приведен к нижнему регистру, удалена пунктуация, все слова разделены проблелом."
      ]
    },
    {
      "cell_type": "code",
      "source": [
        "import pandas as pd"
      ],
      "metadata": {
        "id": "g3gonQ14ds-i"
      },
      "id": "g3gonQ14ds-i",
      "execution_count": null,
      "outputs": []
    },
    {
      "cell_type": "code",
      "source": [
        "BIOTECH_NEWS = 'https://www.dropbox.com/scl/fi/v624fdeg3bikyxyvr93i3/biotech_news.tsv?rlkey=iaekqfwtbqswl8vd5dpnd9d92&st=mzgbw5km&dl=1'"
      ],
      "metadata": {
        "id": "rwu4LDe-dlez"
      },
      "id": "rwu4LDe-dlez",
      "execution_count": null,
      "outputs": []
    },
    {
      "cell_type": "code",
      "execution_count": null,
      "id": "af1a5fff",
      "metadata": {
        "id": "af1a5fff",
        "colab": {
          "base_uri": "https://localhost:8080/",
          "height": 206
        },
        "outputId": "d22b4edc-59d8-4aa5-fbe1-43a4adecaf85"
      },
      "outputs": [
        {
          "output_type": "execute_result",
          "data": {
            "text/plain": [
              "                                                text labels\n",
              "0  drive your plow over the bones of the dead by ...  other\n",
              "1  in the recently tabled national budget denel h...  other\n",
              "2  shares take a break its good for you picture g...  other\n",
              "3  reso is currently hiring for two positions pro...  other\n",
              "4  charter buyer club what is the charter buyer c...  other"
            ],
            "text/html": [
              "\n",
              "  <div id=\"df-ed861938-d476-4828-9389-355af1e6a083\" class=\"colab-df-container\">\n",
              "    <div>\n",
              "<style scoped>\n",
              "    .dataframe tbody tr th:only-of-type {\n",
              "        vertical-align: middle;\n",
              "    }\n",
              "\n",
              "    .dataframe tbody tr th {\n",
              "        vertical-align: top;\n",
              "    }\n",
              "\n",
              "    .dataframe thead th {\n",
              "        text-align: right;\n",
              "    }\n",
              "</style>\n",
              "<table border=\"1\" class=\"dataframe\">\n",
              "  <thead>\n",
              "    <tr style=\"text-align: right;\">\n",
              "      <th></th>\n",
              "      <th>text</th>\n",
              "      <th>labels</th>\n",
              "    </tr>\n",
              "  </thead>\n",
              "  <tbody>\n",
              "    <tr>\n",
              "      <th>0</th>\n",
              "      <td>drive your plow over the bones of the dead by ...</td>\n",
              "      <td>other</td>\n",
              "    </tr>\n",
              "    <tr>\n",
              "      <th>1</th>\n",
              "      <td>in the recently tabled national budget denel h...</td>\n",
              "      <td>other</td>\n",
              "    </tr>\n",
              "    <tr>\n",
              "      <th>2</th>\n",
              "      <td>shares take a break its good for you picture g...</td>\n",
              "      <td>other</td>\n",
              "    </tr>\n",
              "    <tr>\n",
              "      <th>3</th>\n",
              "      <td>reso is currently hiring for two positions pro...</td>\n",
              "      <td>other</td>\n",
              "    </tr>\n",
              "    <tr>\n",
              "      <th>4</th>\n",
              "      <td>charter buyer club what is the charter buyer c...</td>\n",
              "      <td>other</td>\n",
              "    </tr>\n",
              "  </tbody>\n",
              "</table>\n",
              "</div>\n",
              "    <div class=\"colab-df-buttons\">\n",
              "\n",
              "  <div class=\"colab-df-container\">\n",
              "    <button class=\"colab-df-convert\" onclick=\"convertToInteractive('df-ed861938-d476-4828-9389-355af1e6a083')\"\n",
              "            title=\"Convert this dataframe to an interactive table.\"\n",
              "            style=\"display:none;\">\n",
              "\n",
              "  <svg xmlns=\"http://www.w3.org/2000/svg\" height=\"24px\" viewBox=\"0 -960 960 960\">\n",
              "    <path d=\"M120-120v-720h720v720H120Zm60-500h600v-160H180v160Zm220 220h160v-160H400v160Zm0 220h160v-160H400v160ZM180-400h160v-160H180v160Zm440 0h160v-160H620v160ZM180-180h160v-160H180v160Zm440 0h160v-160H620v160Z\"/>\n",
              "  </svg>\n",
              "    </button>\n",
              "\n",
              "  <style>\n",
              "    .colab-df-container {\n",
              "      display:flex;\n",
              "      gap: 12px;\n",
              "    }\n",
              "\n",
              "    .colab-df-convert {\n",
              "      background-color: #E8F0FE;\n",
              "      border: none;\n",
              "      border-radius: 50%;\n",
              "      cursor: pointer;\n",
              "      display: none;\n",
              "      fill: #1967D2;\n",
              "      height: 32px;\n",
              "      padding: 0 0 0 0;\n",
              "      width: 32px;\n",
              "    }\n",
              "\n",
              "    .colab-df-convert:hover {\n",
              "      background-color: #E2EBFA;\n",
              "      box-shadow: 0px 1px 2px rgba(60, 64, 67, 0.3), 0px 1px 3px 1px rgba(60, 64, 67, 0.15);\n",
              "      fill: #174EA6;\n",
              "    }\n",
              "\n",
              "    .colab-df-buttons div {\n",
              "      margin-bottom: 4px;\n",
              "    }\n",
              "\n",
              "    [theme=dark] .colab-df-convert {\n",
              "      background-color: #3B4455;\n",
              "      fill: #D2E3FC;\n",
              "    }\n",
              "\n",
              "    [theme=dark] .colab-df-convert:hover {\n",
              "      background-color: #434B5C;\n",
              "      box-shadow: 0px 1px 3px 1px rgba(0, 0, 0, 0.15);\n",
              "      filter: drop-shadow(0px 1px 2px rgba(0, 0, 0, 0.3));\n",
              "      fill: #FFFFFF;\n",
              "    }\n",
              "  </style>\n",
              "\n",
              "    <script>\n",
              "      const buttonEl =\n",
              "        document.querySelector('#df-ed861938-d476-4828-9389-355af1e6a083 button.colab-df-convert');\n",
              "      buttonEl.style.display =\n",
              "        google.colab.kernel.accessAllowed ? 'block' : 'none';\n",
              "\n",
              "      async function convertToInteractive(key) {\n",
              "        const element = document.querySelector('#df-ed861938-d476-4828-9389-355af1e6a083');\n",
              "        const dataTable =\n",
              "          await google.colab.kernel.invokeFunction('convertToInteractive',\n",
              "                                                    [key], {});\n",
              "        if (!dataTable) return;\n",
              "\n",
              "        const docLinkHtml = 'Like what you see? Visit the ' +\n",
              "          '<a target=\"_blank\" href=https://colab.research.google.com/notebooks/data_table.ipynb>data table notebook</a>'\n",
              "          + ' to learn more about interactive tables.';\n",
              "        element.innerHTML = '';\n",
              "        dataTable['output_type'] = 'display_data';\n",
              "        await google.colab.output.renderOutput(dataTable, element);\n",
              "        const docLink = document.createElement('div');\n",
              "        docLink.innerHTML = docLinkHtml;\n",
              "        element.appendChild(docLink);\n",
              "      }\n",
              "    </script>\n",
              "  </div>\n",
              "\n",
              "\n",
              "    <div id=\"df-a4554605-9517-4782-8c95-4137a13eba0f\">\n",
              "      <button class=\"colab-df-quickchart\" onclick=\"quickchart('df-a4554605-9517-4782-8c95-4137a13eba0f')\"\n",
              "                title=\"Suggest charts\"\n",
              "                style=\"display:none;\">\n",
              "\n",
              "<svg xmlns=\"http://www.w3.org/2000/svg\" height=\"24px\"viewBox=\"0 0 24 24\"\n",
              "     width=\"24px\">\n",
              "    <g>\n",
              "        <path d=\"M19 3H5c-1.1 0-2 .9-2 2v14c0 1.1.9 2 2 2h14c1.1 0 2-.9 2-2V5c0-1.1-.9-2-2-2zM9 17H7v-7h2v7zm4 0h-2V7h2v10zm4 0h-2v-4h2v4z\"/>\n",
              "    </g>\n",
              "</svg>\n",
              "      </button>\n",
              "\n",
              "<style>\n",
              "  .colab-df-quickchart {\n",
              "      --bg-color: #E8F0FE;\n",
              "      --fill-color: #1967D2;\n",
              "      --hover-bg-color: #E2EBFA;\n",
              "      --hover-fill-color: #174EA6;\n",
              "      --disabled-fill-color: #AAA;\n",
              "      --disabled-bg-color: #DDD;\n",
              "  }\n",
              "\n",
              "  [theme=dark] .colab-df-quickchart {\n",
              "      --bg-color: #3B4455;\n",
              "      --fill-color: #D2E3FC;\n",
              "      --hover-bg-color: #434B5C;\n",
              "      --hover-fill-color: #FFFFFF;\n",
              "      --disabled-bg-color: #3B4455;\n",
              "      --disabled-fill-color: #666;\n",
              "  }\n",
              "\n",
              "  .colab-df-quickchart {\n",
              "    background-color: var(--bg-color);\n",
              "    border: none;\n",
              "    border-radius: 50%;\n",
              "    cursor: pointer;\n",
              "    display: none;\n",
              "    fill: var(--fill-color);\n",
              "    height: 32px;\n",
              "    padding: 0;\n",
              "    width: 32px;\n",
              "  }\n",
              "\n",
              "  .colab-df-quickchart:hover {\n",
              "    background-color: var(--hover-bg-color);\n",
              "    box-shadow: 0 1px 2px rgba(60, 64, 67, 0.3), 0 1px 3px 1px rgba(60, 64, 67, 0.15);\n",
              "    fill: var(--button-hover-fill-color);\n",
              "  }\n",
              "\n",
              "  .colab-df-quickchart-complete:disabled,\n",
              "  .colab-df-quickchart-complete:disabled:hover {\n",
              "    background-color: var(--disabled-bg-color);\n",
              "    fill: var(--disabled-fill-color);\n",
              "    box-shadow: none;\n",
              "  }\n",
              "\n",
              "  .colab-df-spinner {\n",
              "    border: 2px solid var(--fill-color);\n",
              "    border-color: transparent;\n",
              "    border-bottom-color: var(--fill-color);\n",
              "    animation:\n",
              "      spin 1s steps(1) infinite;\n",
              "  }\n",
              "\n",
              "  @keyframes spin {\n",
              "    0% {\n",
              "      border-color: transparent;\n",
              "      border-bottom-color: var(--fill-color);\n",
              "      border-left-color: var(--fill-color);\n",
              "    }\n",
              "    20% {\n",
              "      border-color: transparent;\n",
              "      border-left-color: var(--fill-color);\n",
              "      border-top-color: var(--fill-color);\n",
              "    }\n",
              "    30% {\n",
              "      border-color: transparent;\n",
              "      border-left-color: var(--fill-color);\n",
              "      border-top-color: var(--fill-color);\n",
              "      border-right-color: var(--fill-color);\n",
              "    }\n",
              "    40% {\n",
              "      border-color: transparent;\n",
              "      border-right-color: var(--fill-color);\n",
              "      border-top-color: var(--fill-color);\n",
              "    }\n",
              "    60% {\n",
              "      border-color: transparent;\n",
              "      border-right-color: var(--fill-color);\n",
              "    }\n",
              "    80% {\n",
              "      border-color: transparent;\n",
              "      border-right-color: var(--fill-color);\n",
              "      border-bottom-color: var(--fill-color);\n",
              "    }\n",
              "    90% {\n",
              "      border-color: transparent;\n",
              "      border-bottom-color: var(--fill-color);\n",
              "    }\n",
              "  }\n",
              "</style>\n",
              "\n",
              "      <script>\n",
              "        async function quickchart(key) {\n",
              "          const quickchartButtonEl =\n",
              "            document.querySelector('#' + key + ' button');\n",
              "          quickchartButtonEl.disabled = true;  // To prevent multiple clicks.\n",
              "          quickchartButtonEl.classList.add('colab-df-spinner');\n",
              "          try {\n",
              "            const charts = await google.colab.kernel.invokeFunction(\n",
              "                'suggestCharts', [key], {});\n",
              "          } catch (error) {\n",
              "            console.error('Error during call to suggestCharts:', error);\n",
              "          }\n",
              "          quickchartButtonEl.classList.remove('colab-df-spinner');\n",
              "          quickchartButtonEl.classList.add('colab-df-quickchart-complete');\n",
              "        }\n",
              "        (() => {\n",
              "          let quickchartButtonEl =\n",
              "            document.querySelector('#df-a4554605-9517-4782-8c95-4137a13eba0f button');\n",
              "          quickchartButtonEl.style.display =\n",
              "            google.colab.kernel.accessAllowed ? 'block' : 'none';\n",
              "        })();\n",
              "      </script>\n",
              "    </div>\n",
              "\n",
              "    </div>\n",
              "  </div>\n"
            ],
            "application/vnd.google.colaboratory.intrinsic+json": {
              "type": "dataframe",
              "variable_name": "dataset",
              "summary": "{\n  \"name\": \"dataset\",\n  \"rows\": 3039,\n  \"fields\": [\n    {\n      \"column\": \"text\",\n      \"properties\": {\n        \"dtype\": \"string\",\n        \"num_unique_values\": 2593,\n        \"samples\": [\n          \"i n the early 1990s the renovations manager at amsterdam s schiphol airport decided to decorateeach bathroom urinal with a realistic image of a fly placed just above the drain for decades urinal designers had sought a way to curb the unpleasant spillage around urinals and it turned out that by giving men something to aim at in this case a humble insect spillage dramatically reduced this airport innovation went on to become one of the most well known examples of a nudge a subtle prompt that can alter human behavior the formal concept of nudging was first popularized by economist richard h thaler and legal scholar cass r sunstein who co authored the best selling 2008 book nudge improving decisions about health wealth and happiness the book defines a nudge as something that alters people s behavior in a predictable way without forbidding any options or significantly changing their economic incentives the authors framed nudging as a bipartisan technocratic fix that could solve tricky policy problems while preserving individual freedom governments didn t need to tell people what to do they needed to nudge them following the book s publication nudges were embraced by both the u s and u k governments and thaler went on to win the nobel prize in economics but two years after covid 19 was first detected in wuhan china nudges have lost some of their luster to curb the spread of the novel coronavirus governments and businesses have resorted to harsher measures such as lockdowns and vaccine mandates which nudges were purported to help policymakers avoid for skeptics a reassessment of nudges was overdue we shouldn t fool ourselves into thinking that nudges are going to magically fix our larger systemic issues said neil lewis jr a behavioral scientist and assistant professor at cornell university they re not nudging draws on insights from psychology primarily the work of daniel kahneman who won the nobel prize in economics in 2002 and amos tversky these two israeli psychologists pioneered the study of mental shortcuts that humans rely on to make decisions known as heuristics they presented initial findings in a 1974 paper judgment under uncertainty heuristics and biases their work had clear implications for economics which assumes that people make rational decisions in pursuit of their interests kahneman and tversky showed that that isn t how the human mind usually works beginning in the late 1970s thaler partnered with kahneman and tversky to apply their findings to his field creating behavioral economics in nudge sunstein and thaler brought behavioral science to the masses with intuitive and simple examples such as placing carrot sticks at eye level in school cafeterias to encourage healthier eating governments quickly caught on sunstein went to washington d c to work for the white house in 2009 six years later then president barack obama issued an executive orderto encourage the use of behavioral science in federal policymaking in 2010 the u k prime minister set up the behavioral insights teamwithin the government s cabinet office the team was spun off as a private company in 2014 and now has offices around the world globally there are now more than 200 teams or nudge units that specialize in applying behavioral science to everyday life nudge units had important successes in the u k the behavioral insights team sent lettersto clinics whose family doctors were overprescribing antibiotics the effort yielded a 3 percent decrease in prescriptions another initiative demonstrated the power of tweaking a message taxpayers who paid their income tax late received letterstelling them they were in a minority as nine out of 10 people pay on time that gentle admonition appears to have resulted in an additional 120 000 people paying about 6 5 million into u k government coffers and behavioral science notched another win when governmentsand companiesmade enrollment in retirement savings plans a default option helping people save more but as with any trend there are skeptics some commentators decrynudges as government overreach or as an infringement on individual autonomy but there are also peoplewho say the opposite that nudges result in governments not doing enough in 2011 the u k house of lords issued a reportthat questioned why nudges were being favored over more traditional policy tools like regulation in theory behavioral science doesn t skewleft or right but in the hands of politicians dubious of big government nudges can become a way to sidestep more muscular interventions behavioral science had a rough start during the pandemic when boris johnson decided not to impose a u k lockdown in march 2020 rumors swirled that the head of the behavioral insights team david halpern was advising againststricter measures hundreds of behavioral scientists then signed an open letterdemanding the government explain the evidence supporting its decision a subsequent inquiryby the parliament found that senior officials had opted initially for softer measures assuming incorrectly that the public wouldn t comply with a lockdown the pandemic revived a debate that has swirled around behavioral science for the past decade what can nudges achieve and what can they not a s covid 19 infections grew exponentially in 2020 behavioral scientists wanted to help nudges presented a possible route to controlling the virus particularly in the absence of vaccines and evidence based treatments said jay van bavel an associate professor of psychology at new york university that april van bavel and 41 other researchers among them sunstein published a paperthat outlined how the social and behavioral sciences could contribute from boosting trust in government policies to fighting conspiracy theories the authors were circumspect though the findings they summarized were far from settled and pre dated the covid 19 crisis research on the social dimensions of the pandemic soon began in earnest the national science foundation launched a rapid response program which could provide up to 200 000 per grant according to arthur lupia who recently completed his term as leader of the directorate for social behavioral and economic sciences the directorate processed the same number of grants over a six week period that spring as it normally does in six months the nonprofit social science research councilalso put out a call for proposals and was overwhelmed by the response out of 1 300 applications they could only fund 62 as scientists learned more about how the coronavirus spread through the air the sciencein support of social distancing and masks became clearer governments knew what they wanted their citizens to do but they still had to think carefully about how to encourage people to change their behavior that s where nudges could help researchers didn t know if nudges would work under the extreme conditions of a pandemic nudg\",\n          \"curlf revealed plans on tuesdayto open four new dispensaries in florida by the end of this year the move willgrow the company s retail footprint to 42 dispensaries statewide and 117 across the country curaleaf stuart located at 1910 federal highway will start selling cannabis firstto befollowed by openings in lady lake at 919 north highway 441 wesley chapel at 19416 bruce b downs boulevardand miami at 12125 sw 152nd street over the next few weeks we have been very thoughtful in how we have chosen to expand access to our products and retail experience across the state and as a result we have doubled our florida market share to fifteen percent this year matt darin regional president at curaleafsaid we are proud of the confidence and trust curaleaf s patients put in our products and team and next year we will continue to lead innovation in the industry and launch new products in the florida market grand opening ceremonies for each location will be held on jan 8 the wakefield massachusetts based company has expanded its retail and cultivation footprint and introduced more innovative products including select squeeze select bites and select nano bites also curaleaf recently launched its breakthrough vape hardware cliq by select in florida c3 industries high profile grand rapids opens doors to customers vertically integrated cannabis company c3 industries recently opened its eleventh dispensary nationally and the sixth in michigan located at 1148 leonard street nw in grand rapids the new shop will serve adult use and medical cannabis consumers customers can shop for a wide range of premium cannabis flower and other products in store including an assortment of products from c3 s in house brand cloud cover cannabis in addition to the grand rapids store high profile currently operates ten other locations across michigan and missouri the company revealed that it has plans to open several other locations nationally including expanding into the massachusetts market in early 2022 photo courtesy of kaique rochafrom for the latest in financial news exclusive stories memes follow benzinga on twitter facebook instagram for the best interviews stock market talk videos subscribe to benzinga podcastsand our youtube channel 2021 benzinga com benzinga does not provide investment advice all rights reserved posted in\",\n          \"apply for this job now job description temporary full time 37 5 hours or part time minimum of 25 hours for between 6 to 9 months opportunity for other positions after temporary period creative support is a national fast growing organisation with charitable status providing care and support to people across england with a wide range of needs we are also a registered social landlord managing around 1 000 units of supported housing creative support is regulated by the cqc and regulator of social housing and must demonstrate high standards of health and safety compliance as a large employer of over 5 000 staff nationally we promote safety awareness and good practice with a commitment to keeping our staff and service users as safe as possible we are currently recruiting a health safety helpdesk administrator based at our head office in stockport to cover a period of maternity leave this post will start in april 2022 this is a busy and responsible job which will offer job satisfaction to someone with a conscientious and diligent approach you will run the health safety helpdesk acting as a first point of contact you will read and review all accident and incident reports escalating concerns as required you will be responsible for preparing a wide range of reports and statistics to meet management and governance requirements you will also produce safety related information bulletins and campaigns working within the health and safety team you will play a key role in ensuring a positive health and safety culture across our services you will support the health safety team with general administration data collection and inputting safety compliance and reporting functions you will be required to handle information of a confidential nature and must observe the highest standards of diligence and professionalism as our health safety helpdesk administrator you will make a real difference to the health and safety of service users and staff across our company you will be expected to identify and follow up concerns in a proactive and professional manner a basic interest in health and safety and the provision of social care and social housing is essential further health and safety training will be provided to the successful candidate health safety helpdesk administrator day to day duties running the health safety helpdesk and responding to enquiries managing the health safety email in box responding to queries and safety concerns from staff across the country reading and reviewing accident and incident reports inputting safety data into databases and spreadsheets contributing to property safety compliance as required working with the team collating audit reports and following up action plans compiling data and producing reports answering the phone taking accurate messages and informing the team and senior managers of any important communications or events producing information bulletins safety campaigns and newsletters assisting colleagues with administrative tasks and follow up benefits of working with creative support flexible working arrangements high level of training and development through our creative academy pension with company contribution free life assurance 20 days paid annual leave plus bank holidays plus an additional day off for your birthday after 2 years of service mileage allowance travel expenses friendly supportive work environment career development opportunities a flexible and helpful approach good customer care and excellent telephone skills are essential as you will often be the first point of contact for our staff you will need to have relevant administrative experience you will also need good written communication and it skills including the ability to accurately record accidents incidents and other data on databases and spreadsheets attention to detail and the ability to critically read documents and accurately identify facts and issues is essential you will need to be assertive and confident as you will be escalating concerns to colleagues and senior managers degree level education and experience of working in a health and safety related environment is desirable this job could be full time 37 5 hours or part time subject to a minimum of 25 hours and could be worked during school hours our offices are readily accessible on public transport as we are based in in the centre of stockport close to the mainline train station and with frequent buses into manchester creative support is a passionate inclusive and anti racist organisation we are a stonewall diversity champion disability confident employer who have recently received investors in people silver award we actively encourage applications from candidates from all backgrounds and cultures we would encourage you to apply to us even if you have not yet had your covid 19 vaccine you will be required to have your first covid 19 vaccine prior to your interview and your second vaccine before you start work with us this time will be used to complete post interview recruitment checks\"\n        ],\n        \"semantic_type\": \"\",\n        \"description\": \"\"\n      }\n    },\n    {\n      \"column\": \"labels\",\n      \"properties\": {\n        \"dtype\": \"category\",\n        \"num_unique_values\": 426,\n        \"samples\": [\n          \"regulatory approval, new initiatives or programs\",\n          \"alliance & partnership, company description, executive statement\",\n          \"expanding geography, product launching & presentation, funding round, ipo exit, product updates\"\n        ],\n        \"semantic_type\": \"\",\n        \"description\": \"\"\n      }\n    }\n  ]\n}"
            }
          },
          "metadata": {},
          "execution_count": 3
        }
      ],
      "source": [
        "dataset = pd.read_csv(BIOTECH_NEWS, sep='\\t')\n",
        "dataset.head()"
      ]
    },
    {
      "cell_type": "markdown",
      "id": "HRBZwYd9QMMS",
      "metadata": {
        "id": "HRBZwYd9QMMS"
      },
      "source": [
        "## Предобработка лейблов\n",
        "\n",
        "\n",
        "__Задание 1 (1.5 балла)__. Как вы можете заметить, лейблы записаны в виде строк, разделенных запятыми. Для работы с ними нам нужно преобразовать их в числа. Так как каждый объект может принадлежать нескольким классам, закодируйте лейблы в виде векторов из 0 и 1, где 1 означает, что объект принадлежит соответствующему классу, а 0 – не принадлежит. Имея такую кодировку, мы сможем обучить модель, решая задачу бинарной классификации для каждого класса."
      ]
    },
    {
      "cell_type": "code",
      "execution_count": null,
      "id": "7c65a9bf-dbe9-4cad-978d-3a0e10b1eac1",
      "metadata": {
        "id": "7c65a9bf-dbe9-4cad-978d-3a0e10b1eac1"
      },
      "outputs": [],
      "source": [
        "# your code here\n",
        "from sklearn.preprocessing import MultiLabelBinarizer\n",
        "\n",
        "# Предположим, что dataset уже загружен как указано в задании\n",
        "# Разделяем строку с метками на отдельные метки, используя запятую как разделитель\n",
        "dataset['labels'] = dataset['labels'].str.split(', ')\n",
        "\n",
        "# Инициализируем MultiLabelBinarizer\n",
        "mlb = MultiLabelBinarizer()\n",
        "\n",
        "# Применяем к колонке с метками\n",
        "binary_labels = mlb.fit_transform(dataset['labels'])\n",
        "\n",
        "# Теперь binary_labels - это матрица, где каждая строка соответствует объекту,\n",
        "# а каждый столбец - отдельному классу. 1 означает, что объект принадлежит классу, 0 - нет.\n",
        "\n",
        "# Если нужно добавить эти бинарные метки обратно в датасет:\n",
        "labels_df = pd.DataFrame(binary_labels, columns=mlb.classes_)\n",
        "dataset = pd.concat([dataset, labels_df], axis=1)\n",
        "\n",
        "# Теперь dataset содержит бинарные колонки для каждой метки\n"
      ]
    },
    {
      "cell_type": "code",
      "source": [
        "dataset\n"
      ],
      "metadata": {
        "colab": {
          "base_uri": "https://localhost:8080/",
          "height": 1000
        },
        "id": "JFeZEDRwHj9-",
        "outputId": "f22c56a0-d29a-4bee-81fb-9e6a6567015e"
      },
      "id": "JFeZEDRwHj9-",
      "execution_count": null,
      "outputs": [
        {
          "output_type": "execute_result",
          "data": {
            "text/plain": [
              "                                                   text  \\\n",
              "0     drive your plow over the bones of the dead by ...   \n",
              "1     in the recently tabled national budget denel h...   \n",
              "2     shares take a break its good for you picture g...   \n",
              "3     reso is currently hiring for two positions pro...   \n",
              "4     charter buyer club what is the charter buyer c...   \n",
              "...                                                 ...   \n",
              "3034  published less than an hour ago a grateful fam...   \n",
              "3035  a cenexelcenter of excellence joined nearly 10...   \n",
              "3036  jun 29 2020 8 47 a m pt reply in response to t...   \n",
              "3037  whatsapp photo supplied red river waste soluti...   \n",
              "3038  punch other brands notes that this only includ...   \n",
              "\n",
              "                                                 labels  \\\n",
              "0                                               [other]   \n",
              "1                                               [other]   \n",
              "2                                               [other]   \n",
              "3                                               [other]   \n",
              "4                                               [other]   \n",
              "...                                                 ...   \n",
              "3034  [funding round, support & philanthropy, execut...   \n",
              "3035                       [clinical trial sponsorship]   \n",
              "3036  [new initiatives or programs, funding round, e...   \n",
              "3037  [service & product providing, closing, company...   \n",
              "3038    [subsidiary establishment, executive statement]   \n",
              "\n",
              "      alliance & partnership  article publication  clinical trial sponsorship  \\\n",
              "0                          0                    0                           0   \n",
              "1                          0                    0                           0   \n",
              "2                          0                    0                           0   \n",
              "3                          0                    0                           0   \n",
              "4                          0                    0                           0   \n",
              "...                      ...                  ...                         ...   \n",
              "3034                       0                    0                           0   \n",
              "3035                       0                    0                           1   \n",
              "3036                       0                    0                           0   \n",
              "3037                       0                    0                           0   \n",
              "3038                       0                    0                           0   \n",
              "\n",
              "      closing  company description  department establishment  \\\n",
              "0           0                    0                         0   \n",
              "1           0                    0                         0   \n",
              "2           0                    0                         0   \n",
              "3           0                    0                         0   \n",
              "4           0                    0                         0   \n",
              "...       ...                  ...                       ...   \n",
              "3034        0                    0                         0   \n",
              "3035        0                    0                         0   \n",
              "3036        0                    1                         0   \n",
              "3037        1                    1                         0   \n",
              "3038        0                    0                         0   \n",
              "\n",
              "      event organization  executive appointment  ...  other  \\\n",
              "0                      0                      0  ...      1   \n",
              "1                      0                      0  ...      1   \n",
              "2                      0                      0  ...      1   \n",
              "3                      0                      0  ...      1   \n",
              "4                      0                      0  ...      1   \n",
              "...                  ...                    ...  ...    ...   \n",
              "3034                   0                      0  ...      0   \n",
              "3035                   0                      0  ...      0   \n",
              "3036                   0                      0  ...      0   \n",
              "3037                   0                      0  ...      0   \n",
              "3038                   0                      0  ...      0   \n",
              "\n",
              "      participation in an event  partnerships & alliances  patent publication  \\\n",
              "0                             0                         0                   0   \n",
              "1                             0                         0                   0   \n",
              "2                             0                         0                   0   \n",
              "3                             0                         0                   0   \n",
              "4                             0                         0                   0   \n",
              "...                         ...                       ...                 ...   \n",
              "3034                          0                         0                   0   \n",
              "3035                          0                         0                   0   \n",
              "3036                          0                         0                   0   \n",
              "3037                          0                         0                   0   \n",
              "3038                          0                         0                   0   \n",
              "\n",
              "      product launching & presentation  product updates  regulatory approval  \\\n",
              "0                                    0                0                    0   \n",
              "1                                    0                0                    0   \n",
              "2                                    0                0                    0   \n",
              "3                                    0                0                    0   \n",
              "4                                    0                0                    0   \n",
              "...                                ...              ...                  ...   \n",
              "3034                                 0                0                    0   \n",
              "3035                                 0                0                    0   \n",
              "3036                                 0                0                    0   \n",
              "3037                                 0                0                    0   \n",
              "3038                                 0                0                    0   \n",
              "\n",
              "      service & product providing  subsidiary establishment  \\\n",
              "0                               0                         0   \n",
              "1                               0                         0   \n",
              "2                               0                         0   \n",
              "3                               0                         0   \n",
              "4                               0                         0   \n",
              "...                           ...                       ...   \n",
              "3034                            0                         0   \n",
              "3035                            0                         0   \n",
              "3036                            0                         0   \n",
              "3037                            1                         0   \n",
              "3038                            0                         1   \n",
              "\n",
              "      support & philanthropy  \n",
              "0                          0  \n",
              "1                          0  \n",
              "2                          0  \n",
              "3                          0  \n",
              "4                          0  \n",
              "...                      ...  \n",
              "3034                       1  \n",
              "3035                       0  \n",
              "3036                       0  \n",
              "3037                       0  \n",
              "3038                       0  \n",
              "\n",
              "[3039 rows x 31 columns]"
            ],
            "text/html": [
              "\n",
              "  <div id=\"df-97700e72-60d2-46eb-ac89-57db7b955cc5\" class=\"colab-df-container\">\n",
              "    <div>\n",
              "<style scoped>\n",
              "    .dataframe tbody tr th:only-of-type {\n",
              "        vertical-align: middle;\n",
              "    }\n",
              "\n",
              "    .dataframe tbody tr th {\n",
              "        vertical-align: top;\n",
              "    }\n",
              "\n",
              "    .dataframe thead th {\n",
              "        text-align: right;\n",
              "    }\n",
              "</style>\n",
              "<table border=\"1\" class=\"dataframe\">\n",
              "  <thead>\n",
              "    <tr style=\"text-align: right;\">\n",
              "      <th></th>\n",
              "      <th>text</th>\n",
              "      <th>labels</th>\n",
              "      <th>alliance &amp; partnership</th>\n",
              "      <th>article publication</th>\n",
              "      <th>clinical trial sponsorship</th>\n",
              "      <th>closing</th>\n",
              "      <th>company description</th>\n",
              "      <th>department establishment</th>\n",
              "      <th>event organization</th>\n",
              "      <th>executive appointment</th>\n",
              "      <th>...</th>\n",
              "      <th>other</th>\n",
              "      <th>participation in an event</th>\n",
              "      <th>partnerships &amp; alliances</th>\n",
              "      <th>patent publication</th>\n",
              "      <th>product launching &amp; presentation</th>\n",
              "      <th>product updates</th>\n",
              "      <th>regulatory approval</th>\n",
              "      <th>service &amp; product providing</th>\n",
              "      <th>subsidiary establishment</th>\n",
              "      <th>support &amp; philanthropy</th>\n",
              "    </tr>\n",
              "  </thead>\n",
              "  <tbody>\n",
              "    <tr>\n",
              "      <th>0</th>\n",
              "      <td>drive your plow over the bones of the dead by ...</td>\n",
              "      <td>[other]</td>\n",
              "      <td>0</td>\n",
              "      <td>0</td>\n",
              "      <td>0</td>\n",
              "      <td>0</td>\n",
              "      <td>0</td>\n",
              "      <td>0</td>\n",
              "      <td>0</td>\n",
              "      <td>0</td>\n",
              "      <td>...</td>\n",
              "      <td>1</td>\n",
              "      <td>0</td>\n",
              "      <td>0</td>\n",
              "      <td>0</td>\n",
              "      <td>0</td>\n",
              "      <td>0</td>\n",
              "      <td>0</td>\n",
              "      <td>0</td>\n",
              "      <td>0</td>\n",
              "      <td>0</td>\n",
              "    </tr>\n",
              "    <tr>\n",
              "      <th>1</th>\n",
              "      <td>in the recently tabled national budget denel h...</td>\n",
              "      <td>[other]</td>\n",
              "      <td>0</td>\n",
              "      <td>0</td>\n",
              "      <td>0</td>\n",
              "      <td>0</td>\n",
              "      <td>0</td>\n",
              "      <td>0</td>\n",
              "      <td>0</td>\n",
              "      <td>0</td>\n",
              "      <td>...</td>\n",
              "      <td>1</td>\n",
              "      <td>0</td>\n",
              "      <td>0</td>\n",
              "      <td>0</td>\n",
              "      <td>0</td>\n",
              "      <td>0</td>\n",
              "      <td>0</td>\n",
              "      <td>0</td>\n",
              "      <td>0</td>\n",
              "      <td>0</td>\n",
              "    </tr>\n",
              "    <tr>\n",
              "      <th>2</th>\n",
              "      <td>shares take a break its good for you picture g...</td>\n",
              "      <td>[other]</td>\n",
              "      <td>0</td>\n",
              "      <td>0</td>\n",
              "      <td>0</td>\n",
              "      <td>0</td>\n",
              "      <td>0</td>\n",
              "      <td>0</td>\n",
              "      <td>0</td>\n",
              "      <td>0</td>\n",
              "      <td>...</td>\n",
              "      <td>1</td>\n",
              "      <td>0</td>\n",
              "      <td>0</td>\n",
              "      <td>0</td>\n",
              "      <td>0</td>\n",
              "      <td>0</td>\n",
              "      <td>0</td>\n",
              "      <td>0</td>\n",
              "      <td>0</td>\n",
              "      <td>0</td>\n",
              "    </tr>\n",
              "    <tr>\n",
              "      <th>3</th>\n",
              "      <td>reso is currently hiring for two positions pro...</td>\n",
              "      <td>[other]</td>\n",
              "      <td>0</td>\n",
              "      <td>0</td>\n",
              "      <td>0</td>\n",
              "      <td>0</td>\n",
              "      <td>0</td>\n",
              "      <td>0</td>\n",
              "      <td>0</td>\n",
              "      <td>0</td>\n",
              "      <td>...</td>\n",
              "      <td>1</td>\n",
              "      <td>0</td>\n",
              "      <td>0</td>\n",
              "      <td>0</td>\n",
              "      <td>0</td>\n",
              "      <td>0</td>\n",
              "      <td>0</td>\n",
              "      <td>0</td>\n",
              "      <td>0</td>\n",
              "      <td>0</td>\n",
              "    </tr>\n",
              "    <tr>\n",
              "      <th>4</th>\n",
              "      <td>charter buyer club what is the charter buyer c...</td>\n",
              "      <td>[other]</td>\n",
              "      <td>0</td>\n",
              "      <td>0</td>\n",
              "      <td>0</td>\n",
              "      <td>0</td>\n",
              "      <td>0</td>\n",
              "      <td>0</td>\n",
              "      <td>0</td>\n",
              "      <td>0</td>\n",
              "      <td>...</td>\n",
              "      <td>1</td>\n",
              "      <td>0</td>\n",
              "      <td>0</td>\n",
              "      <td>0</td>\n",
              "      <td>0</td>\n",
              "      <td>0</td>\n",
              "      <td>0</td>\n",
              "      <td>0</td>\n",
              "      <td>0</td>\n",
              "      <td>0</td>\n",
              "    </tr>\n",
              "    <tr>\n",
              "      <th>...</th>\n",
              "      <td>...</td>\n",
              "      <td>...</td>\n",
              "      <td>...</td>\n",
              "      <td>...</td>\n",
              "      <td>...</td>\n",
              "      <td>...</td>\n",
              "      <td>...</td>\n",
              "      <td>...</td>\n",
              "      <td>...</td>\n",
              "      <td>...</td>\n",
              "      <td>...</td>\n",
              "      <td>...</td>\n",
              "      <td>...</td>\n",
              "      <td>...</td>\n",
              "      <td>...</td>\n",
              "      <td>...</td>\n",
              "      <td>...</td>\n",
              "      <td>...</td>\n",
              "      <td>...</td>\n",
              "      <td>...</td>\n",
              "      <td>...</td>\n",
              "    </tr>\n",
              "    <tr>\n",
              "      <th>3034</th>\n",
              "      <td>published less than an hour ago a grateful fam...</td>\n",
              "      <td>[funding round, support &amp; philanthropy, execut...</td>\n",
              "      <td>0</td>\n",
              "      <td>0</td>\n",
              "      <td>0</td>\n",
              "      <td>0</td>\n",
              "      <td>0</td>\n",
              "      <td>0</td>\n",
              "      <td>0</td>\n",
              "      <td>0</td>\n",
              "      <td>...</td>\n",
              "      <td>0</td>\n",
              "      <td>0</td>\n",
              "      <td>0</td>\n",
              "      <td>0</td>\n",
              "      <td>0</td>\n",
              "      <td>0</td>\n",
              "      <td>0</td>\n",
              "      <td>0</td>\n",
              "      <td>0</td>\n",
              "      <td>1</td>\n",
              "    </tr>\n",
              "    <tr>\n",
              "      <th>3035</th>\n",
              "      <td>a cenexelcenter of excellence joined nearly 10...</td>\n",
              "      <td>[clinical trial sponsorship]</td>\n",
              "      <td>0</td>\n",
              "      <td>0</td>\n",
              "      <td>1</td>\n",
              "      <td>0</td>\n",
              "      <td>0</td>\n",
              "      <td>0</td>\n",
              "      <td>0</td>\n",
              "      <td>0</td>\n",
              "      <td>...</td>\n",
              "      <td>0</td>\n",
              "      <td>0</td>\n",
              "      <td>0</td>\n",
              "      <td>0</td>\n",
              "      <td>0</td>\n",
              "      <td>0</td>\n",
              "      <td>0</td>\n",
              "      <td>0</td>\n",
              "      <td>0</td>\n",
              "      <td>0</td>\n",
              "    </tr>\n",
              "    <tr>\n",
              "      <th>3036</th>\n",
              "      <td>jun 29 2020 8 47 a m pt reply in response to t...</td>\n",
              "      <td>[new initiatives or programs, funding round, e...</td>\n",
              "      <td>0</td>\n",
              "      <td>0</td>\n",
              "      <td>0</td>\n",
              "      <td>0</td>\n",
              "      <td>1</td>\n",
              "      <td>0</td>\n",
              "      <td>0</td>\n",
              "      <td>0</td>\n",
              "      <td>...</td>\n",
              "      <td>0</td>\n",
              "      <td>0</td>\n",
              "      <td>0</td>\n",
              "      <td>0</td>\n",
              "      <td>0</td>\n",
              "      <td>0</td>\n",
              "      <td>0</td>\n",
              "      <td>0</td>\n",
              "      <td>0</td>\n",
              "      <td>0</td>\n",
              "    </tr>\n",
              "    <tr>\n",
              "      <th>3037</th>\n",
              "      <td>whatsapp photo supplied red river waste soluti...</td>\n",
              "      <td>[service &amp; product providing, closing, company...</td>\n",
              "      <td>0</td>\n",
              "      <td>0</td>\n",
              "      <td>0</td>\n",
              "      <td>1</td>\n",
              "      <td>1</td>\n",
              "      <td>0</td>\n",
              "      <td>0</td>\n",
              "      <td>0</td>\n",
              "      <td>...</td>\n",
              "      <td>0</td>\n",
              "      <td>0</td>\n",
              "      <td>0</td>\n",
              "      <td>0</td>\n",
              "      <td>0</td>\n",
              "      <td>0</td>\n",
              "      <td>0</td>\n",
              "      <td>1</td>\n",
              "      <td>0</td>\n",
              "      <td>0</td>\n",
              "    </tr>\n",
              "    <tr>\n",
              "      <th>3038</th>\n",
              "      <td>punch other brands notes that this only includ...</td>\n",
              "      <td>[subsidiary establishment, executive statement]</td>\n",
              "      <td>0</td>\n",
              "      <td>0</td>\n",
              "      <td>0</td>\n",
              "      <td>0</td>\n",
              "      <td>0</td>\n",
              "      <td>0</td>\n",
              "      <td>0</td>\n",
              "      <td>0</td>\n",
              "      <td>...</td>\n",
              "      <td>0</td>\n",
              "      <td>0</td>\n",
              "      <td>0</td>\n",
              "      <td>0</td>\n",
              "      <td>0</td>\n",
              "      <td>0</td>\n",
              "      <td>0</td>\n",
              "      <td>0</td>\n",
              "      <td>1</td>\n",
              "      <td>0</td>\n",
              "    </tr>\n",
              "  </tbody>\n",
              "</table>\n",
              "<p>3039 rows × 31 columns</p>\n",
              "</div>\n",
              "    <div class=\"colab-df-buttons\">\n",
              "\n",
              "  <div class=\"colab-df-container\">\n",
              "    <button class=\"colab-df-convert\" onclick=\"convertToInteractive('df-97700e72-60d2-46eb-ac89-57db7b955cc5')\"\n",
              "            title=\"Convert this dataframe to an interactive table.\"\n",
              "            style=\"display:none;\">\n",
              "\n",
              "  <svg xmlns=\"http://www.w3.org/2000/svg\" height=\"24px\" viewBox=\"0 -960 960 960\">\n",
              "    <path d=\"M120-120v-720h720v720H120Zm60-500h600v-160H180v160Zm220 220h160v-160H400v160Zm0 220h160v-160H400v160ZM180-400h160v-160H180v160Zm440 0h160v-160H620v160ZM180-180h160v-160H180v160Zm440 0h160v-160H620v160Z\"/>\n",
              "  </svg>\n",
              "    </button>\n",
              "\n",
              "  <style>\n",
              "    .colab-df-container {\n",
              "      display:flex;\n",
              "      gap: 12px;\n",
              "    }\n",
              "\n",
              "    .colab-df-convert {\n",
              "      background-color: #E8F0FE;\n",
              "      border: none;\n",
              "      border-radius: 50%;\n",
              "      cursor: pointer;\n",
              "      display: none;\n",
              "      fill: #1967D2;\n",
              "      height: 32px;\n",
              "      padding: 0 0 0 0;\n",
              "      width: 32px;\n",
              "    }\n",
              "\n",
              "    .colab-df-convert:hover {\n",
              "      background-color: #E2EBFA;\n",
              "      box-shadow: 0px 1px 2px rgba(60, 64, 67, 0.3), 0px 1px 3px 1px rgba(60, 64, 67, 0.15);\n",
              "      fill: #174EA6;\n",
              "    }\n",
              "\n",
              "    .colab-df-buttons div {\n",
              "      margin-bottom: 4px;\n",
              "    }\n",
              "\n",
              "    [theme=dark] .colab-df-convert {\n",
              "      background-color: #3B4455;\n",
              "      fill: #D2E3FC;\n",
              "    }\n",
              "\n",
              "    [theme=dark] .colab-df-convert:hover {\n",
              "      background-color: #434B5C;\n",
              "      box-shadow: 0px 1px 3px 1px rgba(0, 0, 0, 0.15);\n",
              "      filter: drop-shadow(0px 1px 2px rgba(0, 0, 0, 0.3));\n",
              "      fill: #FFFFFF;\n",
              "    }\n",
              "  </style>\n",
              "\n",
              "    <script>\n",
              "      const buttonEl =\n",
              "        document.querySelector('#df-97700e72-60d2-46eb-ac89-57db7b955cc5 button.colab-df-convert');\n",
              "      buttonEl.style.display =\n",
              "        google.colab.kernel.accessAllowed ? 'block' : 'none';\n",
              "\n",
              "      async function convertToInteractive(key) {\n",
              "        const element = document.querySelector('#df-97700e72-60d2-46eb-ac89-57db7b955cc5');\n",
              "        const dataTable =\n",
              "          await google.colab.kernel.invokeFunction('convertToInteractive',\n",
              "                                                    [key], {});\n",
              "        if (!dataTable) return;\n",
              "\n",
              "        const docLinkHtml = 'Like what you see? Visit the ' +\n",
              "          '<a target=\"_blank\" href=https://colab.research.google.com/notebooks/data_table.ipynb>data table notebook</a>'\n",
              "          + ' to learn more about interactive tables.';\n",
              "        element.innerHTML = '';\n",
              "        dataTable['output_type'] = 'display_data';\n",
              "        await google.colab.output.renderOutput(dataTable, element);\n",
              "        const docLink = document.createElement('div');\n",
              "        docLink.innerHTML = docLinkHtml;\n",
              "        element.appendChild(docLink);\n",
              "      }\n",
              "    </script>\n",
              "  </div>\n",
              "\n",
              "\n",
              "    <div id=\"df-f2a6797e-8033-4cea-8015-85c0b1228f72\">\n",
              "      <button class=\"colab-df-quickchart\" onclick=\"quickchart('df-f2a6797e-8033-4cea-8015-85c0b1228f72')\"\n",
              "                title=\"Suggest charts\"\n",
              "                style=\"display:none;\">\n",
              "\n",
              "<svg xmlns=\"http://www.w3.org/2000/svg\" height=\"24px\"viewBox=\"0 0 24 24\"\n",
              "     width=\"24px\">\n",
              "    <g>\n",
              "        <path d=\"M19 3H5c-1.1 0-2 .9-2 2v14c0 1.1.9 2 2 2h14c1.1 0 2-.9 2-2V5c0-1.1-.9-2-2-2zM9 17H7v-7h2v7zm4 0h-2V7h2v10zm4 0h-2v-4h2v4z\"/>\n",
              "    </g>\n",
              "</svg>\n",
              "      </button>\n",
              "\n",
              "<style>\n",
              "  .colab-df-quickchart {\n",
              "      --bg-color: #E8F0FE;\n",
              "      --fill-color: #1967D2;\n",
              "      --hover-bg-color: #E2EBFA;\n",
              "      --hover-fill-color: #174EA6;\n",
              "      --disabled-fill-color: #AAA;\n",
              "      --disabled-bg-color: #DDD;\n",
              "  }\n",
              "\n",
              "  [theme=dark] .colab-df-quickchart {\n",
              "      --bg-color: #3B4455;\n",
              "      --fill-color: #D2E3FC;\n",
              "      --hover-bg-color: #434B5C;\n",
              "      --hover-fill-color: #FFFFFF;\n",
              "      --disabled-bg-color: #3B4455;\n",
              "      --disabled-fill-color: #666;\n",
              "  }\n",
              "\n",
              "  .colab-df-quickchart {\n",
              "    background-color: var(--bg-color);\n",
              "    border: none;\n",
              "    border-radius: 50%;\n",
              "    cursor: pointer;\n",
              "    display: none;\n",
              "    fill: var(--fill-color);\n",
              "    height: 32px;\n",
              "    padding: 0;\n",
              "    width: 32px;\n",
              "  }\n",
              "\n",
              "  .colab-df-quickchart:hover {\n",
              "    background-color: var(--hover-bg-color);\n",
              "    box-shadow: 0 1px 2px rgba(60, 64, 67, 0.3), 0 1px 3px 1px rgba(60, 64, 67, 0.15);\n",
              "    fill: var(--button-hover-fill-color);\n",
              "  }\n",
              "\n",
              "  .colab-df-quickchart-complete:disabled,\n",
              "  .colab-df-quickchart-complete:disabled:hover {\n",
              "    background-color: var(--disabled-bg-color);\n",
              "    fill: var(--disabled-fill-color);\n",
              "    box-shadow: none;\n",
              "  }\n",
              "\n",
              "  .colab-df-spinner {\n",
              "    border: 2px solid var(--fill-color);\n",
              "    border-color: transparent;\n",
              "    border-bottom-color: var(--fill-color);\n",
              "    animation:\n",
              "      spin 1s steps(1) infinite;\n",
              "  }\n",
              "\n",
              "  @keyframes spin {\n",
              "    0% {\n",
              "      border-color: transparent;\n",
              "      border-bottom-color: var(--fill-color);\n",
              "      border-left-color: var(--fill-color);\n",
              "    }\n",
              "    20% {\n",
              "      border-color: transparent;\n",
              "      border-left-color: var(--fill-color);\n",
              "      border-top-color: var(--fill-color);\n",
              "    }\n",
              "    30% {\n",
              "      border-color: transparent;\n",
              "      border-left-color: var(--fill-color);\n",
              "      border-top-color: var(--fill-color);\n",
              "      border-right-color: var(--fill-color);\n",
              "    }\n",
              "    40% {\n",
              "      border-color: transparent;\n",
              "      border-right-color: var(--fill-color);\n",
              "      border-top-color: var(--fill-color);\n",
              "    }\n",
              "    60% {\n",
              "      border-color: transparent;\n",
              "      border-right-color: var(--fill-color);\n",
              "    }\n",
              "    80% {\n",
              "      border-color: transparent;\n",
              "      border-right-color: var(--fill-color);\n",
              "      border-bottom-color: var(--fill-color);\n",
              "    }\n",
              "    90% {\n",
              "      border-color: transparent;\n",
              "      border-bottom-color: var(--fill-color);\n",
              "    }\n",
              "  }\n",
              "</style>\n",
              "\n",
              "      <script>\n",
              "        async function quickchart(key) {\n",
              "          const quickchartButtonEl =\n",
              "            document.querySelector('#' + key + ' button');\n",
              "          quickchartButtonEl.disabled = true;  // To prevent multiple clicks.\n",
              "          quickchartButtonEl.classList.add('colab-df-spinner');\n",
              "          try {\n",
              "            const charts = await google.colab.kernel.invokeFunction(\n",
              "                'suggestCharts', [key], {});\n",
              "          } catch (error) {\n",
              "            console.error('Error during call to suggestCharts:', error);\n",
              "          }\n",
              "          quickchartButtonEl.classList.remove('colab-df-spinner');\n",
              "          quickchartButtonEl.classList.add('colab-df-quickchart-complete');\n",
              "        }\n",
              "        (() => {\n",
              "          let quickchartButtonEl =\n",
              "            document.querySelector('#df-f2a6797e-8033-4cea-8015-85c0b1228f72 button');\n",
              "          quickchartButtonEl.style.display =\n",
              "            google.colab.kernel.accessAllowed ? 'block' : 'none';\n",
              "        })();\n",
              "      </script>\n",
              "    </div>\n",
              "\n",
              "  <div id=\"id_70b9b389-4f16-4eb9-b96e-66aa46ffa15e\">\n",
              "    <style>\n",
              "      .colab-df-generate {\n",
              "        background-color: #E8F0FE;\n",
              "        border: none;\n",
              "        border-radius: 50%;\n",
              "        cursor: pointer;\n",
              "        display: none;\n",
              "        fill: #1967D2;\n",
              "        height: 32px;\n",
              "        padding: 0 0 0 0;\n",
              "        width: 32px;\n",
              "      }\n",
              "\n",
              "      .colab-df-generate:hover {\n",
              "        background-color: #E2EBFA;\n",
              "        box-shadow: 0px 1px 2px rgba(60, 64, 67, 0.3), 0px 1px 3px 1px rgba(60, 64, 67, 0.15);\n",
              "        fill: #174EA6;\n",
              "      }\n",
              "\n",
              "      [theme=dark] .colab-df-generate {\n",
              "        background-color: #3B4455;\n",
              "        fill: #D2E3FC;\n",
              "      }\n",
              "\n",
              "      [theme=dark] .colab-df-generate:hover {\n",
              "        background-color: #434B5C;\n",
              "        box-shadow: 0px 1px 3px 1px rgba(0, 0, 0, 0.15);\n",
              "        filter: drop-shadow(0px 1px 2px rgba(0, 0, 0, 0.3));\n",
              "        fill: #FFFFFF;\n",
              "      }\n",
              "    </style>\n",
              "    <button class=\"colab-df-generate\" onclick=\"generateWithVariable('dataset')\"\n",
              "            title=\"Generate code using this dataframe.\"\n",
              "            style=\"display:none;\">\n",
              "\n",
              "  <svg xmlns=\"http://www.w3.org/2000/svg\" height=\"24px\"viewBox=\"0 0 24 24\"\n",
              "       width=\"24px\">\n",
              "    <path d=\"M7,19H8.4L18.45,9,17,7.55,7,17.6ZM5,21V16.75L18.45,3.32a2,2,0,0,1,2.83,0l1.4,1.43a1.91,1.91,0,0,1,.58,1.4,1.91,1.91,0,0,1-.58,1.4L9.25,21ZM18.45,9,17,7.55Zm-12,3A5.31,5.31,0,0,0,4.9,8.1,5.31,5.31,0,0,0,1,6.5,5.31,5.31,0,0,0,4.9,4.9,5.31,5.31,0,0,0,6.5,1,5.31,5.31,0,0,0,8.1,4.9,5.31,5.31,0,0,0,12,6.5,5.46,5.46,0,0,0,6.5,12Z\"/>\n",
              "  </svg>\n",
              "    </button>\n",
              "    <script>\n",
              "      (() => {\n",
              "      const buttonEl =\n",
              "        document.querySelector('#id_70b9b389-4f16-4eb9-b96e-66aa46ffa15e button.colab-df-generate');\n",
              "      buttonEl.style.display =\n",
              "        google.colab.kernel.accessAllowed ? 'block' : 'none';\n",
              "\n",
              "      buttonEl.onclick = () => {\n",
              "        google.colab.notebook.generateWithVariable('dataset');\n",
              "      }\n",
              "      })();\n",
              "    </script>\n",
              "  </div>\n",
              "\n",
              "    </div>\n",
              "  </div>\n"
            ],
            "application/vnd.google.colaboratory.intrinsic+json": {
              "type": "dataframe",
              "variable_name": "dataset"
            }
          },
          "metadata": {},
          "execution_count": 5
        }
      ]
    },
    {
      "cell_type": "markdown",
      "id": "83c0296f-9699-475e-b4bd-c9e531dca2d4",
      "metadata": {
        "id": "83c0296f-9699-475e-b4bd-c9e531dca2d4"
      },
      "source": [
        "## Предобработка данных"
      ]
    },
    {
      "cell_type": "markdown",
      "id": "vMe0c5AAXM8d",
      "metadata": {
        "id": "vMe0c5AAXM8d"
      },
      "source": [
        "В этом задании мы будем обучать рекуррентные нейронные сети. Как вы знаете, они работают лучше для коротких текстов, так как не очень хорошо улавливают далекие зависимости. Для уменьшение длин текстов их стоит почистить.\n",
        "\n",
        "Сразу разделим выборку на обучающую и тестовую, чтобы считать все нужные статистики только по обучающей."
      ]
    },
    {
      "cell_type": "code",
      "execution_count": null,
      "id": "f8135000",
      "metadata": {
        "id": "f8135000"
      },
      "outputs": [],
      "source": [
        "from sklearn.model_selection import train_test_split\n",
        "\n",
        "texts_train, texts_test, y_train, y_test = train_test_split(\n",
        "    dataset['text'],  # тексты\n",
        "    binary_labels,    # обработанные бинарные метки\n",
        "    test_size=0.2,  # do not change this\n",
        "    random_state=0,  # do not change this\n",
        "\n",
        ")\n"
      ]
    },
    {
      "cell_type": "markdown",
      "id": "4ace679c-db5f-45d3-8fa3-6a5c55eb912a",
      "metadata": {
        "id": "4ace679c-db5f-45d3-8fa3-6a5c55eb912a"
      },
      "source": [
        "__Задание 2 (1.5 балла)__. Удалите из текстов стоп слова, слишком редкие и слишком частые слова. Гиперпараметры подберите самостоятельно (в идеале их стоит подбирать по качеству на тестовой выборке). Если вы считаете, что стоит добавить еще какую-то обработку, то сделайте это. Важно не удалить ничего, что может повлиять на предсказание класса."
      ]
    },
    {
      "cell_type": "code",
      "execution_count": null,
      "id": "BcmyCcoaXIqy",
      "metadata": {
        "id": "BcmyCcoaXIqy"
      },
      "outputs": [],
      "source": [
        "# your code here\n",
        "from collections import Counter\n",
        "\n",
        "word_counts = Counter()\n",
        "doc_freq = Counter()\n",
        "\n",
        "for text in texts_train:\n",
        "    words = text.split()\n",
        "    word_counts.update(words) # считаем сколько раз суммарно встретилось слово в документах\n",
        "    doc_freq.update(set(words))  # считаем в скольких документах есть слово (без повторов внутри документа)\n",
        "\n",
        "total_docs = len(texts_train)"
      ]
    },
    {
      "cell_type": "code",
      "source": [
        "min_count = 3\n",
        "max_percent = 0.7\n",
        "\n",
        "# Слишком редкие слова (менее min_count раз)\n",
        "rare_words = {word for word, cnt in word_counts.items() if cnt < min_count}\n",
        "\n",
        "# Слишком частые слова (в более чем max_percent% документов)\n",
        "common_words = {word for word, cnt in doc_freq.items() if cnt / total_docs > max_percent}\n",
        "\n",
        "# Итоговый фильтр\n",
        "words_to_remove_min_max = rare_words | common_words\n",
        "print(f\"Редких (< {min_count} штук): {len(rare_words)}, Частых (чаще {max_percent*100}%): {len(common_words)}\")"
      ],
      "metadata": {
        "colab": {
          "base_uri": "https://localhost:8080/"
        },
        "id": "AzqMvbzHLTS9",
        "outputId": "9a838e91-71fa-48bc-d87b-7e6177d98c09"
      },
      "id": "AzqMvbzHLTS9",
      "execution_count": null,
      "outputs": [
        {
          "output_type": "stream",
          "name": "stdout",
          "text": [
            "Редких (< 3 штук): 22073, Частых (чаще 70.0%): 21\n"
          ]
        }
      ]
    },
    {
      "cell_type": "code",
      "source": [
        "common_words"
      ],
      "metadata": {
        "colab": {
          "base_uri": "https://localhost:8080/"
        },
        "collapsed": true,
        "id": "Op94UlXAL9z-",
        "outputId": "3d4e3df0-9d8e-4963-bc51-43feefa65fdf"
      },
      "id": "Op94UlXAL9z-",
      "execution_count": null,
      "outputs": [
        {
          "output_type": "execute_result",
          "data": {
            "text/plain": [
              "{'a',\n",
              " 'an',\n",
              " 'and',\n",
              " 'are',\n",
              " 'as',\n",
              " 'at',\n",
              " 'by',\n",
              " 'company',\n",
              " 'for',\n",
              " 'from',\n",
              " 'has',\n",
              " 'in',\n",
              " 'is',\n",
              " 'it',\n",
              " 'of',\n",
              " 'on',\n",
              " 'that',\n",
              " 'the',\n",
              " 'this',\n",
              " 'to',\n",
              " 'with'}"
            ]
          },
          "metadata": {},
          "execution_count": 9
        }
      ]
    },
    {
      "cell_type": "code",
      "source": [
        "# Для чистки стоп-слов (давно уже прописаны), используем библиотеку nltk"
      ],
      "metadata": {
        "id": "YSfOjshHLnjl"
      },
      "id": "YSfOjshHLnjl",
      "execution_count": null,
      "outputs": []
    },
    {
      "cell_type": "code",
      "source": [
        "!pip install nltk\n",
        "import nltk\n",
        "\n",
        "nltk.download('stopwords')"
      ],
      "metadata": {
        "colab": {
          "base_uri": "https://localhost:8080/"
        },
        "id": "jvMxovZENJb1",
        "outputId": "00b9dc29-e986-4452-f492-9fe36834c9fc"
      },
      "id": "jvMxovZENJb1",
      "execution_count": null,
      "outputs": [
        {
          "output_type": "stream",
          "name": "stdout",
          "text": [
            "Requirement already satisfied: nltk in /usr/local/lib/python3.11/dist-packages (3.9.1)\n",
            "Requirement already satisfied: click in /usr/local/lib/python3.11/dist-packages (from nltk) (8.2.1)\n",
            "Requirement already satisfied: joblib in /usr/local/lib/python3.11/dist-packages (from nltk) (1.5.1)\n",
            "Requirement already satisfied: regex>=2021.8.3 in /usr/local/lib/python3.11/dist-packages (from nltk) (2024.11.6)\n",
            "Requirement already satisfied: tqdm in /usr/local/lib/python3.11/dist-packages (from nltk) (4.67.1)\n"
          ]
        },
        {
          "output_type": "stream",
          "name": "stderr",
          "text": [
            "[nltk_data] Downloading package stopwords to /root/nltk_data...\n",
            "[nltk_data]   Package stopwords is already up-to-date!\n"
          ]
        },
        {
          "output_type": "execute_result",
          "data": {
            "text/plain": [
              "True"
            ]
          },
          "metadata": {},
          "execution_count": 11
        }
      ]
    },
    {
      "cell_type": "code",
      "source": [
        "from nltk.corpus import stopwords\n",
        "stop_words = set(stopwords.words('english'))\n",
        "words_to_remove = stop_words.union(words_to_remove_min_max)\n",
        "len(words_to_remove)"
      ],
      "metadata": {
        "colab": {
          "base_uri": "https://localhost:8080/"
        },
        "id": "Ft1Oa9ykQvT-",
        "outputId": "13f828b3-057b-4c41-fae6-341ad5b277bf"
      },
      "id": "Ft1Oa9ykQvT-",
      "execution_count": null,
      "outputs": [
        {
          "output_type": "execute_result",
          "data": {
            "text/plain": [
              "22271"
            ]
          },
          "metadata": {},
          "execution_count": 12
        }
      ]
    },
    {
      "cell_type": "code",
      "source": [
        "def filter_words(text, words_to_remove=words_to_remove):\n",
        "    return ' '.join([word for word in text.split() if word not in words_to_remove])\n",
        "\n",
        "import time\n",
        "a = time.time()\n",
        "\n",
        "cleaned_train = texts_train.apply(filter_words)\n",
        "b=time.time()\n",
        "print(\"Clean train: \", b-a)\n",
        "cleaned_test = texts_test.apply(filter_words)\n",
        "c=time.time()\n",
        "print(\"Clean test: \", c-b)"
      ],
      "metadata": {
        "colab": {
          "base_uri": "https://localhost:8080/"
        },
        "id": "jWnFnoyJLorx",
        "outputId": "caa85f48-4cf7-4071-9c09-ba3a22e960e2"
      },
      "id": "jWnFnoyJLorx",
      "execution_count": null,
      "outputs": [
        {
          "output_type": "stream",
          "name": "stdout",
          "text": [
            "Clean train:  0.5312161445617676\n",
            "Clean test:  0.04268145561218262\n"
          ]
        }
      ]
    },
    {
      "cell_type": "code",
      "source": [
        "cleaned_train"
      ],
      "metadata": {
        "colab": {
          "base_uri": "https://localhost:8080/",
          "height": 458
        },
        "id": "ea0uNm5auMT1",
        "outputId": "48f810cd-2677-4f29-a7fa-d08afe209d7e"
      },
      "id": "ea0uNm5auMT1",
      "execution_count": null,
      "outputs": [
        {
          "output_type": "execute_result",
          "data": {
            "text/plain": [
              "2925    alex waterton ceo david schwartz left pathway ...\n",
              "507     workout lose weight women bodybuildig top weig...\n",
              "924     burning rock biotech alerts separately zacks i...\n",
              "2116    california state university largest public uni...\n",
              "1363    danbury nissan infinity dealership wants take ...\n",
              "                              ...                        \n",
              "763     goal create safe engaging place users connect ...\n",
              "835     hattiesburg laurel airport offer flights chica...\n",
              "1653    get rating announced monthly dividend tuesday ...\n",
              "2607    solar mobile charger computer program used tec...\n",
              "2732    www com terrain vehicles come risks expensive ...\n",
              "Name: text, Length: 2431, dtype: object"
            ],
            "text/html": [
              "<div>\n",
              "<style scoped>\n",
              "    .dataframe tbody tr th:only-of-type {\n",
              "        vertical-align: middle;\n",
              "    }\n",
              "\n",
              "    .dataframe tbody tr th {\n",
              "        vertical-align: top;\n",
              "    }\n",
              "\n",
              "    .dataframe thead th {\n",
              "        text-align: right;\n",
              "    }\n",
              "</style>\n",
              "<table border=\"1\" class=\"dataframe\">\n",
              "  <thead>\n",
              "    <tr style=\"text-align: right;\">\n",
              "      <th></th>\n",
              "      <th>text</th>\n",
              "    </tr>\n",
              "  </thead>\n",
              "  <tbody>\n",
              "    <tr>\n",
              "      <th>2925</th>\n",
              "      <td>alex waterton ceo david schwartz left pathway ...</td>\n",
              "    </tr>\n",
              "    <tr>\n",
              "      <th>507</th>\n",
              "      <td>workout lose weight women bodybuildig top weig...</td>\n",
              "    </tr>\n",
              "    <tr>\n",
              "      <th>924</th>\n",
              "      <td>burning rock biotech alerts separately zacks i...</td>\n",
              "    </tr>\n",
              "    <tr>\n",
              "      <th>2116</th>\n",
              "      <td>california state university largest public uni...</td>\n",
              "    </tr>\n",
              "    <tr>\n",
              "      <th>1363</th>\n",
              "      <td>danbury nissan infinity dealership wants take ...</td>\n",
              "    </tr>\n",
              "    <tr>\n",
              "      <th>...</th>\n",
              "      <td>...</td>\n",
              "    </tr>\n",
              "    <tr>\n",
              "      <th>763</th>\n",
              "      <td>goal create safe engaging place users connect ...</td>\n",
              "    </tr>\n",
              "    <tr>\n",
              "      <th>835</th>\n",
              "      <td>hattiesburg laurel airport offer flights chica...</td>\n",
              "    </tr>\n",
              "    <tr>\n",
              "      <th>1653</th>\n",
              "      <td>get rating announced monthly dividend tuesday ...</td>\n",
              "    </tr>\n",
              "    <tr>\n",
              "      <th>2607</th>\n",
              "      <td>solar mobile charger computer program used tec...</td>\n",
              "    </tr>\n",
              "    <tr>\n",
              "      <th>2732</th>\n",
              "      <td>www com terrain vehicles come risks expensive ...</td>\n",
              "    </tr>\n",
              "  </tbody>\n",
              "</table>\n",
              "<p>2431 rows × 1 columns</p>\n",
              "</div><br><label><b>dtype:</b> object</label>"
            ]
          },
          "metadata": {},
          "execution_count": 14
        }
      ]
    },
    {
      "cell_type": "markdown",
      "id": "4f4848c2-7fe1-43f9-8564-1144015fc29b",
      "metadata": {
        "id": "4f4848c2-7fe1-43f9-8564-1144015fc29b"
      },
      "source": [
        "__Задание 3 (2 балла)__. Осталось перевести тексты в индексы токенов, чтобы их можно было подавать в модель. У вас есть две опции, как это сделать:\n",
        "1. __(+0 баллов)__ Токенизировать тексты по словам.\n",
        "2. __(до +5 баллов)__ Реализовать свою токенизацию BPE. Количество баллов будет варьироваться в зависимости от эффективности реализации. При реализации нельзя пользоваться специализированными библиотеками.\n",
        "\n",
        "Токенизируйте тексты, переведите их в списки индексов и сложите вместе с лейблами в `DataLoader`. Не забудьте добавить в `DataLoader` `collate_fn`, которая будет дополнять все короткие тексты в батче паддингами. Для маппинга токенов в индексы вам может пригодиться `gensim.corpora.dictionary.Dictionary`."
      ]
    },
    {
      "cell_type": "markdown",
      "source": [
        "**Реализую BPE. Использовал сайт, для понимания кода. Код переделал: https://under-sky-ai.ru/post/podrobnoe_obyyasnenie_algoritma_bpe**"
      ],
      "metadata": {
        "id": "f-o1pGZ4hUPd"
      },
      "id": "f-o1pGZ4hUPd"
    },
    {
      "cell_type": "code",
      "source": [
        "# Реализую класс BPE_Tokenizer, выполняющий преобразование в частотный словарь\n",
        "# слов, и впоследствии объединяет наиболее часто встречающиеся по словам\n",
        "# комбинации символов в токены (соединяет символы в токены, сокращая количество токенов)\n",
        "\n",
        "# Таким образом, токены - не все буквы (тогда размер словаря будет очень велик), а  количество слияний  (merges=1000)"
      ],
      "metadata": {
        "id": "-EYG9sH5Pkwg"
      },
      "id": "-EYG9sH5Pkwg",
      "execution_count": null,
      "outputs": []
    },
    {
      "cell_type": "code",
      "source": [
        "!pip install gensim"
      ],
      "metadata": {
        "colab": {
          "base_uri": "https://localhost:8080/"
        },
        "id": "blaG3Yhq_5Ms",
        "outputId": "25df10d2-91e4-4bcd-8a88-3b807ee4cb3d"
      },
      "id": "blaG3Yhq_5Ms",
      "execution_count": null,
      "outputs": [
        {
          "output_type": "stream",
          "name": "stdout",
          "text": [
            "Requirement already satisfied: gensim in /usr/local/lib/python3.11/dist-packages (4.3.3)\n",
            "Requirement already satisfied: numpy<2.0,>=1.18.5 in /usr/local/lib/python3.11/dist-packages (from gensim) (1.26.4)\n",
            "Requirement already satisfied: scipy<1.14.0,>=1.7.0 in /usr/local/lib/python3.11/dist-packages (from gensim) (1.13.1)\n",
            "Requirement already satisfied: smart-open>=1.8.1 in /usr/local/lib/python3.11/dist-packages (from gensim) (7.1.0)\n",
            "Requirement already satisfied: wrapt in /usr/local/lib/python3.11/dist-packages (from smart-open>=1.8.1->gensim) (1.17.2)\n"
          ]
        }
      ]
    },
    {
      "cell_type": "code",
      "source": [
        "import re\n",
        "from collections import defaultdict, Counter\n",
        "import torch\n",
        "from torch.utils.data import Dataset, DataLoader\n",
        "from gensim.corpora import Dictionary\n",
        "from tqdm import tqdm\n",
        "\n",
        "class BPETokenizer:\n",
        "    def __init__(self, num_merges=1000, special_tokens=None):\n",
        "        self.num_merges = num_merges\n",
        "        self.special_tokens = special_tokens or ['<pad>', '<unk>', '<bos>', '<eos>']\n",
        "        self.vocab = None\n",
        "        self.merges = None\n",
        "        self.token_to_id = None\n",
        "        self.id_to_token = None\n",
        "        self.dictionary = None\n",
        "\n",
        "    def _initialize_vocab(self, texts):\n",
        "        vocab = Counter()\n",
        "        for text in texts:\n",
        "            for word in text.split():\n",
        "                chars = list(word) + ['</w>']\n",
        "                vocab[' '.join(chars)] += 1\n",
        "        return vocab\n",
        "\n",
        "    def _get_stats(self, vocab):\n",
        "        pairs = defaultdict(int)\n",
        "        for word, freq in vocab.items():\n",
        "            symbols = word.split()\n",
        "            for i in range(len(symbols)-1):\n",
        "                pairs[(symbols[i], symbols[i+1])] += freq\n",
        "        return pairs\n",
        "\n",
        "    def _merge_vocab(self, vocab, pair):\n",
        "        merged_vocab = {}\n",
        "        pattern = ' '.join(pair)\n",
        "        replacement = ''.join(pair)\n",
        "        for word, freq in vocab.items():\n",
        "            new_word = word.replace(pattern, replacement)\n",
        "            merged_vocab[new_word] = freq\n",
        "        return merged_vocab\n",
        "\n",
        "    def fit(self, texts):\n",
        "        vocab = self._initialize_vocab(texts)\n",
        "        for token in self.special_tokens:\n",
        "            vocab[token] = 1\n",
        "\n",
        "        merges = []\n",
        "        for _ in range(self.num_merges):\n",
        "            pairs = self._get_stats(vocab)\n",
        "            if not pairs:\n",
        "                break\n",
        "            best_pair = max(pairs, key=pairs.get)\n",
        "            merges.append(best_pair)\n",
        "            vocab = self._merge_vocab(vocab, best_pair)\n",
        "\n",
        "        token_counts = Counter()\n",
        "        for word, freq in vocab.items():\n",
        "            tokens = word.split()\n",
        "            token_counts.update(tokens)\n",
        "\n",
        "        sorted_tokens = sorted(token_counts.items(), key=lambda x: (-x[1], x[0]))\n",
        "        tokens = [token for token, count in sorted_tokens]\n",
        "\n",
        "        for token in reversed(self.special_tokens):\n",
        "            if token in tokens:\n",
        "                tokens.remove(token)\n",
        "            tokens.insert(0, token)\n",
        "\n",
        "        # Используем gensim Dictionary для маппинга токенов\n",
        "        self.dictionary = Dictionary([[t] for t in tokens])\n",
        "        # Создаём словарь для специальных токенов с нужными индексами\n",
        "        special_token_dict = {token: i for i, token in enumerate(self.special_tokens)}\n",
        "        self.dictionary.patch_with_special_tokens(special_token_dict)\n",
        "        self.token_to_id = self.dictionary.token2id\n",
        "        self.id_to_token = {v: k for k, v in self.token_to_id.items()}\n",
        "\n",
        "        self.merges = merges\n",
        "        self.vocab = tokens\n",
        "\n",
        "    def tokenize(self, text):\n",
        "        if not self.token_to_id:\n",
        "            raise ValueError(\"Tokenizer not fitted yet. Call fit() first.\")\n",
        "\n",
        "        for token in self.special_tokens:\n",
        "            if token in text:\n",
        "                return [token]\n",
        "\n",
        "        tokens = list(text) + ['</w>']\n",
        "\n",
        "        for pair in self.merges:\n",
        "            new_tokens = []\n",
        "            i = 0\n",
        "            while i < len(tokens):\n",
        "                if i < len(tokens)-1 and (tokens[i], tokens[i+1]) == pair:\n",
        "                    new_tokens.append(''.join(pair))\n",
        "                    i += 2\n",
        "                else:\n",
        "                    new_tokens.append(tokens[i])\n",
        "                    i += 1\n",
        "            tokens = new_tokens\n",
        "\n",
        "        tokens = [token if token in self.token_to_id else '<unk>' for token in tokens]\n",
        "        return tokens\n",
        "\n",
        "    def encode(self, text):\n",
        "        tokens = self.tokenize(text)\n",
        "        return [self.token_to_id[token] for token in tokens]\n",
        "\n",
        "    def decode(self, ids):\n",
        "        tokens = [self.id_to_token.get(idx, '<unk>') for idx in ids]\n",
        "        tokens = [token.replace('</w>', '') for token in tokens]\n",
        "        return ''.join(tokens).strip()\n",
        "\n",
        "    def get_vocab_size(self):\n",
        "        return len(self.token_to_id) if self.token_to_id else 0\n",
        "\n",
        "class TextDataset(Dataset):\n",
        "    def __init__(self, texts, labels, tokenizer, max_length=None, desc=\"Tokenizing\"):\n",
        "        self.tokenizer = tokenizer\n",
        "        self.max_length = max_length\n",
        "\n",
        "        self.encoded_texts = []\n",
        "        for text in tqdm(texts, desc=desc):\n",
        "            encoded = tokenizer.encode(text)\n",
        "            if max_length:\n",
        "                encoded = encoded[:max_length]\n",
        "            self.encoded_texts.append(torch.tensor(encoded, dtype=torch.long))\n",
        "\n",
        "        self.labels = labels\n",
        "\n",
        "    def __len__(self):\n",
        "        return len(self.encoded_texts)\n",
        "\n",
        "    def __getitem__(self, idx):\n",
        "        return {\n",
        "            'input_ids': self.encoded_texts[idx],\n",
        "            'labels': torch.tensor(self.labels[idx], dtype=torch.float32)\n",
        "        }\n",
        "\n",
        "\n",
        "\n",
        "\n",
        "def collate_fn(batch):\n",
        "    \"\"\"Обрабатывает батч, добавляя паддинг к коротким последовательностям\"\"\"\n",
        "    max_len = max(len(item['input_ids']) for item in batch)\n",
        "\n",
        "    input_ids = []\n",
        "    labels = []\n",
        "\n",
        "    for item in batch:\n",
        "        pad_len = max_len - len(item['input_ids'])\n",
        "        padded = torch.cat([\n",
        "            item['input_ids'],\n",
        "            torch.zeros(pad_len, dtype=torch.long)\n",
        "        ])\n",
        "        input_ids.append(padded)\n",
        "        labels.append(item['labels'])\n",
        "\n",
        "    return {\n",
        "        'input_ids': torch.stack(input_ids),\n",
        "        'labels': torch.stack(labels)\n",
        "    }\n",
        "\n"
      ],
      "metadata": {
        "id": "BO0IueV9u9jt"
      },
      "id": "BO0IueV9u9jt",
      "execution_count": null,
      "outputs": []
    },
    {
      "cell_type": "code",
      "source": [
        "# Инициализация и обучение токенизатора\n",
        "import time\n",
        "a = time.time()\n",
        "tokenizer = BPETokenizer(num_merges=1000)  # 1000 слияний\n",
        "tokenizer.fit(cleaned_train)\n",
        "b=time.time()\n",
        "print(f\"Обучился токенизатор: {b-a}\")\n",
        "\n",
        "train_dataset = TextDataset(cleaned_train, y_train, tokenizer, max_length=128, desc=\"Tokenizing train\")\n",
        "test_dataset = TextDataset(cleaned_test, y_test, tokenizer, max_length=128, desc=\"Tokenizing test\")\n",
        "\n",
        "c=time.time()\n",
        "print(f\"Создали датасеты: {c-b}\")\n",
        "\n",
        "\n",
        "train_loader = DataLoader(train_dataset, batch_size=32, shuffle=True, collate_fn=collate_fn)\n",
        "test_loader = DataLoader(test_dataset, batch_size=32, shuffle=False, collate_fn=collate_fn)"
      ],
      "metadata": {
        "id": "9AEFoSJi8abp"
      },
      "id": "9AEFoSJi8abp",
      "execution_count": null,
      "outputs": []
    },
    {
      "cell_type": "markdown",
      "source": [
        "Посмотрим какие токены получились"
      ],
      "metadata": {
        "id": "ocel6Xr_-KdH"
      },
      "id": "ocel6Xr_-KdH"
    },
    {
      "cell_type": "code",
      "source": [
        "print(\"Все токены:\", tokenizer.vocab)"
      ],
      "metadata": {
        "id": "fOKbc5_B3oEQ"
      },
      "id": "fOKbc5_B3oEQ",
      "execution_count": null,
      "outputs": []
    },
    {
      "cell_type": "markdown",
      "id": "627e78f9-6bef-46f4-8b58-818b7eb0c082",
      "metadata": {
        "id": "627e78f9-6bef-46f4-8b58-818b7eb0c082"
      },
      "source": [
        "## Метрика качества\n",
        "\n",
        "Перед тем, как приступить к обучению, нам нужно выбрать метрику оценки качества. Так как в задаче классификации с пересекающимися классами классы часто несбалансированы, чаще всего в качестве метрики берется [F1 score](https://en.wikipedia.org/wiki/F-score).\n",
        "\n",
        "Функция `compute_f1` принимает истинные метки и предсказанные и считает среднее значение F1 по всем классам. Используйте ее для оценки качества моделей.\n",
        "\n",
        "$$\n",
        "F1_{total} = \\frac{1}{K} \\sum_{k=1}^K F1(Y_k, \\hat{Y}_k),\n",
        "$$\n",
        "где $Y_k$ – истинные значения для класса k, а $\\hat{Y}_k$ – предсказания."
      ]
    },
    {
      "cell_type": "code",
      "execution_count": null,
      "id": "671a0928-fd68-4f36-bae7-2dacb18fd865",
      "metadata": {
        "id": "671a0928-fd68-4f36-bae7-2dacb18fd865"
      },
      "outputs": [],
      "source": [
        "from sklearn.metrics import f1_score\n",
        "\n",
        "def compute_f1(y_true, y_pred):\n",
        "    assert y_true.ndim == 2\n",
        "    assert y_true.shape == y_pred.shape\n",
        "\n",
        "    return f1_score(y_true, y_pred, average='macro')"
      ]
    },
    {
      "cell_type": "markdown",
      "id": "aagj29J7Ap2H",
      "metadata": {
        "id": "aagj29J7Ap2H"
      },
      "source": [
        "## Обучение моделей"
      ]
    },
    {
      "cell_type": "markdown",
      "id": "56ae5666",
      "metadata": {
        "id": "56ae5666"
      },
      "source": [
        "### RNN\n",
        "\n",
        "В качестве бейзлайна обучим самую простую рекуррентную нейронную сеть. Напомним, что блок RNN выглядит таким образом.\n",
        "\n",
        "<img src=\"https://i.postimg.cc/yYbNBm6G/tg-image-1635618906.png\" alt=\"drawing\" width=\"400\"/>\n",
        "\n",
        "Его скрытое состояние обновляется по формуле\n",
        "$h_t = \\sigma(W x_{t} + U h_{t-1} + b_h)$. А предсказание считается с помощью применения линейного слоя к последнему токену\n",
        "$o_T = V h_T + b_o$. В качестве функции активации выберите гиперболический тангенс.\n",
        "\n",
        "__Задание 4 (2 балла)__. Реализуйте RNN в соответствии с формулой выше и обучите ее на нашу задачу. Нулевой скрытый вектор инициализируйте нулями, так модель будет обучаться стабильнее, чем при случайной инициализации. После этого замеряйте качество на тестовой выборке. У вас должно получиться значение F1 не меньше 0.33, а само обучение не должно занимать много времени."
      ]
    },
    {
      "cell_type": "markdown",
      "source": [
        "**Сама инициализация RNN**"
      ],
      "metadata": {
        "id": "q3xeR6rcI-iE"
      },
      "id": "q3xeR6rcI-iE"
    },
    {
      "cell_type": "code",
      "source": [
        "import matplotlib.pyplot as plt"
      ],
      "metadata": {
        "id": "L7U-vFBDvYkO"
      },
      "id": "L7U-vFBDvYkO",
      "execution_count": null,
      "outputs": []
    },
    {
      "cell_type": "code",
      "source": [
        "import torch\n",
        "import torch.nn as nn\n",
        "import torch.optim as optim\n",
        "from tqdm import tqdm\n",
        "from sklearn.metrics import f1_score\n",
        "import numpy as np\n",
        "\n",
        "class SimpleRNN(nn.Module):\n",
        "    def __init__(self, vocab_size, embed_dim, hidden_dim, output_dim, n_layers=1):\n",
        "        super().__init__()\n",
        "        # Здесь стоит поговорить для чего паддинги нужны:\n",
        "        # Пусть у нас 3 предложения,\n",
        "        # 1е предложение - токены [1, 2, 3]\n",
        "        # 2е предложение - токены [10,20,30,40]\n",
        "        # 3е предложение - токены [1, 20, 1,40, 50]\n",
        "        # Тогда мы должны дозаполнить токены первого предложения: [1, 2, 3, 0, 0]; и второго: [10,20,30,40,0]\n",
        "        self.embedding = nn.Embedding(vocab_size, embed_dim, padding_idx=0)  # 0 для паддинга (мы не хотим учить веса, которые отвечают за паддинги - поэтому надо указать их явно 0)\n",
        "        # В эмбеддинге КАЖДОМУ ТОКЕНУ в соответствие ставят вектор из 128 (в нашем случае) чисел, эти вектора \"учатся\"\n",
        "\n",
        "        self.rnn = nn.RNN(embed_dim, hidden_dim, n_layers,\n",
        "                         nonlinearity='tanh', batch_first=True) # тут n_layers будет 1, по заданию\n",
        "        self.fc = nn.Linear(hidden_dim, output_dim)\n",
        "        self.hidden_dim = hidden_dim\n",
        "        self.n_layers = n_layers\n",
        "\n",
        "    def forward(self, x):\n",
        "\n",
        "        mask = (x != 0)\n",
        "        lengths = mask.sum(1).cpu()\n",
        "        embedded = self.embedding(x)  # [batch_size, seq_len, embed_dim]\n",
        "\n",
        "        packed = nn.utils.rnn.pack_padded_sequence(embedded, lengths, batch_first=True, enforce_sorted=False)\n",
        "        packed_out, hn = self.rnn(packed)\n",
        "        out, _ = nn.utils.rnn.pad_packed_sequence(packed_out, batch_first=True)\n",
        "\n",
        "        last_seq_idxs = lengths - 1\n",
        "        last_out = out[torch.arange(out.size(0)), last_seq_idxs]\n",
        "\n",
        "        logits = self.fc(last_out)\n",
        "        return logits\n",
        "\n",
        "def train_and_evaluate(model, train_loader, test_loader, device, n_epochs=5, lr=0.001):\n",
        "    model = model.to(device)\n",
        "    criterion = nn.BCEWithLogitsLoss()\n",
        "    optimizer = optim.Adam(model.parameters(), lr=lr)\n",
        "\n",
        "    best_f1 = 0\n",
        "    f1_history = []\n",
        "\n",
        "    for epoch in range(n_epochs):\n",
        "        # Обучение\n",
        "        model.train()\n",
        "        train_loss = 0\n",
        "        progress_bar = tqdm(train_loader, desc=f'Epoch {epoch+1}/{n_epochs}')\n",
        "\n",
        "        for batch in progress_bar:\n",
        "            inputs = batch['input_ids'].to(device)\n",
        "            labels = batch['labels'].to(device)\n",
        "\n",
        "            optimizer.zero_grad()\n",
        "            outputs = model(inputs)\n",
        "            loss = criterion(outputs, labels)\n",
        "            loss.backward()\n",
        "            optimizer.step()\n",
        "\n",
        "            train_loss += loss.item()\n",
        "            progress_bar.set_postfix({'loss': f'{loss.item():.4f}'})\n",
        "\n",
        "        # Оценка на тесте (происходит каждую эпоху чтобы видно было)\n",
        "        model.eval()\n",
        "        all_preds = []\n",
        "        all_labels = []\n",
        "\n",
        "        with torch.no_grad():\n",
        "            for batch in test_loader:\n",
        "                inputs = batch['input_ids'].to(device)\n",
        "                labels = batch['labels'].cpu().numpy()\n",
        "\n",
        "                outputs = model(inputs)\n",
        "                preds = (torch.sigmoid(outputs) > 0.5).cpu().numpy()\n",
        "\n",
        "                all_preds.append(preds)\n",
        "                all_labels.append(labels)\n",
        "\n",
        "        # Собираем метрики\n",
        "        all_preds = np.concatenate(all_preds)\n",
        "        all_labels = np.concatenate(all_labels)\n",
        "        f1 = compute_f1(all_labels, all_preds) # Исползуем выданную функцию\n",
        "\n",
        "        f1_history.append(f1)\n",
        "\n",
        "        print(f'Epoch {epoch+1} | Train Loss: {train_loss/len(train_loader):.4f} | Test F1: {f1:.4f}')\n",
        "\n",
        "        if f1 > best_f1:\n",
        "            best_f1 = f1\n",
        "            torch.save(model.state_dict(), 'best_rnn_model.pt')\n",
        "\n",
        "    print(f'Best F1: {best_f1:.4f}')\n",
        "    return best_f1, f1_history\n",
        "\n",
        "# Параметры\n",
        "VOCAB_SIZE = tokenizer.get_vocab_size() + 1  # +1 для паддинга\n",
        "EMBED_DIM = 128 # Размер эмбеддингов по 128\n",
        "HIDDEN_DIM = 256\n",
        "OUTPUT_DIM = y_train.shape[1]  # Количество классов\n",
        "N_LAYERS = 1\n",
        "EPOCHS = 200\n",
        "LR = 0.001\n",
        "\n",
        "# Инициализация модели\n",
        "device = torch.device('cuda' if torch.cuda.is_available() else 'cpu')\n",
        "model = SimpleRNN(VOCAB_SIZE, EMBED_DIM, HIDDEN_DIM, OUTPUT_DIM, N_LAYERS)\n",
        "\n",
        "# Обучение\n",
        "best_f1, f1_historyRNN = train_and_evaluate(\n",
        "    model,\n",
        "    train_loader,\n",
        "    test_loader,\n",
        "    device,\n",
        "    n_epochs=EPOCHS,\n",
        "    lr=LR\n",
        ")"
      ],
      "metadata": {
        "colab": {
          "base_uri": "https://localhost:8080/"
        },
        "id": "FPHuagZeA2IO",
        "outputId": "6eceb70e-bf0d-4dc3-9f50-2825620d8051"
      },
      "id": "FPHuagZeA2IO",
      "execution_count": null,
      "outputs": [
        {
          "output_type": "stream",
          "name": "stderr",
          "text": [
            "Epoch 1/200: 100%|██████████| 76/76 [00:00<00:00, 88.83it/s, loss=0.1958]\n",
            "/usr/local/lib/python3.11/dist-packages/sklearn/metrics/_classification.py:1565: UndefinedMetricWarning: F-score is ill-defined and being set to 0.0 in labels with no true nor predicted samples. Use `zero_division` parameter to control this behavior.\n",
            "  _warn_prf(average, modifier, f\"{metric.capitalize()} is\", len(result))\n"
          ]
        },
        {
          "output_type": "stream",
          "name": "stdout",
          "text": [
            "Epoch 1 | Train Loss: 0.2642 | Test F1: 0.0108\n"
          ]
        },
        {
          "output_type": "stream",
          "name": "stderr",
          "text": [
            "Epoch 2/200: 100%|██████████| 76/76 [00:00<00:00, 98.76it/s, loss=0.1524]\n",
            "/usr/local/lib/python3.11/dist-packages/sklearn/metrics/_classification.py:1565: UndefinedMetricWarning: F-score is ill-defined and being set to 0.0 in labels with no true nor predicted samples. Use `zero_division` parameter to control this behavior.\n",
            "  _warn_prf(average, modifier, f\"{metric.capitalize()} is\", len(result))\n"
          ]
        },
        {
          "output_type": "stream",
          "name": "stdout",
          "text": [
            "Epoch 2 | Train Loss: 0.1809 | Test F1: 0.0231\n"
          ]
        },
        {
          "output_type": "stream",
          "name": "stderr",
          "text": [
            "Epoch 3/200: 100%|██████████| 76/76 [00:00<00:00, 97.83it/s, loss=0.1762]\n",
            "/usr/local/lib/python3.11/dist-packages/sklearn/metrics/_classification.py:1565: UndefinedMetricWarning: F-score is ill-defined and being set to 0.0 in labels with no true nor predicted samples. Use `zero_division` parameter to control this behavior.\n",
            "  _warn_prf(average, modifier, f\"{metric.capitalize()} is\", len(result))\n"
          ]
        },
        {
          "output_type": "stream",
          "name": "stdout",
          "text": [
            "Epoch 3 | Train Loss: 0.1799 | Test F1: 0.0226\n"
          ]
        },
        {
          "output_type": "stream",
          "name": "stderr",
          "text": [
            "Epoch 4/200: 100%|██████████| 76/76 [00:00<00:00, 98.37it/s, loss=0.1642]\n",
            "/usr/local/lib/python3.11/dist-packages/sklearn/metrics/_classification.py:1565: UndefinedMetricWarning: F-score is ill-defined and being set to 0.0 in labels with no true nor predicted samples. Use `zero_division` parameter to control this behavior.\n",
            "  _warn_prf(average, modifier, f\"{metric.capitalize()} is\", len(result))\n"
          ]
        },
        {
          "output_type": "stream",
          "name": "stdout",
          "text": [
            "Epoch 4 | Train Loss: 0.1781 | Test F1: 0.0070\n"
          ]
        },
        {
          "output_type": "stream",
          "name": "stderr",
          "text": [
            "Epoch 5/200: 100%|██████████| 76/76 [00:01<00:00, 49.86it/s, loss=0.1762]\n",
            "/usr/local/lib/python3.11/dist-packages/sklearn/metrics/_classification.py:1565: UndefinedMetricWarning: F-score is ill-defined and being set to 0.0 in labels with no true nor predicted samples. Use `zero_division` parameter to control this behavior.\n",
            "  _warn_prf(average, modifier, f\"{metric.capitalize()} is\", len(result))\n"
          ]
        },
        {
          "output_type": "stream",
          "name": "stdout",
          "text": [
            "Epoch 5 | Train Loss: 0.1760 | Test F1: 0.0233\n"
          ]
        },
        {
          "output_type": "stream",
          "name": "stderr",
          "text": [
            "Epoch 6/200: 100%|██████████| 76/76 [00:01<00:00, 48.54it/s, loss=0.1849]\n",
            "/usr/local/lib/python3.11/dist-packages/sklearn/metrics/_classification.py:1565: UndefinedMetricWarning: F-score is ill-defined and being set to 0.0 in labels with no true nor predicted samples. Use `zero_division` parameter to control this behavior.\n",
            "  _warn_prf(average, modifier, f\"{metric.capitalize()} is\", len(result))\n"
          ]
        },
        {
          "output_type": "stream",
          "name": "stdout",
          "text": [
            "Epoch 6 | Train Loss: 0.1734 | Test F1: 0.0201\n"
          ]
        },
        {
          "output_type": "stream",
          "name": "stderr",
          "text": [
            "Epoch 7/200: 100%|██████████| 76/76 [00:00<00:00, 94.06it/s, loss=0.1799]\n",
            "/usr/local/lib/python3.11/dist-packages/sklearn/metrics/_classification.py:1565: UndefinedMetricWarning: F-score is ill-defined and being set to 0.0 in labels with no true nor predicted samples. Use `zero_division` parameter to control this behavior.\n",
            "  _warn_prf(average, modifier, f\"{metric.capitalize()} is\", len(result))\n"
          ]
        },
        {
          "output_type": "stream",
          "name": "stdout",
          "text": [
            "Epoch 7 | Train Loss: 0.1707 | Test F1: 0.0180\n"
          ]
        },
        {
          "output_type": "stream",
          "name": "stderr",
          "text": [
            "Epoch 8/200: 100%|██████████| 76/76 [00:00<00:00, 98.20it/s, loss=0.1802]\n",
            "/usr/local/lib/python3.11/dist-packages/sklearn/metrics/_classification.py:1565: UndefinedMetricWarning: F-score is ill-defined and being set to 0.0 in labels with no true nor predicted samples. Use `zero_division` parameter to control this behavior.\n",
            "  _warn_prf(average, modifier, f\"{metric.capitalize()} is\", len(result))\n"
          ]
        },
        {
          "output_type": "stream",
          "name": "stdout",
          "text": [
            "Epoch 8 | Train Loss: 0.1674 | Test F1: 0.0204\n"
          ]
        },
        {
          "output_type": "stream",
          "name": "stderr",
          "text": [
            "Epoch 9/200: 100%|██████████| 76/76 [00:00<00:00, 98.73it/s, loss=0.1581] \n",
            "/usr/local/lib/python3.11/dist-packages/sklearn/metrics/_classification.py:1565: UndefinedMetricWarning: F-score is ill-defined and being set to 0.0 in labels with no true nor predicted samples. Use `zero_division` parameter to control this behavior.\n",
            "  _warn_prf(average, modifier, f\"{metric.capitalize()} is\", len(result))\n"
          ]
        },
        {
          "output_type": "stream",
          "name": "stdout",
          "text": [
            "Epoch 9 | Train Loss: 0.1635 | Test F1: 0.0279\n"
          ]
        },
        {
          "output_type": "stream",
          "name": "stderr",
          "text": [
            "Epoch 10/200: 100%|██████████| 76/76 [00:00<00:00, 96.55it/s, loss=0.1538]\n",
            "/usr/local/lib/python3.11/dist-packages/sklearn/metrics/_classification.py:1565: UndefinedMetricWarning: F-score is ill-defined and being set to 0.0 in labels with no true nor predicted samples. Use `zero_division` parameter to control this behavior.\n",
            "  _warn_prf(average, modifier, f\"{metric.capitalize()} is\", len(result))\n"
          ]
        },
        {
          "output_type": "stream",
          "name": "stdout",
          "text": [
            "Epoch 10 | Train Loss: 0.1593 | Test F1: 0.0290\n"
          ]
        },
        {
          "output_type": "stream",
          "name": "stderr",
          "text": [
            "Epoch 11/200: 100%|██████████| 76/76 [00:00<00:00, 98.27it/s, loss=0.1478]\n",
            "/usr/local/lib/python3.11/dist-packages/sklearn/metrics/_classification.py:1565: UndefinedMetricWarning: F-score is ill-defined and being set to 0.0 in labels with no true nor predicted samples. Use `zero_division` parameter to control this behavior.\n",
            "  _warn_prf(average, modifier, f\"{metric.capitalize()} is\", len(result))\n"
          ]
        },
        {
          "output_type": "stream",
          "name": "stdout",
          "text": [
            "Epoch 11 | Train Loss: 0.1541 | Test F1: 0.0339\n"
          ]
        },
        {
          "output_type": "stream",
          "name": "stderr",
          "text": [
            "Epoch 12/200: 100%|██████████| 76/76 [00:00<00:00, 96.48it/s, loss=0.1469]\n",
            "/usr/local/lib/python3.11/dist-packages/sklearn/metrics/_classification.py:1565: UndefinedMetricWarning: F-score is ill-defined and being set to 0.0 in labels with no true nor predicted samples. Use `zero_division` parameter to control this behavior.\n",
            "  _warn_prf(average, modifier, f\"{metric.capitalize()} is\", len(result))\n"
          ]
        },
        {
          "output_type": "stream",
          "name": "stdout",
          "text": [
            "Epoch 12 | Train Loss: 0.1489 | Test F1: 0.0348\n"
          ]
        },
        {
          "output_type": "stream",
          "name": "stderr",
          "text": [
            "Epoch 13/200: 100%|██████████| 76/76 [00:00<00:00, 96.92it/s, loss=0.1480]\n",
            "/usr/local/lib/python3.11/dist-packages/sklearn/metrics/_classification.py:1565: UndefinedMetricWarning: F-score is ill-defined and being set to 0.0 in labels with no true nor predicted samples. Use `zero_division` parameter to control this behavior.\n",
            "  _warn_prf(average, modifier, f\"{metric.capitalize()} is\", len(result))\n"
          ]
        },
        {
          "output_type": "stream",
          "name": "stdout",
          "text": [
            "Epoch 13 | Train Loss: 0.1437 | Test F1: 0.0353\n"
          ]
        },
        {
          "output_type": "stream",
          "name": "stderr",
          "text": [
            "Epoch 14/200: 100%|██████████| 76/76 [00:00<00:00, 96.42it/s, loss=0.1260]\n",
            "/usr/local/lib/python3.11/dist-packages/sklearn/metrics/_classification.py:1565: UndefinedMetricWarning: F-score is ill-defined and being set to 0.0 in labels with no true nor predicted samples. Use `zero_division` parameter to control this behavior.\n",
            "  _warn_prf(average, modifier, f\"{metric.capitalize()} is\", len(result))\n"
          ]
        },
        {
          "output_type": "stream",
          "name": "stdout",
          "text": [
            "Epoch 14 | Train Loss: 0.1367 | Test F1: 0.0417\n"
          ]
        },
        {
          "output_type": "stream",
          "name": "stderr",
          "text": [
            "Epoch 15/200: 100%|██████████| 76/76 [00:01<00:00, 65.35it/s, loss=0.1304]\n",
            "/usr/local/lib/python3.11/dist-packages/sklearn/metrics/_classification.py:1565: UndefinedMetricWarning: F-score is ill-defined and being set to 0.0 in labels with no true nor predicted samples. Use `zero_division` parameter to control this behavior.\n",
            "  _warn_prf(average, modifier, f\"{metric.capitalize()} is\", len(result))\n"
          ]
        },
        {
          "output_type": "stream",
          "name": "stdout",
          "text": [
            "Epoch 15 | Train Loss: 0.1297 | Test F1: 0.0459\n"
          ]
        },
        {
          "output_type": "stream",
          "name": "stderr",
          "text": [
            "Epoch 16/200: 100%|██████████| 76/76 [00:00<00:00, 83.02it/s, loss=0.1151]\n"
          ]
        },
        {
          "output_type": "stream",
          "name": "stdout",
          "text": [
            "Epoch 16 | Train Loss: 0.1222 | Test F1: 0.0606\n"
          ]
        },
        {
          "output_type": "stream",
          "name": "stderr",
          "text": [
            "Epoch 17/200: 100%|██████████| 76/76 [00:00<00:00, 76.53it/s, loss=0.1154]\n"
          ]
        },
        {
          "output_type": "stream",
          "name": "stdout",
          "text": [
            "Epoch 17 | Train Loss: 0.1141 | Test F1: 0.0823\n"
          ]
        },
        {
          "output_type": "stream",
          "name": "stderr",
          "text": [
            "Epoch 18/200: 100%|██████████| 76/76 [00:00<00:00, 76.07it/s, loss=0.0968]\n"
          ]
        },
        {
          "output_type": "stream",
          "name": "stdout",
          "text": [
            "Epoch 18 | Train Loss: 0.1051 | Test F1: 0.1159\n"
          ]
        },
        {
          "output_type": "stream",
          "name": "stderr",
          "text": [
            "Epoch 19/200: 100%|██████████| 76/76 [00:00<00:00, 89.63it/s, loss=0.0748]\n"
          ]
        },
        {
          "output_type": "stream",
          "name": "stdout",
          "text": [
            "Epoch 19 | Train Loss: 0.0971 | Test F1: 0.1054\n"
          ]
        },
        {
          "output_type": "stream",
          "name": "stderr",
          "text": [
            "Epoch 20/200: 100%|██████████| 76/76 [00:00<00:00, 97.42it/s, loss=0.0967]\n"
          ]
        },
        {
          "output_type": "stream",
          "name": "stdout",
          "text": [
            "Epoch 20 | Train Loss: 0.0892 | Test F1: 0.1283\n"
          ]
        },
        {
          "output_type": "stream",
          "name": "stderr",
          "text": [
            "Epoch 21/200: 100%|██████████| 76/76 [00:00<00:00, 98.27it/s, loss=0.0807]\n"
          ]
        },
        {
          "output_type": "stream",
          "name": "stdout",
          "text": [
            "Epoch 21 | Train Loss: 0.0804 | Test F1: 0.1351\n"
          ]
        },
        {
          "output_type": "stream",
          "name": "stderr",
          "text": [
            "Epoch 22/200: 100%|██████████| 76/76 [00:00<00:00, 98.11it/s, loss=0.0726]\n"
          ]
        },
        {
          "output_type": "stream",
          "name": "stdout",
          "text": [
            "Epoch 22 | Train Loss: 0.0728 | Test F1: 0.1611\n"
          ]
        },
        {
          "output_type": "stream",
          "name": "stderr",
          "text": [
            "Epoch 23/200: 100%|██████████| 76/76 [00:01<00:00, 63.48it/s, loss=0.0748]\n"
          ]
        },
        {
          "output_type": "stream",
          "name": "stdout",
          "text": [
            "Epoch 23 | Train Loss: 0.0648 | Test F1: 0.1555\n"
          ]
        },
        {
          "output_type": "stream",
          "name": "stderr",
          "text": [
            "Epoch 24/200: 100%|██████████| 76/76 [00:00<00:00, 81.23it/s, loss=0.0440]\n"
          ]
        },
        {
          "output_type": "stream",
          "name": "stdout",
          "text": [
            "Epoch 24 | Train Loss: 0.0576 | Test F1: 0.1940\n"
          ]
        },
        {
          "output_type": "stream",
          "name": "stderr",
          "text": [
            "Epoch 25/200: 100%|██████████| 76/76 [00:00<00:00, 96.73it/s, loss=0.0528]\n"
          ]
        },
        {
          "output_type": "stream",
          "name": "stdout",
          "text": [
            "Epoch 25 | Train Loss: 0.0514 | Test F1: 0.2042\n"
          ]
        },
        {
          "output_type": "stream",
          "name": "stderr",
          "text": [
            "Epoch 26/200: 100%|██████████| 76/76 [00:00<00:00, 97.80it/s, loss=0.0615] \n"
          ]
        },
        {
          "output_type": "stream",
          "name": "stdout",
          "text": [
            "Epoch 26 | Train Loss: 0.0463 | Test F1: 0.1971\n"
          ]
        },
        {
          "output_type": "stream",
          "name": "stderr",
          "text": [
            "Epoch 27/200: 100%|██████████| 76/76 [00:00<00:00, 93.93it/s, loss=0.0416]\n"
          ]
        },
        {
          "output_type": "stream",
          "name": "stdout",
          "text": [
            "Epoch 27 | Train Loss: 0.0412 | Test F1: 0.2081\n"
          ]
        },
        {
          "output_type": "stream",
          "name": "stderr",
          "text": [
            "Epoch 28/200: 100%|██████████| 76/76 [00:00<00:00, 97.10it/s, loss=0.0462]\n"
          ]
        },
        {
          "output_type": "stream",
          "name": "stdout",
          "text": [
            "Epoch 28 | Train Loss: 0.0362 | Test F1: 0.2150\n"
          ]
        },
        {
          "output_type": "stream",
          "name": "stderr",
          "text": [
            "Epoch 29/200: 100%|██████████| 76/76 [00:00<00:00, 93.58it/s, loss=0.0380]\n"
          ]
        },
        {
          "output_type": "stream",
          "name": "stdout",
          "text": [
            "Epoch 29 | Train Loss: 0.0319 | Test F1: 0.2527\n"
          ]
        },
        {
          "output_type": "stream",
          "name": "stderr",
          "text": [
            "Epoch 30/200: 100%|██████████| 76/76 [00:01<00:00, 73.63it/s, loss=0.0346]\n"
          ]
        },
        {
          "output_type": "stream",
          "name": "stdout",
          "text": [
            "Epoch 30 | Train Loss: 0.0284 | Test F1: 0.2654\n"
          ]
        },
        {
          "output_type": "stream",
          "name": "stderr",
          "text": [
            "Epoch 31/200: 100%|██████████| 76/76 [00:01<00:00, 75.33it/s, loss=0.0263]\n"
          ]
        },
        {
          "output_type": "stream",
          "name": "stdout",
          "text": [
            "Epoch 31 | Train Loss: 0.0257 | Test F1: 0.2560\n"
          ]
        },
        {
          "output_type": "stream",
          "name": "stderr",
          "text": [
            "Epoch 32/200: 100%|██████████| 76/76 [00:00<00:00, 83.51it/s, loss=0.0308]\n"
          ]
        },
        {
          "output_type": "stream",
          "name": "stdout",
          "text": [
            "Epoch 32 | Train Loss: 0.0227 | Test F1: 0.2810\n"
          ]
        },
        {
          "output_type": "stream",
          "name": "stderr",
          "text": [
            "Epoch 33/200: 100%|██████████| 76/76 [00:00<00:00, 95.39it/s, loss=0.0189]\n"
          ]
        },
        {
          "output_type": "stream",
          "name": "stdout",
          "text": [
            "Epoch 33 | Train Loss: 0.0203 | Test F1: 0.2894\n"
          ]
        },
        {
          "output_type": "stream",
          "name": "stderr",
          "text": [
            "Epoch 34/200: 100%|██████████| 76/76 [00:00<00:00, 97.41it/s, loss=0.0170]\n"
          ]
        },
        {
          "output_type": "stream",
          "name": "stdout",
          "text": [
            "Epoch 34 | Train Loss: 0.0184 | Test F1: 0.2942\n"
          ]
        },
        {
          "output_type": "stream",
          "name": "stderr",
          "text": [
            "Epoch 35/200: 100%|██████████| 76/76 [00:00<00:00, 91.64it/s, loss=0.0125]\n"
          ]
        },
        {
          "output_type": "stream",
          "name": "stdout",
          "text": [
            "Epoch 35 | Train Loss: 0.0167 | Test F1: 0.2941\n"
          ]
        },
        {
          "output_type": "stream",
          "name": "stderr",
          "text": [
            "Epoch 36/200: 100%|██████████| 76/76 [00:00<00:00, 95.14it/s, loss=0.0209]\n"
          ]
        },
        {
          "output_type": "stream",
          "name": "stdout",
          "text": [
            "Epoch 36 | Train Loss: 0.0148 | Test F1: 0.2915\n"
          ]
        },
        {
          "output_type": "stream",
          "name": "stderr",
          "text": [
            "Epoch 37/200: 100%|██████████| 76/76 [00:00<00:00, 97.34it/s, loss=0.0125]\n"
          ]
        },
        {
          "output_type": "stream",
          "name": "stdout",
          "text": [
            "Epoch 37 | Train Loss: 0.0139 | Test F1: 0.3029\n"
          ]
        },
        {
          "output_type": "stream",
          "name": "stderr",
          "text": [
            "Epoch 38/200: 100%|██████████| 76/76 [00:00<00:00, 94.13it/s, loss=0.0196]\n"
          ]
        },
        {
          "output_type": "stream",
          "name": "stdout",
          "text": [
            "Epoch 38 | Train Loss: 0.0123 | Test F1: 0.3011\n"
          ]
        },
        {
          "output_type": "stream",
          "name": "stderr",
          "text": [
            "Epoch 39/200: 100%|██████████| 76/76 [00:00<00:00, 97.37it/s, loss=0.0145]\n"
          ]
        },
        {
          "output_type": "stream",
          "name": "stdout",
          "text": [
            "Epoch 39 | Train Loss: 0.0117 | Test F1: 0.3188\n"
          ]
        },
        {
          "output_type": "stream",
          "name": "stderr",
          "text": [
            "Epoch 40/200: 100%|██████████| 76/76 [00:00<00:00, 98.27it/s, loss=0.0086]\n"
          ]
        },
        {
          "output_type": "stream",
          "name": "stdout",
          "text": [
            "Epoch 40 | Train Loss: 0.0111 | Test F1: 0.3173\n"
          ]
        },
        {
          "output_type": "stream",
          "name": "stderr",
          "text": [
            "Epoch 41/200: 100%|██████████| 76/76 [00:01<00:00, 72.53it/s, loss=0.0077]\n"
          ]
        },
        {
          "output_type": "stream",
          "name": "stdout",
          "text": [
            "Epoch 41 | Train Loss: 0.0097 | Test F1: 0.3162\n"
          ]
        },
        {
          "output_type": "stream",
          "name": "stderr",
          "text": [
            "Epoch 42/200: 100%|██████████| 76/76 [00:01<00:00, 69.07it/s, loss=0.0103]\n"
          ]
        },
        {
          "output_type": "stream",
          "name": "stdout",
          "text": [
            "Epoch 42 | Train Loss: 0.0087 | Test F1: 0.3139\n"
          ]
        },
        {
          "output_type": "stream",
          "name": "stderr",
          "text": [
            "Epoch 43/200: 100%|██████████| 76/76 [00:01<00:00, 72.71it/s, loss=0.0107]\n"
          ]
        },
        {
          "output_type": "stream",
          "name": "stdout",
          "text": [
            "Epoch 43 | Train Loss: 0.0079 | Test F1: 0.3141\n"
          ]
        },
        {
          "output_type": "stream",
          "name": "stderr",
          "text": [
            "Epoch 44/200: 100%|██████████| 76/76 [00:01<00:00, 61.23it/s, loss=0.0107]\n"
          ]
        },
        {
          "output_type": "stream",
          "name": "stdout",
          "text": [
            "Epoch 44 | Train Loss: 0.0075 | Test F1: 0.3200\n"
          ]
        },
        {
          "output_type": "stream",
          "name": "stderr",
          "text": [
            "Epoch 45/200: 100%|██████████| 76/76 [00:00<00:00, 83.20it/s, loss=0.0042]\n"
          ]
        },
        {
          "output_type": "stream",
          "name": "stdout",
          "text": [
            "Epoch 45 | Train Loss: 0.0069 | Test F1: 0.3179\n"
          ]
        },
        {
          "output_type": "stream",
          "name": "stderr",
          "text": [
            "Epoch 46/200: 100%|██████████| 76/76 [00:01<00:00, 56.06it/s, loss=0.0056]\n"
          ]
        },
        {
          "output_type": "stream",
          "name": "stdout",
          "text": [
            "Epoch 46 | Train Loss: 0.0067 | Test F1: 0.3104\n"
          ]
        },
        {
          "output_type": "stream",
          "name": "stderr",
          "text": [
            "Epoch 47/200: 100%|██████████| 76/76 [00:01<00:00, 62.37it/s, loss=0.0048]\n"
          ]
        },
        {
          "output_type": "stream",
          "name": "stdout",
          "text": [
            "Epoch 47 | Train Loss: 0.0065 | Test F1: 0.3129\n"
          ]
        },
        {
          "output_type": "stream",
          "name": "stderr",
          "text": [
            "Epoch 48/200: 100%|██████████| 76/76 [00:00<00:00, 94.01it/s, loss=0.0080]\n"
          ]
        },
        {
          "output_type": "stream",
          "name": "stdout",
          "text": [
            "Epoch 48 | Train Loss: 0.0062 | Test F1: 0.3150\n"
          ]
        },
        {
          "output_type": "stream",
          "name": "stderr",
          "text": [
            "Epoch 49/200: 100%|██████████| 76/76 [00:00<00:00, 95.74it/s, loss=0.0039]\n"
          ]
        },
        {
          "output_type": "stream",
          "name": "stdout",
          "text": [
            "Epoch 49 | Train Loss: 0.0058 | Test F1: 0.3146\n"
          ]
        },
        {
          "output_type": "stream",
          "name": "stderr",
          "text": [
            "Epoch 50/200: 100%|██████████| 76/76 [00:01<00:00, 62.33it/s, loss=0.0036]\n"
          ]
        },
        {
          "output_type": "stream",
          "name": "stdout",
          "text": [
            "Epoch 50 | Train Loss: 0.0056 | Test F1: 0.3141\n"
          ]
        },
        {
          "output_type": "stream",
          "name": "stderr",
          "text": [
            "Epoch 51/200: 100%|██████████| 76/76 [00:01<00:00, 44.56it/s, loss=0.0115]\n"
          ]
        },
        {
          "output_type": "stream",
          "name": "stdout",
          "text": [
            "Epoch 51 | Train Loss: 0.0054 | Test F1: 0.3111\n"
          ]
        },
        {
          "output_type": "stream",
          "name": "stderr",
          "text": [
            "Epoch 52/200: 100%|██████████| 76/76 [00:00<00:00, 76.89it/s, loss=0.0080]\n"
          ]
        },
        {
          "output_type": "stream",
          "name": "stdout",
          "text": [
            "Epoch 52 | Train Loss: 0.0052 | Test F1: 0.3160\n"
          ]
        },
        {
          "output_type": "stream",
          "name": "stderr",
          "text": [
            "Epoch 53/200: 100%|██████████| 76/76 [00:00<00:00, 79.74it/s, loss=0.0106]\n"
          ]
        },
        {
          "output_type": "stream",
          "name": "stdout",
          "text": [
            "Epoch 53 | Train Loss: 0.0052 | Test F1: 0.3105\n"
          ]
        },
        {
          "output_type": "stream",
          "name": "stderr",
          "text": [
            "Epoch 54/200: 100%|██████████| 76/76 [00:01<00:00, 65.54it/s, loss=0.0104]\n"
          ]
        },
        {
          "output_type": "stream",
          "name": "stdout",
          "text": [
            "Epoch 54 | Train Loss: 0.0057 | Test F1: 0.3088\n"
          ]
        },
        {
          "output_type": "stream",
          "name": "stderr",
          "text": [
            "Epoch 55/200: 100%|██████████| 76/76 [00:00<00:00, 86.40it/s, loss=0.0810]\n"
          ]
        },
        {
          "output_type": "stream",
          "name": "stdout",
          "text": [
            "Epoch 55 | Train Loss: 0.0186 | Test F1: 0.2460\n"
          ]
        },
        {
          "output_type": "stream",
          "name": "stderr",
          "text": [
            "Epoch 56/200: 100%|██████████| 76/76 [00:00<00:00, 94.23it/s, loss=0.0819]\n"
          ]
        },
        {
          "output_type": "stream",
          "name": "stdout",
          "text": [
            "Epoch 56 | Train Loss: 0.0788 | Test F1: 0.2277\n"
          ]
        },
        {
          "output_type": "stream",
          "name": "stderr",
          "text": [
            "Epoch 57/200: 100%|██████████| 76/76 [00:00<00:00, 98.17it/s, loss=0.0357]\n"
          ]
        },
        {
          "output_type": "stream",
          "name": "stdout",
          "text": [
            "Epoch 57 | Train Loss: 0.0416 | Test F1: 0.2870\n"
          ]
        },
        {
          "output_type": "stream",
          "name": "stderr",
          "text": [
            "Epoch 58/200: 100%|██████████| 76/76 [00:00<00:00, 93.20it/s, loss=0.0196]\n"
          ]
        },
        {
          "output_type": "stream",
          "name": "stdout",
          "text": [
            "Epoch 58 | Train Loss: 0.0179 | Test F1: 0.3029\n"
          ]
        },
        {
          "output_type": "stream",
          "name": "stderr",
          "text": [
            "Epoch 59/200: 100%|██████████| 76/76 [00:00<00:00, 92.43it/s, loss=0.0128]\n"
          ]
        },
        {
          "output_type": "stream",
          "name": "stdout",
          "text": [
            "Epoch 59 | Train Loss: 0.0106 | Test F1: 0.3079\n"
          ]
        },
        {
          "output_type": "stream",
          "name": "stderr",
          "text": [
            "Epoch 60/200: 100%|██████████| 76/76 [00:00<00:00, 95.17it/s, loss=0.0066]\n"
          ]
        },
        {
          "output_type": "stream",
          "name": "stdout",
          "text": [
            "Epoch 60 | Train Loss: 0.0076 | Test F1: 0.3124\n"
          ]
        },
        {
          "output_type": "stream",
          "name": "stderr",
          "text": [
            "Epoch 61/200: 100%|██████████| 76/76 [00:00<00:00, 91.68it/s, loss=0.0132]\n"
          ]
        },
        {
          "output_type": "stream",
          "name": "stdout",
          "text": [
            "Epoch 61 | Train Loss: 0.0062 | Test F1: 0.3163\n"
          ]
        },
        {
          "output_type": "stream",
          "name": "stderr",
          "text": [
            "Epoch 62/200: 100%|██████████| 76/76 [00:00<00:00, 96.81it/s, loss=0.0096]\n"
          ]
        },
        {
          "output_type": "stream",
          "name": "stdout",
          "text": [
            "Epoch 62 | Train Loss: 0.0056 | Test F1: 0.3166\n"
          ]
        },
        {
          "output_type": "stream",
          "name": "stderr",
          "text": [
            "Epoch 63/200: 100%|██████████| 76/76 [00:00<00:00, 97.49it/s, loss=0.0028]\n"
          ]
        },
        {
          "output_type": "stream",
          "name": "stdout",
          "text": [
            "Epoch 63 | Train Loss: 0.0051 | Test F1: 0.3168\n"
          ]
        },
        {
          "output_type": "stream",
          "name": "stderr",
          "text": [
            "Epoch 64/200: 100%|██████████| 76/76 [00:00<00:00, 94.14it/s, loss=0.0056]\n"
          ]
        },
        {
          "output_type": "stream",
          "name": "stdout",
          "text": [
            "Epoch 64 | Train Loss: 0.0048 | Test F1: 0.3129\n"
          ]
        },
        {
          "output_type": "stream",
          "name": "stderr",
          "text": [
            "Epoch 65/200: 100%|██████████| 76/76 [00:00<00:00, 89.17it/s, loss=0.0023]\n"
          ]
        },
        {
          "output_type": "stream",
          "name": "stdout",
          "text": [
            "Epoch 65 | Train Loss: 0.0046 | Test F1: 0.3204\n"
          ]
        },
        {
          "output_type": "stream",
          "name": "stderr",
          "text": [
            "Epoch 66/200: 100%|██████████| 76/76 [00:00<00:00, 85.79it/s, loss=0.0025]\n"
          ]
        },
        {
          "output_type": "stream",
          "name": "stdout",
          "text": [
            "Epoch 66 | Train Loss: 0.0043 | Test F1: 0.3147\n"
          ]
        },
        {
          "output_type": "stream",
          "name": "stderr",
          "text": [
            "Epoch 67/200: 100%|██████████| 76/76 [00:00<00:00, 76.77it/s, loss=0.0019]\n"
          ]
        },
        {
          "output_type": "stream",
          "name": "stdout",
          "text": [
            "Epoch 67 | Train Loss: 0.0042 | Test F1: 0.3195\n"
          ]
        },
        {
          "output_type": "stream",
          "name": "stderr",
          "text": [
            "Epoch 68/200: 100%|██████████| 76/76 [00:01<00:00, 74.68it/s, loss=0.0052]\n"
          ]
        },
        {
          "output_type": "stream",
          "name": "stdout",
          "text": [
            "Epoch 68 | Train Loss: 0.0040 | Test F1: 0.3130\n"
          ]
        },
        {
          "output_type": "stream",
          "name": "stderr",
          "text": [
            "Epoch 69/200: 100%|██████████| 76/76 [00:00<00:00, 85.23it/s, loss=0.0054]\n"
          ]
        },
        {
          "output_type": "stream",
          "name": "stdout",
          "text": [
            "Epoch 69 | Train Loss: 0.0039 | Test F1: 0.3110\n"
          ]
        },
        {
          "output_type": "stream",
          "name": "stderr",
          "text": [
            "Epoch 70/200: 100%|██████████| 76/76 [00:01<00:00, 61.35it/s, loss=0.0032]\n"
          ]
        },
        {
          "output_type": "stream",
          "name": "stdout",
          "text": [
            "Epoch 70 | Train Loss: 0.0038 | Test F1: 0.3084\n"
          ]
        },
        {
          "output_type": "stream",
          "name": "stderr",
          "text": [
            "Epoch 71/200: 100%|██████████| 76/76 [00:00<00:00, 93.49it/s, loss=0.0169]\n"
          ]
        },
        {
          "output_type": "stream",
          "name": "stdout",
          "text": [
            "Epoch 71 | Train Loss: 0.0037 | Test F1: 0.3127\n"
          ]
        },
        {
          "output_type": "stream",
          "name": "stderr",
          "text": [
            "Epoch 72/200: 100%|██████████| 76/76 [00:00<00:00, 88.78it/s, loss=0.0016]\n"
          ]
        },
        {
          "output_type": "stream",
          "name": "stdout",
          "text": [
            "Epoch 72 | Train Loss: 0.0036 | Test F1: 0.3136\n"
          ]
        },
        {
          "output_type": "stream",
          "name": "stderr",
          "text": [
            "Epoch 73/200: 100%|██████████| 76/76 [00:01<00:00, 66.81it/s, loss=0.0099]\n"
          ]
        },
        {
          "output_type": "stream",
          "name": "stdout",
          "text": [
            "Epoch 73 | Train Loss: 0.0035 | Test F1: 0.3156\n"
          ]
        },
        {
          "output_type": "stream",
          "name": "stderr",
          "text": [
            "Epoch 74/200: 100%|██████████| 76/76 [00:01<00:00, 72.06it/s, loss=0.0034]\n"
          ]
        },
        {
          "output_type": "stream",
          "name": "stdout",
          "text": [
            "Epoch 74 | Train Loss: 0.0034 | Test F1: 0.3174\n"
          ]
        },
        {
          "output_type": "stream",
          "name": "stderr",
          "text": [
            "Epoch 75/200: 100%|██████████| 76/76 [00:01<00:00, 74.87it/s, loss=0.0014]\n"
          ]
        },
        {
          "output_type": "stream",
          "name": "stdout",
          "text": [
            "Epoch 75 | Train Loss: 0.0034 | Test F1: 0.3129\n"
          ]
        },
        {
          "output_type": "stream",
          "name": "stderr",
          "text": [
            "Epoch 76/200: 100%|██████████| 76/76 [00:01<00:00, 60.98it/s, loss=0.0033]\n"
          ]
        },
        {
          "output_type": "stream",
          "name": "stdout",
          "text": [
            "Epoch 76 | Train Loss: 0.0033 | Test F1: 0.3184\n"
          ]
        },
        {
          "output_type": "stream",
          "name": "stderr",
          "text": [
            "Epoch 77/200: 100%|██████████| 76/76 [00:00<00:00, 86.06it/s, loss=0.0057]\n"
          ]
        },
        {
          "output_type": "stream",
          "name": "stdout",
          "text": [
            "Epoch 77 | Train Loss: 0.0032 | Test F1: 0.3146\n"
          ]
        },
        {
          "output_type": "stream",
          "name": "stderr",
          "text": [
            "Epoch 78/200: 100%|██████████| 76/76 [00:00<00:00, 78.77it/s, loss=0.0052]\n"
          ]
        },
        {
          "output_type": "stream",
          "name": "stdout",
          "text": [
            "Epoch 78 | Train Loss: 0.0033 | Test F1: 0.3133\n"
          ]
        },
        {
          "output_type": "stream",
          "name": "stderr",
          "text": [
            "Epoch 79/200: 100%|██████████| 76/76 [00:01<00:00, 70.89it/s, loss=0.0023]\n"
          ]
        },
        {
          "output_type": "stream",
          "name": "stdout",
          "text": [
            "Epoch 79 | Train Loss: 0.0033 | Test F1: 0.3138\n"
          ]
        },
        {
          "output_type": "stream",
          "name": "stderr",
          "text": [
            "Epoch 80/200: 100%|██████████| 76/76 [00:00<00:00, 94.71it/s, loss=0.0009]\n"
          ]
        },
        {
          "output_type": "stream",
          "name": "stdout",
          "text": [
            "Epoch 80 | Train Loss: 0.0032 | Test F1: 0.3112\n"
          ]
        },
        {
          "output_type": "stream",
          "name": "stderr",
          "text": [
            "Epoch 81/200: 100%|██████████| 76/76 [00:00<00:00, 93.58it/s, loss=0.0012]\n"
          ]
        },
        {
          "output_type": "stream",
          "name": "stdout",
          "text": [
            "Epoch 81 | Train Loss: 0.0032 | Test F1: 0.3128\n"
          ]
        },
        {
          "output_type": "stream",
          "name": "stderr",
          "text": [
            "Epoch 82/200: 100%|██████████| 76/76 [00:00<00:00, 95.45it/s, loss=0.0010]\n"
          ]
        },
        {
          "output_type": "stream",
          "name": "stdout",
          "text": [
            "Epoch 82 | Train Loss: 0.0030 | Test F1: 0.3137\n"
          ]
        },
        {
          "output_type": "stream",
          "name": "stderr",
          "text": [
            "Epoch 83/200: 100%|██████████| 76/76 [00:00<00:00, 95.15it/s, loss=0.0008]\n"
          ]
        },
        {
          "output_type": "stream",
          "name": "stdout",
          "text": [
            "Epoch 83 | Train Loss: 0.0030 | Test F1: 0.3175\n"
          ]
        },
        {
          "output_type": "stream",
          "name": "stderr",
          "text": [
            "Epoch 84/200: 100%|██████████| 76/76 [00:00<00:00, 92.52it/s, loss=0.0069]\n"
          ]
        },
        {
          "output_type": "stream",
          "name": "stdout",
          "text": [
            "Epoch 84 | Train Loss: 0.0030 | Test F1: 0.3153\n"
          ]
        },
        {
          "output_type": "stream",
          "name": "stderr",
          "text": [
            "Epoch 85/200: 100%|██████████| 76/76 [00:00<00:00, 90.18it/s, loss=0.0043]\n"
          ]
        },
        {
          "output_type": "stream",
          "name": "stdout",
          "text": [
            "Epoch 85 | Train Loss: 0.0030 | Test F1: 0.3222\n"
          ]
        },
        {
          "output_type": "stream",
          "name": "stderr",
          "text": [
            "Epoch 86/200: 100%|██████████| 76/76 [00:00<00:00, 93.19it/s, loss=0.0019]\n"
          ]
        },
        {
          "output_type": "stream",
          "name": "stdout",
          "text": [
            "Epoch 86 | Train Loss: 0.0030 | Test F1: 0.3157\n"
          ]
        },
        {
          "output_type": "stream",
          "name": "stderr",
          "text": [
            "Epoch 87/200: 100%|██████████| 76/76 [00:00<00:00, 91.61it/s, loss=0.0006]\n"
          ]
        },
        {
          "output_type": "stream",
          "name": "stdout",
          "text": [
            "Epoch 87 | Train Loss: 0.0029 | Test F1: 0.3177\n"
          ]
        },
        {
          "output_type": "stream",
          "name": "stderr",
          "text": [
            "Epoch 88/200: 100%|██████████| 76/76 [00:00<00:00, 92.47it/s, loss=0.0045]\n"
          ]
        },
        {
          "output_type": "stream",
          "name": "stdout",
          "text": [
            "Epoch 88 | Train Loss: 0.0030 | Test F1: 0.3194\n"
          ]
        },
        {
          "output_type": "stream",
          "name": "stderr",
          "text": [
            "Epoch 89/200: 100%|██████████| 76/76 [00:00<00:00, 94.68it/s, loss=0.0053]\n"
          ]
        },
        {
          "output_type": "stream",
          "name": "stdout",
          "text": [
            "Epoch 89 | Train Loss: 0.0030 | Test F1: 0.3254\n"
          ]
        },
        {
          "output_type": "stream",
          "name": "stderr",
          "text": [
            "Epoch 90/200: 100%|██████████| 76/76 [00:00<00:00, 95.28it/s, loss=0.0026]\n"
          ]
        },
        {
          "output_type": "stream",
          "name": "stdout",
          "text": [
            "Epoch 90 | Train Loss: 0.0029 | Test F1: 0.3155\n"
          ]
        },
        {
          "output_type": "stream",
          "name": "stderr",
          "text": [
            "Epoch 91/200: 100%|██████████| 76/76 [00:01<00:00, 62.45it/s, loss=0.0008]\n"
          ]
        },
        {
          "output_type": "stream",
          "name": "stdout",
          "text": [
            "Epoch 91 | Train Loss: 0.0029 | Test F1: 0.3201\n"
          ]
        },
        {
          "output_type": "stream",
          "name": "stderr",
          "text": [
            "Epoch 92/200: 100%|██████████| 76/76 [00:01<00:00, 75.83it/s, loss=0.0006]\n"
          ]
        },
        {
          "output_type": "stream",
          "name": "stdout",
          "text": [
            "Epoch 92 | Train Loss: 0.0030 | Test F1: 0.3238\n"
          ]
        },
        {
          "output_type": "stream",
          "name": "stderr",
          "text": [
            "Epoch 93/200: 100%|██████████| 76/76 [00:00<00:00, 81.03it/s, loss=0.0055]\n"
          ]
        },
        {
          "output_type": "stream",
          "name": "stdout",
          "text": [
            "Epoch 93 | Train Loss: 0.0029 | Test F1: 0.3213\n"
          ]
        },
        {
          "output_type": "stream",
          "name": "stderr",
          "text": [
            "Epoch 94/200: 100%|██████████| 76/76 [00:00<00:00, 90.89it/s, loss=0.0007]\n"
          ]
        },
        {
          "output_type": "stream",
          "name": "stdout",
          "text": [
            "Epoch 94 | Train Loss: 0.0028 | Test F1: 0.3203\n"
          ]
        },
        {
          "output_type": "stream",
          "name": "stderr",
          "text": [
            "Epoch 95/200: 100%|██████████| 76/76 [00:00<00:00, 91.76it/s, loss=0.0028]\n"
          ]
        },
        {
          "output_type": "stream",
          "name": "stdout",
          "text": [
            "Epoch 95 | Train Loss: 0.0030 | Test F1: 0.3213\n"
          ]
        },
        {
          "output_type": "stream",
          "name": "stderr",
          "text": [
            "Epoch 96/200: 100%|██████████| 76/76 [00:00<00:00, 92.72it/s, loss=0.0083]\n"
          ]
        },
        {
          "output_type": "stream",
          "name": "stdout",
          "text": [
            "Epoch 96 | Train Loss: 0.0041 | Test F1: 0.3195\n"
          ]
        },
        {
          "output_type": "stream",
          "name": "stderr",
          "text": [
            "Epoch 97/200: 100%|██████████| 76/76 [00:00<00:00, 93.63it/s, loss=0.1027]\n"
          ]
        },
        {
          "output_type": "stream",
          "name": "stdout",
          "text": [
            "Epoch 97 | Train Loss: 0.0960 | Test F1: 0.2047\n"
          ]
        },
        {
          "output_type": "stream",
          "name": "stderr",
          "text": [
            "Epoch 98/200: 100%|██████████| 76/76 [00:00<00:00, 94.66it/s, loss=0.0615]\n"
          ]
        },
        {
          "output_type": "stream",
          "name": "stdout",
          "text": [
            "Epoch 98 | Train Loss: 0.0580 | Test F1: 0.2381\n"
          ]
        },
        {
          "output_type": "stream",
          "name": "stderr",
          "text": [
            "Epoch 99/200: 100%|██████████| 76/76 [00:00<00:00, 94.57it/s, loss=0.0269]\n"
          ]
        },
        {
          "output_type": "stream",
          "name": "stdout",
          "text": [
            "Epoch 99 | Train Loss: 0.0259 | Test F1: 0.2994\n"
          ]
        },
        {
          "output_type": "stream",
          "name": "stderr",
          "text": [
            "Epoch 100/200: 100%|██████████| 76/76 [00:00<00:00, 94.91it/s, loss=0.0095]\n"
          ]
        },
        {
          "output_type": "stream",
          "name": "stdout",
          "text": [
            "Epoch 100 | Train Loss: 0.0134 | Test F1: 0.3199\n"
          ]
        },
        {
          "output_type": "stream",
          "name": "stderr",
          "text": [
            "Epoch 101/200: 100%|██████████| 76/76 [00:00<00:00, 95.37it/s, loss=0.0112]\n"
          ]
        },
        {
          "output_type": "stream",
          "name": "stdout",
          "text": [
            "Epoch 101 | Train Loss: 0.0080 | Test F1: 0.3100\n"
          ]
        },
        {
          "output_type": "stream",
          "name": "stderr",
          "text": [
            "Epoch 102/200: 100%|██████████| 76/76 [00:00<00:00, 95.62it/s, loss=0.0078]\n"
          ]
        },
        {
          "output_type": "stream",
          "name": "stdout",
          "text": [
            "Epoch 102 | Train Loss: 0.0061 | Test F1: 0.3166\n"
          ]
        },
        {
          "output_type": "stream",
          "name": "stderr",
          "text": [
            "Epoch 103/200: 100%|██████████| 76/76 [00:00<00:00, 95.71it/s, loss=0.0028]\n"
          ]
        },
        {
          "output_type": "stream",
          "name": "stdout",
          "text": [
            "Epoch 103 | Train Loss: 0.0051 | Test F1: 0.3165\n"
          ]
        },
        {
          "output_type": "stream",
          "name": "stderr",
          "text": [
            "Epoch 104/200: 100%|██████████| 76/76 [00:00<00:00, 87.16it/s, loss=0.0059]\n"
          ]
        },
        {
          "output_type": "stream",
          "name": "stdout",
          "text": [
            "Epoch 104 | Train Loss: 0.0045 | Test F1: 0.3194\n"
          ]
        },
        {
          "output_type": "stream",
          "name": "stderr",
          "text": [
            "Epoch 105/200: 100%|██████████| 76/76 [00:01<00:00, 75.25it/s, loss=0.0022]\n"
          ]
        },
        {
          "output_type": "stream",
          "name": "stdout",
          "text": [
            "Epoch 105 | Train Loss: 0.0042 | Test F1: 0.3119\n"
          ]
        },
        {
          "output_type": "stream",
          "name": "stderr",
          "text": [
            "Epoch 106/200: 100%|██████████| 76/76 [00:01<00:00, 72.73it/s, loss=0.0033]\n"
          ]
        },
        {
          "output_type": "stream",
          "name": "stdout",
          "text": [
            "Epoch 106 | Train Loss: 0.0040 | Test F1: 0.3142\n"
          ]
        },
        {
          "output_type": "stream",
          "name": "stderr",
          "text": [
            "Epoch 107/200: 100%|██████████| 76/76 [00:00<00:00, 86.99it/s, loss=0.0055]\n"
          ]
        },
        {
          "output_type": "stream",
          "name": "stdout",
          "text": [
            "Epoch 107 | Train Loss: 0.0038 | Test F1: 0.3123\n"
          ]
        },
        {
          "output_type": "stream",
          "name": "stderr",
          "text": [
            "Epoch 108/200: 100%|██████████| 76/76 [00:00<00:00, 95.54it/s, loss=0.0019]\n"
          ]
        },
        {
          "output_type": "stream",
          "name": "stdout",
          "text": [
            "Epoch 108 | Train Loss: 0.0037 | Test F1: 0.3164\n"
          ]
        },
        {
          "output_type": "stream",
          "name": "stderr",
          "text": [
            "Epoch 109/200: 100%|██████████| 76/76 [00:00<00:00, 94.50it/s, loss=0.0016]\n"
          ]
        },
        {
          "output_type": "stream",
          "name": "stdout",
          "text": [
            "Epoch 109 | Train Loss: 0.0035 | Test F1: 0.3140\n"
          ]
        },
        {
          "output_type": "stream",
          "name": "stderr",
          "text": [
            "Epoch 110/200: 100%|██████████| 76/76 [00:00<00:00, 95.50it/s, loss=0.0087]\n"
          ]
        },
        {
          "output_type": "stream",
          "name": "stdout",
          "text": [
            "Epoch 110 | Train Loss: 0.0035 | Test F1: 0.3172\n"
          ]
        },
        {
          "output_type": "stream",
          "name": "stderr",
          "text": [
            "Epoch 111/200: 100%|██████████| 76/76 [00:00<00:00, 93.09it/s, loss=0.0060]\n"
          ]
        },
        {
          "output_type": "stream",
          "name": "stdout",
          "text": [
            "Epoch 111 | Train Loss: 0.0034 | Test F1: 0.3139\n"
          ]
        },
        {
          "output_type": "stream",
          "name": "stderr",
          "text": [
            "Epoch 112/200: 100%|██████████| 76/76 [00:00<00:00, 93.21it/s, loss=0.0055]\n"
          ]
        },
        {
          "output_type": "stream",
          "name": "stdout",
          "text": [
            "Epoch 112 | Train Loss: 0.0032 | Test F1: 0.3164\n"
          ]
        },
        {
          "output_type": "stream",
          "name": "stderr",
          "text": [
            "Epoch 113/200: 100%|██████████| 76/76 [00:00<00:00, 91.20it/s, loss=0.0008]\n"
          ]
        },
        {
          "output_type": "stream",
          "name": "stdout",
          "text": [
            "Epoch 113 | Train Loss: 0.0032 | Test F1: 0.3126\n"
          ]
        },
        {
          "output_type": "stream",
          "name": "stderr",
          "text": [
            "Epoch 114/200: 100%|██████████| 76/76 [00:00<00:00, 91.85it/s, loss=0.0043]\n"
          ]
        },
        {
          "output_type": "stream",
          "name": "stdout",
          "text": [
            "Epoch 114 | Train Loss: 0.0031 | Test F1: 0.3177\n"
          ]
        },
        {
          "output_type": "stream",
          "name": "stderr",
          "text": [
            "Epoch 115/200: 100%|██████████| 76/76 [00:00<00:00, 91.28it/s, loss=0.0061]\n"
          ]
        },
        {
          "output_type": "stream",
          "name": "stdout",
          "text": [
            "Epoch 115 | Train Loss: 0.0031 | Test F1: 0.3178\n"
          ]
        },
        {
          "output_type": "stream",
          "name": "stderr",
          "text": [
            "Epoch 116/200: 100%|██████████| 76/76 [00:00<00:00, 91.15it/s, loss=0.0027]\n"
          ]
        },
        {
          "output_type": "stream",
          "name": "stdout",
          "text": [
            "Epoch 116 | Train Loss: 0.0030 | Test F1: 0.3164\n"
          ]
        },
        {
          "output_type": "stream",
          "name": "stderr",
          "text": [
            "Epoch 117/200: 100%|██████████| 76/76 [00:00<00:00, 93.88it/s, loss=0.0016]\n"
          ]
        },
        {
          "output_type": "stream",
          "name": "stdout",
          "text": [
            "Epoch 117 | Train Loss: 0.0031 | Test F1: 0.3198\n"
          ]
        },
        {
          "output_type": "stream",
          "name": "stderr",
          "text": [
            "Epoch 118/200: 100%|██████████| 76/76 [00:01<00:00, 73.86it/s, loss=0.0024]\n"
          ]
        },
        {
          "output_type": "stream",
          "name": "stdout",
          "text": [
            "Epoch 118 | Train Loss: 0.0029 | Test F1: 0.3168\n"
          ]
        },
        {
          "output_type": "stream",
          "name": "stderr",
          "text": [
            "Epoch 119/200: 100%|██████████| 76/76 [00:01<00:00, 70.62it/s, loss=0.0008]\n"
          ]
        },
        {
          "output_type": "stream",
          "name": "stdout",
          "text": [
            "Epoch 119 | Train Loss: 0.0030 | Test F1: 0.3163\n"
          ]
        },
        {
          "output_type": "stream",
          "name": "stderr",
          "text": [
            "Epoch 120/200: 100%|██████████| 76/76 [00:00<00:00, 87.04it/s, loss=0.0069]\n"
          ]
        },
        {
          "output_type": "stream",
          "name": "stdout",
          "text": [
            "Epoch 120 | Train Loss: 0.0029 | Test F1: 0.3180\n"
          ]
        },
        {
          "output_type": "stream",
          "name": "stderr",
          "text": [
            "Epoch 121/200: 100%|██████████| 76/76 [00:00<00:00, 91.99it/s, loss=0.0006]\n"
          ]
        },
        {
          "output_type": "stream",
          "name": "stdout",
          "text": [
            "Epoch 121 | Train Loss: 0.0029 | Test F1: 0.3192\n"
          ]
        },
        {
          "output_type": "stream",
          "name": "stderr",
          "text": [
            "Epoch 122/200: 100%|██████████| 76/76 [00:00<00:00, 94.31it/s, loss=0.0065]\n"
          ]
        },
        {
          "output_type": "stream",
          "name": "stdout",
          "text": [
            "Epoch 122 | Train Loss: 0.0028 | Test F1: 0.3163\n"
          ]
        },
        {
          "output_type": "stream",
          "name": "stderr",
          "text": [
            "Epoch 123/200: 100%|██████████| 76/76 [00:00<00:00, 93.88it/s, loss=0.0011]\n"
          ]
        },
        {
          "output_type": "stream",
          "name": "stdout",
          "text": [
            "Epoch 123 | Train Loss: 0.0028 | Test F1: 0.3152\n"
          ]
        },
        {
          "output_type": "stream",
          "name": "stderr",
          "text": [
            "Epoch 124/200: 100%|██████████| 76/76 [00:00<00:00, 92.41it/s, loss=0.0021]\n"
          ]
        },
        {
          "output_type": "stream",
          "name": "stdout",
          "text": [
            "Epoch 124 | Train Loss: 0.0029 | Test F1: 0.3194\n"
          ]
        },
        {
          "output_type": "stream",
          "name": "stderr",
          "text": [
            "Epoch 125/200: 100%|██████████| 76/76 [00:00<00:00, 92.15it/s, loss=0.0018]\n"
          ]
        },
        {
          "output_type": "stream",
          "name": "stdout",
          "text": [
            "Epoch 125 | Train Loss: 0.0028 | Test F1: 0.3179\n"
          ]
        },
        {
          "output_type": "stream",
          "name": "stderr",
          "text": [
            "Epoch 126/200: 100%|██████████| 76/76 [00:00<00:00, 91.88it/s, loss=0.0032]\n"
          ]
        },
        {
          "output_type": "stream",
          "name": "stdout",
          "text": [
            "Epoch 126 | Train Loss: 0.0027 | Test F1: 0.3166\n"
          ]
        },
        {
          "output_type": "stream",
          "name": "stderr",
          "text": [
            "Epoch 127/200: 100%|██████████| 76/76 [00:00<00:00, 91.31it/s, loss=0.0062]\n"
          ]
        },
        {
          "output_type": "stream",
          "name": "stdout",
          "text": [
            "Epoch 127 | Train Loss: 0.0027 | Test F1: 0.3169\n"
          ]
        },
        {
          "output_type": "stream",
          "name": "stderr",
          "text": [
            "Epoch 128/200: 100%|██████████| 76/76 [00:00<00:00, 94.21it/s, loss=0.0024]\n"
          ]
        },
        {
          "output_type": "stream",
          "name": "stdout",
          "text": [
            "Epoch 128 | Train Loss: 0.0027 | Test F1: 0.3180\n"
          ]
        },
        {
          "output_type": "stream",
          "name": "stderr",
          "text": [
            "Epoch 129/200: 100%|██████████| 76/76 [00:00<00:00, 92.92it/s, loss=0.0075]\n"
          ]
        },
        {
          "output_type": "stream",
          "name": "stdout",
          "text": [
            "Epoch 129 | Train Loss: 0.0027 | Test F1: 0.3172\n"
          ]
        },
        {
          "output_type": "stream",
          "name": "stderr",
          "text": [
            "Epoch 130/200: 100%|██████████| 76/76 [00:00<00:00, 93.08it/s, loss=0.0030]\n"
          ]
        },
        {
          "output_type": "stream",
          "name": "stdout",
          "text": [
            "Epoch 130 | Train Loss: 0.0026 | Test F1: 0.3178\n"
          ]
        },
        {
          "output_type": "stream",
          "name": "stderr",
          "text": [
            "Epoch 131/200: 100%|██████████| 76/76 [00:00<00:00, 83.08it/s, loss=0.0062]\n"
          ]
        },
        {
          "output_type": "stream",
          "name": "stdout",
          "text": [
            "Epoch 131 | Train Loss: 0.0026 | Test F1: 0.3181\n"
          ]
        },
        {
          "output_type": "stream",
          "name": "stderr",
          "text": [
            "Epoch 132/200: 100%|██████████| 76/76 [00:00<00:00, 79.83it/s, loss=0.0005]\n"
          ]
        },
        {
          "output_type": "stream",
          "name": "stdout",
          "text": [
            "Epoch 132 | Train Loss: 0.0026 | Test F1: 0.3179\n"
          ]
        },
        {
          "output_type": "stream",
          "name": "stderr",
          "text": [
            "Epoch 133/200: 100%|██████████| 76/76 [00:01<00:00, 71.18it/s, loss=0.0015]\n"
          ]
        },
        {
          "output_type": "stream",
          "name": "stdout",
          "text": [
            "Epoch 133 | Train Loss: 0.0026 | Test F1: 0.3207\n"
          ]
        },
        {
          "output_type": "stream",
          "name": "stderr",
          "text": [
            "Epoch 134/200: 100%|██████████| 76/76 [00:00<00:00, 94.63it/s, loss=0.0019]\n"
          ]
        },
        {
          "output_type": "stream",
          "name": "stdout",
          "text": [
            "Epoch 134 | Train Loss: 0.0026 | Test F1: 0.3216\n"
          ]
        },
        {
          "output_type": "stream",
          "name": "stderr",
          "text": [
            "Epoch 135/200: 100%|██████████| 76/76 [00:01<00:00, 68.16it/s, loss=0.0003]\n"
          ]
        },
        {
          "output_type": "stream",
          "name": "stdout",
          "text": [
            "Epoch 135 | Train Loss: 0.0026 | Test F1: 0.3205\n"
          ]
        },
        {
          "output_type": "stream",
          "name": "stderr",
          "text": [
            "Epoch 136/200: 100%|██████████| 76/76 [00:01<00:00, 66.93it/s, loss=0.0056]\n"
          ]
        },
        {
          "output_type": "stream",
          "name": "stdout",
          "text": [
            "Epoch 136 | Train Loss: 0.0026 | Test F1: 0.3211\n"
          ]
        },
        {
          "output_type": "stream",
          "name": "stderr",
          "text": [
            "Epoch 137/200: 100%|██████████| 76/76 [00:00<00:00, 94.26it/s, loss=0.0017]\n"
          ]
        },
        {
          "output_type": "stream",
          "name": "stdout",
          "text": [
            "Epoch 137 | Train Loss: 0.0026 | Test F1: 0.3215\n"
          ]
        },
        {
          "output_type": "stream",
          "name": "stderr",
          "text": [
            "Epoch 138/200: 100%|██████████| 76/76 [00:00<00:00, 94.90it/s, loss=0.0054]\n"
          ]
        },
        {
          "output_type": "stream",
          "name": "stdout",
          "text": [
            "Epoch 138 | Train Loss: 0.0026 | Test F1: 0.3179\n"
          ]
        },
        {
          "output_type": "stream",
          "name": "stderr",
          "text": [
            "Epoch 139/200: 100%|██████████| 76/76 [00:00<00:00, 92.28it/s, loss=0.0003]\n"
          ]
        },
        {
          "output_type": "stream",
          "name": "stdout",
          "text": [
            "Epoch 139 | Train Loss: 0.0026 | Test F1: 0.3163\n"
          ]
        },
        {
          "output_type": "stream",
          "name": "stderr",
          "text": [
            "Epoch 140/200: 100%|██████████| 76/76 [00:00<00:00, 92.36it/s, loss=0.0026]\n"
          ]
        },
        {
          "output_type": "stream",
          "name": "stdout",
          "text": [
            "Epoch 140 | Train Loss: 0.0026 | Test F1: 0.3190\n"
          ]
        },
        {
          "output_type": "stream",
          "name": "stderr",
          "text": [
            "Epoch 141/200: 100%|██████████| 76/76 [00:00<00:00, 93.66it/s, loss=0.0010]\n"
          ]
        },
        {
          "output_type": "stream",
          "name": "stdout",
          "text": [
            "Epoch 141 | Train Loss: 0.0026 | Test F1: 0.3215\n"
          ]
        },
        {
          "output_type": "stream",
          "name": "stderr",
          "text": [
            "Epoch 142/200: 100%|██████████| 76/76 [00:00<00:00, 93.19it/s, loss=0.0004]\n"
          ]
        },
        {
          "output_type": "stream",
          "name": "stdout",
          "text": [
            "Epoch 142 | Train Loss: 0.0026 | Test F1: 0.3204\n"
          ]
        },
        {
          "output_type": "stream",
          "name": "stderr",
          "text": [
            "Epoch 143/200: 100%|██████████| 76/76 [00:00<00:00, 93.19it/s, loss=0.0021]\n"
          ]
        },
        {
          "output_type": "stream",
          "name": "stdout",
          "text": [
            "Epoch 143 | Train Loss: 0.0025 | Test F1: 0.3204\n"
          ]
        },
        {
          "output_type": "stream",
          "name": "stderr",
          "text": [
            "Epoch 144/200: 100%|██████████| 76/76 [00:00<00:00, 79.30it/s, loss=0.1643]\n"
          ]
        },
        {
          "output_type": "stream",
          "name": "stdout",
          "text": [
            "Epoch 144 | Train Loss: 0.0352 | Test F1: 0.2002\n"
          ]
        },
        {
          "output_type": "stream",
          "name": "stderr",
          "text": [
            "Epoch 145/200: 100%|██████████| 76/76 [00:00<00:00, 77.46it/s, loss=0.0852]\n"
          ]
        },
        {
          "output_type": "stream",
          "name": "stdout",
          "text": [
            "Epoch 145 | Train Loss: 0.1072 | Test F1: 0.2018\n"
          ]
        },
        {
          "output_type": "stream",
          "name": "stderr",
          "text": [
            "Epoch 146/200: 100%|██████████| 76/76 [00:01<00:00, 74.23it/s, loss=0.0489]\n"
          ]
        },
        {
          "output_type": "stream",
          "name": "stdout",
          "text": [
            "Epoch 146 | Train Loss: 0.0533 | Test F1: 0.2491\n"
          ]
        },
        {
          "output_type": "stream",
          "name": "stderr",
          "text": [
            "Epoch 147/200: 100%|██████████| 76/76 [00:00<00:00, 90.45it/s, loss=0.0234]\n"
          ]
        },
        {
          "output_type": "stream",
          "name": "stdout",
          "text": [
            "Epoch 147 | Train Loss: 0.0271 | Test F1: 0.2683\n"
          ]
        },
        {
          "output_type": "stream",
          "name": "stderr",
          "text": [
            "Epoch 148/200: 100%|██████████| 76/76 [00:00<00:00, 91.32it/s, loss=0.0236]\n"
          ]
        },
        {
          "output_type": "stream",
          "name": "stdout",
          "text": [
            "Epoch 148 | Train Loss: 0.0149 | Test F1: 0.3059\n"
          ]
        },
        {
          "output_type": "stream",
          "name": "stderr",
          "text": [
            "Epoch 149/200: 100%|██████████| 76/76 [00:00<00:00, 77.13it/s, loss=0.0057]\n"
          ]
        },
        {
          "output_type": "stream",
          "name": "stdout",
          "text": [
            "Epoch 149 | Train Loss: 0.0091 | Test F1: 0.3026\n"
          ]
        },
        {
          "output_type": "stream",
          "name": "stderr",
          "text": [
            "Epoch 150/200: 100%|██████████| 76/76 [00:00<00:00, 92.97it/s, loss=0.0045]\n"
          ]
        },
        {
          "output_type": "stream",
          "name": "stdout",
          "text": [
            "Epoch 150 | Train Loss: 0.0064 | Test F1: 0.3072\n"
          ]
        },
        {
          "output_type": "stream",
          "name": "stderr",
          "text": [
            "Epoch 151/200: 100%|██████████| 76/76 [00:00<00:00, 92.97it/s, loss=0.0034]\n"
          ]
        },
        {
          "output_type": "stream",
          "name": "stdout",
          "text": [
            "Epoch 151 | Train Loss: 0.0052 | Test F1: 0.3081\n"
          ]
        },
        {
          "output_type": "stream",
          "name": "stderr",
          "text": [
            "Epoch 152/200: 100%|██████████| 76/76 [00:00<00:00, 94.03it/s, loss=0.0101]\n"
          ]
        },
        {
          "output_type": "stream",
          "name": "stdout",
          "text": [
            "Epoch 152 | Train Loss: 0.0047 | Test F1: 0.3057\n"
          ]
        },
        {
          "output_type": "stream",
          "name": "stderr",
          "text": [
            "Epoch 153/200: 100%|██████████| 76/76 [00:00<00:00, 90.97it/s, loss=0.0098]\n"
          ]
        },
        {
          "output_type": "stream",
          "name": "stdout",
          "text": [
            "Epoch 153 | Train Loss: 0.0043 | Test F1: 0.3080\n"
          ]
        },
        {
          "output_type": "stream",
          "name": "stderr",
          "text": [
            "Epoch 154/200: 100%|██████████| 76/76 [00:00<00:00, 91.61it/s, loss=0.0021]\n"
          ]
        },
        {
          "output_type": "stream",
          "name": "stdout",
          "text": [
            "Epoch 154 | Train Loss: 0.0041 | Test F1: 0.3078\n"
          ]
        },
        {
          "output_type": "stream",
          "name": "stderr",
          "text": [
            "Epoch 155/200: 100%|██████████| 76/76 [00:00<00:00, 90.24it/s, loss=0.0044]\n"
          ]
        },
        {
          "output_type": "stream",
          "name": "stdout",
          "text": [
            "Epoch 155 | Train Loss: 0.0038 | Test F1: 0.3083\n"
          ]
        },
        {
          "output_type": "stream",
          "name": "stderr",
          "text": [
            "Epoch 156/200: 100%|██████████| 76/76 [00:00<00:00, 93.33it/s, loss=0.0015]\n"
          ]
        },
        {
          "output_type": "stream",
          "name": "stdout",
          "text": [
            "Epoch 156 | Train Loss: 0.0037 | Test F1: 0.3088\n"
          ]
        },
        {
          "output_type": "stream",
          "name": "stderr",
          "text": [
            "Epoch 157/200: 100%|██████████| 76/76 [00:00<00:00, 79.60it/s, loss=0.0051]\n"
          ]
        },
        {
          "output_type": "stream",
          "name": "stdout",
          "text": [
            "Epoch 157 | Train Loss: 0.0036 | Test F1: 0.3060\n"
          ]
        },
        {
          "output_type": "stream",
          "name": "stderr",
          "text": [
            "Epoch 158/200: 100%|██████████| 76/76 [00:00<00:00, 78.53it/s, loss=0.0055]\n"
          ]
        },
        {
          "output_type": "stream",
          "name": "stdout",
          "text": [
            "Epoch 158 | Train Loss: 0.0034 | Test F1: 0.3073\n"
          ]
        },
        {
          "output_type": "stream",
          "name": "stderr",
          "text": [
            "Epoch 159/200: 100%|██████████| 76/76 [00:01<00:00, 72.91it/s, loss=0.0030]\n"
          ]
        },
        {
          "output_type": "stream",
          "name": "stdout",
          "text": [
            "Epoch 159 | Train Loss: 0.0033 | Test F1: 0.3098\n"
          ]
        },
        {
          "output_type": "stream",
          "name": "stderr",
          "text": [
            "Epoch 160/200: 100%|██████████| 76/76 [00:00<00:00, 94.94it/s, loss=0.0101]\n"
          ]
        },
        {
          "output_type": "stream",
          "name": "stdout",
          "text": [
            "Epoch 160 | Train Loss: 0.0032 | Test F1: 0.3082\n"
          ]
        },
        {
          "output_type": "stream",
          "name": "stderr",
          "text": [
            "Epoch 161/200: 100%|██████████| 76/76 [00:00<00:00, 91.16it/s, loss=0.0041]\n"
          ]
        },
        {
          "output_type": "stream",
          "name": "stdout",
          "text": [
            "Epoch 161 | Train Loss: 0.0032 | Test F1: 0.3063\n"
          ]
        },
        {
          "output_type": "stream",
          "name": "stderr",
          "text": [
            "Epoch 162/200: 100%|██████████| 76/76 [00:00<00:00, 93.91it/s, loss=0.0021]\n"
          ]
        },
        {
          "output_type": "stream",
          "name": "stdout",
          "text": [
            "Epoch 162 | Train Loss: 0.0031 | Test F1: 0.3123\n"
          ]
        },
        {
          "output_type": "stream",
          "name": "stderr",
          "text": [
            "Epoch 163/200: 100%|██████████| 76/76 [00:00<00:00, 92.72it/s, loss=0.0086]\n"
          ]
        },
        {
          "output_type": "stream",
          "name": "stdout",
          "text": [
            "Epoch 163 | Train Loss: 0.0031 | Test F1: 0.3119\n"
          ]
        },
        {
          "output_type": "stream",
          "name": "stderr",
          "text": [
            "Epoch 164/200: 100%|██████████| 76/76 [00:00<00:00, 92.05it/s, loss=0.0029]\n"
          ]
        },
        {
          "output_type": "stream",
          "name": "stdout",
          "text": [
            "Epoch 164 | Train Loss: 0.0030 | Test F1: 0.3090\n"
          ]
        },
        {
          "output_type": "stream",
          "name": "stderr",
          "text": [
            "Epoch 165/200: 100%|██████████| 76/76 [00:00<00:00, 92.22it/s, loss=0.0022]\n"
          ]
        },
        {
          "output_type": "stream",
          "name": "stdout",
          "text": [
            "Epoch 165 | Train Loss: 0.0030 | Test F1: 0.3069\n"
          ]
        },
        {
          "output_type": "stream",
          "name": "stderr",
          "text": [
            "Epoch 166/200: 100%|██████████| 76/76 [00:00<00:00, 93.09it/s, loss=0.0010]\n"
          ]
        },
        {
          "output_type": "stream",
          "name": "stdout",
          "text": [
            "Epoch 166 | Train Loss: 0.0030 | Test F1: 0.3106\n"
          ]
        },
        {
          "output_type": "stream",
          "name": "stderr",
          "text": [
            "Epoch 167/200: 100%|██████████| 76/76 [00:00<00:00, 91.63it/s, loss=0.0039]\n"
          ]
        },
        {
          "output_type": "stream",
          "name": "stdout",
          "text": [
            "Epoch 167 | Train Loss: 0.0029 | Test F1: 0.3108\n"
          ]
        },
        {
          "output_type": "stream",
          "name": "stderr",
          "text": [
            "Epoch 168/200: 100%|██████████| 76/76 [00:00<00:00, 91.79it/s, loss=0.0013]\n"
          ]
        },
        {
          "output_type": "stream",
          "name": "stdout",
          "text": [
            "Epoch 168 | Train Loss: 0.0029 | Test F1: 0.3137\n"
          ]
        },
        {
          "output_type": "stream",
          "name": "stderr",
          "text": [
            "Epoch 169/200: 100%|██████████| 76/76 [00:00<00:00, 89.42it/s, loss=0.0028]\n"
          ]
        },
        {
          "output_type": "stream",
          "name": "stdout",
          "text": [
            "Epoch 169 | Train Loss: 0.0029 | Test F1: 0.3123\n"
          ]
        },
        {
          "output_type": "stream",
          "name": "stderr",
          "text": [
            "Epoch 170/200: 100%|██████████| 76/76 [00:00<00:00, 94.47it/s, loss=0.0059]\n"
          ]
        },
        {
          "output_type": "stream",
          "name": "stdout",
          "text": [
            "Epoch 170 | Train Loss: 0.0029 | Test F1: 0.3083\n"
          ]
        },
        {
          "output_type": "stream",
          "name": "stderr",
          "text": [
            "Epoch 171/200: 100%|██████████| 76/76 [00:01<00:00, 74.18it/s, loss=0.0050]\n"
          ]
        },
        {
          "output_type": "stream",
          "name": "stdout",
          "text": [
            "Epoch 171 | Train Loss: 0.0028 | Test F1: 0.3103\n"
          ]
        },
        {
          "output_type": "stream",
          "name": "stderr",
          "text": [
            "Epoch 172/200: 100%|██████████| 76/76 [00:01<00:00, 74.99it/s, loss=0.0042]\n"
          ]
        },
        {
          "output_type": "stream",
          "name": "stdout",
          "text": [
            "Epoch 172 | Train Loss: 0.0028 | Test F1: 0.3123\n"
          ]
        },
        {
          "output_type": "stream",
          "name": "stderr",
          "text": [
            "Epoch 173/200: 100%|██████████| 76/76 [00:00<00:00, 77.51it/s, loss=0.0046]\n"
          ]
        },
        {
          "output_type": "stream",
          "name": "stdout",
          "text": [
            "Epoch 173 | Train Loss: 0.0028 | Test F1: 0.3105\n"
          ]
        },
        {
          "output_type": "stream",
          "name": "stderr",
          "text": [
            "Epoch 174/200: 100%|██████████| 76/76 [00:00<00:00, 93.39it/s, loss=0.0061]\n"
          ]
        },
        {
          "output_type": "stream",
          "name": "stdout",
          "text": [
            "Epoch 174 | Train Loss: 0.0028 | Test F1: 0.3117\n"
          ]
        },
        {
          "output_type": "stream",
          "name": "stderr",
          "text": [
            "Epoch 175/200: 100%|██████████| 76/76 [00:00<00:00, 91.76it/s, loss=0.0025]\n"
          ]
        },
        {
          "output_type": "stream",
          "name": "stdout",
          "text": [
            "Epoch 175 | Train Loss: 0.0027 | Test F1: 0.3145\n"
          ]
        },
        {
          "output_type": "stream",
          "name": "stderr",
          "text": [
            "Epoch 176/200: 100%|██████████| 76/76 [00:00<00:00, 92.52it/s, loss=0.0019]\n"
          ]
        },
        {
          "output_type": "stream",
          "name": "stdout",
          "text": [
            "Epoch 176 | Train Loss: 0.0027 | Test F1: 0.3158\n"
          ]
        },
        {
          "output_type": "stream",
          "name": "stderr",
          "text": [
            "Epoch 177/200: 100%|██████████| 76/76 [00:00<00:00, 93.49it/s, loss=0.0052]\n"
          ]
        },
        {
          "output_type": "stream",
          "name": "stdout",
          "text": [
            "Epoch 177 | Train Loss: 0.0027 | Test F1: 0.3137\n"
          ]
        },
        {
          "output_type": "stream",
          "name": "stderr",
          "text": [
            "Epoch 178/200: 100%|██████████| 76/76 [00:00<00:00, 94.47it/s, loss=0.0025]\n"
          ]
        },
        {
          "output_type": "stream",
          "name": "stdout",
          "text": [
            "Epoch 178 | Train Loss: 0.0027 | Test F1: 0.3115\n"
          ]
        },
        {
          "output_type": "stream",
          "name": "stderr",
          "text": [
            "Epoch 179/200: 100%|██████████| 76/76 [00:00<00:00, 93.76it/s, loss=0.0020]\n"
          ]
        },
        {
          "output_type": "stream",
          "name": "stdout",
          "text": [
            "Epoch 179 | Train Loss: 0.0027 | Test F1: 0.3126\n"
          ]
        },
        {
          "output_type": "stream",
          "name": "stderr",
          "text": [
            "Epoch 180/200: 100%|██████████| 76/76 [00:00<00:00, 93.64it/s, loss=0.0053]\n"
          ]
        },
        {
          "output_type": "stream",
          "name": "stdout",
          "text": [
            "Epoch 180 | Train Loss: 0.0026 | Test F1: 0.3138\n"
          ]
        },
        {
          "output_type": "stream",
          "name": "stderr",
          "text": [
            "Epoch 181/200: 100%|██████████| 76/76 [00:00<00:00, 91.53it/s, loss=0.0033]\n"
          ]
        },
        {
          "output_type": "stream",
          "name": "stdout",
          "text": [
            "Epoch 181 | Train Loss: 0.0026 | Test F1: 0.3130\n"
          ]
        },
        {
          "output_type": "stream",
          "name": "stderr",
          "text": [
            "Epoch 182/200: 100%|██████████| 76/76 [00:00<00:00, 90.21it/s, loss=0.0005]\n"
          ]
        },
        {
          "output_type": "stream",
          "name": "stdout",
          "text": [
            "Epoch 182 | Train Loss: 0.0026 | Test F1: 0.3109\n"
          ]
        },
        {
          "output_type": "stream",
          "name": "stderr",
          "text": [
            "Epoch 183/200: 100%|██████████| 76/76 [00:00<00:00, 90.33it/s, loss=0.0090]\n"
          ]
        },
        {
          "output_type": "stream",
          "name": "stdout",
          "text": [
            "Epoch 183 | Train Loss: 0.0026 | Test F1: 0.3119\n"
          ]
        },
        {
          "output_type": "stream",
          "name": "stderr",
          "text": [
            "Epoch 184/200: 100%|██████████| 76/76 [00:00<00:00, 85.99it/s, loss=0.0052]\n"
          ]
        },
        {
          "output_type": "stream",
          "name": "stdout",
          "text": [
            "Epoch 184 | Train Loss: 0.0026 | Test F1: 0.3133\n"
          ]
        },
        {
          "output_type": "stream",
          "name": "stderr",
          "text": [
            "Epoch 185/200: 100%|██████████| 76/76 [00:01<00:00, 70.93it/s, loss=0.0072]\n"
          ]
        },
        {
          "output_type": "stream",
          "name": "stdout",
          "text": [
            "Epoch 185 | Train Loss: 0.0026 | Test F1: 0.3162\n"
          ]
        },
        {
          "output_type": "stream",
          "name": "stderr",
          "text": [
            "Epoch 186/200: 100%|██████████| 76/76 [00:01<00:00, 68.57it/s, loss=0.0004]\n"
          ]
        },
        {
          "output_type": "stream",
          "name": "stdout",
          "text": [
            "Epoch 186 | Train Loss: 0.0025 | Test F1: 0.3116\n"
          ]
        },
        {
          "output_type": "stream",
          "name": "stderr",
          "text": [
            "Epoch 187/200: 100%|██████████| 76/76 [00:00<00:00, 91.92it/s, loss=0.0022]\n"
          ]
        },
        {
          "output_type": "stream",
          "name": "stdout",
          "text": [
            "Epoch 187 | Train Loss: 0.0025 | Test F1: 0.3175\n"
          ]
        },
        {
          "output_type": "stream",
          "name": "stderr",
          "text": [
            "Epoch 188/200: 100%|██████████| 76/76 [00:00<00:00, 91.72it/s, loss=0.0064]\n"
          ]
        },
        {
          "output_type": "stream",
          "name": "stdout",
          "text": [
            "Epoch 188 | Train Loss: 0.0025 | Test F1: 0.3119\n"
          ]
        },
        {
          "output_type": "stream",
          "name": "stderr",
          "text": [
            "Epoch 189/200: 100%|██████████| 76/76 [00:00<00:00, 90.69it/s, loss=0.0016]\n"
          ]
        },
        {
          "output_type": "stream",
          "name": "stdout",
          "text": [
            "Epoch 189 | Train Loss: 0.0025 | Test F1: 0.3113\n"
          ]
        },
        {
          "output_type": "stream",
          "name": "stderr",
          "text": [
            "Epoch 190/200: 100%|██████████| 76/76 [00:00<00:00, 89.69it/s, loss=0.0002]\n"
          ]
        },
        {
          "output_type": "stream",
          "name": "stdout",
          "text": [
            "Epoch 190 | Train Loss: 0.0024 | Test F1: 0.3135\n"
          ]
        },
        {
          "output_type": "stream",
          "name": "stderr",
          "text": [
            "Epoch 191/200: 100%|██████████| 76/76 [00:00<00:00, 90.27it/s, loss=0.0043]\n"
          ]
        },
        {
          "output_type": "stream",
          "name": "stdout",
          "text": [
            "Epoch 191 | Train Loss: 0.0025 | Test F1: 0.3126\n"
          ]
        },
        {
          "output_type": "stream",
          "name": "stderr",
          "text": [
            "Epoch 192/200: 100%|██████████| 76/76 [00:00<00:00, 85.10it/s, loss=0.0033]\n"
          ]
        },
        {
          "output_type": "stream",
          "name": "stdout",
          "text": [
            "Epoch 192 | Train Loss: 0.0025 | Test F1: 0.3136\n"
          ]
        },
        {
          "output_type": "stream",
          "name": "stderr",
          "text": [
            "Epoch 193/200: 100%|██████████| 76/76 [00:00<00:00, 91.76it/s, loss=0.0037]\n"
          ]
        },
        {
          "output_type": "stream",
          "name": "stdout",
          "text": [
            "Epoch 193 | Train Loss: 0.0025 | Test F1: 0.3171\n"
          ]
        },
        {
          "output_type": "stream",
          "name": "stderr",
          "text": [
            "Epoch 194/200: 100%|██████████| 76/76 [00:00<00:00, 93.72it/s, loss=0.0103]\n"
          ]
        },
        {
          "output_type": "stream",
          "name": "stdout",
          "text": [
            "Epoch 194 | Train Loss: 0.0025 | Test F1: 0.3167\n"
          ]
        },
        {
          "output_type": "stream",
          "name": "stderr",
          "text": [
            "Epoch 195/200: 100%|██████████| 76/76 [00:00<00:00, 93.70it/s, loss=0.0477]\n"
          ]
        },
        {
          "output_type": "stream",
          "name": "stdout",
          "text": [
            "Epoch 195 | Train Loss: 0.0072 | Test F1: 0.2373\n"
          ]
        },
        {
          "output_type": "stream",
          "name": "stderr",
          "text": [
            "Epoch 196/200: 100%|██████████| 76/76 [00:00<00:00, 87.90it/s, loss=0.1429]\n"
          ]
        },
        {
          "output_type": "stream",
          "name": "stdout",
          "text": [
            "Epoch 196 | Train Loss: 0.1148 | Test F1: 0.1713\n"
          ]
        },
        {
          "output_type": "stream",
          "name": "stderr",
          "text": [
            "Epoch 197/200: 100%|██████████| 76/76 [00:00<00:00, 92.03it/s, loss=0.0587]\n"
          ]
        },
        {
          "output_type": "stream",
          "name": "stdout",
          "text": [
            "Epoch 197 | Train Loss: 0.0695 | Test F1: 0.2330\n"
          ]
        },
        {
          "output_type": "stream",
          "name": "stderr",
          "text": [
            "Epoch 198/200: 100%|██████████| 76/76 [00:01<00:00, 73.66it/s, loss=0.0248]\n"
          ]
        },
        {
          "output_type": "stream",
          "name": "stdout",
          "text": [
            "Epoch 198 | Train Loss: 0.0345 | Test F1: 0.2641\n"
          ]
        },
        {
          "output_type": "stream",
          "name": "stderr",
          "text": [
            "Epoch 199/200: 100%|██████████| 76/76 [00:00<00:00, 76.82it/s, loss=0.0162]\n"
          ]
        },
        {
          "output_type": "stream",
          "name": "stdout",
          "text": [
            "Epoch 199 | Train Loss: 0.0196 | Test F1: 0.3067\n"
          ]
        },
        {
          "output_type": "stream",
          "name": "stderr",
          "text": [
            "Epoch 200/200: 100%|██████████| 76/76 [00:00<00:00, 76.63it/s, loss=0.0110]\n"
          ]
        },
        {
          "output_type": "stream",
          "name": "stdout",
          "text": [
            "Epoch 200 | Train Loss: 0.0118 | Test F1: 0.3006\n",
            "Best F1: 0.3254\n"
          ]
        }
      ]
    },
    {
      "cell_type": "code",
      "source": [
        "plt.figure(figsize=(10, 5))\n",
        "plt.plot(range(1, EPOCHS + 1), f1_historyRNN, marker='o')\n",
        "plt.title(\"F1-Score по эпохам RNN\")\n",
        "plt.xlabel(\"Эпоха\")\n",
        "plt.ylabel(\"F1-макро\")\n",
        "plt.grid(True)\n",
        "plt.tight_layout()\n",
        "plt.show()"
      ],
      "metadata": {
        "colab": {
          "base_uri": "https://localhost:8080/",
          "height": 507
        },
        "id": "YuPUKNuyvbvD",
        "outputId": "7cfccdad-7102-4842-cc39-94709716c7dd"
      },
      "id": "YuPUKNuyvbvD",
      "execution_count": null,
      "outputs": [
        {
          "output_type": "display_data",
          "data": {
            "text/plain": [
              "<Figure size 1000x500 with 1 Axes>"
            ],
            "image/png": "[encoded data removed]"
          },
          "metadata": {}
        }
      ]
    },
    {
      "cell_type": "markdown",
      "id": "xqt0dk6LEJUU",
      "metadata": {
        "id": "xqt0dk6LEJUU"
      },
      "source": [
        "### LSTM\n",
        "\n",
        "<img src=\"https://i.postimg.cc/pL5LdmpL/tg-image-2290675322.png\" alt=\"drawing\" width=\"400\"/>\n",
        "\n",
        "Теперь перейдем к более продвинутым рекурренным моделям, а именно LSTM. Из-за дополнительного вектора памяти эта модель должна гораздо лучше улавливать далекие зависимости, что должно напрямую отражаться на качестве.\n",
        "\n",
        "Параметры блока LSTM обновляются вот так ($\\sigma$ означает сигмоиду):\n",
        "\\begin{align}\n",
        "f_{t} &= \\sigma(W_f x_{t} + U_f h_{t-1} + b_f) \\\\\n",
        "i_{t} &= \\sigma(W_i x_{t} + U_i h_{t-1} + b_i) \\\\\n",
        "\\tilde{c}_{t} &= \\tanh(W_c x_{t} + U_c h_{t-1} + b_i) \\\\\n",
        "c_{t} &= f_t \\odot c_{t-1} + i_t \\odot \\tilde{c}_t \\\\\n",
        "o_{t} &= \\sigma(W_t x_{t} + U_t h_{t-1} + b_t) \\\\\n",
        "h_t &= o_t \\odot \\tanh(c_t)\n",
        "\\end{align}\n",
        "\n",
        "__Задание 5 (2 балла).__ Реализуйте LSTM по описанной схеме. Выберите гиперпараметры LSTM так, чтобы их общее число (без учета слоя эмбеддингов) примерно совпадало с числом параметров обычной RNN, но размерность скрытого слоя была не меньше 64. Так мы будем сравнивать архитектуры максимально независимо. Обучите LSTM до сходимости и сравните качество с RNN на тестовой выборке. Удалось ли получить лучший результат? Как вы можете это объяснить?"
      ]
    },
    {
      "cell_type": "code",
      "source": [
        "import torch\n",
        "import torch.nn as nn\n",
        "import torch.optim as optim\n",
        "from tqdm import tqdm\n",
        "from sklearn.metrics import f1_score\n",
        "import numpy as np\n",
        "\n",
        "class SimpleLSTM(nn.Module):\n",
        "    def __init__(self, vocab_size, embed_dim, hidden_dim, output_dim, n_layers=1):\n",
        "        super().__init__()\n",
        "        self.embedding = nn.Embedding(vocab_size, embed_dim, padding_idx=0)\n",
        "\n",
        "        self.lstm = nn.LSTM(embed_dim, hidden_dim, n_layers, batch_first=True)\n",
        "        self.fc = nn.Linear(hidden_dim, output_dim)\n",
        "\n",
        "        self.hidden_dim = hidden_dim\n",
        "        self.n_layers = n_layers\n",
        "\n",
        "    def forward(self, x):\n",
        "        mask = (x != 0)\n",
        "        lengths = mask.sum(1).cpu()\n",
        "\n",
        "        embedded = self.embedding(x)\n",
        "\n",
        "        packed = nn.utils.rnn.pack_padded_sequence(embedded, lengths, batch_first=True, enforce_sorted=False)\n",
        "        packed_out, (hn, cn) = self.lstm(packed)\n",
        "        out, _ = nn.utils.rnn.pad_packed_sequence(packed_out, batch_first=True)\n",
        "\n",
        "        last_seq_idxs = lengths - 1\n",
        "        last_out = out[torch.arange(out.size(0)), last_seq_idxs]\n",
        "\n",
        "        logits = self.fc(last_out)\n",
        "        return logits\n",
        "\n",
        "# Параметры\n",
        "VOCAB_SIZE = tokenizer.get_vocab_size() + 1\n",
        "EMBED_DIM = 128\n",
        "HIDDEN_DIM = 256  # по ТЗ, чтобы число параметров было сопоставимо с RNN\n",
        "OUTPUT_DIM = y_train.shape[1]\n",
        "N_LAYERS = 1\n",
        "EPOCHS = 300\n",
        "LR = 0.001\n",
        "\n",
        "# Инициализация модели\n",
        "device = torch.device('cuda' if torch.cuda.is_available() else 'cpu')\n",
        "model = SimpleLSTM(VOCAB_SIZE, EMBED_DIM, HIDDEN_DIM, OUTPUT_DIM, N_LAYERS)\n",
        "\n",
        "# Обучение\n",
        "best_f1, f1_historyLSTM = train_and_evaluate(\n",
        "    model,\n",
        "    train_loader,\n",
        "    test_loader,\n",
        "    device,\n",
        "    n_epochs=EPOCHS,\n",
        "    lr=LR\n",
        ")\n"
      ],
      "metadata": {
        "colab": {
          "base_uri": "https://localhost:8080/"
        },
        "id": "s29PKaYqqbhq",
        "outputId": "ab9467c7-d865-4e45-a203-3a5683df8407"
      },
      "id": "s29PKaYqqbhq",
      "execution_count": null,
      "outputs": [
        {
          "output_type": "stream",
          "name": "stderr",
          "text": [
            "Epoch 1/300: 100%|██████████| 76/76 [00:00<00:00, 79.10it/s, loss=0.1974]\n",
            "/usr/local/lib/python3.11/dist-packages/sklearn/metrics/_classification.py:1565: UndefinedMetricWarning: F-score is ill-defined and being set to 0.0 in labels with no true nor predicted samples. Use `zero_division` parameter to control this behavior.\n",
            "  _warn_prf(average, modifier, f\"{metric.capitalize()} is\", len(result))\n"
          ]
        },
        {
          "output_type": "stream",
          "name": "stdout",
          "text": [
            "Epoch 1 | Train Loss: 0.2318 | Test F1: 0.0230\n"
          ]
        },
        {
          "output_type": "stream",
          "name": "stderr",
          "text": [
            "Epoch 2/300: 100%|██████████| 76/76 [00:01<00:00, 60.82it/s, loss=0.1626]\n",
            "/usr/local/lib/python3.11/dist-packages/sklearn/metrics/_classification.py:1565: UndefinedMetricWarning: F-score is ill-defined and being set to 0.0 in labels with no true nor predicted samples. Use `zero_division` parameter to control this behavior.\n",
            "  _warn_prf(average, modifier, f\"{metric.capitalize()} is\", len(result))\n"
          ]
        },
        {
          "output_type": "stream",
          "name": "stdout",
          "text": [
            "Epoch 2 | Train Loss: 0.1811 | Test F1: 0.0229\n"
          ]
        },
        {
          "output_type": "stream",
          "name": "stderr",
          "text": [
            "Epoch 3/300: 100%|██████████| 76/76 [00:01<00:00, 63.41it/s, loss=0.1968]\n",
            "/usr/local/lib/python3.11/dist-packages/sklearn/metrics/_classification.py:1565: UndefinedMetricWarning: F-score is ill-defined and being set to 0.0 in labels with no true nor predicted samples. Use `zero_division` parameter to control this behavior.\n",
            "  _warn_prf(average, modifier, f\"{metric.capitalize()} is\", len(result))\n"
          ]
        },
        {
          "output_type": "stream",
          "name": "stdout",
          "text": [
            "Epoch 3 | Train Loss: 0.1802 | Test F1: 0.0015\n"
          ]
        },
        {
          "output_type": "stream",
          "name": "stderr",
          "text": [
            "Epoch 4/300: 100%|██████████| 76/76 [00:00<00:00, 89.09it/s, loss=0.1790]\n",
            "/usr/local/lib/python3.11/dist-packages/sklearn/metrics/_classification.py:1565: UndefinedMetricWarning: F-score is ill-defined and being set to 0.0 in labels with no true nor predicted samples. Use `zero_division` parameter to control this behavior.\n",
            "  _warn_prf(average, modifier, f\"{metric.capitalize()} is\", len(result))\n"
          ]
        },
        {
          "output_type": "stream",
          "name": "stdout",
          "text": [
            "Epoch 4 | Train Loss: 0.1787 | Test F1: 0.0230\n"
          ]
        },
        {
          "output_type": "stream",
          "name": "stderr",
          "text": [
            "Epoch 5/300: 100%|██████████| 76/76 [00:00<00:00, 88.37it/s, loss=0.1834]\n",
            "/usr/local/lib/python3.11/dist-packages/sklearn/metrics/_classification.py:1565: UndefinedMetricWarning: F-score is ill-defined and being set to 0.0 in labels with no true nor predicted samples. Use `zero_division` parameter to control this behavior.\n",
            "  _warn_prf(average, modifier, f\"{metric.capitalize()} is\", len(result))\n"
          ]
        },
        {
          "output_type": "stream",
          "name": "stdout",
          "text": [
            "Epoch 5 | Train Loss: 0.1773 | Test F1: 0.0171\n"
          ]
        },
        {
          "output_type": "stream",
          "name": "stderr",
          "text": [
            "Epoch 6/300: 100%|██████████| 76/76 [00:01<00:00, 74.91it/s, loss=0.2078]\n",
            "/usr/local/lib/python3.11/dist-packages/sklearn/metrics/_classification.py:1565: UndefinedMetricWarning: F-score is ill-defined and being set to 0.0 in labels with no true nor predicted samples. Use `zero_division` parameter to control this behavior.\n",
            "  _warn_prf(average, modifier, f\"{metric.capitalize()} is\", len(result))\n"
          ]
        },
        {
          "output_type": "stream",
          "name": "stdout",
          "text": [
            "Epoch 6 | Train Loss: 0.1754 | Test F1: 0.0142\n"
          ]
        },
        {
          "output_type": "stream",
          "name": "stderr",
          "text": [
            "Epoch 7/300: 100%|██████████| 76/76 [00:01<00:00, 70.78it/s, loss=0.1778]\n",
            "/usr/local/lib/python3.11/dist-packages/sklearn/metrics/_classification.py:1565: UndefinedMetricWarning: F-score is ill-defined and being set to 0.0 in labels with no true nor predicted samples. Use `zero_division` parameter to control this behavior.\n",
            "  _warn_prf(average, modifier, f\"{metric.capitalize()} is\", len(result))\n"
          ]
        },
        {
          "output_type": "stream",
          "name": "stdout",
          "text": [
            "Epoch 7 | Train Loss: 0.1741 | Test F1: 0.0240\n"
          ]
        },
        {
          "output_type": "stream",
          "name": "stderr",
          "text": [
            "Epoch 8/300: 100%|██████████| 76/76 [00:00<00:00, 83.54it/s, loss=0.1657]\n",
            "/usr/local/lib/python3.11/dist-packages/sklearn/metrics/_classification.py:1565: UndefinedMetricWarning: F-score is ill-defined and being set to 0.0 in labels with no true nor predicted samples. Use `zero_division` parameter to control this behavior.\n",
            "  _warn_prf(average, modifier, f\"{metric.capitalize()} is\", len(result))\n"
          ]
        },
        {
          "output_type": "stream",
          "name": "stdout",
          "text": [
            "Epoch 8 | Train Loss: 0.1720 | Test F1: 0.0152\n"
          ]
        },
        {
          "output_type": "stream",
          "name": "stderr",
          "text": [
            "Epoch 9/300: 100%|██████████| 76/76 [00:00<00:00, 86.49it/s, loss=0.1553]\n",
            "/usr/local/lib/python3.11/dist-packages/sklearn/metrics/_classification.py:1565: UndefinedMetricWarning: F-score is ill-defined and being set to 0.0 in labels with no true nor predicted samples. Use `zero_division` parameter to control this behavior.\n",
            "  _warn_prf(average, modifier, f\"{metric.capitalize()} is\", len(result))\n"
          ]
        },
        {
          "output_type": "stream",
          "name": "stdout",
          "text": [
            "Epoch 9 | Train Loss: 0.1695 | Test F1: 0.0155\n"
          ]
        },
        {
          "output_type": "stream",
          "name": "stderr",
          "text": [
            "Epoch 10/300: 100%|██████████| 76/76 [00:00<00:00, 86.34it/s, loss=0.1680]\n",
            "/usr/local/lib/python3.11/dist-packages/sklearn/metrics/_classification.py:1565: UndefinedMetricWarning: F-score is ill-defined and being set to 0.0 in labels with no true nor predicted samples. Use `zero_division` parameter to control this behavior.\n",
            "  _warn_prf(average, modifier, f\"{metric.capitalize()} is\", len(result))\n"
          ]
        },
        {
          "output_type": "stream",
          "name": "stdout",
          "text": [
            "Epoch 10 | Train Loss: 0.1667 | Test F1: 0.0281\n"
          ]
        },
        {
          "output_type": "stream",
          "name": "stderr",
          "text": [
            "Epoch 11/300: 100%|██████████| 76/76 [00:00<00:00, 86.37it/s, loss=0.1546]\n",
            "/usr/local/lib/python3.11/dist-packages/sklearn/metrics/_classification.py:1565: UndefinedMetricWarning: F-score is ill-defined and being set to 0.0 in labels with no true nor predicted samples. Use `zero_division` parameter to control this behavior.\n",
            "  _warn_prf(average, modifier, f\"{metric.capitalize()} is\", len(result))\n"
          ]
        },
        {
          "output_type": "stream",
          "name": "stdout",
          "text": [
            "Epoch 11 | Train Loss: 0.1642 | Test F1: 0.0316\n"
          ]
        },
        {
          "output_type": "stream",
          "name": "stderr",
          "text": [
            "Epoch 12/300: 100%|██████████| 76/76 [00:00<00:00, 88.64it/s, loss=0.1590]\n",
            "/usr/local/lib/python3.11/dist-packages/sklearn/metrics/_classification.py:1565: UndefinedMetricWarning: F-score is ill-defined and being set to 0.0 in labels with no true nor predicted samples. Use `zero_division` parameter to control this behavior.\n",
            "  _warn_prf(average, modifier, f\"{metric.capitalize()} is\", len(result))\n"
          ]
        },
        {
          "output_type": "stream",
          "name": "stdout",
          "text": [
            "Epoch 12 | Train Loss: 0.1620 | Test F1: 0.0269\n"
          ]
        },
        {
          "output_type": "stream",
          "name": "stderr",
          "text": [
            "Epoch 13/300: 100%|██████████| 76/76 [00:00<00:00, 88.29it/s, loss=0.1650]\n",
            "/usr/local/lib/python3.11/dist-packages/sklearn/metrics/_classification.py:1565: UndefinedMetricWarning: F-score is ill-defined and being set to 0.0 in labels with no true nor predicted samples. Use `zero_division` parameter to control this behavior.\n",
            "  _warn_prf(average, modifier, f\"{metric.capitalize()} is\", len(result))\n"
          ]
        },
        {
          "output_type": "stream",
          "name": "stdout",
          "text": [
            "Epoch 13 | Train Loss: 0.1595 | Test F1: 0.0250\n"
          ]
        },
        {
          "output_type": "stream",
          "name": "stderr",
          "text": [
            "Epoch 14/300: 100%|██████████| 76/76 [00:00<00:00, 88.69it/s, loss=0.1453]\n",
            "/usr/local/lib/python3.11/dist-packages/sklearn/metrics/_classification.py:1565: UndefinedMetricWarning: F-score is ill-defined and being set to 0.0 in labels with no true nor predicted samples. Use `zero_division` parameter to control this behavior.\n",
            "  _warn_prf(average, modifier, f\"{metric.capitalize()} is\", len(result))\n"
          ]
        },
        {
          "output_type": "stream",
          "name": "stdout",
          "text": [
            "Epoch 14 | Train Loss: 0.1568 | Test F1: 0.0312\n"
          ]
        },
        {
          "output_type": "stream",
          "name": "stderr",
          "text": [
            "Epoch 15/300: 100%|██████████| 76/76 [00:00<00:00, 87.98it/s, loss=0.1314]\n",
            "/usr/local/lib/python3.11/dist-packages/sklearn/metrics/_classification.py:1565: UndefinedMetricWarning: F-score is ill-defined and being set to 0.0 in labels with no true nor predicted samples. Use `zero_division` parameter to control this behavior.\n",
            "  _warn_prf(average, modifier, f\"{metric.capitalize()} is\", len(result))\n"
          ]
        },
        {
          "output_type": "stream",
          "name": "stdout",
          "text": [
            "Epoch 15 | Train Loss: 0.1536 | Test F1: 0.0304\n"
          ]
        },
        {
          "output_type": "stream",
          "name": "stderr",
          "text": [
            "Epoch 16/300: 100%|██████████| 76/76 [00:00<00:00, 88.23it/s, loss=0.1805]\n",
            "/usr/local/lib/python3.11/dist-packages/sklearn/metrics/_classification.py:1565: UndefinedMetricWarning: F-score is ill-defined and being set to 0.0 in labels with no true nor predicted samples. Use `zero_division` parameter to control this behavior.\n",
            "  _warn_prf(average, modifier, f\"{metric.capitalize()} is\", len(result))\n"
          ]
        },
        {
          "output_type": "stream",
          "name": "stdout",
          "text": [
            "Epoch 16 | Train Loss: 0.1506 | Test F1: 0.0272\n"
          ]
        },
        {
          "output_type": "stream",
          "name": "stderr",
          "text": [
            "Epoch 17/300: 100%|██████████| 76/76 [00:00<00:00, 89.19it/s, loss=0.1390]\n",
            "/usr/local/lib/python3.11/dist-packages/sklearn/metrics/_classification.py:1565: UndefinedMetricWarning: F-score is ill-defined and being set to 0.0 in labels with no true nor predicted samples. Use `zero_division` parameter to control this behavior.\n",
            "  _warn_prf(average, modifier, f\"{metric.capitalize()} is\", len(result))\n"
          ]
        },
        {
          "output_type": "stream",
          "name": "stdout",
          "text": [
            "Epoch 17 | Train Loss: 0.1472 | Test F1: 0.0387\n"
          ]
        },
        {
          "output_type": "stream",
          "name": "stderr",
          "text": [
            "Epoch 18/300: 100%|██████████| 76/76 [00:00<00:00, 81.00it/s, loss=0.1594]\n",
            "/usr/local/lib/python3.11/dist-packages/sklearn/metrics/_classification.py:1565: UndefinedMetricWarning: F-score is ill-defined and being set to 0.0 in labels with no true nor predicted samples. Use `zero_division` parameter to control this behavior.\n",
            "  _warn_prf(average, modifier, f\"{metric.capitalize()} is\", len(result))\n"
          ]
        },
        {
          "output_type": "stream",
          "name": "stdout",
          "text": [
            "Epoch 18 | Train Loss: 0.1433 | Test F1: 0.0392\n"
          ]
        },
        {
          "output_type": "stream",
          "name": "stderr",
          "text": [
            "Epoch 19/300: 100%|██████████| 76/76 [00:01<00:00, 71.80it/s, loss=0.1286]\n",
            "/usr/local/lib/python3.11/dist-packages/sklearn/metrics/_classification.py:1565: UndefinedMetricWarning: F-score is ill-defined and being set to 0.0 in labels with no true nor predicted samples. Use `zero_division` parameter to control this behavior.\n",
            "  _warn_prf(average, modifier, f\"{metric.capitalize()} is\", len(result))\n"
          ]
        },
        {
          "output_type": "stream",
          "name": "stdout",
          "text": [
            "Epoch 19 | Train Loss: 0.1398 | Test F1: 0.0413\n"
          ]
        },
        {
          "output_type": "stream",
          "name": "stderr",
          "text": [
            "Epoch 20/300: 100%|██████████| 76/76 [00:00<00:00, 76.66it/s, loss=0.1357]\n",
            "/usr/local/lib/python3.11/dist-packages/sklearn/metrics/_classification.py:1565: UndefinedMetricWarning: F-score is ill-defined and being set to 0.0 in labels with no true nor predicted samples. Use `zero_division` parameter to control this behavior.\n",
            "  _warn_prf(average, modifier, f\"{metric.capitalize()} is\", len(result))\n"
          ]
        },
        {
          "output_type": "stream",
          "name": "stdout",
          "text": [
            "Epoch 20 | Train Loss: 0.1360 | Test F1: 0.0408\n"
          ]
        },
        {
          "output_type": "stream",
          "name": "stderr",
          "text": [
            "Epoch 21/300: 100%|██████████| 76/76 [00:00<00:00, 87.79it/s, loss=0.1518]\n",
            "/usr/local/lib/python3.11/dist-packages/sklearn/metrics/_classification.py:1565: UndefinedMetricWarning: F-score is ill-defined and being set to 0.0 in labels with no true nor predicted samples. Use `zero_division` parameter to control this behavior.\n",
            "  _warn_prf(average, modifier, f\"{metric.capitalize()} is\", len(result))\n"
          ]
        },
        {
          "output_type": "stream",
          "name": "stdout",
          "text": [
            "Epoch 21 | Train Loss: 0.1321 | Test F1: 0.0453\n"
          ]
        },
        {
          "output_type": "stream",
          "name": "stderr",
          "text": [
            "Epoch 22/300: 100%|██████████| 76/76 [00:00<00:00, 85.74it/s, loss=0.1283]\n",
            "/usr/local/lib/python3.11/dist-packages/sklearn/metrics/_classification.py:1565: UndefinedMetricWarning: F-score is ill-defined and being set to 0.0 in labels with no true nor predicted samples. Use `zero_division` parameter to control this behavior.\n",
            "  _warn_prf(average, modifier, f\"{metric.capitalize()} is\", len(result))\n"
          ]
        },
        {
          "output_type": "stream",
          "name": "stdout",
          "text": [
            "Epoch 22 | Train Loss: 0.1281 | Test F1: 0.0549\n"
          ]
        },
        {
          "output_type": "stream",
          "name": "stderr",
          "text": [
            "Epoch 23/300: 100%|██████████| 76/76 [00:00<00:00, 85.77it/s, loss=0.1337]\n",
            "/usr/local/lib/python3.11/dist-packages/sklearn/metrics/_classification.py:1565: UndefinedMetricWarning: F-score is ill-defined and being set to 0.0 in labels with no true nor predicted samples. Use `zero_division` parameter to control this behavior.\n",
            "  _warn_prf(average, modifier, f\"{metric.capitalize()} is\", len(result))\n"
          ]
        },
        {
          "output_type": "stream",
          "name": "stdout",
          "text": [
            "Epoch 23 | Train Loss: 0.1245 | Test F1: 0.0595\n"
          ]
        },
        {
          "output_type": "stream",
          "name": "stderr",
          "text": [
            "Epoch 24/300: 100%|██████████| 76/76 [00:00<00:00, 85.96it/s, loss=0.1355]\n",
            "/usr/local/lib/python3.11/dist-packages/sklearn/metrics/_classification.py:1565: UndefinedMetricWarning: F-score is ill-defined and being set to 0.0 in labels with no true nor predicted samples. Use `zero_division` parameter to control this behavior.\n",
            "  _warn_prf(average, modifier, f\"{metric.capitalize()} is\", len(result))\n"
          ]
        },
        {
          "output_type": "stream",
          "name": "stdout",
          "text": [
            "Epoch 24 | Train Loss: 0.1193 | Test F1: 0.0694\n"
          ]
        },
        {
          "output_type": "stream",
          "name": "stderr",
          "text": [
            "Epoch 25/300: 100%|██████████| 76/76 [00:00<00:00, 87.56it/s, loss=0.1065]\n",
            "/usr/local/lib/python3.11/dist-packages/sklearn/metrics/_classification.py:1565: UndefinedMetricWarning: F-score is ill-defined and being set to 0.0 in labels with no true nor predicted samples. Use `zero_division` parameter to control this behavior.\n",
            "  _warn_prf(average, modifier, f\"{metric.capitalize()} is\", len(result))\n"
          ]
        },
        {
          "output_type": "stream",
          "name": "stdout",
          "text": [
            "Epoch 25 | Train Loss: 0.1157 | Test F1: 0.0824\n"
          ]
        },
        {
          "output_type": "stream",
          "name": "stderr",
          "text": [
            "Epoch 26/300: 100%|██████████| 76/76 [00:00<00:00, 87.15it/s, loss=0.1265]\n",
            "/usr/local/lib/python3.11/dist-packages/sklearn/metrics/_classification.py:1565: UndefinedMetricWarning: F-score is ill-defined and being set to 0.0 in labels with no true nor predicted samples. Use `zero_division` parameter to control this behavior.\n",
            "  _warn_prf(average, modifier, f\"{metric.capitalize()} is\", len(result))\n"
          ]
        },
        {
          "output_type": "stream",
          "name": "stdout",
          "text": [
            "Epoch 26 | Train Loss: 0.1121 | Test F1: 0.0850\n"
          ]
        },
        {
          "output_type": "stream",
          "name": "stderr",
          "text": [
            "Epoch 27/300: 100%|██████████| 76/76 [00:00<00:00, 86.42it/s, loss=0.1085]\n",
            "/usr/local/lib/python3.11/dist-packages/sklearn/metrics/_classification.py:1565: UndefinedMetricWarning: F-score is ill-defined and being set to 0.0 in labels with no true nor predicted samples. Use `zero_division` parameter to control this behavior.\n",
            "  _warn_prf(average, modifier, f\"{metric.capitalize()} is\", len(result))\n"
          ]
        },
        {
          "output_type": "stream",
          "name": "stdout",
          "text": [
            "Epoch 27 | Train Loss: 0.1074 | Test F1: 0.0815\n"
          ]
        },
        {
          "output_type": "stream",
          "name": "stderr",
          "text": [
            "Epoch 28/300: 100%|██████████| 76/76 [00:00<00:00, 87.46it/s, loss=0.1064]\n",
            "/usr/local/lib/python3.11/dist-packages/sklearn/metrics/_classification.py:1565: UndefinedMetricWarning: F-score is ill-defined and being set to 0.0 in labels with no true nor predicted samples. Use `zero_division` parameter to control this behavior.\n",
            "  _warn_prf(average, modifier, f\"{metric.capitalize()} is\", len(result))\n"
          ]
        },
        {
          "output_type": "stream",
          "name": "stdout",
          "text": [
            "Epoch 28 | Train Loss: 0.1028 | Test F1: 0.0970\n"
          ]
        },
        {
          "output_type": "stream",
          "name": "stderr",
          "text": [
            "Epoch 29/300: 100%|██████████| 76/76 [00:00<00:00, 88.48it/s, loss=0.0887]\n",
            "/usr/local/lib/python3.11/dist-packages/sklearn/metrics/_classification.py:1565: UndefinedMetricWarning: F-score is ill-defined and being set to 0.0 in labels with no true nor predicted samples. Use `zero_division` parameter to control this behavior.\n",
            "  _warn_prf(average, modifier, f\"{metric.capitalize()} is\", len(result))\n"
          ]
        },
        {
          "output_type": "stream",
          "name": "stdout",
          "text": [
            "Epoch 29 | Train Loss: 0.0987 | Test F1: 0.0971\n"
          ]
        },
        {
          "output_type": "stream",
          "name": "stderr",
          "text": [
            "Epoch 30/300: 100%|██████████| 76/76 [00:00<00:00, 87.38it/s, loss=0.0835]\n",
            "/usr/local/lib/python3.11/dist-packages/sklearn/metrics/_classification.py:1565: UndefinedMetricWarning: F-score is ill-defined and being set to 0.0 in labels with no true nor predicted samples. Use `zero_division` parameter to control this behavior.\n",
            "  _warn_prf(average, modifier, f\"{metric.capitalize()} is\", len(result))\n"
          ]
        },
        {
          "output_type": "stream",
          "name": "stdout",
          "text": [
            "Epoch 30 | Train Loss: 0.0949 | Test F1: 0.1132\n"
          ]
        },
        {
          "output_type": "stream",
          "name": "stderr",
          "text": [
            "Epoch 31/300: 100%|██████████| 76/76 [00:01<00:00, 72.82it/s, loss=0.0837]\n",
            "/usr/local/lib/python3.11/dist-packages/sklearn/metrics/_classification.py:1565: UndefinedMetricWarning: F-score is ill-defined and being set to 0.0 in labels with no true nor predicted samples. Use `zero_division` parameter to control this behavior.\n",
            "  _warn_prf(average, modifier, f\"{metric.capitalize()} is\", len(result))\n"
          ]
        },
        {
          "output_type": "stream",
          "name": "stdout",
          "text": [
            "Epoch 31 | Train Loss: 0.0901 | Test F1: 0.1207\n"
          ]
        },
        {
          "output_type": "stream",
          "name": "stderr",
          "text": [
            "Epoch 32/300: 100%|██████████| 76/76 [00:01<00:00, 68.73it/s, loss=0.1010]\n"
          ]
        },
        {
          "output_type": "stream",
          "name": "stdout",
          "text": [
            "Epoch 32 | Train Loss: 0.0862 | Test F1: 0.1295\n"
          ]
        },
        {
          "output_type": "stream",
          "name": "stderr",
          "text": [
            "Epoch 33/300: 100%|██████████| 76/76 [00:00<00:00, 86.81it/s, loss=0.0775]\n",
            "/usr/local/lib/python3.11/dist-packages/sklearn/metrics/_classification.py:1565: UndefinedMetricWarning: F-score is ill-defined and being set to 0.0 in labels with no true nor predicted samples. Use `zero_division` parameter to control this behavior.\n",
            "  _warn_prf(average, modifier, f\"{metric.capitalize()} is\", len(result))\n"
          ]
        },
        {
          "output_type": "stream",
          "name": "stdout",
          "text": [
            "Epoch 33 | Train Loss: 0.0822 | Test F1: 0.1268\n"
          ]
        },
        {
          "output_type": "stream",
          "name": "stderr",
          "text": [
            "Epoch 34/300: 100%|██████████| 76/76 [00:00<00:00, 87.22it/s, loss=0.0749]\n"
          ]
        },
        {
          "output_type": "stream",
          "name": "stdout",
          "text": [
            "Epoch 34 | Train Loss: 0.0781 | Test F1: 0.1362\n"
          ]
        },
        {
          "output_type": "stream",
          "name": "stderr",
          "text": [
            "Epoch 35/300: 100%|██████████| 76/76 [00:00<00:00, 87.25it/s, loss=0.0886]\n"
          ]
        },
        {
          "output_type": "stream",
          "name": "stdout",
          "text": [
            "Epoch 35 | Train Loss: 0.0744 | Test F1: 0.1425\n"
          ]
        },
        {
          "output_type": "stream",
          "name": "stderr",
          "text": [
            "Epoch 36/300: 100%|██████████| 76/76 [00:00<00:00, 87.28it/s, loss=0.0586]\n"
          ]
        },
        {
          "output_type": "stream",
          "name": "stdout",
          "text": [
            "Epoch 36 | Train Loss: 0.0698 | Test F1: 0.1593\n"
          ]
        },
        {
          "output_type": "stream",
          "name": "stderr",
          "text": [
            "Epoch 37/300: 100%|██████████| 76/76 [00:00<00:00, 88.56it/s, loss=0.0791]\n"
          ]
        },
        {
          "output_type": "stream",
          "name": "stdout",
          "text": [
            "Epoch 37 | Train Loss: 0.0662 | Test F1: 0.1513\n"
          ]
        },
        {
          "output_type": "stream",
          "name": "stderr",
          "text": [
            "Epoch 38/300: 100%|██████████| 76/76 [00:00<00:00, 87.42it/s, loss=0.0838]\n"
          ]
        },
        {
          "output_type": "stream",
          "name": "stdout",
          "text": [
            "Epoch 38 | Train Loss: 0.0630 | Test F1: 0.1519\n"
          ]
        },
        {
          "output_type": "stream",
          "name": "stderr",
          "text": [
            "Epoch 39/300: 100%|██████████| 76/76 [00:00<00:00, 81.90it/s, loss=0.0490]\n"
          ]
        },
        {
          "output_type": "stream",
          "name": "stdout",
          "text": [
            "Epoch 39 | Train Loss: 0.0589 | Test F1: 0.1582\n"
          ]
        },
        {
          "output_type": "stream",
          "name": "stderr",
          "text": [
            "Epoch 40/300: 100%|██████████| 76/76 [00:00<00:00, 83.72it/s, loss=0.0567]\n"
          ]
        },
        {
          "output_type": "stream",
          "name": "stdout",
          "text": [
            "Epoch 40 | Train Loss: 0.0558 | Test F1: 0.1662\n"
          ]
        },
        {
          "output_type": "stream",
          "name": "stderr",
          "text": [
            "Epoch 41/300: 100%|██████████| 76/76 [00:00<00:00, 88.81it/s, loss=0.0523]\n"
          ]
        },
        {
          "output_type": "stream",
          "name": "stdout",
          "text": [
            "Epoch 41 | Train Loss: 0.0519 | Test F1: 0.1835\n"
          ]
        },
        {
          "output_type": "stream",
          "name": "stderr",
          "text": [
            "Epoch 42/300: 100%|██████████| 76/76 [00:00<00:00, 87.85it/s, loss=0.0511]\n"
          ]
        },
        {
          "output_type": "stream",
          "name": "stdout",
          "text": [
            "Epoch 42 | Train Loss: 0.0492 | Test F1: 0.1798\n"
          ]
        },
        {
          "output_type": "stream",
          "name": "stderr",
          "text": [
            "Epoch 43/300: 100%|██████████| 76/76 [00:01<00:00, 75.45it/s, loss=0.0509]\n"
          ]
        },
        {
          "output_type": "stream",
          "name": "stdout",
          "text": [
            "Epoch 43 | Train Loss: 0.0460 | Test F1: 0.1930\n"
          ]
        },
        {
          "output_type": "stream",
          "name": "stderr",
          "text": [
            "Epoch 44/300: 100%|██████████| 76/76 [00:01<00:00, 67.42it/s, loss=0.0388]\n"
          ]
        },
        {
          "output_type": "stream",
          "name": "stdout",
          "text": [
            "Epoch 44 | Train Loss: 0.0430 | Test F1: 0.2027\n"
          ]
        },
        {
          "output_type": "stream",
          "name": "stderr",
          "text": [
            "Epoch 45/300: 100%|██████████| 76/76 [00:00<00:00, 78.82it/s, loss=0.0398]\n"
          ]
        },
        {
          "output_type": "stream",
          "name": "stdout",
          "text": [
            "Epoch 45 | Train Loss: 0.0406 | Test F1: 0.2105\n"
          ]
        },
        {
          "output_type": "stream",
          "name": "stderr",
          "text": [
            "Epoch 46/300: 100%|██████████| 76/76 [00:00<00:00, 88.41it/s, loss=0.0385]\n"
          ]
        },
        {
          "output_type": "stream",
          "name": "stdout",
          "text": [
            "Epoch 46 | Train Loss: 0.0377 | Test F1: 0.2203\n"
          ]
        },
        {
          "output_type": "stream",
          "name": "stderr",
          "text": [
            "Epoch 47/300: 100%|██████████| 76/76 [00:00<00:00, 87.88it/s, loss=0.0401]\n"
          ]
        },
        {
          "output_type": "stream",
          "name": "stdout",
          "text": [
            "Epoch 47 | Train Loss: 0.0346 | Test F1: 0.2337\n"
          ]
        },
        {
          "output_type": "stream",
          "name": "stderr",
          "text": [
            "Epoch 48/300: 100%|██████████| 76/76 [00:00<00:00, 88.57it/s, loss=0.0345]\n"
          ]
        },
        {
          "output_type": "stream",
          "name": "stdout",
          "text": [
            "Epoch 48 | Train Loss: 0.0327 | Test F1: 0.2280\n"
          ]
        },
        {
          "output_type": "stream",
          "name": "stderr",
          "text": [
            "Epoch 49/300: 100%|██████████| 76/76 [00:00<00:00, 87.30it/s, loss=0.0356]\n"
          ]
        },
        {
          "output_type": "stream",
          "name": "stdout",
          "text": [
            "Epoch 49 | Train Loss: 0.0307 | Test F1: 0.2598\n"
          ]
        },
        {
          "output_type": "stream",
          "name": "stderr",
          "text": [
            "Epoch 50/300: 100%|██████████| 76/76 [00:00<00:00, 86.72it/s, loss=0.0256]\n"
          ]
        },
        {
          "output_type": "stream",
          "name": "stdout",
          "text": [
            "Epoch 50 | Train Loss: 0.0280 | Test F1: 0.2746\n"
          ]
        },
        {
          "output_type": "stream",
          "name": "stderr",
          "text": [
            "Epoch 51/300: 100%|██████████| 76/76 [00:00<00:00, 85.24it/s, loss=0.0181]\n"
          ]
        },
        {
          "output_type": "stream",
          "name": "stdout",
          "text": [
            "Epoch 51 | Train Loss: 0.0259 | Test F1: 0.2749\n"
          ]
        },
        {
          "output_type": "stream",
          "name": "stderr",
          "text": [
            "Epoch 52/300: 100%|██████████| 76/76 [00:00<00:00, 86.64it/s, loss=0.0334]\n"
          ]
        },
        {
          "output_type": "stream",
          "name": "stdout",
          "text": [
            "Epoch 52 | Train Loss: 0.0240 | Test F1: 0.2748\n"
          ]
        },
        {
          "output_type": "stream",
          "name": "stderr",
          "text": [
            "Epoch 53/300: 100%|██████████| 76/76 [00:00<00:00, 86.58it/s, loss=0.0325]\n"
          ]
        },
        {
          "output_type": "stream",
          "name": "stdout",
          "text": [
            "Epoch 53 | Train Loss: 0.0220 | Test F1: 0.2857\n"
          ]
        },
        {
          "output_type": "stream",
          "name": "stderr",
          "text": [
            "Epoch 54/300: 100%|██████████| 76/76 [00:00<00:00, 85.41it/s, loss=0.0321]\n"
          ]
        },
        {
          "output_type": "stream",
          "name": "stdout",
          "text": [
            "Epoch 54 | Train Loss: 0.0207 | Test F1: 0.2990\n"
          ]
        },
        {
          "output_type": "stream",
          "name": "stderr",
          "text": [
            "Epoch 55/300: 100%|██████████| 76/76 [00:01<00:00, 75.25it/s, loss=0.0237]\n"
          ]
        },
        {
          "output_type": "stream",
          "name": "stdout",
          "text": [
            "Epoch 55 | Train Loss: 0.0195 | Test F1: 0.2913\n"
          ]
        },
        {
          "output_type": "stream",
          "name": "stderr",
          "text": [
            "Epoch 56/300: 100%|██████████| 76/76 [00:01<00:00, 74.50it/s, loss=0.0186]\n"
          ]
        },
        {
          "output_type": "stream",
          "name": "stdout",
          "text": [
            "Epoch 56 | Train Loss: 0.0177 | Test F1: 0.2826\n"
          ]
        },
        {
          "output_type": "stream",
          "name": "stderr",
          "text": [
            "Epoch 57/300: 100%|██████████| 76/76 [00:01<00:00, 72.42it/s, loss=0.0127]\n"
          ]
        },
        {
          "output_type": "stream",
          "name": "stdout",
          "text": [
            "Epoch 57 | Train Loss: 0.0167 | Test F1: 0.2860\n"
          ]
        },
        {
          "output_type": "stream",
          "name": "stderr",
          "text": [
            "Epoch 58/300: 100%|██████████| 76/76 [00:00<00:00, 87.22it/s, loss=0.0159]\n"
          ]
        },
        {
          "output_type": "stream",
          "name": "stdout",
          "text": [
            "Epoch 58 | Train Loss: 0.0155 | Test F1: 0.3048\n"
          ]
        },
        {
          "output_type": "stream",
          "name": "stderr",
          "text": [
            "Epoch 59/300: 100%|██████████| 76/76 [00:00<00:00, 87.80it/s, loss=0.0087]\n"
          ]
        },
        {
          "output_type": "stream",
          "name": "stdout",
          "text": [
            "Epoch 59 | Train Loss: 0.0151 | Test F1: 0.2957\n"
          ]
        },
        {
          "output_type": "stream",
          "name": "stderr",
          "text": [
            "Epoch 60/300: 100%|██████████| 76/76 [00:00<00:00, 87.48it/s, loss=0.0089]\n"
          ]
        },
        {
          "output_type": "stream",
          "name": "stdout",
          "text": [
            "Epoch 60 | Train Loss: 0.0142 | Test F1: 0.3012\n"
          ]
        },
        {
          "output_type": "stream",
          "name": "stderr",
          "text": [
            "Epoch 61/300: 100%|██████████| 76/76 [00:00<00:00, 86.86it/s, loss=0.0091]\n"
          ]
        },
        {
          "output_type": "stream",
          "name": "stdout",
          "text": [
            "Epoch 61 | Train Loss: 0.0128 | Test F1: 0.3002\n"
          ]
        },
        {
          "output_type": "stream",
          "name": "stderr",
          "text": [
            "Epoch 62/300: 100%|██████████| 76/76 [00:00<00:00, 85.40it/s, loss=0.0168]\n"
          ]
        },
        {
          "output_type": "stream",
          "name": "stdout",
          "text": [
            "Epoch 62 | Train Loss: 0.0119 | Test F1: 0.3078\n"
          ]
        },
        {
          "output_type": "stream",
          "name": "stderr",
          "text": [
            "Epoch 63/300: 100%|██████████| 76/76 [00:00<00:00, 89.13it/s, loss=0.0105]\n"
          ]
        },
        {
          "output_type": "stream",
          "name": "stdout",
          "text": [
            "Epoch 63 | Train Loss: 0.0112 | Test F1: 0.2980\n"
          ]
        },
        {
          "output_type": "stream",
          "name": "stderr",
          "text": [
            "Epoch 64/300: 100%|██████████| 76/76 [00:00<00:00, 85.20it/s, loss=0.0116]\n"
          ]
        },
        {
          "output_type": "stream",
          "name": "stdout",
          "text": [
            "Epoch 64 | Train Loss: 0.0105 | Test F1: 0.3027\n"
          ]
        },
        {
          "output_type": "stream",
          "name": "stderr",
          "text": [
            "Epoch 65/300: 100%|██████████| 76/76 [00:00<00:00, 88.16it/s, loss=0.0094]\n"
          ]
        },
        {
          "output_type": "stream",
          "name": "stdout",
          "text": [
            "Epoch 65 | Train Loss: 0.0100 | Test F1: 0.3009\n"
          ]
        },
        {
          "output_type": "stream",
          "name": "stderr",
          "text": [
            "Epoch 66/300: 100%|██████████| 76/76 [00:00<00:00, 86.53it/s, loss=0.0092]\n"
          ]
        },
        {
          "output_type": "stream",
          "name": "stdout",
          "text": [
            "Epoch 66 | Train Loss: 0.0099 | Test F1: 0.3075\n"
          ]
        },
        {
          "output_type": "stream",
          "name": "stderr",
          "text": [
            "Epoch 67/300: 100%|██████████| 76/76 [00:00<00:00, 84.04it/s, loss=0.0092]\n"
          ]
        },
        {
          "output_type": "stream",
          "name": "stdout",
          "text": [
            "Epoch 67 | Train Loss: 0.0097 | Test F1: 0.2877\n"
          ]
        },
        {
          "output_type": "stream",
          "name": "stderr",
          "text": [
            "Epoch 68/300: 100%|██████████| 76/76 [00:01<00:00, 73.91it/s, loss=0.0168]\n"
          ]
        },
        {
          "output_type": "stream",
          "name": "stdout",
          "text": [
            "Epoch 68 | Train Loss: 0.0103 | Test F1: 0.2932\n"
          ]
        },
        {
          "output_type": "stream",
          "name": "stderr",
          "text": [
            "Epoch 69/300: 100%|██████████| 76/76 [00:01<00:00, 71.94it/s, loss=0.0107]\n"
          ]
        },
        {
          "output_type": "stream",
          "name": "stdout",
          "text": [
            "Epoch 69 | Train Loss: 0.0091 | Test F1: 0.2957\n"
          ]
        },
        {
          "output_type": "stream",
          "name": "stderr",
          "text": [
            "Epoch 70/300: 100%|██████████| 76/76 [00:00<00:00, 78.93it/s, loss=0.0146]\n"
          ]
        },
        {
          "output_type": "stream",
          "name": "stdout",
          "text": [
            "Epoch 70 | Train Loss: 0.0082 | Test F1: 0.3011\n"
          ]
        },
        {
          "output_type": "stream",
          "name": "stderr",
          "text": [
            "Epoch 71/300: 100%|██████████| 76/76 [00:00<00:00, 86.97it/s, loss=0.0086]\n"
          ]
        },
        {
          "output_type": "stream",
          "name": "stdout",
          "text": [
            "Epoch 71 | Train Loss: 0.0075 | Test F1: 0.3022\n"
          ]
        },
        {
          "output_type": "stream",
          "name": "stderr",
          "text": [
            "Epoch 72/300: 100%|██████████| 76/76 [00:00<00:00, 85.88it/s, loss=0.0091]\n"
          ]
        },
        {
          "output_type": "stream",
          "name": "stdout",
          "text": [
            "Epoch 72 | Train Loss: 0.0071 | Test F1: 0.3113\n"
          ]
        },
        {
          "output_type": "stream",
          "name": "stderr",
          "text": [
            "Epoch 73/300: 100%|██████████| 76/76 [00:00<00:00, 87.36it/s, loss=0.0062]\n"
          ]
        },
        {
          "output_type": "stream",
          "name": "stdout",
          "text": [
            "Epoch 73 | Train Loss: 0.0068 | Test F1: 0.3143\n"
          ]
        },
        {
          "output_type": "stream",
          "name": "stderr",
          "text": [
            "Epoch 74/300: 100%|██████████| 76/76 [00:00<00:00, 87.49it/s, loss=0.0138]\n"
          ]
        },
        {
          "output_type": "stream",
          "name": "stdout",
          "text": [
            "Epoch 74 | Train Loss: 0.0064 | Test F1: 0.3085\n"
          ]
        },
        {
          "output_type": "stream",
          "name": "stderr",
          "text": [
            "Epoch 75/300: 100%|██████████| 76/76 [00:00<00:00, 85.73it/s, loss=0.0032]\n"
          ]
        },
        {
          "output_type": "stream",
          "name": "stdout",
          "text": [
            "Epoch 75 | Train Loss: 0.0062 | Test F1: 0.3093\n"
          ]
        },
        {
          "output_type": "stream",
          "name": "stderr",
          "text": [
            "Epoch 76/300: 100%|██████████| 76/76 [00:00<00:00, 86.53it/s, loss=0.0048]\n"
          ]
        },
        {
          "output_type": "stream",
          "name": "stdout",
          "text": [
            "Epoch 76 | Train Loss: 0.0063 | Test F1: 0.3129\n"
          ]
        },
        {
          "output_type": "stream",
          "name": "stderr",
          "text": [
            "Epoch 77/300: 100%|██████████| 76/76 [00:00<00:00, 84.27it/s, loss=0.0054]\n"
          ]
        },
        {
          "output_type": "stream",
          "name": "stdout",
          "text": [
            "Epoch 77 | Train Loss: 0.0060 | Test F1: 0.3070\n"
          ]
        },
        {
          "output_type": "stream",
          "name": "stderr",
          "text": [
            "Epoch 78/300: 100%|██████████| 76/76 [00:00<00:00, 86.41it/s, loss=0.0041]\n"
          ]
        },
        {
          "output_type": "stream",
          "name": "stdout",
          "text": [
            "Epoch 78 | Train Loss: 0.0059 | Test F1: 0.3156\n"
          ]
        },
        {
          "output_type": "stream",
          "name": "stderr",
          "text": [
            "Epoch 79/300: 100%|██████████| 76/76 [00:00<00:00, 86.73it/s, loss=0.0042]\n"
          ]
        },
        {
          "output_type": "stream",
          "name": "stdout",
          "text": [
            "Epoch 79 | Train Loss: 0.0055 | Test F1: 0.3107\n"
          ]
        },
        {
          "output_type": "stream",
          "name": "stderr",
          "text": [
            "Epoch 80/300: 100%|██████████| 76/76 [00:00<00:00, 80.55it/s, loss=0.0025]\n"
          ]
        },
        {
          "output_type": "stream",
          "name": "stdout",
          "text": [
            "Epoch 80 | Train Loss: 0.0053 | Test F1: 0.3148\n"
          ]
        },
        {
          "output_type": "stream",
          "name": "stderr",
          "text": [
            "Epoch 81/300: 100%|██████████| 76/76 [00:01<00:00, 71.31it/s, loss=0.0025]\n"
          ]
        },
        {
          "output_type": "stream",
          "name": "stdout",
          "text": [
            "Epoch 81 | Train Loss: 0.0052 | Test F1: 0.3141\n"
          ]
        },
        {
          "output_type": "stream",
          "name": "stderr",
          "text": [
            "Epoch 82/300: 100%|██████████| 76/76 [00:01<00:00, 71.89it/s, loss=0.0084]\n"
          ]
        },
        {
          "output_type": "stream",
          "name": "stdout",
          "text": [
            "Epoch 82 | Train Loss: 0.0050 | Test F1: 0.3176\n"
          ]
        },
        {
          "output_type": "stream",
          "name": "stderr",
          "text": [
            "Epoch 83/300: 100%|██████████| 76/76 [00:00<00:00, 85.88it/s, loss=0.0024]\n"
          ]
        },
        {
          "output_type": "stream",
          "name": "stdout",
          "text": [
            "Epoch 83 | Train Loss: 0.0050 | Test F1: 0.3101\n"
          ]
        },
        {
          "output_type": "stream",
          "name": "stderr",
          "text": [
            "Epoch 84/300: 100%|██████████| 76/76 [00:00<00:00, 85.16it/s, loss=0.0035]\n"
          ]
        },
        {
          "output_type": "stream",
          "name": "stdout",
          "text": [
            "Epoch 84 | Train Loss: 0.0047 | Test F1: 0.3110\n"
          ]
        },
        {
          "output_type": "stream",
          "name": "stderr",
          "text": [
            "Epoch 85/300: 100%|██████████| 76/76 [00:00<00:00, 87.13it/s, loss=0.0025]\n"
          ]
        },
        {
          "output_type": "stream",
          "name": "stdout",
          "text": [
            "Epoch 85 | Train Loss: 0.0049 | Test F1: 0.3133\n"
          ]
        },
        {
          "output_type": "stream",
          "name": "stderr",
          "text": [
            "Epoch 86/300: 100%|██████████| 76/76 [00:00<00:00, 86.32it/s, loss=0.0041]\n"
          ]
        },
        {
          "output_type": "stream",
          "name": "stdout",
          "text": [
            "Epoch 86 | Train Loss: 0.0046 | Test F1: 0.3121\n"
          ]
        },
        {
          "output_type": "stream",
          "name": "stderr",
          "text": [
            "Epoch 87/300: 100%|██████████| 76/76 [00:00<00:00, 86.82it/s, loss=0.0057]\n"
          ]
        },
        {
          "output_type": "stream",
          "name": "stdout",
          "text": [
            "Epoch 87 | Train Loss: 0.0046 | Test F1: 0.3109\n"
          ]
        },
        {
          "output_type": "stream",
          "name": "stderr",
          "text": [
            "Epoch 88/300: 100%|██████████| 76/76 [00:00<00:00, 86.44it/s, loss=0.0019]\n"
          ]
        },
        {
          "output_type": "stream",
          "name": "stdout",
          "text": [
            "Epoch 88 | Train Loss: 0.0045 | Test F1: 0.3139\n"
          ]
        },
        {
          "output_type": "stream",
          "name": "stderr",
          "text": [
            "Epoch 89/300: 100%|██████████| 76/76 [00:00<00:00, 84.19it/s, loss=0.0039]\n"
          ]
        },
        {
          "output_type": "stream",
          "name": "stdout",
          "text": [
            "Epoch 89 | Train Loss: 0.0044 | Test F1: 0.3110\n"
          ]
        },
        {
          "output_type": "stream",
          "name": "stderr",
          "text": [
            "Epoch 90/300: 100%|██████████| 76/76 [00:00<00:00, 83.56it/s, loss=0.0035]\n"
          ]
        },
        {
          "output_type": "stream",
          "name": "stdout",
          "text": [
            "Epoch 90 | Train Loss: 0.0044 | Test F1: 0.3142\n"
          ]
        },
        {
          "output_type": "stream",
          "name": "stderr",
          "text": [
            "Epoch 91/300: 100%|██████████| 76/76 [00:00<00:00, 86.85it/s, loss=0.0054]\n"
          ]
        },
        {
          "output_type": "stream",
          "name": "stdout",
          "text": [
            "Epoch 91 | Train Loss: 0.0043 | Test F1: 0.3161\n"
          ]
        },
        {
          "output_type": "stream",
          "name": "stderr",
          "text": [
            "Epoch 92/300: 100%|██████████| 76/76 [00:00<00:00, 86.16it/s, loss=0.0115]\n"
          ]
        },
        {
          "output_type": "stream",
          "name": "stdout",
          "text": [
            "Epoch 92 | Train Loss: 0.0043 | Test F1: 0.3061\n"
          ]
        },
        {
          "output_type": "stream",
          "name": "stderr",
          "text": [
            "Epoch 93/300: 100%|██████████| 76/76 [00:01<00:00, 72.88it/s, loss=0.0041]\n"
          ]
        },
        {
          "output_type": "stream",
          "name": "stdout",
          "text": [
            "Epoch 93 | Train Loss: 0.0044 | Test F1: 0.3122\n"
          ]
        },
        {
          "output_type": "stream",
          "name": "stderr",
          "text": [
            "Epoch 94/300: 100%|██████████| 76/76 [00:01<00:00, 72.39it/s, loss=0.0577]\n"
          ]
        },
        {
          "output_type": "stream",
          "name": "stdout",
          "text": [
            "Epoch 94 | Train Loss: 0.0155 | Test F1: 0.2604\n"
          ]
        },
        {
          "output_type": "stream",
          "name": "stderr",
          "text": [
            "Epoch 95/300: 100%|██████████| 76/76 [00:01<00:00, 74.00it/s, loss=0.0265]\n"
          ]
        },
        {
          "output_type": "stream",
          "name": "stdout",
          "text": [
            "Epoch 95 | Train Loss: 0.0375 | Test F1: 0.2740\n"
          ]
        },
        {
          "output_type": "stream",
          "name": "stderr",
          "text": [
            "Epoch 96/300: 100%|██████████| 76/76 [00:00<00:00, 85.36it/s, loss=0.0175]\n"
          ]
        },
        {
          "output_type": "stream",
          "name": "stdout",
          "text": [
            "Epoch 96 | Train Loss: 0.0150 | Test F1: 0.3005\n"
          ]
        },
        {
          "output_type": "stream",
          "name": "stderr",
          "text": [
            "Epoch 97/300: 100%|██████████| 76/76 [00:00<00:00, 87.04it/s, loss=0.0062]\n"
          ]
        },
        {
          "output_type": "stream",
          "name": "stdout",
          "text": [
            "Epoch 97 | Train Loss: 0.0077 | Test F1: 0.3052\n"
          ]
        },
        {
          "output_type": "stream",
          "name": "stderr",
          "text": [
            "Epoch 98/300: 100%|██████████| 76/76 [00:00<00:00, 85.77it/s, loss=0.0095]\n"
          ]
        },
        {
          "output_type": "stream",
          "name": "stdout",
          "text": [
            "Epoch 98 | Train Loss: 0.0053 | Test F1: 0.3090\n"
          ]
        },
        {
          "output_type": "stream",
          "name": "stderr",
          "text": [
            "Epoch 99/300: 100%|██████████| 76/76 [00:00<00:00, 83.39it/s, loss=0.0032]\n"
          ]
        },
        {
          "output_type": "stream",
          "name": "stdout",
          "text": [
            "Epoch 99 | Train Loss: 0.0044 | Test F1: 0.3057\n"
          ]
        },
        {
          "output_type": "stream",
          "name": "stderr",
          "text": [
            "Epoch 100/300: 100%|██████████| 76/76 [00:00<00:00, 85.29it/s, loss=0.0081]\n"
          ]
        },
        {
          "output_type": "stream",
          "name": "stdout",
          "text": [
            "Epoch 100 | Train Loss: 0.0042 | Test F1: 0.3076\n"
          ]
        },
        {
          "output_type": "stream",
          "name": "stderr",
          "text": [
            "Epoch 101/300: 100%|██████████| 76/76 [00:00<00:00, 86.60it/s, loss=0.0022]\n"
          ]
        },
        {
          "output_type": "stream",
          "name": "stdout",
          "text": [
            "Epoch 101 | Train Loss: 0.0040 | Test F1: 0.3142\n"
          ]
        },
        {
          "output_type": "stream",
          "name": "stderr",
          "text": [
            "Epoch 102/300: 100%|██████████| 76/76 [00:00<00:00, 82.58it/s, loss=0.0043]\n"
          ]
        },
        {
          "output_type": "stream",
          "name": "stdout",
          "text": [
            "Epoch 102 | Train Loss: 0.0038 | Test F1: 0.3080\n"
          ]
        },
        {
          "output_type": "stream",
          "name": "stderr",
          "text": [
            "Epoch 103/300: 100%|██████████| 76/76 [00:00<00:00, 80.64it/s, loss=0.0057]\n"
          ]
        },
        {
          "output_type": "stream",
          "name": "stdout",
          "text": [
            "Epoch 103 | Train Loss: 0.0036 | Test F1: 0.3083\n"
          ]
        },
        {
          "output_type": "stream",
          "name": "stderr",
          "text": [
            "Epoch 104/300: 100%|██████████| 76/76 [00:00<00:00, 87.67it/s, loss=0.0038]\n"
          ]
        },
        {
          "output_type": "stream",
          "name": "stdout",
          "text": [
            "Epoch 104 | Train Loss: 0.0036 | Test F1: 0.3120\n"
          ]
        },
        {
          "output_type": "stream",
          "name": "stderr",
          "text": [
            "Epoch 105/300: 100%|██████████| 76/76 [00:00<00:00, 81.42it/s, loss=0.0015]\n"
          ]
        },
        {
          "output_type": "stream",
          "name": "stdout",
          "text": [
            "Epoch 105 | Train Loss: 0.0035 | Test F1: 0.3103\n"
          ]
        },
        {
          "output_type": "stream",
          "name": "stderr",
          "text": [
            "Epoch 106/300: 100%|██████████| 76/76 [00:01<00:00, 72.28it/s, loss=0.0053]\n"
          ]
        },
        {
          "output_type": "stream",
          "name": "stdout",
          "text": [
            "Epoch 106 | Train Loss: 0.0035 | Test F1: 0.3063\n"
          ]
        },
        {
          "output_type": "stream",
          "name": "stderr",
          "text": [
            "Epoch 107/300: 100%|██████████| 76/76 [00:01<00:00, 68.78it/s, loss=0.0043]\n"
          ]
        },
        {
          "output_type": "stream",
          "name": "stdout",
          "text": [
            "Epoch 107 | Train Loss: 0.0034 | Test F1: 0.3112\n"
          ]
        },
        {
          "output_type": "stream",
          "name": "stderr",
          "text": [
            "Epoch 108/300: 100%|██████████| 76/76 [00:00<00:00, 88.01it/s, loss=0.0046]\n"
          ]
        },
        {
          "output_type": "stream",
          "name": "stdout",
          "text": [
            "Epoch 108 | Train Loss: 0.0034 | Test F1: 0.3119\n"
          ]
        },
        {
          "output_type": "stream",
          "name": "stderr",
          "text": [
            "Epoch 109/300: 100%|██████████| 76/76 [00:00<00:00, 86.87it/s, loss=0.0101]\n"
          ]
        },
        {
          "output_type": "stream",
          "name": "stdout",
          "text": [
            "Epoch 109 | Train Loss: 0.0033 | Test F1: 0.3034\n"
          ]
        },
        {
          "output_type": "stream",
          "name": "stderr",
          "text": [
            "Epoch 110/300: 100%|██████████| 76/76 [00:00<00:00, 82.83it/s, loss=0.0090]\n"
          ]
        },
        {
          "output_type": "stream",
          "name": "stdout",
          "text": [
            "Epoch 110 | Train Loss: 0.0032 | Test F1: 0.3102\n"
          ]
        },
        {
          "output_type": "stream",
          "name": "stderr",
          "text": [
            "Epoch 111/300: 100%|██████████| 76/76 [00:00<00:00, 86.33it/s, loss=0.0013]\n"
          ]
        },
        {
          "output_type": "stream",
          "name": "stdout",
          "text": [
            "Epoch 111 | Train Loss: 0.0032 | Test F1: 0.3066\n"
          ]
        },
        {
          "output_type": "stream",
          "name": "stderr",
          "text": [
            "Epoch 112/300: 100%|██████████| 76/76 [00:00<00:00, 86.23it/s, loss=0.0070]\n"
          ]
        },
        {
          "output_type": "stream",
          "name": "stdout",
          "text": [
            "Epoch 112 | Train Loss: 0.0032 | Test F1: 0.3092\n"
          ]
        },
        {
          "output_type": "stream",
          "name": "stderr",
          "text": [
            "Epoch 113/300: 100%|██████████| 76/76 [00:00<00:00, 86.73it/s, loss=0.0010]\n"
          ]
        },
        {
          "output_type": "stream",
          "name": "stdout",
          "text": [
            "Epoch 113 | Train Loss: 0.0032 | Test F1: 0.3034\n"
          ]
        },
        {
          "output_type": "stream",
          "name": "stderr",
          "text": [
            "Epoch 114/300: 100%|██████████| 76/76 [00:00<00:00, 87.44it/s, loss=0.0007]\n"
          ]
        },
        {
          "output_type": "stream",
          "name": "stdout",
          "text": [
            "Epoch 114 | Train Loss: 0.0032 | Test F1: 0.3135\n"
          ]
        },
        {
          "output_type": "stream",
          "name": "stderr",
          "text": [
            "Epoch 115/300: 100%|██████████| 76/76 [00:00<00:00, 85.63it/s, loss=0.0078]\n"
          ]
        },
        {
          "output_type": "stream",
          "name": "stdout",
          "text": [
            "Epoch 115 | Train Loss: 0.0031 | Test F1: 0.3074\n"
          ]
        },
        {
          "output_type": "stream",
          "name": "stderr",
          "text": [
            "Epoch 116/300: 100%|██████████| 76/76 [00:00<00:00, 86.54it/s, loss=0.0056]\n"
          ]
        },
        {
          "output_type": "stream",
          "name": "stdout",
          "text": [
            "Epoch 116 | Train Loss: 0.0031 | Test F1: 0.3074\n"
          ]
        },
        {
          "output_type": "stream",
          "name": "stderr",
          "text": [
            "Epoch 117/300: 100%|██████████| 76/76 [00:00<00:00, 85.83it/s, loss=0.0033]\n"
          ]
        },
        {
          "output_type": "stream",
          "name": "stdout",
          "text": [
            "Epoch 117 | Train Loss: 0.0031 | Test F1: 0.3068\n"
          ]
        },
        {
          "output_type": "stream",
          "name": "stderr",
          "text": [
            "Epoch 118/300: 100%|██████████| 76/76 [00:00<00:00, 76.10it/s, loss=0.0009]\n"
          ]
        },
        {
          "output_type": "stream",
          "name": "stdout",
          "text": [
            "Epoch 118 | Train Loss: 0.0030 | Test F1: 0.3132\n"
          ]
        },
        {
          "output_type": "stream",
          "name": "stderr",
          "text": [
            "Epoch 119/300: 100%|██████████| 76/76 [00:01<00:00, 72.59it/s, loss=0.0007]\n"
          ]
        },
        {
          "output_type": "stream",
          "name": "stdout",
          "text": [
            "Epoch 119 | Train Loss: 0.0030 | Test F1: 0.3119\n"
          ]
        },
        {
          "output_type": "stream",
          "name": "stderr",
          "text": [
            "Epoch 120/300: 100%|██████████| 76/76 [00:01<00:00, 70.90it/s, loss=0.0009]\n"
          ]
        },
        {
          "output_type": "stream",
          "name": "stdout",
          "text": [
            "Epoch 120 | Train Loss: 0.0030 | Test F1: 0.3123\n"
          ]
        },
        {
          "output_type": "stream",
          "name": "stderr",
          "text": [
            "Epoch 121/300: 100%|██████████| 76/76 [00:00<00:00, 86.39it/s, loss=0.0010]\n"
          ]
        },
        {
          "output_type": "stream",
          "name": "stdout",
          "text": [
            "Epoch 121 | Train Loss: 0.0030 | Test F1: 0.3092\n"
          ]
        },
        {
          "output_type": "stream",
          "name": "stderr",
          "text": [
            "Epoch 122/300: 100%|██████████| 76/76 [00:00<00:00, 84.13it/s, loss=0.0006]\n"
          ]
        },
        {
          "output_type": "stream",
          "name": "stdout",
          "text": [
            "Epoch 122 | Train Loss: 0.0030 | Test F1: 0.3061\n"
          ]
        },
        {
          "output_type": "stream",
          "name": "stderr",
          "text": [
            "Epoch 123/300: 100%|██████████| 76/76 [00:00<00:00, 84.56it/s, loss=0.0026]\n"
          ]
        },
        {
          "output_type": "stream",
          "name": "stdout",
          "text": [
            "Epoch 123 | Train Loss: 0.0029 | Test F1: 0.3111\n"
          ]
        },
        {
          "output_type": "stream",
          "name": "stderr",
          "text": [
            "Epoch 124/300: 100%|██████████| 76/76 [00:00<00:00, 86.68it/s, loss=0.0007]\n"
          ]
        },
        {
          "output_type": "stream",
          "name": "stdout",
          "text": [
            "Epoch 124 | Train Loss: 0.0030 | Test F1: 0.3157\n"
          ]
        },
        {
          "output_type": "stream",
          "name": "stderr",
          "text": [
            "Epoch 125/300: 100%|██████████| 76/76 [00:00<00:00, 86.42it/s, loss=0.0030]\n"
          ]
        },
        {
          "output_type": "stream",
          "name": "stdout",
          "text": [
            "Epoch 125 | Train Loss: 0.0030 | Test F1: 0.3098\n"
          ]
        },
        {
          "output_type": "stream",
          "name": "stderr",
          "text": [
            "Epoch 126/300: 100%|██████████| 76/76 [00:00<00:00, 87.06it/s, loss=0.0098]\n"
          ]
        },
        {
          "output_type": "stream",
          "name": "stdout",
          "text": [
            "Epoch 126 | Train Loss: 0.0030 | Test F1: 0.3035\n"
          ]
        },
        {
          "output_type": "stream",
          "name": "stderr",
          "text": [
            "Epoch 127/300: 100%|██████████| 76/76 [00:00<00:00, 86.12it/s, loss=0.0062]\n"
          ]
        },
        {
          "output_type": "stream",
          "name": "stdout",
          "text": [
            "Epoch 127 | Train Loss: 0.0029 | Test F1: 0.3172\n"
          ]
        },
        {
          "output_type": "stream",
          "name": "stderr",
          "text": [
            "Epoch 128/300: 100%|██████████| 76/76 [00:00<00:00, 87.07it/s, loss=0.0007]\n"
          ]
        },
        {
          "output_type": "stream",
          "name": "stdout",
          "text": [
            "Epoch 128 | Train Loss: 0.0028 | Test F1: 0.3092\n"
          ]
        },
        {
          "output_type": "stream",
          "name": "stderr",
          "text": [
            "Epoch 129/300: 100%|██████████| 76/76 [00:00<00:00, 81.24it/s, loss=0.0087]\n"
          ]
        },
        {
          "output_type": "stream",
          "name": "stdout",
          "text": [
            "Epoch 129 | Train Loss: 0.0029 | Test F1: 0.3083\n"
          ]
        },
        {
          "output_type": "stream",
          "name": "stderr",
          "text": [
            "Epoch 130/300: 100%|██████████| 76/76 [00:00<00:00, 85.39it/s, loss=0.0121]\n"
          ]
        },
        {
          "output_type": "stream",
          "name": "stdout",
          "text": [
            "Epoch 130 | Train Loss: 0.0029 | Test F1: 0.3097\n"
          ]
        },
        {
          "output_type": "stream",
          "name": "stderr",
          "text": [
            "Epoch 131/300: 100%|██████████| 76/76 [00:01<00:00, 67.61it/s, loss=0.0008]\n"
          ]
        },
        {
          "output_type": "stream",
          "name": "stdout",
          "text": [
            "Epoch 131 | Train Loss: 0.0029 | Test F1: 0.3063\n"
          ]
        },
        {
          "output_type": "stream",
          "name": "stderr",
          "text": [
            "Epoch 132/300: 100%|██████████| 76/76 [00:01<00:00, 72.53it/s, loss=0.0038]\n"
          ]
        },
        {
          "output_type": "stream",
          "name": "stdout",
          "text": [
            "Epoch 132 | Train Loss: 0.0028 | Test F1: 0.3126\n"
          ]
        },
        {
          "output_type": "stream",
          "name": "stderr",
          "text": [
            "Epoch 133/300: 100%|██████████| 76/76 [00:00<00:00, 76.29it/s, loss=0.0007]\n"
          ]
        },
        {
          "output_type": "stream",
          "name": "stdout",
          "text": [
            "Epoch 133 | Train Loss: 0.0029 | Test F1: 0.3130\n"
          ]
        },
        {
          "output_type": "stream",
          "name": "stderr",
          "text": [
            "Epoch 134/300: 100%|██████████| 76/76 [00:00<00:00, 84.01it/s, loss=0.0038]\n"
          ]
        },
        {
          "output_type": "stream",
          "name": "stdout",
          "text": [
            "Epoch 134 | Train Loss: 0.0027 | Test F1: 0.3143\n"
          ]
        },
        {
          "output_type": "stream",
          "name": "stderr",
          "text": [
            "Epoch 135/300: 100%|██████████| 76/76 [00:00<00:00, 83.84it/s, loss=0.0055]\n"
          ]
        },
        {
          "output_type": "stream",
          "name": "stdout",
          "text": [
            "Epoch 135 | Train Loss: 0.0028 | Test F1: 0.3067\n"
          ]
        },
        {
          "output_type": "stream",
          "name": "stderr",
          "text": [
            "Epoch 136/300: 100%|██████████| 76/76 [00:00<00:00, 84.66it/s, loss=0.0031]\n"
          ]
        },
        {
          "output_type": "stream",
          "name": "stdout",
          "text": [
            "Epoch 136 | Train Loss: 0.0028 | Test F1: 0.3082\n"
          ]
        },
        {
          "output_type": "stream",
          "name": "stderr",
          "text": [
            "Epoch 137/300: 100%|██████████| 76/76 [00:00<00:00, 81.78it/s, loss=0.0012]\n"
          ]
        },
        {
          "output_type": "stream",
          "name": "stdout",
          "text": [
            "Epoch 137 | Train Loss: 0.0027 | Test F1: 0.3112\n"
          ]
        },
        {
          "output_type": "stream",
          "name": "stderr",
          "text": [
            "Epoch 138/300: 100%|██████████| 76/76 [00:00<00:00, 85.92it/s, loss=0.0028]\n"
          ]
        },
        {
          "output_type": "stream",
          "name": "stdout",
          "text": [
            "Epoch 138 | Train Loss: 0.0027 | Test F1: 0.3146\n"
          ]
        },
        {
          "output_type": "stream",
          "name": "stderr",
          "text": [
            "Epoch 139/300: 100%|██████████| 76/76 [00:00<00:00, 82.21it/s, loss=0.0024]\n"
          ]
        },
        {
          "output_type": "stream",
          "name": "stdout",
          "text": [
            "Epoch 139 | Train Loss: 0.0028 | Test F1: 0.3066\n"
          ]
        },
        {
          "output_type": "stream",
          "name": "stderr",
          "text": [
            "Epoch 140/300: 100%|██████████| 76/76 [00:00<00:00, 82.85it/s, loss=0.0006]\n"
          ]
        },
        {
          "output_type": "stream",
          "name": "stdout",
          "text": [
            "Epoch 140 | Train Loss: 0.0027 | Test F1: 0.3097\n"
          ]
        },
        {
          "output_type": "stream",
          "name": "stderr",
          "text": [
            "Epoch 141/300: 100%|██████████| 76/76 [00:00<00:00, 82.22it/s, loss=0.0173]\n"
          ]
        },
        {
          "output_type": "stream",
          "name": "stdout",
          "text": [
            "Epoch 141 | Train Loss: 0.0027 | Test F1: 0.3212\n"
          ]
        },
        {
          "output_type": "stream",
          "name": "stderr",
          "text": [
            "Epoch 142/300: 100%|██████████| 76/76 [00:00<00:00, 83.35it/s, loss=0.0118]\n"
          ]
        },
        {
          "output_type": "stream",
          "name": "stdout",
          "text": [
            "Epoch 142 | Train Loss: 0.0027 | Test F1: 0.3105\n"
          ]
        },
        {
          "output_type": "stream",
          "name": "stderr",
          "text": [
            "Epoch 143/300: 100%|██████████| 76/76 [00:01<00:00, 71.40it/s, loss=0.0026]\n"
          ]
        },
        {
          "output_type": "stream",
          "name": "stdout",
          "text": [
            "Epoch 143 | Train Loss: 0.0028 | Test F1: 0.3153\n"
          ]
        },
        {
          "output_type": "stream",
          "name": "stderr",
          "text": [
            "Epoch 144/300: 100%|██████████| 76/76 [00:01<00:00, 70.55it/s, loss=0.0097]\n"
          ]
        },
        {
          "output_type": "stream",
          "name": "stdout",
          "text": [
            "Epoch 144 | Train Loss: 0.0028 | Test F1: 0.3087\n"
          ]
        },
        {
          "output_type": "stream",
          "name": "stderr",
          "text": [
            "Epoch 145/300: 100%|██████████| 76/76 [00:01<00:00, 70.71it/s, loss=0.0048]\n"
          ]
        },
        {
          "output_type": "stream",
          "name": "stdout",
          "text": [
            "Epoch 145 | Train Loss: 0.0028 | Test F1: 0.3114\n"
          ]
        },
        {
          "output_type": "stream",
          "name": "stderr",
          "text": [
            "Epoch 146/300: 100%|██████████| 76/76 [00:00<00:00, 84.43it/s, loss=0.0384]\n"
          ]
        },
        {
          "output_type": "stream",
          "name": "stdout",
          "text": [
            "Epoch 146 | Train Loss: 0.0088 | Test F1: 0.2439\n"
          ]
        },
        {
          "output_type": "stream",
          "name": "stderr",
          "text": [
            "Epoch 147/300: 100%|██████████| 76/76 [00:00<00:00, 86.00it/s, loss=0.0302]\n"
          ]
        },
        {
          "output_type": "stream",
          "name": "stdout",
          "text": [
            "Epoch 147 | Train Loss: 0.0478 | Test F1: 0.2748\n"
          ]
        },
        {
          "output_type": "stream",
          "name": "stderr",
          "text": [
            "Epoch 148/300: 100%|██████████| 76/76 [00:00<00:00, 84.68it/s, loss=0.0108]\n"
          ]
        },
        {
          "output_type": "stream",
          "name": "stdout",
          "text": [
            "Epoch 148 | Train Loss: 0.0149 | Test F1: 0.3157\n"
          ]
        },
        {
          "output_type": "stream",
          "name": "stderr",
          "text": [
            "Epoch 149/300: 100%|██████████| 76/76 [00:00<00:00, 86.37it/s, loss=0.0033]\n"
          ]
        },
        {
          "output_type": "stream",
          "name": "stdout",
          "text": [
            "Epoch 149 | Train Loss: 0.0065 | Test F1: 0.3061\n"
          ]
        },
        {
          "output_type": "stream",
          "name": "stderr",
          "text": [
            "Epoch 150/300: 100%|██████████| 76/76 [00:00<00:00, 84.33it/s, loss=0.0057]\n"
          ]
        },
        {
          "output_type": "stream",
          "name": "stdout",
          "text": [
            "Epoch 150 | Train Loss: 0.0042 | Test F1: 0.3082\n"
          ]
        },
        {
          "output_type": "stream",
          "name": "stderr",
          "text": [
            "Epoch 151/300: 100%|██████████| 76/76 [00:00<00:00, 84.32it/s, loss=0.0010]\n"
          ]
        },
        {
          "output_type": "stream",
          "name": "stdout",
          "text": [
            "Epoch 151 | Train Loss: 0.0035 | Test F1: 0.3054\n"
          ]
        },
        {
          "output_type": "stream",
          "name": "stderr",
          "text": [
            "Epoch 152/300: 100%|██████████| 76/76 [00:00<00:00, 85.44it/s, loss=0.0021]\n"
          ]
        },
        {
          "output_type": "stream",
          "name": "stdout",
          "text": [
            "Epoch 152 | Train Loss: 0.0032 | Test F1: 0.3079\n"
          ]
        },
        {
          "output_type": "stream",
          "name": "stderr",
          "text": [
            "Epoch 153/300: 100%|██████████| 76/76 [00:00<00:00, 84.31it/s, loss=0.0010]\n"
          ]
        },
        {
          "output_type": "stream",
          "name": "stdout",
          "text": [
            "Epoch 153 | Train Loss: 0.0030 | Test F1: 0.3044\n"
          ]
        },
        {
          "output_type": "stream",
          "name": "stderr",
          "text": [
            "Epoch 154/300: 100%|██████████| 76/76 [00:00<00:00, 83.65it/s, loss=0.0009]\n"
          ]
        },
        {
          "output_type": "stream",
          "name": "stdout",
          "text": [
            "Epoch 154 | Train Loss: 0.0029 | Test F1: 0.3057\n"
          ]
        },
        {
          "output_type": "stream",
          "name": "stderr",
          "text": [
            "Epoch 155/300: 100%|██████████| 76/76 [00:00<00:00, 83.85it/s, loss=0.0046]\n"
          ]
        },
        {
          "output_type": "stream",
          "name": "stdout",
          "text": [
            "Epoch 155 | Train Loss: 0.0028 | Test F1: 0.3097\n"
          ]
        },
        {
          "output_type": "stream",
          "name": "stderr",
          "text": [
            "Epoch 156/300: 100%|██████████| 76/76 [00:01<00:00, 70.20it/s, loss=0.0098]\n"
          ]
        },
        {
          "output_type": "stream",
          "name": "stdout",
          "text": [
            "Epoch 156 | Train Loss: 0.0028 | Test F1: 0.3059\n"
          ]
        },
        {
          "output_type": "stream",
          "name": "stderr",
          "text": [
            "Epoch 157/300: 100%|██████████| 76/76 [00:01<00:00, 68.35it/s, loss=0.0093]\n"
          ]
        },
        {
          "output_type": "stream",
          "name": "stdout",
          "text": [
            "Epoch 157 | Train Loss: 0.0027 | Test F1: 0.3048\n"
          ]
        },
        {
          "output_type": "stream",
          "name": "stderr",
          "text": [
            "Epoch 158/300: 100%|██████████| 76/76 [00:00<00:00, 79.11it/s, loss=0.0007]\n"
          ]
        },
        {
          "output_type": "stream",
          "name": "stdout",
          "text": [
            "Epoch 158 | Train Loss: 0.0027 | Test F1: 0.3043\n"
          ]
        },
        {
          "output_type": "stream",
          "name": "stderr",
          "text": [
            "Epoch 159/300: 100%|██████████| 76/76 [00:00<00:00, 85.24it/s, loss=0.0030]\n"
          ]
        },
        {
          "output_type": "stream",
          "name": "stdout",
          "text": [
            "Epoch 159 | Train Loss: 0.0027 | Test F1: 0.3059\n"
          ]
        },
        {
          "output_type": "stream",
          "name": "stderr",
          "text": [
            "Epoch 160/300: 100%|██████████| 76/76 [00:00<00:00, 81.85it/s, loss=0.0005]\n"
          ]
        },
        {
          "output_type": "stream",
          "name": "stdout",
          "text": [
            "Epoch 160 | Train Loss: 0.0026 | Test F1: 0.3062\n"
          ]
        },
        {
          "output_type": "stream",
          "name": "stderr",
          "text": [
            "Epoch 161/300: 100%|██████████| 76/76 [00:00<00:00, 83.62it/s, loss=0.0020]\n"
          ]
        },
        {
          "output_type": "stream",
          "name": "stdout",
          "text": [
            "Epoch 161 | Train Loss: 0.0026 | Test F1: 0.3057\n"
          ]
        },
        {
          "output_type": "stream",
          "name": "stderr",
          "text": [
            "Epoch 162/300: 100%|██████████| 76/76 [00:00<00:00, 86.08it/s, loss=0.0013]\n"
          ]
        },
        {
          "output_type": "stream",
          "name": "stdout",
          "text": [
            "Epoch 162 | Train Loss: 0.0025 | Test F1: 0.3097\n"
          ]
        },
        {
          "output_type": "stream",
          "name": "stderr",
          "text": [
            "Epoch 163/300: 100%|██████████| 76/76 [00:00<00:00, 85.19it/s, loss=0.0004]\n"
          ]
        },
        {
          "output_type": "stream",
          "name": "stdout",
          "text": [
            "Epoch 163 | Train Loss: 0.0025 | Test F1: 0.3069\n"
          ]
        },
        {
          "output_type": "stream",
          "name": "stderr",
          "text": [
            "Epoch 164/300: 100%|██████████| 76/76 [00:00<00:00, 84.35it/s, loss=0.0077]\n"
          ]
        },
        {
          "output_type": "stream",
          "name": "stdout",
          "text": [
            "Epoch 164 | Train Loss: 0.0025 | Test F1: 0.3102\n"
          ]
        },
        {
          "output_type": "stream",
          "name": "stderr",
          "text": [
            "Epoch 165/300: 100%|██████████| 76/76 [00:00<00:00, 86.70it/s, loss=0.0005]\n"
          ]
        },
        {
          "output_type": "stream",
          "name": "stdout",
          "text": [
            "Epoch 165 | Train Loss: 0.0025 | Test F1: 0.3090\n"
          ]
        },
        {
          "output_type": "stream",
          "name": "stderr",
          "text": [
            "Epoch 166/300: 100%|██████████| 76/76 [00:00<00:00, 85.43it/s, loss=0.0040]\n"
          ]
        },
        {
          "output_type": "stream",
          "name": "stdout",
          "text": [
            "Epoch 166 | Train Loss: 0.0025 | Test F1: 0.3079\n"
          ]
        },
        {
          "output_type": "stream",
          "name": "stderr",
          "text": [
            "Epoch 167/300: 100%|██████████| 76/76 [00:00<00:00, 85.03it/s, loss=0.0004]\n"
          ]
        },
        {
          "output_type": "stream",
          "name": "stdout",
          "text": [
            "Epoch 167 | Train Loss: 0.0025 | Test F1: 0.3088\n"
          ]
        },
        {
          "output_type": "stream",
          "name": "stderr",
          "text": [
            "Epoch 168/300: 100%|██████████| 76/76 [00:01<00:00, 75.68it/s, loss=0.0027]\n"
          ]
        },
        {
          "output_type": "stream",
          "name": "stdout",
          "text": [
            "Epoch 168 | Train Loss: 0.0025 | Test F1: 0.3081\n"
          ]
        },
        {
          "output_type": "stream",
          "name": "stderr",
          "text": [
            "Epoch 169/300: 100%|██████████| 76/76 [00:01<00:00, 73.35it/s, loss=0.0016]\n"
          ]
        },
        {
          "output_type": "stream",
          "name": "stdout",
          "text": [
            "Epoch 169 | Train Loss: 0.0024 | Test F1: 0.3062\n"
          ]
        },
        {
          "output_type": "stream",
          "name": "stderr",
          "text": [
            "Epoch 170/300: 100%|██████████| 76/76 [00:01<00:00, 67.35it/s, loss=0.0045]\n"
          ]
        },
        {
          "output_type": "stream",
          "name": "stdout",
          "text": [
            "Epoch 170 | Train Loss: 0.0025 | Test F1: 0.3101\n"
          ]
        },
        {
          "output_type": "stream",
          "name": "stderr",
          "text": [
            "Epoch 171/300: 100%|██████████| 76/76 [00:00<00:00, 84.26it/s, loss=0.0017]\n"
          ]
        },
        {
          "output_type": "stream",
          "name": "stdout",
          "text": [
            "Epoch 171 | Train Loss: 0.0024 | Test F1: 0.3097\n"
          ]
        },
        {
          "output_type": "stream",
          "name": "stderr",
          "text": [
            "Epoch 172/300: 100%|██████████| 76/76 [00:00<00:00, 84.29it/s, loss=0.0055]\n"
          ]
        },
        {
          "output_type": "stream",
          "name": "stdout",
          "text": [
            "Epoch 172 | Train Loss: 0.0024 | Test F1: 0.3113\n"
          ]
        },
        {
          "output_type": "stream",
          "name": "stderr",
          "text": [
            "Epoch 173/300: 100%|██████████| 76/76 [00:00<00:00, 85.21it/s, loss=0.0004]\n"
          ]
        },
        {
          "output_type": "stream",
          "name": "stdout",
          "text": [
            "Epoch 173 | Train Loss: 0.0025 | Test F1: 0.3123\n"
          ]
        },
        {
          "output_type": "stream",
          "name": "stderr",
          "text": [
            "Epoch 174/300: 100%|██████████| 76/76 [00:00<00:00, 84.67it/s, loss=0.0003]\n"
          ]
        },
        {
          "output_type": "stream",
          "name": "stdout",
          "text": [
            "Epoch 174 | Train Loss: 0.0024 | Test F1: 0.3098\n"
          ]
        },
        {
          "output_type": "stream",
          "name": "stderr",
          "text": [
            "Epoch 175/300: 100%|██████████| 76/76 [00:00<00:00, 84.66it/s, loss=0.0047]\n"
          ]
        },
        {
          "output_type": "stream",
          "name": "stdout",
          "text": [
            "Epoch 175 | Train Loss: 0.0024 | Test F1: 0.3091\n"
          ]
        },
        {
          "output_type": "stream",
          "name": "stderr",
          "text": [
            "Epoch 176/300: 100%|██████████| 76/76 [00:00<00:00, 85.45it/s, loss=0.0003]\n"
          ]
        },
        {
          "output_type": "stream",
          "name": "stdout",
          "text": [
            "Epoch 176 | Train Loss: 0.0024 | Test F1: 0.3101\n"
          ]
        },
        {
          "output_type": "stream",
          "name": "stderr",
          "text": [
            "Epoch 177/300: 100%|██████████| 76/76 [00:00<00:00, 86.12it/s, loss=0.0002]\n"
          ]
        },
        {
          "output_type": "stream",
          "name": "stdout",
          "text": [
            "Epoch 177 | Train Loss: 0.0024 | Test F1: 0.3133\n"
          ]
        },
        {
          "output_type": "stream",
          "name": "stderr",
          "text": [
            "Epoch 178/300: 100%|██████████| 76/76 [00:00<00:00, 86.31it/s, loss=0.0048]\n"
          ]
        },
        {
          "output_type": "stream",
          "name": "stdout",
          "text": [
            "Epoch 178 | Train Loss: 0.0024 | Test F1: 0.3159\n"
          ]
        },
        {
          "output_type": "stream",
          "name": "stderr",
          "text": [
            "Epoch 179/300: 100%|██████████| 76/76 [00:00<00:00, 85.45it/s, loss=0.0055]\n"
          ]
        },
        {
          "output_type": "stream",
          "name": "stdout",
          "text": [
            "Epoch 179 | Train Loss: 0.0024 | Test F1: 0.3063\n"
          ]
        },
        {
          "output_type": "stream",
          "name": "stderr",
          "text": [
            "Epoch 180/300: 100%|██████████| 76/76 [00:00<00:00, 83.21it/s, loss=0.0003]\n"
          ]
        },
        {
          "output_type": "stream",
          "name": "stdout",
          "text": [
            "Epoch 180 | Train Loss: 0.0024 | Test F1: 0.3097\n"
          ]
        },
        {
          "output_type": "stream",
          "name": "stderr",
          "text": [
            "Epoch 181/300: 100%|██████████| 76/76 [00:01<00:00, 69.58it/s, loss=0.0003]\n"
          ]
        },
        {
          "output_type": "stream",
          "name": "stdout",
          "text": [
            "Epoch 181 | Train Loss: 0.0024 | Test F1: 0.3148\n"
          ]
        },
        {
          "output_type": "stream",
          "name": "stderr",
          "text": [
            "Epoch 182/300: 100%|██████████| 76/76 [00:01<00:00, 71.76it/s, loss=0.0002]\n"
          ]
        },
        {
          "output_type": "stream",
          "name": "stdout",
          "text": [
            "Epoch 182 | Train Loss: 0.0024 | Test F1: 0.3084\n"
          ]
        },
        {
          "output_type": "stream",
          "name": "stderr",
          "text": [
            "Epoch 183/300: 100%|██████████| 76/76 [00:01<00:00, 70.93it/s, loss=0.0046]\n"
          ]
        },
        {
          "output_type": "stream",
          "name": "stdout",
          "text": [
            "Epoch 183 | Train Loss: 0.0024 | Test F1: 0.3088\n"
          ]
        },
        {
          "output_type": "stream",
          "name": "stderr",
          "text": [
            "Epoch 184/300: 100%|██████████| 76/76 [00:00<00:00, 85.02it/s, loss=0.0034]\n"
          ]
        },
        {
          "output_type": "stream",
          "name": "stdout",
          "text": [
            "Epoch 184 | Train Loss: 0.0024 | Test F1: 0.3124\n"
          ]
        },
        {
          "output_type": "stream",
          "name": "stderr",
          "text": [
            "Epoch 185/300: 100%|██████████| 76/76 [00:00<00:00, 86.05it/s, loss=0.0014]\n"
          ]
        },
        {
          "output_type": "stream",
          "name": "stdout",
          "text": [
            "Epoch 185 | Train Loss: 0.0024 | Test F1: 0.3085\n"
          ]
        },
        {
          "output_type": "stream",
          "name": "stderr",
          "text": [
            "Epoch 186/300: 100%|██████████| 76/76 [00:00<00:00, 83.66it/s, loss=0.0003]\n"
          ]
        },
        {
          "output_type": "stream",
          "name": "stdout",
          "text": [
            "Epoch 186 | Train Loss: 0.0024 | Test F1: 0.3098\n"
          ]
        },
        {
          "output_type": "stream",
          "name": "stderr",
          "text": [
            "Epoch 187/300: 100%|██████████| 76/76 [00:00<00:00, 85.78it/s, loss=0.0023]\n"
          ]
        },
        {
          "output_type": "stream",
          "name": "stdout",
          "text": [
            "Epoch 187 | Train Loss: 0.0024 | Test F1: 0.3073\n"
          ]
        },
        {
          "output_type": "stream",
          "name": "stderr",
          "text": [
            "Epoch 188/300: 100%|██████████| 76/76 [00:00<00:00, 85.99it/s, loss=0.0030]\n"
          ]
        },
        {
          "output_type": "stream",
          "name": "stdout",
          "text": [
            "Epoch 188 | Train Loss: 0.0024 | Test F1: 0.3077\n"
          ]
        },
        {
          "output_type": "stream",
          "name": "stderr",
          "text": [
            "Epoch 189/300: 100%|██████████| 76/76 [00:00<00:00, 84.68it/s, loss=0.0003]\n"
          ]
        },
        {
          "output_type": "stream",
          "name": "stdout",
          "text": [
            "Epoch 189 | Train Loss: 0.0024 | Test F1: 0.3083\n"
          ]
        },
        {
          "output_type": "stream",
          "name": "stderr",
          "text": [
            "Epoch 190/300: 100%|██████████| 76/76 [00:00<00:00, 83.33it/s, loss=0.0035]\n"
          ]
        },
        {
          "output_type": "stream",
          "name": "stdout",
          "text": [
            "Epoch 190 | Train Loss: 0.0024 | Test F1: 0.3110\n"
          ]
        },
        {
          "output_type": "stream",
          "name": "stderr",
          "text": [
            "Epoch 191/300: 100%|██████████| 76/76 [00:00<00:00, 83.12it/s, loss=0.0028]\n"
          ]
        },
        {
          "output_type": "stream",
          "name": "stdout",
          "text": [
            "Epoch 191 | Train Loss: 0.0024 | Test F1: 0.3104\n"
          ]
        },
        {
          "output_type": "stream",
          "name": "stderr",
          "text": [
            "Epoch 192/300: 100%|██████████| 76/76 [00:00<00:00, 84.14it/s, loss=0.0002]\n"
          ]
        },
        {
          "output_type": "stream",
          "name": "stdout",
          "text": [
            "Epoch 192 | Train Loss: 0.0023 | Test F1: 0.3085\n"
          ]
        },
        {
          "output_type": "stream",
          "name": "stderr",
          "text": [
            "Epoch 193/300: 100%|██████████| 76/76 [00:00<00:00, 78.18it/s, loss=0.0030]\n"
          ]
        },
        {
          "output_type": "stream",
          "name": "stdout",
          "text": [
            "Epoch 193 | Train Loss: 0.0024 | Test F1: 0.3050\n"
          ]
        },
        {
          "output_type": "stream",
          "name": "stderr",
          "text": [
            "Epoch 194/300: 100%|██████████| 76/76 [00:01<00:00, 71.67it/s, loss=0.0016]\n"
          ]
        },
        {
          "output_type": "stream",
          "name": "stdout",
          "text": [
            "Epoch 194 | Train Loss: 0.0023 | Test F1: 0.3111\n"
          ]
        },
        {
          "output_type": "stream",
          "name": "stderr",
          "text": [
            "Epoch 195/300: 100%|██████████| 76/76 [00:01<00:00, 69.61it/s, loss=0.0036]\n"
          ]
        },
        {
          "output_type": "stream",
          "name": "stdout",
          "text": [
            "Epoch 195 | Train Loss: 0.0023 | Test F1: 0.3074\n"
          ]
        },
        {
          "output_type": "stream",
          "name": "stderr",
          "text": [
            "Epoch 196/300: 100%|██████████| 76/76 [00:00<00:00, 78.12it/s, loss=0.0062]\n"
          ]
        },
        {
          "output_type": "stream",
          "name": "stdout",
          "text": [
            "Epoch 196 | Train Loss: 0.0023 | Test F1: 0.3107\n"
          ]
        },
        {
          "output_type": "stream",
          "name": "stderr",
          "text": [
            "Epoch 197/300: 100%|██████████| 76/76 [00:00<00:00, 83.68it/s, loss=0.0385]\n"
          ]
        },
        {
          "output_type": "stream",
          "name": "stdout",
          "text": [
            "Epoch 197 | Train Loss: 0.0231 | Test F1: 0.2647\n"
          ]
        },
        {
          "output_type": "stream",
          "name": "stderr",
          "text": [
            "Epoch 198/300: 100%|██████████| 76/76 [00:00<00:00, 83.41it/s, loss=0.0171]\n"
          ]
        },
        {
          "output_type": "stream",
          "name": "stdout",
          "text": [
            "Epoch 198 | Train Loss: 0.0260 | Test F1: 0.2903\n"
          ]
        },
        {
          "output_type": "stream",
          "name": "stderr",
          "text": [
            "Epoch 199/300: 100%|██████████| 76/76 [00:00<00:00, 82.93it/s, loss=0.0078]\n"
          ]
        },
        {
          "output_type": "stream",
          "name": "stdout",
          "text": [
            "Epoch 199 | Train Loss: 0.0102 | Test F1: 0.3008\n"
          ]
        },
        {
          "output_type": "stream",
          "name": "stderr",
          "text": [
            "Epoch 200/300: 100%|██████████| 76/76 [00:00<00:00, 83.61it/s, loss=0.0032]\n"
          ]
        },
        {
          "output_type": "stream",
          "name": "stdout",
          "text": [
            "Epoch 200 | Train Loss: 0.0049 | Test F1: 0.3113\n"
          ]
        },
        {
          "output_type": "stream",
          "name": "stderr",
          "text": [
            "Epoch 201/300: 100%|██████████| 76/76 [00:00<00:00, 84.48it/s, loss=0.0028]\n"
          ]
        },
        {
          "output_type": "stream",
          "name": "stdout",
          "text": [
            "Epoch 201 | Train Loss: 0.0033 | Test F1: 0.3071\n"
          ]
        },
        {
          "output_type": "stream",
          "name": "stderr",
          "text": [
            "Epoch 202/300: 100%|██████████| 76/76 [00:00<00:00, 83.38it/s, loss=0.0074]\n"
          ]
        },
        {
          "output_type": "stream",
          "name": "stdout",
          "text": [
            "Epoch 202 | Train Loss: 0.0030 | Test F1: 0.3076\n"
          ]
        },
        {
          "output_type": "stream",
          "name": "stderr",
          "text": [
            "Epoch 203/300: 100%|██████████| 76/76 [00:00<00:00, 84.56it/s, loss=0.0081]\n"
          ]
        },
        {
          "output_type": "stream",
          "name": "stdout",
          "text": [
            "Epoch 203 | Train Loss: 0.0028 | Test F1: 0.3068\n"
          ]
        },
        {
          "output_type": "stream",
          "name": "stderr",
          "text": [
            "Epoch 204/300: 100%|██████████| 76/76 [00:00<00:00, 85.15it/s, loss=0.0061]\n"
          ]
        },
        {
          "output_type": "stream",
          "name": "stdout",
          "text": [
            "Epoch 204 | Train Loss: 0.0027 | Test F1: 0.3109\n"
          ]
        },
        {
          "output_type": "stream",
          "name": "stderr",
          "text": [
            "Epoch 205/300: 100%|██████████| 76/76 [00:00<00:00, 84.67it/s, loss=0.0020]\n"
          ]
        },
        {
          "output_type": "stream",
          "name": "stdout",
          "text": [
            "Epoch 205 | Train Loss: 0.0026 | Test F1: 0.3091\n"
          ]
        },
        {
          "output_type": "stream",
          "name": "stderr",
          "text": [
            "Epoch 206/300: 100%|██████████| 76/76 [00:01<00:00, 70.61it/s, loss=0.0005]\n"
          ]
        },
        {
          "output_type": "stream",
          "name": "stdout",
          "text": [
            "Epoch 206 | Train Loss: 0.0026 | Test F1: 0.3074\n"
          ]
        },
        {
          "output_type": "stream",
          "name": "stderr",
          "text": [
            "Epoch 207/300: 100%|██████████| 76/76 [00:01<00:00, 72.68it/s, loss=0.0021]\n"
          ]
        },
        {
          "output_type": "stream",
          "name": "stdout",
          "text": [
            "Epoch 207 | Train Loss: 0.0025 | Test F1: 0.3079\n"
          ]
        },
        {
          "output_type": "stream",
          "name": "stderr",
          "text": [
            "Epoch 208/300: 100%|██████████| 76/76 [00:01<00:00, 64.90it/s, loss=0.0036]\n"
          ]
        },
        {
          "output_type": "stream",
          "name": "stdout",
          "text": [
            "Epoch 208 | Train Loss: 0.0025 | Test F1: 0.3071\n"
          ]
        },
        {
          "output_type": "stream",
          "name": "stderr",
          "text": [
            "Epoch 209/300: 100%|██████████| 76/76 [00:00<00:00, 84.31it/s, loss=0.0004]\n"
          ]
        },
        {
          "output_type": "stream",
          "name": "stdout",
          "text": [
            "Epoch 209 | Train Loss: 0.0025 | Test F1: 0.3092\n"
          ]
        },
        {
          "output_type": "stream",
          "name": "stderr",
          "text": [
            "Epoch 210/300: 100%|██████████| 76/76 [00:00<00:00, 80.71it/s, loss=0.0047]\n"
          ]
        },
        {
          "output_type": "stream",
          "name": "stdout",
          "text": [
            "Epoch 210 | Train Loss: 0.0025 | Test F1: 0.3103\n"
          ]
        },
        {
          "output_type": "stream",
          "name": "stderr",
          "text": [
            "Epoch 211/300: 100%|██████████| 76/76 [00:00<00:00, 85.09it/s, loss=0.0004]\n"
          ]
        },
        {
          "output_type": "stream",
          "name": "stdout",
          "text": [
            "Epoch 211 | Train Loss: 0.0024 | Test F1: 0.3083\n"
          ]
        },
        {
          "output_type": "stream",
          "name": "stderr",
          "text": [
            "Epoch 212/300: 100%|██████████| 76/76 [00:00<00:00, 84.13it/s, loss=0.0042]\n"
          ]
        },
        {
          "output_type": "stream",
          "name": "stdout",
          "text": [
            "Epoch 212 | Train Loss: 0.0024 | Test F1: 0.3114\n"
          ]
        },
        {
          "output_type": "stream",
          "name": "stderr",
          "text": [
            "Epoch 213/300: 100%|██████████| 76/76 [00:00<00:00, 83.06it/s, loss=0.0002]\n"
          ]
        },
        {
          "output_type": "stream",
          "name": "stdout",
          "text": [
            "Epoch 213 | Train Loss: 0.0023 | Test F1: 0.3072\n"
          ]
        },
        {
          "output_type": "stream",
          "name": "stderr",
          "text": [
            "Epoch 214/300: 100%|██████████| 76/76 [00:00<00:00, 84.07it/s, loss=0.0039]\n"
          ]
        },
        {
          "output_type": "stream",
          "name": "stdout",
          "text": [
            "Epoch 214 | Train Loss: 0.0024 | Test F1: 0.3118\n"
          ]
        },
        {
          "output_type": "stream",
          "name": "stderr",
          "text": [
            "Epoch 215/300: 100%|██████████| 76/76 [00:00<00:00, 84.67it/s, loss=0.0065]\n"
          ]
        },
        {
          "output_type": "stream",
          "name": "stdout",
          "text": [
            "Epoch 215 | Train Loss: 0.0024 | Test F1: 0.3116\n"
          ]
        },
        {
          "output_type": "stream",
          "name": "stderr",
          "text": [
            "Epoch 216/300: 100%|██████████| 76/76 [00:00<00:00, 83.74it/s, loss=0.0032]\n"
          ]
        },
        {
          "output_type": "stream",
          "name": "stdout",
          "text": [
            "Epoch 216 | Train Loss: 0.0023 | Test F1: 0.3076\n"
          ]
        },
        {
          "output_type": "stream",
          "name": "stderr",
          "text": [
            "Epoch 217/300: 100%|██████████| 76/76 [00:00<00:00, 84.53it/s, loss=0.0003]\n"
          ]
        },
        {
          "output_type": "stream",
          "name": "stdout",
          "text": [
            "Epoch 217 | Train Loss: 0.0023 | Test F1: 0.3148\n"
          ]
        },
        {
          "output_type": "stream",
          "name": "stderr",
          "text": [
            "Epoch 218/300: 100%|██████████| 76/76 [00:00<00:00, 81.11it/s, loss=0.0053]\n"
          ]
        },
        {
          "output_type": "stream",
          "name": "stdout",
          "text": [
            "Epoch 218 | Train Loss: 0.0023 | Test F1: 0.3106\n"
          ]
        },
        {
          "output_type": "stream",
          "name": "stderr",
          "text": [
            "Epoch 219/300: 100%|██████████| 76/76 [00:01<00:00, 71.02it/s, loss=0.0003]\n"
          ]
        },
        {
          "output_type": "stream",
          "name": "stdout",
          "text": [
            "Epoch 219 | Train Loss: 0.0023 | Test F1: 0.3116\n"
          ]
        },
        {
          "output_type": "stream",
          "name": "stderr",
          "text": [
            "Epoch 220/300: 100%|██████████| 76/76 [00:01<00:00, 71.70it/s, loss=0.0012]\n"
          ]
        },
        {
          "output_type": "stream",
          "name": "stdout",
          "text": [
            "Epoch 220 | Train Loss: 0.0023 | Test F1: 0.3131\n"
          ]
        },
        {
          "output_type": "stream",
          "name": "stderr",
          "text": [
            "Epoch 221/300: 100%|██████████| 76/76 [00:01<00:00, 70.43it/s, loss=0.0002]\n"
          ]
        },
        {
          "output_type": "stream",
          "name": "stdout",
          "text": [
            "Epoch 221 | Train Loss: 0.0023 | Test F1: 0.3147\n"
          ]
        },
        {
          "output_type": "stream",
          "name": "stderr",
          "text": [
            "Epoch 222/300: 100%|██████████| 76/76 [00:00<00:00, 82.83it/s, loss=0.0002]\n"
          ]
        },
        {
          "output_type": "stream",
          "name": "stdout",
          "text": [
            "Epoch 222 | Train Loss: 0.0023 | Test F1: 0.3102\n"
          ]
        },
        {
          "output_type": "stream",
          "name": "stderr",
          "text": [
            "Epoch 223/300: 100%|██████████| 76/76 [00:01<00:00, 60.54it/s, loss=0.0002]\n"
          ]
        },
        {
          "output_type": "stream",
          "name": "stdout",
          "text": [
            "Epoch 223 | Train Loss: 0.0023 | Test F1: 0.3117\n"
          ]
        },
        {
          "output_type": "stream",
          "name": "stderr",
          "text": [
            "Epoch 224/300: 100%|██████████| 76/76 [00:01<00:00, 42.95it/s, loss=0.0002]\n"
          ]
        },
        {
          "output_type": "stream",
          "name": "stdout",
          "text": [
            "Epoch 224 | Train Loss: 0.0023 | Test F1: 0.3078\n"
          ]
        },
        {
          "output_type": "stream",
          "name": "stderr",
          "text": [
            "Epoch 225/300: 100%|██████████| 76/76 [00:01<00:00, 58.63it/s, loss=0.0020]\n"
          ]
        },
        {
          "output_type": "stream",
          "name": "stdout",
          "text": [
            "Epoch 225 | Train Loss: 0.0023 | Test F1: 0.3094\n"
          ]
        },
        {
          "output_type": "stream",
          "name": "stderr",
          "text": [
            "Epoch 226/300: 100%|██████████| 76/76 [00:01<00:00, 66.16it/s, loss=0.0023]\n"
          ]
        },
        {
          "output_type": "stream",
          "name": "stdout",
          "text": [
            "Epoch 226 | Train Loss: 0.0023 | Test F1: 0.3108\n"
          ]
        },
        {
          "output_type": "stream",
          "name": "stderr",
          "text": [
            "Epoch 227/300: 100%|██████████| 76/76 [00:01<00:00, 57.66it/s, loss=0.0061]\n"
          ]
        },
        {
          "output_type": "stream",
          "name": "stdout",
          "text": [
            "Epoch 227 | Train Loss: 0.0022 | Test F1: 0.3102\n"
          ]
        },
        {
          "output_type": "stream",
          "name": "stderr",
          "text": [
            "Epoch 228/300: 100%|██████████| 76/76 [00:01<00:00, 62.55it/s, loss=0.0027]\n"
          ]
        },
        {
          "output_type": "stream",
          "name": "stdout",
          "text": [
            "Epoch 228 | Train Loss: 0.0023 | Test F1: 0.3092\n"
          ]
        },
        {
          "output_type": "stream",
          "name": "stderr",
          "text": [
            "Epoch 229/300: 100%|██████████| 76/76 [00:01<00:00, 69.91it/s, loss=0.0020]\n"
          ]
        },
        {
          "output_type": "stream",
          "name": "stdout",
          "text": [
            "Epoch 229 | Train Loss: 0.0022 | Test F1: 0.3113\n"
          ]
        },
        {
          "output_type": "stream",
          "name": "stderr",
          "text": [
            "Epoch 230/300: 100%|██████████| 76/76 [00:01<00:00, 71.54it/s, loss=0.0039]\n"
          ]
        },
        {
          "output_type": "stream",
          "name": "stdout",
          "text": [
            "Epoch 230 | Train Loss: 0.0023 | Test F1: 0.3105\n"
          ]
        },
        {
          "output_type": "stream",
          "name": "stderr",
          "text": [
            "Epoch 231/300: 100%|██████████| 76/76 [00:01<00:00, 75.96it/s, loss=0.0002]\n"
          ]
        },
        {
          "output_type": "stream",
          "name": "stdout",
          "text": [
            "Epoch 231 | Train Loss: 0.0022 | Test F1: 0.3101\n"
          ]
        },
        {
          "output_type": "stream",
          "name": "stderr",
          "text": [
            "Epoch 232/300: 100%|██████████| 76/76 [00:00<00:00, 82.73it/s, loss=0.0062]\n"
          ]
        },
        {
          "output_type": "stream",
          "name": "stdout",
          "text": [
            "Epoch 232 | Train Loss: 0.0023 | Test F1: 0.3088\n"
          ]
        },
        {
          "output_type": "stream",
          "name": "stderr",
          "text": [
            "Epoch 233/300: 100%|██████████| 76/76 [00:00<00:00, 83.68it/s, loss=0.0032]\n"
          ]
        },
        {
          "output_type": "stream",
          "name": "stdout",
          "text": [
            "Epoch 233 | Train Loss: 0.0023 | Test F1: 0.3108\n"
          ]
        },
        {
          "output_type": "stream",
          "name": "stderr",
          "text": [
            "Epoch 234/300: 100%|██████████| 76/76 [00:00<00:00, 84.24it/s, loss=0.0031]\n"
          ]
        },
        {
          "output_type": "stream",
          "name": "stdout",
          "text": [
            "Epoch 234 | Train Loss: 0.0023 | Test F1: 0.3073\n"
          ]
        },
        {
          "output_type": "stream",
          "name": "stderr",
          "text": [
            "Epoch 235/300: 100%|██████████| 76/76 [00:00<00:00, 85.66it/s, loss=0.0002]\n"
          ]
        },
        {
          "output_type": "stream",
          "name": "stdout",
          "text": [
            "Epoch 235 | Train Loss: 0.0023 | Test F1: 0.3071\n"
          ]
        },
        {
          "output_type": "stream",
          "name": "stderr",
          "text": [
            "Epoch 236/300: 100%|██████████| 76/76 [00:00<00:00, 86.10it/s, loss=0.0025]\n"
          ]
        },
        {
          "output_type": "stream",
          "name": "stdout",
          "text": [
            "Epoch 236 | Train Loss: 0.0022 | Test F1: 0.3101\n"
          ]
        },
        {
          "output_type": "stream",
          "name": "stderr",
          "text": [
            "Epoch 237/300: 100%|██████████| 76/76 [00:00<00:00, 84.83it/s, loss=0.0015]\n"
          ]
        },
        {
          "output_type": "stream",
          "name": "stdout",
          "text": [
            "Epoch 237 | Train Loss: 0.0023 | Test F1: 0.3111\n"
          ]
        },
        {
          "output_type": "stream",
          "name": "stderr",
          "text": [
            "Epoch 238/300: 100%|██████████| 76/76 [00:00<00:00, 84.83it/s, loss=0.0040]\n"
          ]
        },
        {
          "output_type": "stream",
          "name": "stdout",
          "text": [
            "Epoch 238 | Train Loss: 0.0023 | Test F1: 0.3124\n"
          ]
        },
        {
          "output_type": "stream",
          "name": "stderr",
          "text": [
            "Epoch 239/300: 100%|██████████| 76/76 [00:00<00:00, 84.84it/s, loss=0.0041]\n"
          ]
        },
        {
          "output_type": "stream",
          "name": "stdout",
          "text": [
            "Epoch 239 | Train Loss: 0.0022 | Test F1: 0.3137\n"
          ]
        },
        {
          "output_type": "stream",
          "name": "stderr",
          "text": [
            "Epoch 240/300: 100%|██████████| 76/76 [00:00<00:00, 84.60it/s, loss=0.0027]\n"
          ]
        },
        {
          "output_type": "stream",
          "name": "stdout",
          "text": [
            "Epoch 240 | Train Loss: 0.0023 | Test F1: 0.3108\n"
          ]
        },
        {
          "output_type": "stream",
          "name": "stderr",
          "text": [
            "Epoch 241/300: 100%|██████████| 76/76 [00:01<00:00, 75.28it/s, loss=0.0001]\n"
          ]
        },
        {
          "output_type": "stream",
          "name": "stdout",
          "text": [
            "Epoch 241 | Train Loss: 0.0022 | Test F1: 0.3108\n"
          ]
        },
        {
          "output_type": "stream",
          "name": "stderr",
          "text": [
            "Epoch 242/300: 100%|██████████| 76/76 [00:01<00:00, 53.02it/s, loss=0.0053]\n"
          ]
        },
        {
          "output_type": "stream",
          "name": "stdout",
          "text": [
            "Epoch 242 | Train Loss: 0.0022 | Test F1: 0.3101\n"
          ]
        },
        {
          "output_type": "stream",
          "name": "stderr",
          "text": [
            "Epoch 243/300: 100%|██████████| 76/76 [00:01<00:00, 48.61it/s, loss=0.0012]\n"
          ]
        },
        {
          "output_type": "stream",
          "name": "stdout",
          "text": [
            "Epoch 243 | Train Loss: 0.0022 | Test F1: 0.3119\n"
          ]
        },
        {
          "output_type": "stream",
          "name": "stderr",
          "text": [
            "Epoch 244/300: 100%|██████████| 76/76 [00:01<00:00, 56.13it/s, loss=0.0002]\n"
          ]
        },
        {
          "output_type": "stream",
          "name": "stdout",
          "text": [
            "Epoch 244 | Train Loss: 0.0023 | Test F1: 0.3079\n"
          ]
        },
        {
          "output_type": "stream",
          "name": "stderr",
          "text": [
            "Epoch 245/300: 100%|██████████| 76/76 [00:00<00:00, 82.06it/s, loss=0.0042]\n"
          ]
        },
        {
          "output_type": "stream",
          "name": "stdout",
          "text": [
            "Epoch 245 | Train Loss: 0.0023 | Test F1: 0.3104\n"
          ]
        },
        {
          "output_type": "stream",
          "name": "stderr",
          "text": [
            "Epoch 246/300: 100%|██████████| 76/76 [00:00<00:00, 85.01it/s, loss=0.0020]\n"
          ]
        },
        {
          "output_type": "stream",
          "name": "stdout",
          "text": [
            "Epoch 246 | Train Loss: 0.0022 | Test F1: 0.3106\n"
          ]
        },
        {
          "output_type": "stream",
          "name": "stderr",
          "text": [
            "Epoch 247/300: 100%|██████████| 76/76 [00:00<00:00, 82.92it/s, loss=0.0046]\n"
          ]
        },
        {
          "output_type": "stream",
          "name": "stdout",
          "text": [
            "Epoch 247 | Train Loss: 0.0022 | Test F1: 0.3169\n"
          ]
        },
        {
          "output_type": "stream",
          "name": "stderr",
          "text": [
            "Epoch 248/300: 100%|██████████| 76/76 [00:00<00:00, 84.22it/s, loss=0.0001]\n"
          ]
        },
        {
          "output_type": "stream",
          "name": "stdout",
          "text": [
            "Epoch 248 | Train Loss: 0.0023 | Test F1: 0.3080\n"
          ]
        },
        {
          "output_type": "stream",
          "name": "stderr",
          "text": [
            "Epoch 249/300: 100%|██████████| 76/76 [00:00<00:00, 77.64it/s, loss=0.0017]\n"
          ]
        },
        {
          "output_type": "stream",
          "name": "stdout",
          "text": [
            "Epoch 249 | Train Loss: 0.0022 | Test F1: 0.3105\n"
          ]
        },
        {
          "output_type": "stream",
          "name": "stderr",
          "text": [
            "Epoch 250/300: 100%|██████████| 76/76 [00:00<00:00, 86.23it/s, loss=0.0088]\n"
          ]
        },
        {
          "output_type": "stream",
          "name": "stdout",
          "text": [
            "Epoch 250 | Train Loss: 0.0022 | Test F1: 0.3129\n"
          ]
        },
        {
          "output_type": "stream",
          "name": "stderr",
          "text": [
            "Epoch 251/300: 100%|██████████| 76/76 [00:00<00:00, 84.60it/s, loss=0.0042]\n"
          ]
        },
        {
          "output_type": "stream",
          "name": "stdout",
          "text": [
            "Epoch 251 | Train Loss: 0.0022 | Test F1: 0.3078\n"
          ]
        },
        {
          "output_type": "stream",
          "name": "stderr",
          "text": [
            "Epoch 252/300: 100%|██████████| 76/76 [00:00<00:00, 83.28it/s, loss=0.0013]\n"
          ]
        },
        {
          "output_type": "stream",
          "name": "stdout",
          "text": [
            "Epoch 252 | Train Loss: 0.0022 | Test F1: 0.3107\n"
          ]
        },
        {
          "output_type": "stream",
          "name": "stderr",
          "text": [
            "Epoch 253/300: 100%|██████████| 76/76 [00:01<00:00, 69.85it/s, loss=0.0001]\n"
          ]
        },
        {
          "output_type": "stream",
          "name": "stdout",
          "text": [
            "Epoch 253 | Train Loss: 0.0023 | Test F1: 0.3116\n"
          ]
        },
        {
          "output_type": "stream",
          "name": "stderr",
          "text": [
            "Epoch 254/300: 100%|██████████| 76/76 [00:01<00:00, 72.53it/s, loss=0.0001]\n"
          ]
        },
        {
          "output_type": "stream",
          "name": "stdout",
          "text": [
            "Epoch 254 | Train Loss: 0.0022 | Test F1: 0.3053\n"
          ]
        },
        {
          "output_type": "stream",
          "name": "stderr",
          "text": [
            "Epoch 255/300: 100%|██████████| 76/76 [00:01<00:00, 66.92it/s, loss=0.0086]\n"
          ]
        },
        {
          "output_type": "stream",
          "name": "stdout",
          "text": [
            "Epoch 255 | Train Loss: 0.0022 | Test F1: 0.3083\n"
          ]
        },
        {
          "output_type": "stream",
          "name": "stderr",
          "text": [
            "Epoch 256/300: 100%|██████████| 76/76 [00:00<00:00, 83.52it/s, loss=0.0001]\n"
          ]
        },
        {
          "output_type": "stream",
          "name": "stdout",
          "text": [
            "Epoch 256 | Train Loss: 0.0022 | Test F1: 0.3106\n"
          ]
        },
        {
          "output_type": "stream",
          "name": "stderr",
          "text": [
            "Epoch 257/300: 100%|██████████| 76/76 [00:00<00:00, 83.70it/s, loss=0.0001]\n"
          ]
        },
        {
          "output_type": "stream",
          "name": "stdout",
          "text": [
            "Epoch 257 | Train Loss: 0.0022 | Test F1: 0.3075\n"
          ]
        },
        {
          "output_type": "stream",
          "name": "stderr",
          "text": [
            "Epoch 258/300: 100%|██████████| 76/76 [00:00<00:00, 84.56it/s, loss=0.0001]\n"
          ]
        },
        {
          "output_type": "stream",
          "name": "stdout",
          "text": [
            "Epoch 258 | Train Loss: 0.0022 | Test F1: 0.3072\n"
          ]
        },
        {
          "output_type": "stream",
          "name": "stderr",
          "text": [
            "Epoch 259/300: 100%|██████████| 76/76 [00:00<00:00, 84.41it/s, loss=0.0001]\n"
          ]
        },
        {
          "output_type": "stream",
          "name": "stdout",
          "text": [
            "Epoch 259 | Train Loss: 0.0022 | Test F1: 0.3110\n"
          ]
        },
        {
          "output_type": "stream",
          "name": "stderr",
          "text": [
            "Epoch 260/300: 100%|██████████| 76/76 [00:00<00:00, 82.56it/s, loss=0.0015]\n"
          ]
        },
        {
          "output_type": "stream",
          "name": "stdout",
          "text": [
            "Epoch 260 | Train Loss: 0.0021 | Test F1: 0.3070\n"
          ]
        },
        {
          "output_type": "stream",
          "name": "stderr",
          "text": [
            "Epoch 261/300: 100%|██████████| 76/76 [00:00<00:00, 83.69it/s, loss=0.0033]\n"
          ]
        },
        {
          "output_type": "stream",
          "name": "stdout",
          "text": [
            "Epoch 261 | Train Loss: 0.0022 | Test F1: 0.3135\n"
          ]
        },
        {
          "output_type": "stream",
          "name": "stderr",
          "text": [
            "Epoch 262/300: 100%|██████████| 76/76 [00:00<00:00, 82.39it/s, loss=0.0066]\n"
          ]
        },
        {
          "output_type": "stream",
          "name": "stdout",
          "text": [
            "Epoch 262 | Train Loss: 0.0022 | Test F1: 0.3049\n"
          ]
        },
        {
          "output_type": "stream",
          "name": "stderr",
          "text": [
            "Epoch 263/300: 100%|██████████| 76/76 [00:00<00:00, 83.06it/s, loss=0.0008]\n"
          ]
        },
        {
          "output_type": "stream",
          "name": "stdout",
          "text": [
            "Epoch 263 | Train Loss: 0.0022 | Test F1: 0.3068\n"
          ]
        },
        {
          "output_type": "stream",
          "name": "stderr",
          "text": [
            "Epoch 264/300: 100%|██████████| 76/76 [00:00<00:00, 83.05it/s, loss=0.0577]\n"
          ]
        },
        {
          "output_type": "stream",
          "name": "stdout",
          "text": [
            "Epoch 264 | Train Loss: 0.0265 | Test F1: 0.2659\n"
          ]
        },
        {
          "output_type": "stream",
          "name": "stderr",
          "text": [
            "Epoch 265/300: 100%|██████████| 76/76 [00:00<00:00, 83.55it/s, loss=0.0115]\n"
          ]
        },
        {
          "output_type": "stream",
          "name": "stdout",
          "text": [
            "Epoch 265 | Train Loss: 0.0257 | Test F1: 0.3030\n"
          ]
        },
        {
          "output_type": "stream",
          "name": "stderr",
          "text": [
            "Epoch 266/300: 100%|██████████| 76/76 [00:01<00:00, 68.09it/s, loss=0.0094]\n"
          ]
        },
        {
          "output_type": "stream",
          "name": "stdout",
          "text": [
            "Epoch 266 | Train Loss: 0.0090 | Test F1: 0.3134\n"
          ]
        },
        {
          "output_type": "stream",
          "name": "stderr",
          "text": [
            "Epoch 267/300: 100%|██████████| 76/76 [00:01<00:00, 67.00it/s, loss=0.0023]\n"
          ]
        },
        {
          "output_type": "stream",
          "name": "stdout",
          "text": [
            "Epoch 267 | Train Loss: 0.0043 | Test F1: 0.3048\n"
          ]
        },
        {
          "output_type": "stream",
          "name": "stderr",
          "text": [
            "Epoch 268/300: 100%|██████████| 76/76 [00:00<00:00, 76.42it/s, loss=0.0017]\n"
          ]
        },
        {
          "output_type": "stream",
          "name": "stdout",
          "text": [
            "Epoch 268 | Train Loss: 0.0030 | Test F1: 0.3114\n"
          ]
        },
        {
          "output_type": "stream",
          "name": "stderr",
          "text": [
            "Epoch 269/300: 100%|██████████| 76/76 [00:00<00:00, 85.81it/s, loss=0.0019]\n"
          ]
        },
        {
          "output_type": "stream",
          "name": "stdout",
          "text": [
            "Epoch 269 | Train Loss: 0.0027 | Test F1: 0.3128\n"
          ]
        },
        {
          "output_type": "stream",
          "name": "stderr",
          "text": [
            "Epoch 270/300: 100%|██████████| 76/76 [00:00<00:00, 83.06it/s, loss=0.0053]\n"
          ]
        },
        {
          "output_type": "stream",
          "name": "stdout",
          "text": [
            "Epoch 270 | Train Loss: 0.0026 | Test F1: 0.3130\n"
          ]
        },
        {
          "output_type": "stream",
          "name": "stderr",
          "text": [
            "Epoch 271/300: 100%|██████████| 76/76 [00:00<00:00, 84.57it/s, loss=0.0015]\n"
          ]
        },
        {
          "output_type": "stream",
          "name": "stdout",
          "text": [
            "Epoch 271 | Train Loss: 0.0025 | Test F1: 0.3120\n"
          ]
        },
        {
          "output_type": "stream",
          "name": "stderr",
          "text": [
            "Epoch 272/300: 100%|██████████| 76/76 [00:00<00:00, 85.12it/s, loss=0.0030]\n"
          ]
        },
        {
          "output_type": "stream",
          "name": "stdout",
          "text": [
            "Epoch 272 | Train Loss: 0.0024 | Test F1: 0.3136\n"
          ]
        },
        {
          "output_type": "stream",
          "name": "stderr",
          "text": [
            "Epoch 273/300: 100%|██████████| 76/76 [00:00<00:00, 83.42it/s, loss=0.0005]\n"
          ]
        },
        {
          "output_type": "stream",
          "name": "stdout",
          "text": [
            "Epoch 273 | Train Loss: 0.0024 | Test F1: 0.3108\n"
          ]
        },
        {
          "output_type": "stream",
          "name": "stderr",
          "text": [
            "Epoch 274/300: 100%|██████████| 76/76 [00:00<00:00, 76.99it/s, loss=0.0004]\n"
          ]
        },
        {
          "output_type": "stream",
          "name": "stdout",
          "text": [
            "Epoch 274 | Train Loss: 0.0024 | Test F1: 0.3164\n"
          ]
        },
        {
          "output_type": "stream",
          "name": "stderr",
          "text": [
            "Epoch 275/300: 100%|██████████| 76/76 [00:00<00:00, 82.95it/s, loss=0.0017]\n"
          ]
        },
        {
          "output_type": "stream",
          "name": "stdout",
          "text": [
            "Epoch 275 | Train Loss: 0.0023 | Test F1: 0.3133\n"
          ]
        },
        {
          "output_type": "stream",
          "name": "stderr",
          "text": [
            "Epoch 276/300: 100%|██████████| 76/76 [00:00<00:00, 81.75it/s, loss=0.0158]\n"
          ]
        },
        {
          "output_type": "stream",
          "name": "stdout",
          "text": [
            "Epoch 276 | Train Loss: 0.0023 | Test F1: 0.3152\n"
          ]
        },
        {
          "output_type": "stream",
          "name": "stderr",
          "text": [
            "Epoch 277/300: 100%|██████████| 76/76 [00:00<00:00, 81.50it/s, loss=0.0018]\n"
          ]
        },
        {
          "output_type": "stream",
          "name": "stdout",
          "text": [
            "Epoch 277 | Train Loss: 0.0023 | Test F1: 0.3123\n"
          ]
        },
        {
          "output_type": "stream",
          "name": "stderr",
          "text": [
            "Epoch 278/300: 100%|██████████| 76/76 [00:01<00:00, 72.01it/s, loss=0.0056]\n"
          ]
        },
        {
          "output_type": "stream",
          "name": "stdout",
          "text": [
            "Epoch 278 | Train Loss: 0.0023 | Test F1: 0.3158\n"
          ]
        },
        {
          "output_type": "stream",
          "name": "stderr",
          "text": [
            "Epoch 279/300: 100%|██████████| 76/76 [00:01<00:00, 75.13it/s, loss=0.0012]\n"
          ]
        },
        {
          "output_type": "stream",
          "name": "stdout",
          "text": [
            "Epoch 279 | Train Loss: 0.0023 | Test F1: 0.3130\n"
          ]
        },
        {
          "output_type": "stream",
          "name": "stderr",
          "text": [
            "Epoch 280/300: 100%|██████████| 76/76 [00:01<00:00, 68.32it/s, loss=0.0003]\n"
          ]
        },
        {
          "output_type": "stream",
          "name": "stdout",
          "text": [
            "Epoch 280 | Train Loss: 0.0022 | Test F1: 0.3157\n"
          ]
        },
        {
          "output_type": "stream",
          "name": "stderr",
          "text": [
            "Epoch 281/300: 100%|██████████| 76/76 [00:00<00:00, 77.09it/s, loss=0.0004]\n"
          ]
        },
        {
          "output_type": "stream",
          "name": "stdout",
          "text": [
            "Epoch 281 | Train Loss: 0.0022 | Test F1: 0.3104\n"
          ]
        },
        {
          "output_type": "stream",
          "name": "stderr",
          "text": [
            "Epoch 282/300: 100%|██████████| 76/76 [00:00<00:00, 83.43it/s, loss=0.0020]\n"
          ]
        },
        {
          "output_type": "stream",
          "name": "stdout",
          "text": [
            "Epoch 282 | Train Loss: 0.0022 | Test F1: 0.3132\n"
          ]
        },
        {
          "output_type": "stream",
          "name": "stderr",
          "text": [
            "Epoch 283/300: 100%|██████████| 76/76 [00:00<00:00, 82.60it/s, loss=0.0002]\n"
          ]
        },
        {
          "output_type": "stream",
          "name": "stdout",
          "text": [
            "Epoch 283 | Train Loss: 0.0022 | Test F1: 0.3179\n"
          ]
        },
        {
          "output_type": "stream",
          "name": "stderr",
          "text": [
            "Epoch 284/300: 100%|██████████| 76/76 [00:00<00:00, 82.34it/s, loss=0.0029]\n"
          ]
        },
        {
          "output_type": "stream",
          "name": "stdout",
          "text": [
            "Epoch 284 | Train Loss: 0.0022 | Test F1: 0.3142\n"
          ]
        },
        {
          "output_type": "stream",
          "name": "stderr",
          "text": [
            "Epoch 285/300: 100%|██████████| 76/76 [00:00<00:00, 80.80it/s, loss=0.0002]\n"
          ]
        },
        {
          "output_type": "stream",
          "name": "stdout",
          "text": [
            "Epoch 285 | Train Loss: 0.0022 | Test F1: 0.3166\n"
          ]
        },
        {
          "output_type": "stream",
          "name": "stderr",
          "text": [
            "Epoch 286/300: 100%|██████████| 76/76 [00:00<00:00, 80.90it/s, loss=0.0011]\n"
          ]
        },
        {
          "output_type": "stream",
          "name": "stdout",
          "text": [
            "Epoch 286 | Train Loss: 0.0022 | Test F1: 0.3139\n"
          ]
        },
        {
          "output_type": "stream",
          "name": "stderr",
          "text": [
            "Epoch 287/300: 100%|██████████| 76/76 [00:00<00:00, 82.20it/s, loss=0.0002]\n"
          ]
        },
        {
          "output_type": "stream",
          "name": "stdout",
          "text": [
            "Epoch 287 | Train Loss: 0.0022 | Test F1: 0.3149\n"
          ]
        },
        {
          "output_type": "stream",
          "name": "stderr",
          "text": [
            "Epoch 288/300: 100%|██████████| 76/76 [00:00<00:00, 82.52it/s, loss=0.0058]\n"
          ]
        },
        {
          "output_type": "stream",
          "name": "stdout",
          "text": [
            "Epoch 288 | Train Loss: 0.0022 | Test F1: 0.3139\n"
          ]
        },
        {
          "output_type": "stream",
          "name": "stderr",
          "text": [
            "Epoch 289/300: 100%|██████████| 76/76 [00:00<00:00, 83.83it/s, loss=0.0038]\n"
          ]
        },
        {
          "output_type": "stream",
          "name": "stdout",
          "text": [
            "Epoch 289 | Train Loss: 0.0022 | Test F1: 0.3110\n"
          ]
        },
        {
          "output_type": "stream",
          "name": "stderr",
          "text": [
            "Epoch 290/300: 100%|██████████| 76/76 [00:00<00:00, 81.88it/s, loss=0.0114]\n"
          ]
        },
        {
          "output_type": "stream",
          "name": "stdout",
          "text": [
            "Epoch 290 | Train Loss: 0.0022 | Test F1: 0.3132\n"
          ]
        },
        {
          "output_type": "stream",
          "name": "stderr",
          "text": [
            "Epoch 291/300: 100%|██████████| 76/76 [00:01<00:00, 69.71it/s, loss=0.0006]\n"
          ]
        },
        {
          "output_type": "stream",
          "name": "stdout",
          "text": [
            "Epoch 291 | Train Loss: 0.0021 | Test F1: 0.3153\n"
          ]
        },
        {
          "output_type": "stream",
          "name": "stderr",
          "text": [
            "Epoch 292/300: 100%|██████████| 76/76 [00:01<00:00, 75.65it/s, loss=0.0002]\n"
          ]
        },
        {
          "output_type": "stream",
          "name": "stdout",
          "text": [
            "Epoch 292 | Train Loss: 0.0021 | Test F1: 0.3156\n"
          ]
        },
        {
          "output_type": "stream",
          "name": "stderr",
          "text": [
            "Epoch 293/300: 100%|██████████| 76/76 [00:01<00:00, 64.62it/s, loss=0.0001]\n"
          ]
        },
        {
          "output_type": "stream",
          "name": "stdout",
          "text": [
            "Epoch 293 | Train Loss: 0.0021 | Test F1: 0.3151\n"
          ]
        },
        {
          "output_type": "stream",
          "name": "stderr",
          "text": [
            "Epoch 294/300: 100%|██████████| 76/76 [00:00<00:00, 83.81it/s, loss=0.0020]\n"
          ]
        },
        {
          "output_type": "stream",
          "name": "stdout",
          "text": [
            "Epoch 294 | Train Loss: 0.0021 | Test F1: 0.3182\n"
          ]
        },
        {
          "output_type": "stream",
          "name": "stderr",
          "text": [
            "Epoch 295/300: 100%|██████████| 76/76 [00:00<00:00, 82.44it/s, loss=0.0001]\n"
          ]
        },
        {
          "output_type": "stream",
          "name": "stdout",
          "text": [
            "Epoch 295 | Train Loss: 0.0021 | Test F1: 0.3129\n"
          ]
        },
        {
          "output_type": "stream",
          "name": "stderr",
          "text": [
            "Epoch 296/300: 100%|██████████| 76/76 [00:00<00:00, 81.36it/s, loss=0.0039]\n"
          ]
        },
        {
          "output_type": "stream",
          "name": "stdout",
          "text": [
            "Epoch 296 | Train Loss: 0.0021 | Test F1: 0.3158\n"
          ]
        },
        {
          "output_type": "stream",
          "name": "stderr",
          "text": [
            "Epoch 297/300: 100%|██████████| 76/76 [00:00<00:00, 81.63it/s, loss=0.0058]\n"
          ]
        },
        {
          "output_type": "stream",
          "name": "stdout",
          "text": [
            "Epoch 297 | Train Loss: 0.0022 | Test F1: 0.3100\n"
          ]
        },
        {
          "output_type": "stream",
          "name": "stderr",
          "text": [
            "Epoch 298/300: 100%|██████████| 76/76 [00:00<00:00, 81.59it/s, loss=0.0014]\n"
          ]
        },
        {
          "output_type": "stream",
          "name": "stdout",
          "text": [
            "Epoch 298 | Train Loss: 0.0021 | Test F1: 0.3116\n"
          ]
        },
        {
          "output_type": "stream",
          "name": "stderr",
          "text": [
            "Epoch 299/300: 100%|██████████| 76/76 [00:00<00:00, 82.01it/s, loss=0.0047]\n"
          ]
        },
        {
          "output_type": "stream",
          "name": "stdout",
          "text": [
            "Epoch 299 | Train Loss: 0.0021 | Test F1: 0.3116\n"
          ]
        },
        {
          "output_type": "stream",
          "name": "stderr",
          "text": [
            "Epoch 300/300: 100%|██████████| 76/76 [00:00<00:00, 81.53it/s, loss=0.0002]\n"
          ]
        },
        {
          "output_type": "stream",
          "name": "stdout",
          "text": [
            "Epoch 300 | Train Loss: 0.0021 | Test F1: 0.3145\n",
            "Best F1: 0.3212\n"
          ]
        }
      ]
    },
    {
      "cell_type": "code",
      "source": [
        "plt.figure(figsize=(10, 5))\n",
        "plt.plot(range(1, EPOCHS + 1), f1_historyLSTM, marker='o')\n",
        "plt.title(\"F1-Score по эпохам LSTM\")\n",
        "plt.xlabel(\"Эпоха\")\n",
        "plt.ylabel(\"F1-макро\")\n",
        "plt.grid(True)\n",
        "plt.tight_layout()\n",
        "plt.show()"
      ],
      "metadata": {
        "colab": {
          "base_uri": "https://localhost:8080/",
          "height": 507
        },
        "id": "OHMGNWFMv88J",
        "outputId": "d63c0b25-b93d-48a8-dc4a-a1e5ad840c66"
      },
      "id": "OHMGNWFMv88J",
      "execution_count": null,
      "outputs": [
        {
          "output_type": "display_data",
          "data": {
            "text/plain": [
              "<Figure size 1000x500 with 1 Axes>"
            ],
            "image/png": "[encoded data removed]"
          },
          "metadata": {}
        }
      ]
    },
    {
      "cell_type": "markdown",
      "source": [
        "**ВЫВОДЫ**\n",
        "\n",
        "\n",
        "\n",
        "1.   RNN - простая структура, быстрое обучение на начальных этапах (за 50 эпох сходится к f1 метрике в 0.33, а LSTM требуется 200 эпох). RNN быстро учит шаблоны, но быстро выходит на плато, из-за относительно простой структуры. RNN имеет ограниченную способность запоминать длинные зависимости из-за проблемы исчезающих градиентов\n",
        "2.   LSTM - модель сложнее устроена, дольше учится, однако cпособна выявлять сложные долгосрочные зависимости, но медленнее сходится. Это мы видим на обучении (дольше обучается). Обнаружилось еще, что при увеличении HIDDEN_DIM быстрее выходит на порог. К сожалению, LSTM не выходит лучше чем RNN даже спустя 300 эпох, это может быть связанно с тем, что либо последовательности всё равно слишком длинные, либо нужно использовать dropout, batch norm и другие приемы.\n",
        "3.   Тут очень хорошо идет улучшение архитектуры LSTM - двунаправленность. Она позволяет гораздо точнее уловить зависимости в данных (получается, информация не теряется от эпохи к эпохе, медленнее теряется). Пример ниже:\n",
        "\n"
      ],
      "metadata": {
        "id": "piDOK8z6ttGP"
      },
      "id": "piDOK8z6ttGP"
    },
    {
      "cell_type": "markdown",
      "id": "phQ-ka4mp0oS",
      "metadata": {
        "id": "phQ-ka4mp0oS"
      },
      "source": [
        "__Задание 6 (1 балл).__ В этом задании у вас есть две опции на выбор: добавить __двунаправленность__ для LSTM _или_ добавить __многослойность__. Можно сделать и то, и другое, но дополнительных баллов за это мы не дадим, только бесконечный респект. Обе модификации реализуются довольно просто (буквально 4 строчки кода, если вы аккуратно реализовали модель) и дают примерно одинаковый прирост в качестве. Сделайте выводы: стоит ли увеличивать размер модели в несколько раз?"
      ]
    },
    {
      "cell_type": "code",
      "source": [
        "# Двунаправленность"
      ],
      "metadata": {
        "id": "zzI9v6ig1iG0"
      },
      "id": "zzI9v6ig1iG0",
      "execution_count": null,
      "outputs": []
    },
    {
      "cell_type": "code",
      "source": [
        "# Минимальные изменения\n",
        "class SimpleDVLSTM(nn.Module):\n",
        "    def __init__(self, vocab_size, embed_dim, hidden_dim, output_dim, n_layers=1):\n",
        "        super().__init__()\n",
        "        self.embedding = nn.Embedding(vocab_size, embed_dim, padding_idx=0)\n",
        "        # Добавляем bidirectional=True\n",
        "        self.lstm = nn.LSTM(embed_dim, hidden_dim, n_layers, batch_first=True, bidirectional=True)\n",
        "        # hidden_dim удваивается из-за двунаправленности - как бы вперед и назад\n",
        "        self.fc = nn.Linear(hidden_dim * 2, output_dim)\n",
        "\n",
        "        self.hidden_dim = hidden_dim\n",
        "        self.n_layers = n_layers\n",
        "\n",
        "    def forward(self, x):\n",
        "        mask = (x != 0)\n",
        "        lengths = mask.sum(1).cpu()\n",
        "        embedded = self.embedding(x)\n",
        "        packed = nn.utils.rnn.pack_padded_sequence(embedded, lengths, batch_first=True, enforce_sorted=False)\n",
        "        packed_out, (hn, cn) = self.lstm(packed)\n",
        "        out, _ = nn.utils.rnn.pad_packed_sequence(packed_out, batch_first=True)\n",
        "\n",
        "        last_seq_idxs = lengths - 1\n",
        "        # Собираем прямое и обратное направление (concat) :)\n",
        "        forward_out = out[torch.arange(out.size(0)), last_seq_idxs, :self.hidden_dim]\n",
        "        backward_out = out[:, 0, self.hidden_dim:]  # Обратное направление смотрит с конца\n",
        "        last_out = torch.cat((forward_out, backward_out), dim=1)\n",
        "\n",
        "        logits = self.fc(last_out)\n",
        "        return logits\n"
      ],
      "metadata": {
        "id": "nPMEn3tc1kBk"
      },
      "id": "nPMEn3tc1kBk",
      "execution_count": null,
      "outputs": []
    },
    {
      "cell_type": "code",
      "source": [
        "# Параметры\n",
        "VOCAB_SIZE = tokenizer.get_vocab_size() + 1\n",
        "EMBED_DIM = 128\n",
        "HIDDEN_DIM = 256\n",
        "OUTPUT_DIM = y_train.shape[1]\n",
        "N_LAYERS = 1\n",
        "EPOCHS = 100\n",
        "LR = 0.001\n",
        "\n",
        "device = torch.device('cuda' if torch.cuda.is_available() else 'cpu')\n",
        "model = SimpleDVLSTM(VOCAB_SIZE, EMBED_DIM, HIDDEN_DIM, OUTPUT_DIM, N_LAYERS)\n",
        "\n",
        "# Обучение\n",
        "best_f1, f1_historyLSTM = train_and_evaluate(\n",
        "    model,\n",
        "    train_loader,\n",
        "    test_loader,\n",
        "    device,\n",
        "    n_epochs=EPOCHS,\n",
        "    lr=LR\n",
        ")\n"
      ],
      "metadata": {
        "colab": {
          "base_uri": "https://localhost:8080/"
        },
        "id": "umfwWmGQ1nQ5",
        "outputId": "60404370-a998-4c62-f387-4e793134ef40"
      },
      "id": "umfwWmGQ1nQ5",
      "execution_count": null,
      "outputs": [
        {
          "output_type": "stream",
          "name": "stderr",
          "text": [
            "Epoch 1/100: 100%|██████████| 76/76 [00:01<00:00, 59.69it/s, loss=0.1654]\n",
            "/usr/local/lib/python3.11/dist-packages/sklearn/metrics/_classification.py:1565: UndefinedMetricWarning: F-score is ill-defined and being set to 0.0 in labels with no true nor predicted samples. Use `zero_division` parameter to control this behavior.\n",
            "  _warn_prf(average, modifier, f\"{metric.capitalize()} is\", len(result))\n"
          ]
        },
        {
          "output_type": "stream",
          "name": "stdout",
          "text": [
            "Epoch 1 | Train Loss: 0.2283 | Test F1: 0.0193\n"
          ]
        },
        {
          "output_type": "stream",
          "name": "stderr",
          "text": [
            "Epoch 2/100: 100%|██████████| 76/76 [00:01<00:00, 64.30it/s, loss=0.1606]\n",
            "/usr/local/lib/python3.11/dist-packages/sklearn/metrics/_classification.py:1565: UndefinedMetricWarning: F-score is ill-defined and being set to 0.0 in labels with no true nor predicted samples. Use `zero_division` parameter to control this behavior.\n",
            "  _warn_prf(average, modifier, f\"{metric.capitalize()} is\", len(result))\n"
          ]
        },
        {
          "output_type": "stream",
          "name": "stdout",
          "text": [
            "Epoch 2 | Train Loss: 0.1793 | Test F1: 0.0229\n"
          ]
        },
        {
          "output_type": "stream",
          "name": "stderr",
          "text": [
            "Epoch 3/100: 100%|██████████| 76/76 [00:01<00:00, 65.88it/s, loss=0.1832]\n",
            "/usr/local/lib/python3.11/dist-packages/sklearn/metrics/_classification.py:1565: UndefinedMetricWarning: F-score is ill-defined and being set to 0.0 in labels with no true nor predicted samples. Use `zero_division` parameter to control this behavior.\n",
            "  _warn_prf(average, modifier, f\"{metric.capitalize()} is\", len(result))\n"
          ]
        },
        {
          "output_type": "stream",
          "name": "stdout",
          "text": [
            "Epoch 3 | Train Loss: 0.1747 | Test F1: 0.0242\n"
          ]
        },
        {
          "output_type": "stream",
          "name": "stderr",
          "text": [
            "Epoch 4/100: 100%|██████████| 76/76 [00:01<00:00, 65.43it/s, loss=0.1563]\n",
            "/usr/local/lib/python3.11/dist-packages/sklearn/metrics/_classification.py:1565: UndefinedMetricWarning: F-score is ill-defined and being set to 0.0 in labels with no true nor predicted samples. Use `zero_division` parameter to control this behavior.\n",
            "  _warn_prf(average, modifier, f\"{metric.capitalize()} is\", len(result))\n"
          ]
        },
        {
          "output_type": "stream",
          "name": "stdout",
          "text": [
            "Epoch 4 | Train Loss: 0.1701 | Test F1: 0.0244\n"
          ]
        },
        {
          "output_type": "stream",
          "name": "stderr",
          "text": [
            "Epoch 5/100: 100%|██████████| 76/76 [00:01<00:00, 65.93it/s, loss=0.1688]\n",
            "/usr/local/lib/python3.11/dist-packages/sklearn/metrics/_classification.py:1565: UndefinedMetricWarning: F-score is ill-defined and being set to 0.0 in labels with no true nor predicted samples. Use `zero_division` parameter to control this behavior.\n",
            "  _warn_prf(average, modifier, f\"{metric.capitalize()} is\", len(result))\n"
          ]
        },
        {
          "output_type": "stream",
          "name": "stdout",
          "text": [
            "Epoch 5 | Train Loss: 0.1647 | Test F1: 0.0253\n"
          ]
        },
        {
          "output_type": "stream",
          "name": "stderr",
          "text": [
            "Epoch 6/100: 100%|██████████| 76/76 [00:01<00:00, 65.66it/s, loss=0.1717]\n",
            "/usr/local/lib/python3.11/dist-packages/sklearn/metrics/_classification.py:1565: UndefinedMetricWarning: F-score is ill-defined and being set to 0.0 in labels with no true nor predicted samples. Use `zero_division` parameter to control this behavior.\n",
            "  _warn_prf(average, modifier, f\"{metric.capitalize()} is\", len(result))\n"
          ]
        },
        {
          "output_type": "stream",
          "name": "stdout",
          "text": [
            "Epoch 6 | Train Loss: 0.1588 | Test F1: 0.0412\n"
          ]
        },
        {
          "output_type": "stream",
          "name": "stderr",
          "text": [
            "Epoch 7/100: 100%|██████████| 76/76 [00:01<00:00, 57.93it/s, loss=0.1492]\n",
            "/usr/local/lib/python3.11/dist-packages/sklearn/metrics/_classification.py:1565: UndefinedMetricWarning: F-score is ill-defined and being set to 0.0 in labels with no true nor predicted samples. Use `zero_division` parameter to control this behavior.\n",
            "  _warn_prf(average, modifier, f\"{metric.capitalize()} is\", len(result))\n"
          ]
        },
        {
          "output_type": "stream",
          "name": "stdout",
          "text": [
            "Epoch 7 | Train Loss: 0.1524 | Test F1: 0.0519\n"
          ]
        },
        {
          "output_type": "stream",
          "name": "stderr",
          "text": [
            "Epoch 8/100: 100%|██████████| 76/76 [00:01<00:00, 50.65it/s, loss=0.1389]\n",
            "/usr/local/lib/python3.11/dist-packages/sklearn/metrics/_classification.py:1565: UndefinedMetricWarning: F-score is ill-defined and being set to 0.0 in labels with no true nor predicted samples. Use `zero_division` parameter to control this behavior.\n",
            "  _warn_prf(average, modifier, f\"{metric.capitalize()} is\", len(result))\n"
          ]
        },
        {
          "output_type": "stream",
          "name": "stdout",
          "text": [
            "Epoch 8 | Train Loss: 0.1450 | Test F1: 0.0414\n"
          ]
        },
        {
          "output_type": "stream",
          "name": "stderr",
          "text": [
            "Epoch 9/100: 100%|██████████| 76/76 [00:01<00:00, 64.27it/s, loss=0.1193]\n",
            "/usr/local/lib/python3.11/dist-packages/sklearn/metrics/_classification.py:1565: UndefinedMetricWarning: F-score is ill-defined and being set to 0.0 in labels with no true nor predicted samples. Use `zero_division` parameter to control this behavior.\n",
            "  _warn_prf(average, modifier, f\"{metric.capitalize()} is\", len(result))\n"
          ]
        },
        {
          "output_type": "stream",
          "name": "stdout",
          "text": [
            "Epoch 9 | Train Loss: 0.1371 | Test F1: 0.0608\n"
          ]
        },
        {
          "output_type": "stream",
          "name": "stderr",
          "text": [
            "Epoch 10/100: 100%|██████████| 76/76 [00:01<00:00, 63.61it/s, loss=0.1276]\n",
            "/usr/local/lib/python3.11/dist-packages/sklearn/metrics/_classification.py:1565: UndefinedMetricWarning: F-score is ill-defined and being set to 0.0 in labels with no true nor predicted samples. Use `zero_division` parameter to control this behavior.\n",
            "  _warn_prf(average, modifier, f\"{metric.capitalize()} is\", len(result))\n"
          ]
        },
        {
          "output_type": "stream",
          "name": "stdout",
          "text": [
            "Epoch 10 | Train Loss: 0.1287 | Test F1: 0.0792\n"
          ]
        },
        {
          "output_type": "stream",
          "name": "stderr",
          "text": [
            "Epoch 11/100: 100%|██████████| 76/76 [00:01<00:00, 42.96it/s, loss=0.1245]\n",
            "/usr/local/lib/python3.11/dist-packages/sklearn/metrics/_classification.py:1565: UndefinedMetricWarning: F-score is ill-defined and being set to 0.0 in labels with no true nor predicted samples. Use `zero_division` parameter to control this behavior.\n",
            "  _warn_prf(average, modifier, f\"{metric.capitalize()} is\", len(result))\n"
          ]
        },
        {
          "output_type": "stream",
          "name": "stdout",
          "text": [
            "Epoch 11 | Train Loss: 0.1198 | Test F1: 0.0982\n"
          ]
        },
        {
          "output_type": "stream",
          "name": "stderr",
          "text": [
            "Epoch 12/100: 100%|██████████| 76/76 [00:01<00:00, 41.03it/s, loss=0.1234]\n",
            "/usr/local/lib/python3.11/dist-packages/sklearn/metrics/_classification.py:1565: UndefinedMetricWarning: F-score is ill-defined and being set to 0.0 in labels with no true nor predicted samples. Use `zero_division` parameter to control this behavior.\n",
            "  _warn_prf(average, modifier, f\"{metric.capitalize()} is\", len(result))\n"
          ]
        },
        {
          "output_type": "stream",
          "name": "stdout",
          "text": [
            "Epoch 12 | Train Loss: 0.1101 | Test F1: 0.1180\n"
          ]
        },
        {
          "output_type": "stream",
          "name": "stderr",
          "text": [
            "Epoch 13/100: 100%|██████████| 76/76 [00:02<00:00, 36.28it/s, loss=0.1022]\n",
            "/usr/local/lib/python3.11/dist-packages/sklearn/metrics/_classification.py:1565: UndefinedMetricWarning: F-score is ill-defined and being set to 0.0 in labels with no true nor predicted samples. Use `zero_division` parameter to control this behavior.\n",
            "  _warn_prf(average, modifier, f\"{metric.capitalize()} is\", len(result))\n"
          ]
        },
        {
          "output_type": "stream",
          "name": "stdout",
          "text": [
            "Epoch 13 | Train Loss: 0.1011 | Test F1: 0.1280\n"
          ]
        },
        {
          "output_type": "stream",
          "name": "stderr",
          "text": [
            "Epoch 14/100: 100%|██████████| 76/76 [00:02<00:00, 35.09it/s, loss=0.0930]\n"
          ]
        },
        {
          "output_type": "stream",
          "name": "stdout",
          "text": [
            "Epoch 14 | Train Loss: 0.0910 | Test F1: 0.1549\n"
          ]
        },
        {
          "output_type": "stream",
          "name": "stderr",
          "text": [
            "Epoch 15/100: 100%|██████████| 76/76 [00:02<00:00, 30.23it/s, loss=0.0778]\n"
          ]
        },
        {
          "output_type": "stream",
          "name": "stdout",
          "text": [
            "Epoch 15 | Train Loss: 0.0813 | Test F1: 0.2014\n"
          ]
        },
        {
          "output_type": "stream",
          "name": "stderr",
          "text": [
            "Epoch 16/100: 100%|██████████| 76/76 [00:01<00:00, 49.04it/s, loss=0.0862]\n"
          ]
        },
        {
          "output_type": "stream",
          "name": "stdout",
          "text": [
            "Epoch 16 | Train Loss: 0.0719 | Test F1: 0.2010\n"
          ]
        },
        {
          "output_type": "stream",
          "name": "stderr",
          "text": [
            "Epoch 17/100: 100%|██████████| 76/76 [00:01<00:00, 65.61it/s, loss=0.0609]\n"
          ]
        },
        {
          "output_type": "stream",
          "name": "stdout",
          "text": [
            "Epoch 17 | Train Loss: 0.0625 | Test F1: 0.2236\n"
          ]
        },
        {
          "output_type": "stream",
          "name": "stderr",
          "text": [
            "Epoch 18/100: 100%|██████████| 76/76 [00:01<00:00, 63.13it/s, loss=0.0610]\n"
          ]
        },
        {
          "output_type": "stream",
          "name": "stdout",
          "text": [
            "Epoch 18 | Train Loss: 0.0536 | Test F1: 0.2736\n"
          ]
        },
        {
          "output_type": "stream",
          "name": "stderr",
          "text": [
            "Epoch 19/100: 100%|██████████| 76/76 [00:01<00:00, 66.27it/s, loss=0.0465]\n"
          ]
        },
        {
          "output_type": "stream",
          "name": "stdout",
          "text": [
            "Epoch 19 | Train Loss: 0.0451 | Test F1: 0.2798\n"
          ]
        },
        {
          "output_type": "stream",
          "name": "stderr",
          "text": [
            "Epoch 20/100: 100%|██████████| 76/76 [00:01<00:00, 64.48it/s, loss=0.0251]\n"
          ]
        },
        {
          "output_type": "stream",
          "name": "stdout",
          "text": [
            "Epoch 20 | Train Loss: 0.0383 | Test F1: 0.3187\n"
          ]
        },
        {
          "output_type": "stream",
          "name": "stderr",
          "text": [
            "Epoch 21/100: 100%|██████████| 76/76 [00:01<00:00, 65.58it/s, loss=0.0281]\n"
          ]
        },
        {
          "output_type": "stream",
          "name": "stdout",
          "text": [
            "Epoch 21 | Train Loss: 0.0318 | Test F1: 0.3316\n"
          ]
        },
        {
          "output_type": "stream",
          "name": "stderr",
          "text": [
            "Epoch 22/100: 100%|██████████| 76/76 [00:01<00:00, 57.65it/s, loss=0.0271]\n"
          ]
        },
        {
          "output_type": "stream",
          "name": "stdout",
          "text": [
            "Epoch 22 | Train Loss: 0.0266 | Test F1: 0.3333\n"
          ]
        },
        {
          "output_type": "stream",
          "name": "stderr",
          "text": [
            "Epoch 23/100: 100%|██████████| 76/76 [00:01<00:00, 51.78it/s, loss=0.0233]\n"
          ]
        },
        {
          "output_type": "stream",
          "name": "stdout",
          "text": [
            "Epoch 23 | Train Loss: 0.0222 | Test F1: 0.3381\n"
          ]
        },
        {
          "output_type": "stream",
          "name": "stderr",
          "text": [
            "Epoch 24/100: 100%|██████████| 76/76 [00:01<00:00, 64.83it/s, loss=0.0179]\n"
          ]
        },
        {
          "output_type": "stream",
          "name": "stdout",
          "text": [
            "Epoch 24 | Train Loss: 0.0188 | Test F1: 0.3507\n"
          ]
        },
        {
          "output_type": "stream",
          "name": "stderr",
          "text": [
            "Epoch 25/100: 100%|██████████| 76/76 [00:01<00:00, 65.47it/s, loss=0.0194]\n"
          ]
        },
        {
          "output_type": "stream",
          "name": "stdout",
          "text": [
            "Epoch 25 | Train Loss: 0.0162 | Test F1: 0.3550\n"
          ]
        },
        {
          "output_type": "stream",
          "name": "stderr",
          "text": [
            "Epoch 26/100: 100%|██████████| 76/76 [00:01<00:00, 65.21it/s, loss=0.0124]\n"
          ]
        },
        {
          "output_type": "stream",
          "name": "stdout",
          "text": [
            "Epoch 26 | Train Loss: 0.0139 | Test F1: 0.3512\n"
          ]
        },
        {
          "output_type": "stream",
          "name": "stderr",
          "text": [
            "Epoch 27/100: 100%|██████████| 76/76 [00:01<00:00, 64.47it/s, loss=0.0101]\n"
          ]
        },
        {
          "output_type": "stream",
          "name": "stdout",
          "text": [
            "Epoch 27 | Train Loss: 0.0119 | Test F1: 0.3535\n"
          ]
        },
        {
          "output_type": "stream",
          "name": "stderr",
          "text": [
            "Epoch 28/100: 100%|██████████| 76/76 [00:01<00:00, 66.54it/s, loss=0.0079]\n"
          ]
        },
        {
          "output_type": "stream",
          "name": "stdout",
          "text": [
            "Epoch 28 | Train Loss: 0.0103 | Test F1: 0.3542\n"
          ]
        },
        {
          "output_type": "stream",
          "name": "stderr",
          "text": [
            "Epoch 29/100: 100%|██████████| 76/76 [00:01<00:00, 65.57it/s, loss=0.0099]\n"
          ]
        },
        {
          "output_type": "stream",
          "name": "stdout",
          "text": [
            "Epoch 29 | Train Loss: 0.0092 | Test F1: 0.3592\n"
          ]
        },
        {
          "output_type": "stream",
          "name": "stderr",
          "text": [
            "Epoch 30/100: 100%|██████████| 76/76 [00:01<00:00, 66.29it/s, loss=0.0159]\n"
          ]
        },
        {
          "output_type": "stream",
          "name": "stdout",
          "text": [
            "Epoch 30 | Train Loss: 0.0085 | Test F1: 0.3559\n"
          ]
        },
        {
          "output_type": "stream",
          "name": "stderr",
          "text": [
            "Epoch 31/100: 100%|██████████| 76/76 [00:01<00:00, 60.59it/s, loss=0.0054]\n"
          ]
        },
        {
          "output_type": "stream",
          "name": "stdout",
          "text": [
            "Epoch 31 | Train Loss: 0.0079 | Test F1: 0.3624\n"
          ]
        },
        {
          "output_type": "stream",
          "name": "stderr",
          "text": [
            "Epoch 32/100: 100%|██████████| 76/76 [00:01<00:00, 52.23it/s, loss=0.0047]\n"
          ]
        },
        {
          "output_type": "stream",
          "name": "stdout",
          "text": [
            "Epoch 32 | Train Loss: 0.0069 | Test F1: 0.3554\n"
          ]
        },
        {
          "output_type": "stream",
          "name": "stderr",
          "text": [
            "Epoch 33/100: 100%|██████████| 76/76 [00:01<00:00, 61.34it/s, loss=0.0113]\n"
          ]
        },
        {
          "output_type": "stream",
          "name": "stdout",
          "text": [
            "Epoch 33 | Train Loss: 0.0064 | Test F1: 0.3614\n"
          ]
        },
        {
          "output_type": "stream",
          "name": "stderr",
          "text": [
            "Epoch 34/100: 100%|██████████| 76/76 [00:01<00:00, 65.00it/s, loss=0.0060]\n"
          ]
        },
        {
          "output_type": "stream",
          "name": "stdout",
          "text": [
            "Epoch 34 | Train Loss: 0.0060 | Test F1: 0.3634\n"
          ]
        },
        {
          "output_type": "stream",
          "name": "stderr",
          "text": [
            "Epoch 35/100: 100%|██████████| 76/76 [00:01<00:00, 66.12it/s, loss=0.0069]\n"
          ]
        },
        {
          "output_type": "stream",
          "name": "stdout",
          "text": [
            "Epoch 35 | Train Loss: 0.0056 | Test F1: 0.3596\n"
          ]
        },
        {
          "output_type": "stream",
          "name": "stderr",
          "text": [
            "Epoch 36/100: 100%|██████████| 76/76 [00:01<00:00, 66.21it/s, loss=0.0058]\n"
          ]
        },
        {
          "output_type": "stream",
          "name": "stdout",
          "text": [
            "Epoch 36 | Train Loss: 0.0056 | Test F1: 0.3579\n"
          ]
        },
        {
          "output_type": "stream",
          "name": "stderr",
          "text": [
            "Epoch 37/100: 100%|██████████| 76/76 [00:01<00:00, 66.51it/s, loss=0.0032]\n"
          ]
        },
        {
          "output_type": "stream",
          "name": "stdout",
          "text": [
            "Epoch 37 | Train Loss: 0.0052 | Test F1: 0.3582\n"
          ]
        },
        {
          "output_type": "stream",
          "name": "stderr",
          "text": [
            "Epoch 38/100: 100%|██████████| 76/76 [00:01<00:00, 65.30it/s, loss=0.0056]\n"
          ]
        },
        {
          "output_type": "stream",
          "name": "stdout",
          "text": [
            "Epoch 38 | Train Loss: 0.0050 | Test F1: 0.3543\n"
          ]
        },
        {
          "output_type": "stream",
          "name": "stderr",
          "text": [
            "Epoch 39/100: 100%|██████████| 76/76 [00:01<00:00, 66.08it/s, loss=0.0082]\n"
          ]
        },
        {
          "output_type": "stream",
          "name": "stdout",
          "text": [
            "Epoch 39 | Train Loss: 0.0050 | Test F1: 0.3519\n"
          ]
        },
        {
          "output_type": "stream",
          "name": "stderr",
          "text": [
            "Epoch 40/100: 100%|██████████| 76/76 [00:01<00:00, 66.12it/s, loss=0.0062]\n"
          ]
        },
        {
          "output_type": "stream",
          "name": "stdout",
          "text": [
            "Epoch 40 | Train Loss: 0.0048 | Test F1: 0.3594\n"
          ]
        },
        {
          "output_type": "stream",
          "name": "stderr",
          "text": [
            "Epoch 41/100: 100%|██████████| 76/76 [00:01<00:00, 53.19it/s, loss=0.0104]\n"
          ]
        },
        {
          "output_type": "stream",
          "name": "stdout",
          "text": [
            "Epoch 41 | Train Loss: 0.0047 | Test F1: 0.3589\n"
          ]
        },
        {
          "output_type": "stream",
          "name": "stderr",
          "text": [
            "Epoch 42/100: 100%|██████████| 76/76 [00:01<00:00, 54.60it/s, loss=0.0041]\n"
          ]
        },
        {
          "output_type": "stream",
          "name": "stdout",
          "text": [
            "Epoch 42 | Train Loss: 0.0046 | Test F1: 0.3535\n"
          ]
        },
        {
          "output_type": "stream",
          "name": "stderr",
          "text": [
            "Epoch 43/100: 100%|██████████| 76/76 [00:01<00:00, 64.65it/s, loss=0.0057]\n"
          ]
        },
        {
          "output_type": "stream",
          "name": "stdout",
          "text": [
            "Epoch 43 | Train Loss: 0.0044 | Test F1: 0.3559\n"
          ]
        },
        {
          "output_type": "stream",
          "name": "stderr",
          "text": [
            "Epoch 44/100: 100%|██████████| 76/76 [00:01<00:00, 64.29it/s, loss=0.0040]\n"
          ]
        },
        {
          "output_type": "stream",
          "name": "stdout",
          "text": [
            "Epoch 44 | Train Loss: 0.0041 | Test F1: 0.3516\n"
          ]
        },
        {
          "output_type": "stream",
          "name": "stderr",
          "text": [
            "Epoch 45/100: 100%|██████████| 76/76 [00:01<00:00, 64.54it/s, loss=0.0014]\n"
          ]
        },
        {
          "output_type": "stream",
          "name": "stdout",
          "text": [
            "Epoch 45 | Train Loss: 0.0041 | Test F1: 0.3574\n"
          ]
        },
        {
          "output_type": "stream",
          "name": "stderr",
          "text": [
            "Epoch 46/100: 100%|██████████| 76/76 [00:01<00:00, 65.60it/s, loss=0.0037]\n"
          ]
        },
        {
          "output_type": "stream",
          "name": "stdout",
          "text": [
            "Epoch 46 | Train Loss: 0.0040 | Test F1: 0.3532\n"
          ]
        },
        {
          "output_type": "stream",
          "name": "stderr",
          "text": [
            "Epoch 47/100: 100%|██████████| 76/76 [00:01<00:00, 66.13it/s, loss=0.0041]\n"
          ]
        },
        {
          "output_type": "stream",
          "name": "stdout",
          "text": [
            "Epoch 47 | Train Loss: 0.0038 | Test F1: 0.3545\n"
          ]
        },
        {
          "output_type": "stream",
          "name": "stderr",
          "text": [
            "Epoch 48/100: 100%|██████████| 76/76 [00:01<00:00, 65.51it/s, loss=0.0104]\n"
          ]
        },
        {
          "output_type": "stream",
          "name": "stdout",
          "text": [
            "Epoch 48 | Train Loss: 0.0038 | Test F1: 0.3593\n"
          ]
        },
        {
          "output_type": "stream",
          "name": "stderr",
          "text": [
            "Epoch 49/100: 100%|██████████| 76/76 [00:01<00:00, 65.90it/s, loss=0.0021]\n"
          ]
        },
        {
          "output_type": "stream",
          "name": "stdout",
          "text": [
            "Epoch 49 | Train Loss: 0.0036 | Test F1: 0.3592\n"
          ]
        },
        {
          "output_type": "stream",
          "name": "stderr",
          "text": [
            "Epoch 50/100: 100%|██████████| 76/76 [00:01<00:00, 56.92it/s, loss=0.0010]\n"
          ]
        },
        {
          "output_type": "stream",
          "name": "stdout",
          "text": [
            "Epoch 50 | Train Loss: 0.0037 | Test F1: 0.3574\n"
          ]
        },
        {
          "output_type": "stream",
          "name": "stderr",
          "text": [
            "Epoch 51/100: 100%|██████████| 76/76 [00:01<00:00, 50.70it/s, loss=0.0076]\n"
          ]
        },
        {
          "output_type": "stream",
          "name": "stdout",
          "text": [
            "Epoch 51 | Train Loss: 0.0036 | Test F1: 0.3613\n"
          ]
        },
        {
          "output_type": "stream",
          "name": "stderr",
          "text": [
            "Epoch 52/100: 100%|██████████| 76/76 [00:01<00:00, 63.85it/s, loss=0.0040]\n"
          ]
        },
        {
          "output_type": "stream",
          "name": "stdout",
          "text": [
            "Epoch 52 | Train Loss: 0.0036 | Test F1: 0.3556\n"
          ]
        },
        {
          "output_type": "stream",
          "name": "stderr",
          "text": [
            "Epoch 53/100: 100%|██████████| 76/76 [00:01<00:00, 64.29it/s, loss=0.0014]\n"
          ]
        },
        {
          "output_type": "stream",
          "name": "stdout",
          "text": [
            "Epoch 53 | Train Loss: 0.0034 | Test F1: 0.3626\n"
          ]
        },
        {
          "output_type": "stream",
          "name": "stderr",
          "text": [
            "Epoch 54/100: 100%|██████████| 76/76 [00:01<00:00, 46.28it/s, loss=0.0009]\n"
          ]
        },
        {
          "output_type": "stream",
          "name": "stdout",
          "text": [
            "Epoch 54 | Train Loss: 0.0034 | Test F1: 0.3564\n"
          ]
        },
        {
          "output_type": "stream",
          "name": "stderr",
          "text": [
            "Epoch 55/100: 100%|██████████| 76/76 [00:01<00:00, 65.77it/s, loss=0.0143]\n"
          ]
        },
        {
          "output_type": "stream",
          "name": "stdout",
          "text": [
            "Epoch 55 | Train Loss: 0.0035 | Test F1: 0.3595\n"
          ]
        },
        {
          "output_type": "stream",
          "name": "stderr",
          "text": [
            "Epoch 56/100: 100%|██████████| 76/76 [00:01<00:00, 64.91it/s, loss=0.0071]\n"
          ]
        },
        {
          "output_type": "stream",
          "name": "stdout",
          "text": [
            "Epoch 56 | Train Loss: 0.0033 | Test F1: 0.3641\n"
          ]
        },
        {
          "output_type": "stream",
          "name": "stderr",
          "text": [
            "Epoch 57/100: 100%|██████████| 76/76 [00:01<00:00, 65.12it/s, loss=0.0055]\n"
          ]
        },
        {
          "output_type": "stream",
          "name": "stdout",
          "text": [
            "Epoch 57 | Train Loss: 0.0033 | Test F1: 0.3544\n"
          ]
        },
        {
          "output_type": "stream",
          "name": "stderr",
          "text": [
            "Epoch 58/100: 100%|██████████| 76/76 [00:01<00:00, 63.92it/s, loss=0.0072]\n"
          ]
        },
        {
          "output_type": "stream",
          "name": "stdout",
          "text": [
            "Epoch 58 | Train Loss: 0.0033 | Test F1: 0.3579\n"
          ]
        },
        {
          "output_type": "stream",
          "name": "stderr",
          "text": [
            "Epoch 59/100: 100%|██████████| 76/76 [00:01<00:00, 54.39it/s, loss=0.0051]\n"
          ]
        },
        {
          "output_type": "stream",
          "name": "stdout",
          "text": [
            "Epoch 59 | Train Loss: 0.0033 | Test F1: 0.3578\n"
          ]
        },
        {
          "output_type": "stream",
          "name": "stderr",
          "text": [
            "Epoch 60/100: 100%|██████████| 76/76 [00:01<00:00, 40.63it/s, loss=0.0097]\n"
          ]
        },
        {
          "output_type": "stream",
          "name": "stdout",
          "text": [
            "Epoch 60 | Train Loss: 0.0034 | Test F1: 0.3572\n"
          ]
        },
        {
          "output_type": "stream",
          "name": "stderr",
          "text": [
            "Epoch 61/100: 100%|██████████| 76/76 [00:01<00:00, 64.27it/s, loss=0.0042]\n"
          ]
        },
        {
          "output_type": "stream",
          "name": "stdout",
          "text": [
            "Epoch 61 | Train Loss: 0.0033 | Test F1: 0.3605\n"
          ]
        },
        {
          "output_type": "stream",
          "name": "stderr",
          "text": [
            "Epoch 62/100: 100%|██████████| 76/76 [00:01<00:00, 64.44it/s, loss=0.0093]\n"
          ]
        },
        {
          "output_type": "stream",
          "name": "stdout",
          "text": [
            "Epoch 62 | Train Loss: 0.0033 | Test F1: 0.3595\n"
          ]
        },
        {
          "output_type": "stream",
          "name": "stderr",
          "text": [
            "Epoch 63/100: 100%|██████████| 76/76 [00:01<00:00, 64.46it/s, loss=0.0006]\n"
          ]
        },
        {
          "output_type": "stream",
          "name": "stdout",
          "text": [
            "Epoch 63 | Train Loss: 0.0032 | Test F1: 0.3578\n"
          ]
        },
        {
          "output_type": "stream",
          "name": "stderr",
          "text": [
            "Epoch 64/100: 100%|██████████| 76/76 [00:01<00:00, 48.05it/s, loss=0.0022]\n"
          ]
        },
        {
          "output_type": "stream",
          "name": "stdout",
          "text": [
            "Epoch 64 | Train Loss: 0.0032 | Test F1: 0.3559\n"
          ]
        },
        {
          "output_type": "stream",
          "name": "stderr",
          "text": [
            "Epoch 65/100: 100%|██████████| 76/76 [00:01<00:00, 38.55it/s, loss=0.0047]\n"
          ]
        },
        {
          "output_type": "stream",
          "name": "stdout",
          "text": [
            "Epoch 65 | Train Loss: 0.0031 | Test F1: 0.3564\n"
          ]
        },
        {
          "output_type": "stream",
          "name": "stderr",
          "text": [
            "Epoch 66/100: 100%|██████████| 76/76 [00:01<00:00, 64.19it/s, loss=0.0006]\n"
          ]
        },
        {
          "output_type": "stream",
          "name": "stdout",
          "text": [
            "Epoch 66 | Train Loss: 0.0031 | Test F1: 0.3542\n"
          ]
        },
        {
          "output_type": "stream",
          "name": "stderr",
          "text": [
            "Epoch 67/100: 100%|██████████| 76/76 [00:01<00:00, 56.40it/s, loss=0.0005]\n"
          ]
        },
        {
          "output_type": "stream",
          "name": "stdout",
          "text": [
            "Epoch 67 | Train Loss: 0.0030 | Test F1: 0.3578\n"
          ]
        },
        {
          "output_type": "stream",
          "name": "stderr",
          "text": [
            "Epoch 68/100: 100%|██████████| 76/76 [00:01<00:00, 51.85it/s, loss=0.0089]\n"
          ]
        },
        {
          "output_type": "stream",
          "name": "stdout",
          "text": [
            "Epoch 68 | Train Loss: 0.0030 | Test F1: 0.3655\n"
          ]
        },
        {
          "output_type": "stream",
          "name": "stderr",
          "text": [
            "Epoch 69/100: 100%|██████████| 76/76 [00:01<00:00, 62.96it/s, loss=0.0019]\n"
          ]
        },
        {
          "output_type": "stream",
          "name": "stdout",
          "text": [
            "Epoch 69 | Train Loss: 0.0029 | Test F1: 0.3577\n"
          ]
        },
        {
          "output_type": "stream",
          "name": "stderr",
          "text": [
            "Epoch 70/100: 100%|██████████| 76/76 [00:01<00:00, 64.61it/s, loss=0.0068]\n"
          ]
        },
        {
          "output_type": "stream",
          "name": "stdout",
          "text": [
            "Epoch 70 | Train Loss: 0.0030 | Test F1: 0.3604\n"
          ]
        },
        {
          "output_type": "stream",
          "name": "stderr",
          "text": [
            "Epoch 71/100: 100%|██████████| 76/76 [00:01<00:00, 63.73it/s, loss=0.0068]\n"
          ]
        },
        {
          "output_type": "stream",
          "name": "stdout",
          "text": [
            "Epoch 71 | Train Loss: 0.0032 | Test F1: 0.3467\n"
          ]
        },
        {
          "output_type": "stream",
          "name": "stderr",
          "text": [
            "Epoch 72/100: 100%|██████████| 76/76 [00:01<00:00, 47.30it/s, loss=0.0119]\n"
          ]
        },
        {
          "output_type": "stream",
          "name": "stdout",
          "text": [
            "Epoch 72 | Train Loss: 0.0037 | Test F1: 0.3528\n"
          ]
        },
        {
          "output_type": "stream",
          "name": "stderr",
          "text": [
            "Epoch 73/100: 100%|██████████| 76/76 [00:01<00:00, 64.13it/s, loss=0.0316]\n"
          ]
        },
        {
          "output_type": "stream",
          "name": "stdout",
          "text": [
            "Epoch 73 | Train Loss: 0.0220 | Test F1: 0.3302\n"
          ]
        },
        {
          "output_type": "stream",
          "name": "stderr",
          "text": [
            "Epoch 74/100: 100%|██████████| 76/76 [00:01<00:00, 64.61it/s, loss=0.0110]\n"
          ]
        },
        {
          "output_type": "stream",
          "name": "stdout",
          "text": [
            "Epoch 74 | Train Loss: 0.0171 | Test F1: 0.3470\n"
          ]
        },
        {
          "output_type": "stream",
          "name": "stderr",
          "text": [
            "Epoch 75/100: 100%|██████████| 76/76 [00:01<00:00, 64.46it/s, loss=0.0024]\n"
          ]
        },
        {
          "output_type": "stream",
          "name": "stdout",
          "text": [
            "Epoch 75 | Train Loss: 0.0074 | Test F1: 0.3584\n"
          ]
        },
        {
          "output_type": "stream",
          "name": "stderr",
          "text": [
            "Epoch 76/100: 100%|██████████| 76/76 [00:01<00:00, 55.75it/s, loss=0.0120]\n"
          ]
        },
        {
          "output_type": "stream",
          "name": "stdout",
          "text": [
            "Epoch 76 | Train Loss: 0.0045 | Test F1: 0.3630\n"
          ]
        },
        {
          "output_type": "stream",
          "name": "stderr",
          "text": [
            "Epoch 77/100: 100%|██████████| 76/76 [00:01<00:00, 50.85it/s, loss=0.0010]\n"
          ]
        },
        {
          "output_type": "stream",
          "name": "stdout",
          "text": [
            "Epoch 77 | Train Loss: 0.0035 | Test F1: 0.3590\n"
          ]
        },
        {
          "output_type": "stream",
          "name": "stderr",
          "text": [
            "Epoch 78/100: 100%|██████████| 76/76 [00:01<00:00, 63.83it/s, loss=0.0035]\n"
          ]
        },
        {
          "output_type": "stream",
          "name": "stdout",
          "text": [
            "Epoch 78 | Train Loss: 0.0032 | Test F1: 0.3592\n"
          ]
        },
        {
          "output_type": "stream",
          "name": "stderr",
          "text": [
            "Epoch 79/100: 100%|██████████| 76/76 [00:01<00:00, 64.52it/s, loss=0.0006]\n"
          ]
        },
        {
          "output_type": "stream",
          "name": "stdout",
          "text": [
            "Epoch 79 | Train Loss: 0.0030 | Test F1: 0.3592\n"
          ]
        },
        {
          "output_type": "stream",
          "name": "stderr",
          "text": [
            "Epoch 80/100: 100%|██████████| 76/76 [00:01<00:00, 64.88it/s, loss=0.0031]\n"
          ]
        },
        {
          "output_type": "stream",
          "name": "stdout",
          "text": [
            "Epoch 80 | Train Loss: 0.0029 | Test F1: 0.3619\n"
          ]
        },
        {
          "output_type": "stream",
          "name": "stderr",
          "text": [
            "Epoch 81/100: 100%|██████████| 76/76 [00:01<00:00, 64.06it/s, loss=0.0052]\n"
          ]
        },
        {
          "output_type": "stream",
          "name": "stdout",
          "text": [
            "Epoch 81 | Train Loss: 0.0028 | Test F1: 0.3614\n"
          ]
        },
        {
          "output_type": "stream",
          "name": "stderr",
          "text": [
            "Epoch 82/100: 100%|██████████| 76/76 [00:01<00:00, 64.74it/s, loss=0.0007]\n"
          ]
        },
        {
          "output_type": "stream",
          "name": "stdout",
          "text": [
            "Epoch 82 | Train Loss: 0.0028 | Test F1: 0.3598\n"
          ]
        },
        {
          "output_type": "stream",
          "name": "stderr",
          "text": [
            "Epoch 83/100: 100%|██████████| 76/76 [00:01<00:00, 65.18it/s, loss=0.0050]\n"
          ]
        },
        {
          "output_type": "stream",
          "name": "stdout",
          "text": [
            "Epoch 83 | Train Loss: 0.0029 | Test F1: 0.3579\n"
          ]
        },
        {
          "output_type": "stream",
          "name": "stderr",
          "text": [
            "Epoch 84/100: 100%|██████████| 76/76 [00:01<00:00, 65.23it/s, loss=0.0004]\n"
          ]
        },
        {
          "output_type": "stream",
          "name": "stdout",
          "text": [
            "Epoch 84 | Train Loss: 0.0028 | Test F1: 0.3610\n"
          ]
        },
        {
          "output_type": "stream",
          "name": "stderr",
          "text": [
            "Epoch 85/100: 100%|██████████| 76/76 [00:01<00:00, 60.63it/s, loss=0.0085]\n"
          ]
        },
        {
          "output_type": "stream",
          "name": "stdout",
          "text": [
            "Epoch 85 | Train Loss: 0.0028 | Test F1: 0.3602\n"
          ]
        },
        {
          "output_type": "stream",
          "name": "stderr",
          "text": [
            "Epoch 86/100: 100%|██████████| 76/76 [00:01<00:00, 51.82it/s, loss=0.0004]\n"
          ]
        },
        {
          "output_type": "stream",
          "name": "stdout",
          "text": [
            "Epoch 86 | Train Loss: 0.0028 | Test F1: 0.3555\n"
          ]
        },
        {
          "output_type": "stream",
          "name": "stderr",
          "text": [
            "Epoch 87/100: 100%|██████████| 76/76 [00:01<00:00, 59.58it/s, loss=0.0035]\n"
          ]
        },
        {
          "output_type": "stream",
          "name": "stdout",
          "text": [
            "Epoch 87 | Train Loss: 0.0027 | Test F1: 0.3575\n"
          ]
        },
        {
          "output_type": "stream",
          "name": "stderr",
          "text": [
            "Epoch 88/100: 100%|██████████| 76/76 [00:01<00:00, 62.75it/s, loss=0.0020]\n"
          ]
        },
        {
          "output_type": "stream",
          "name": "stdout",
          "text": [
            "Epoch 88 | Train Loss: 0.0026 | Test F1: 0.3594\n"
          ]
        },
        {
          "output_type": "stream",
          "name": "stderr",
          "text": [
            "Epoch 89/100: 100%|██████████| 76/76 [00:01<00:00, 64.00it/s, loss=0.0003]\n"
          ]
        },
        {
          "output_type": "stream",
          "name": "stdout",
          "text": [
            "Epoch 89 | Train Loss: 0.0027 | Test F1: 0.3559\n"
          ]
        },
        {
          "output_type": "stream",
          "name": "stderr",
          "text": [
            "Epoch 90/100: 100%|██████████| 76/76 [00:01<00:00, 65.29it/s, loss=0.0034]\n"
          ]
        },
        {
          "output_type": "stream",
          "name": "stdout",
          "text": [
            "Epoch 90 | Train Loss: 0.0026 | Test F1: 0.3563\n"
          ]
        },
        {
          "output_type": "stream",
          "name": "stderr",
          "text": [
            "Epoch 91/100: 100%|██████████| 76/76 [00:01<00:00, 65.31it/s, loss=0.0029]\n"
          ]
        },
        {
          "output_type": "stream",
          "name": "stdout",
          "text": [
            "Epoch 91 | Train Loss: 0.0027 | Test F1: 0.3583\n"
          ]
        },
        {
          "output_type": "stream",
          "name": "stderr",
          "text": [
            "Epoch 92/100: 100%|██████████| 76/76 [00:01<00:00, 65.17it/s, loss=0.0003]\n"
          ]
        },
        {
          "output_type": "stream",
          "name": "stdout",
          "text": [
            "Epoch 92 | Train Loss: 0.0026 | Test F1: 0.3577\n"
          ]
        },
        {
          "output_type": "stream",
          "name": "stderr",
          "text": [
            "Epoch 93/100: 100%|██████████| 76/76 [00:01<00:00, 64.69it/s, loss=0.0032]\n"
          ]
        },
        {
          "output_type": "stream",
          "name": "stdout",
          "text": [
            "Epoch 93 | Train Loss: 0.0025 | Test F1: 0.3613\n"
          ]
        },
        {
          "output_type": "stream",
          "name": "stderr",
          "text": [
            "Epoch 94/100: 100%|██████████| 76/76 [00:01<00:00, 65.23it/s, loss=0.0022]\n"
          ]
        },
        {
          "output_type": "stream",
          "name": "stdout",
          "text": [
            "Epoch 94 | Train Loss: 0.0026 | Test F1: 0.3642\n"
          ]
        },
        {
          "output_type": "stream",
          "name": "stderr",
          "text": [
            "Epoch 95/100: 100%|██████████| 76/76 [00:01<00:00, 52.94it/s, loss=0.0056]\n"
          ]
        },
        {
          "output_type": "stream",
          "name": "stdout",
          "text": [
            "Epoch 95 | Train Loss: 0.0027 | Test F1: 0.3515\n"
          ]
        },
        {
          "output_type": "stream",
          "name": "stderr",
          "text": [
            "Epoch 96/100: 100%|██████████| 76/76 [00:01<00:00, 53.56it/s, loss=0.0050]\n"
          ]
        },
        {
          "output_type": "stream",
          "name": "stdout",
          "text": [
            "Epoch 96 | Train Loss: 0.0026 | Test F1: 0.3619\n"
          ]
        },
        {
          "output_type": "stream",
          "name": "stderr",
          "text": [
            "Epoch 97/100: 100%|██████████| 76/76 [00:01<00:00, 64.27it/s, loss=0.0002]\n"
          ]
        },
        {
          "output_type": "stream",
          "name": "stdout",
          "text": [
            "Epoch 97 | Train Loss: 0.0026 | Test F1: 0.3555\n"
          ]
        },
        {
          "output_type": "stream",
          "name": "stderr",
          "text": [
            "Epoch 98/100: 100%|██████████| 76/76 [00:01<00:00, 65.09it/s, loss=0.0096]\n"
          ]
        },
        {
          "output_type": "stream",
          "name": "stdout",
          "text": [
            "Epoch 98 | Train Loss: 0.0025 | Test F1: 0.3606\n"
          ]
        },
        {
          "output_type": "stream",
          "name": "stderr",
          "text": [
            "Epoch 99/100: 100%|██████████| 76/76 [00:01<00:00, 65.06it/s, loss=0.0055]\n"
          ]
        },
        {
          "output_type": "stream",
          "name": "stdout",
          "text": [
            "Epoch 99 | Train Loss: 0.0027 | Test F1: 0.3579\n"
          ]
        },
        {
          "output_type": "stream",
          "name": "stderr",
          "text": [
            "Epoch 100/100: 100%|██████████| 76/76 [00:01<00:00, 64.56it/s, loss=0.0047]\n"
          ]
        },
        {
          "output_type": "stream",
          "name": "stdout",
          "text": [
            "Epoch 100 | Train Loss: 0.0026 | Test F1: 0.3581\n",
            "Best F1: 0.3655\n"
          ]
        }
      ]
    },
    {
      "cell_type": "code",
      "source": [
        "plt.figure(figsize=(10, 5))\n",
        "plt.plot(range(1, EPOCHS + 1), f1_historyLSTM, marker='o')\n",
        "plt.title(\"F1-Score по эпохам LSTM двунаправленный\")\n",
        "plt.xlabel(\"Эпоха\")\n",
        "plt.ylabel(\"F1-макро\")\n",
        "plt.grid(True)\n",
        "plt.tight_layout()\n",
        "plt.show()"
      ],
      "metadata": {
        "colab": {
          "base_uri": "https://localhost:8080/",
          "height": 507
        },
        "id": "uojusSNH1sMT",
        "outputId": "ac171851-1432-4e12-f1f8-93a61e0b5d1e"
      },
      "id": "uojusSNH1sMT",
      "execution_count": null,
      "outputs": [
        {
          "output_type": "display_data",
          "data": {
            "text/plain": [
              "<Figure size 1000x500 with 1 Axes>"
            ],
            "image/png": "[encoded data removed]"
          },
          "metadata": {}
        }
      ]
    },
    {
      "cell_type": "code",
      "source": [],
      "metadata": {
        "id": "WCIHCC7x1oXD"
      },
      "id": "WCIHCC7x1oXD",
      "execution_count": null,
      "outputs": []
    }
  ],
  "metadata": {
    "accelerator": "GPU",
    "colab": {
      "gpuType": "T4",
      "provenance": []
    },
    "kernelspec": {
      "display_name": "Python 3",
      "name": "python3"
    },
    "language_info": {
      "codemirror_mode": {
        "name": "ipython",
        "version": 3
      },
      "file_extension": ".py",
      "mimetype": "text/x-python",
      "name": "python",
      "nbconvert_exporter": "python",
      "pygments_lexer": "ipython3",
      "version": "3.12.6"
    }
  },
  "nbformat": 4,
  "nbformat_minor": 5
}